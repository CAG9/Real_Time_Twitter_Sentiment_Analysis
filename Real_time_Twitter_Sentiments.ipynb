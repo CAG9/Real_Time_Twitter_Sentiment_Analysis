{
 "cells": [
  {
   "cell_type": "markdown",
   "metadata": {},
   "source": [
    "# Twitter Sentiment Analysis"
   ]
  },
  {
   "cell_type": "code",
   "execution_count": 36,
   "metadata": {},
   "outputs": [],
   "source": [
    "import numpy as np\n",
    "import pandas as pd\n",
    "\n",
    "from sklearn.model_selection import train_test_split\n",
    "from sklearn.svm import LinearSVC\n",
    "from sklearn.metrics import accuracy_score, classification_report, confusion_matrix\n",
    "\n",
    "from sklearn.feature_extraction.text import TfidfVectorizer\n",
    "\n",
    "import preprocess_nlp_Cesar_Arcos as pp\n",
    "\n",
    "import pickle"
   ]
  },
  {
   "cell_type": "code",
   "execution_count": 3,
   "metadata": {},
   "outputs": [],
   "source": [
    "df = pd.read_csv(\"twitt30k.csv\")"
   ]
  },
  {
   "cell_type": "code",
   "execution_count": 6,
   "metadata": {},
   "outputs": [],
   "source": [
    "df = df.rename(columns={'twitts': 'tweets'})"
   ]
  },
  {
   "cell_type": "code",
   "execution_count": 7,
   "metadata": {},
   "outputs": [
    {
     "data": {
      "text/html": [
       "<div>\n",
       "<style scoped>\n",
       "    .dataframe tbody tr th:only-of-type {\n",
       "        vertical-align: middle;\n",
       "    }\n",
       "\n",
       "    .dataframe tbody tr th {\n",
       "        vertical-align: top;\n",
       "    }\n",
       "\n",
       "    .dataframe thead th {\n",
       "        text-align: right;\n",
       "    }\n",
       "</style>\n",
       "<table border=\"1\" class=\"dataframe\">\n",
       "  <thead>\n",
       "    <tr style=\"text-align: right;\">\n",
       "      <th></th>\n",
       "      <th>tweets</th>\n",
       "      <th>sentiment</th>\n",
       "    </tr>\n",
       "  </thead>\n",
       "  <tbody>\n",
       "    <tr>\n",
       "      <th>0</th>\n",
       "      <td>@robbiebronniman Sounds like a great night.</td>\n",
       "      <td>1</td>\n",
       "    </tr>\n",
       "    <tr>\n",
       "      <th>1</th>\n",
       "      <td>Damn the person who stolde my wallet !!!!!  Ma...</td>\n",
       "      <td>1</td>\n",
       "    </tr>\n",
       "    <tr>\n",
       "      <th>2</th>\n",
       "      <td>Greetings from the piano bench  (photo) http:/...</td>\n",
       "      <td>1</td>\n",
       "    </tr>\n",
       "    <tr>\n",
       "      <th>3</th>\n",
       "      <td>@drewryanscott i love it!! i love you!! haha f...</td>\n",
       "      <td>1</td>\n",
       "    </tr>\n",
       "    <tr>\n",
       "      <th>4</th>\n",
       "      <td>@kissthestars Pretty pretty pretty please, pak...</td>\n",
       "      <td>0</td>\n",
       "    </tr>\n",
       "    <tr>\n",
       "      <th>...</th>\n",
       "      <td>...</td>\n",
       "      <td>...</td>\n",
       "    </tr>\n",
       "    <tr>\n",
       "      <th>29995</th>\n",
       "      <td>@Calumfan1 is it in any way related to photosh...</td>\n",
       "      <td>0</td>\n",
       "    </tr>\n",
       "    <tr>\n",
       "      <th>29996</th>\n",
       "      <td>@Swiz_NZ really? wow thats crap</td>\n",
       "      <td>0</td>\n",
       "    </tr>\n",
       "    <tr>\n",
       "      <th>29997</th>\n",
       "      <td>At the 2010 lexus HS250h press event.  Again, ...</td>\n",
       "      <td>0</td>\n",
       "    </tr>\n",
       "    <tr>\n",
       "      <th>29998</th>\n",
       "      <td>@karmicunderpath ooooh now there's a nice thou...</td>\n",
       "      <td>1</td>\n",
       "    </tr>\n",
       "    <tr>\n",
       "      <th>29999</th>\n",
       "      <td>@mariap91 i'd usually ask you about the sun an...</td>\n",
       "      <td>1</td>\n",
       "    </tr>\n",
       "  </tbody>\n",
       "</table>\n",
       "<p>30000 rows × 2 columns</p>\n",
       "</div>"
      ],
      "text/plain": [
       "                                                  tweets  sentiment\n",
       "0           @robbiebronniman Sounds like a great night.           1\n",
       "1      Damn the person who stolde my wallet !!!!!  Ma...          1\n",
       "2      Greetings from the piano bench  (photo) http:/...          1\n",
       "3      @drewryanscott i love it!! i love you!! haha f...          1\n",
       "4      @kissthestars Pretty pretty pretty please, pak...          0\n",
       "...                                                  ...        ...\n",
       "29995  @Calumfan1 is it in any way related to photosh...          0\n",
       "29996                   @Swiz_NZ really? wow thats crap           0\n",
       "29997  At the 2010 lexus HS250h press event.  Again, ...          0\n",
       "29998  @karmicunderpath ooooh now there's a nice thou...          1\n",
       "29999  @mariap91 i'd usually ask you about the sun an...          1\n",
       "\n",
       "[30000 rows x 2 columns]"
      ]
     },
     "execution_count": 7,
     "metadata": {},
     "output_type": "execute_result"
    }
   ],
   "source": [
    "df"
   ]
  },
  {
   "cell_type": "code",
   "execution_count": 9,
   "metadata": {},
   "outputs": [
    {
     "data": {
      "text/plain": [
       "1    15000\n",
       "0    15000\n",
       "Name: sentiment, dtype: int64"
      ]
     },
     "execution_count": 9,
     "metadata": {},
     "output_type": "execute_result"
    }
   ],
   "source": [
    "df['sentiment'].value_counts()"
   ]
  },
  {
   "cell_type": "markdown",
   "metadata": {},
   "source": [
    "## SVM model and Data Preparation"
   ]
  },
  {
   "cell_type": "code",
   "execution_count": 12,
   "metadata": {},
   "outputs": [],
   "source": [
    "def run_svm(df):\n",
    "    X = df['tweets']\n",
    "    y = df['sentiment']\n",
    "    tfidf = TfidfVectorizer()\n",
    "    X = tfidf.fit_transform(X)\n",
    "\n",
    "    X_train, X_test, y_train, y_test = train_test_split(X,y,test_size=0.2,random_state=0,stratify = y)\n",
    "\n",
    "    print('Shape of X: ',X.shape)\n",
    "\n",
    "    clf = LinearSVC()\n",
    "    clf.fit(X_train, y_train)\n",
    "\n",
    "    y_pred = clf.predict(X_test)\n",
    "\n",
    "    print('Printing Report')\n",
    "    print(classification_report(y_test, y_pred))\n",
    "    \n",
    "    \n",
    "    return tfidf, clf    "
   ]
  },
  {
   "cell_type": "code",
   "execution_count": 14,
   "metadata": {},
   "outputs": [
    {
     "name": "stdout",
     "output_type": "stream",
     "text": [
      "Shape of X:  (30000, 40854)\n",
      "Printing Report\n",
      "              precision    recall  f1-score   support\n",
      "\n",
      "           0       0.75      0.74      0.75      3000\n",
      "           1       0.74      0.75      0.75      3000\n",
      "\n",
      "    accuracy                           0.75      6000\n",
      "   macro avg       0.75      0.75      0.75      6000\n",
      "weighted avg       0.75      0.75      0.75      6000\n",
      "\n",
      "CPU times: user 798 ms, sys: 0 ns, total: 798 ms\n",
      "Wall time: 796 ms\n"
     ]
    }
   ],
   "source": [
    "%%time \n",
    "tfidf, clf = run_svm(df)"
   ]
  },
  {
   "cell_type": "code",
   "execution_count": 16,
   "metadata": {},
   "outputs": [],
   "source": [
    "x = [\"i am really happy thanks a lot for coming with me\"]"
   ]
  },
  {
   "cell_type": "code",
   "execution_count": 17,
   "metadata": {},
   "outputs": [
    {
     "data": {
      "text/plain": [
       "array([1])"
      ]
     },
     "execution_count": 17,
     "metadata": {},
     "output_type": "execute_result"
    }
   ],
   "source": [
    "clf.predict(tfidf.transform(x))"
   ]
  },
  {
   "cell_type": "markdown",
   "metadata": {},
   "source": [
    "## Data Cleaning and Retraining SVM"
   ]
  },
  {
   "cell_type": "code",
   "execution_count": 20,
   "metadata": {},
   "outputs": [
    {
     "data": {
      "text/plain": [
       "'0.0.1'"
      ]
     },
     "execution_count": 20,
     "metadata": {},
     "output_type": "execute_result"
    }
   ],
   "source": [
    "pp.__version__"
   ]
  },
  {
   "cell_type": "code",
   "execution_count": 21,
   "metadata": {},
   "outputs": [],
   "source": [
    "df['tweets'] = df['tweets'].apply(lambda x: x.lower())"
   ]
  },
  {
   "cell_type": "code",
   "execution_count": 22,
   "metadata": {},
   "outputs": [],
   "source": [
    "df['tweets'] = df['tweets'].apply(lambda x: pp.cont_exp(x))"
   ]
  },
  {
   "cell_type": "code",
   "execution_count": 23,
   "metadata": {},
   "outputs": [
    {
     "data": {
      "text/html": [
       "<div>\n",
       "<style scoped>\n",
       "    .dataframe tbody tr th:only-of-type {\n",
       "        vertical-align: middle;\n",
       "    }\n",
       "\n",
       "    .dataframe tbody tr th {\n",
       "        vertical-align: top;\n",
       "    }\n",
       "\n",
       "    .dataframe thead th {\n",
       "        text-align: right;\n",
       "    }\n",
       "</style>\n",
       "<table border=\"1\" class=\"dataframe\">\n",
       "  <thead>\n",
       "    <tr style=\"text-align: right;\">\n",
       "      <th></th>\n",
       "      <th>tweets</th>\n",
       "      <th>sentiment</th>\n",
       "    </tr>\n",
       "  </thead>\n",
       "  <tbody>\n",
       "    <tr>\n",
       "      <th>0</th>\n",
       "      <td>@robbiebronniman sounds like a great night.</td>\n",
       "      <td>1</td>\n",
       "    </tr>\n",
       "    <tr>\n",
       "      <th>1</th>\n",
       "      <td>damn the person who stolde my wallet !!!!!  ma...</td>\n",
       "      <td>1</td>\n",
       "    </tr>\n",
       "    <tr>\n",
       "      <th>2</th>\n",
       "      <td>greetings from the piano bench  (photo) http:/...</td>\n",
       "      <td>1</td>\n",
       "    </tr>\n",
       "    <tr>\n",
       "      <th>3</th>\n",
       "      <td>@drewryanscott i love it!! i love you!! haha f...</td>\n",
       "      <td>1</td>\n",
       "    </tr>\n",
       "    <tr>\n",
       "      <th>4</th>\n",
       "      <td>@kissthestars pretty pretty pretty please, pak...</td>\n",
       "      <td>0</td>\n",
       "    </tr>\n",
       "    <tr>\n",
       "      <th>...</th>\n",
       "      <td>...</td>\n",
       "      <td>...</td>\n",
       "    </tr>\n",
       "    <tr>\n",
       "      <th>29995</th>\n",
       "      <td>@calumfan1 is it in any way related to photosh...</td>\n",
       "      <td>0</td>\n",
       "    </tr>\n",
       "    <tr>\n",
       "      <th>29996</th>\n",
       "      <td>@swiz_nz really? wow thats crap</td>\n",
       "      <td>0</td>\n",
       "    </tr>\n",
       "    <tr>\n",
       "      <th>29997</th>\n",
       "      <td>at the 2010 lexus hs250h press event.  again, ...</td>\n",
       "      <td>0</td>\n",
       "    </tr>\n",
       "    <tr>\n",
       "      <th>29998</th>\n",
       "      <td>@karmicunderpath ooooh now there is a nice tho...</td>\n",
       "      <td>1</td>\n",
       "    </tr>\n",
       "    <tr>\n",
       "      <th>29999</th>\n",
       "      <td>@mariap91 i would usually ask you about the su...</td>\n",
       "      <td>1</td>\n",
       "    </tr>\n",
       "  </tbody>\n",
       "</table>\n",
       "<p>30000 rows × 2 columns</p>\n",
       "</div>"
      ],
      "text/plain": [
       "                                                  tweets  sentiment\n",
       "0           @robbiebronniman sounds like a great night.           1\n",
       "1      damn the person who stolde my wallet !!!!!  ma...          1\n",
       "2      greetings from the piano bench  (photo) http:/...          1\n",
       "3      @drewryanscott i love it!! i love you!! haha f...          1\n",
       "4      @kissthestars pretty pretty pretty please, pak...          0\n",
       "...                                                  ...        ...\n",
       "29995  @calumfan1 is it in any way related to photosh...          0\n",
       "29996                   @swiz_nz really? wow thats crap           0\n",
       "29997  at the 2010 lexus hs250h press event.  again, ...          0\n",
       "29998  @karmicunderpath ooooh now there is a nice tho...          1\n",
       "29999  @mariap91 i would usually ask you about the su...          1\n",
       "\n",
       "[30000 rows x 2 columns]"
      ]
     },
     "execution_count": 23,
     "metadata": {},
     "output_type": "execute_result"
    }
   ],
   "source": [
    "df"
   ]
  },
  {
   "cell_type": "code",
   "execution_count": 24,
   "metadata": {},
   "outputs": [
    {
     "name": "stdout",
     "output_type": "stream",
     "text": [
      "Shape of X:  (30000, 40846)\n",
      "Printing Report\n",
      "              precision    recall  f1-score   support\n",
      "\n",
      "           0       0.75      0.74      0.75      3000\n",
      "           1       0.75      0.76      0.75      3000\n",
      "\n",
      "    accuracy                           0.75      6000\n",
      "   macro avg       0.75      0.75      0.75      6000\n",
      "weighted avg       0.75      0.75      0.75      6000\n",
      "\n"
     ]
    },
    {
     "data": {
      "text/plain": [
       "(TfidfVectorizer(), LinearSVC())"
      ]
     },
     "execution_count": 24,
     "metadata": {},
     "output_type": "execute_result"
    }
   ],
   "source": [
    "run_svm(df)"
   ]
  },
  {
   "cell_type": "code",
   "execution_count": 25,
   "metadata": {},
   "outputs": [],
   "source": [
    "df['tweets'] = df['tweets'].apply(lambda x: pp.remove_emails(x))\n",
    "df['tweets'] = df['tweets'].apply(lambda x: pp.remove_urls(x))\n",
    "df['tweets'] = df['tweets'].apply(lambda x: pp.remove_rt(x))\n",
    "df['tweets'] = df['tweets'].apply(lambda x: pp.remove_html_tags(x))\n",
    "df['tweets'] = df['tweets'].apply(lambda x: pp.remove_special_chars(x))\n"
   ]
  },
  {
   "cell_type": "code",
   "execution_count": 26,
   "metadata": {},
   "outputs": [
    {
     "name": "stdout",
     "output_type": "stream",
     "text": [
      "Shape of X:  (30000, 42931)\n",
      "Printing Report\n",
      "              precision    recall  f1-score   support\n",
      "\n",
      "           0       0.75      0.74      0.74      3000\n",
      "           1       0.74      0.75      0.75      3000\n",
      "\n",
      "    accuracy                           0.75      6000\n",
      "   macro avg       0.75      0.75      0.75      6000\n",
      "weighted avg       0.75      0.75      0.75      6000\n",
      "\n"
     ]
    }
   ],
   "source": [
    "tfidf, clf = run_svm(df)"
   ]
  },
  {
   "cell_type": "code",
   "execution_count": 27,
   "metadata": {},
   "outputs": [
    {
     "data": {
      "text/plain": [
       "['i am really happy thanks a lot for coming with me']"
      ]
     },
     "execution_count": 27,
     "metadata": {},
     "output_type": "execute_result"
    }
   ],
   "source": [
    "x"
   ]
  },
  {
   "cell_type": "code",
   "execution_count": 28,
   "metadata": {},
   "outputs": [
    {
     "data": {
      "text/plain": [
       "array([1])"
      ]
     },
     "execution_count": 28,
     "metadata": {},
     "output_type": "execute_result"
    }
   ],
   "source": [
    "clf.predict(tfidf.transform(x))"
   ]
  },
  {
   "cell_type": "markdown",
   "metadata": {},
   "source": [
    "## Fine Tuning Model "
   ]
  },
  {
   "cell_type": "code",
   "execution_count": 33,
   "metadata": {},
   "outputs": [
    {
     "name": "stdout",
     "output_type": "stream",
     "text": [
      "shape of X:  (30000, 5000)\n",
      "\n",
      "Printing Report\n",
      "              precision    recall  f1-score   support\n",
      "\n",
      "           0       0.75      0.77      0.76      3000\n",
      "           1       0.77      0.75      0.76      3000\n",
      "\n",
      "    accuracy                           0.76      6000\n",
      "   macro avg       0.76      0.76      0.76      6000\n",
      "weighted avg       0.76      0.76      0.76      6000\n",
      "\n"
     ]
    },
    {
     "data": {
      "text/plain": [
       "(TfidfVectorizer(max_features=5000, ngram_range=(1, 2), norm='l1'),\n",
       " LinearSVC())"
      ]
     },
     "execution_count": 33,
     "metadata": {},
     "output_type": "execute_result"
    }
   ],
   "source": [
    "def run_svm(df):\n",
    "    X = df['tweets']\n",
    "    y = df['sentiment']\n",
    "\n",
    "    tfidf = TfidfVectorizer(norm = 'l1', ngram_range=(1,2), analyzer='word', max_features=5000)\n",
    "    X = tfidf.fit_transform(X)\n",
    "\n",
    "    X_train, X_test, y_train, y_test = train_test_split(X, y, test_size = 0.2, random_state = 0, stratify = y)\n",
    "\n",
    "    print('shape of X: ', X.shape)\n",
    "\n",
    "    clf = LinearSVC()\n",
    "    clf.fit(X_train, y_train)\n",
    "\n",
    "    y_pred = clf.predict(X_test)\n",
    "\n",
    "    print()\n",
    "    print('Printing Report')\n",
    "    print(classification_report(y_test, y_pred))\n",
    "    \n",
    "    return tfidf, clf\n",
    "\n",
    "run_svm(df)"
   ]
  },
  {
   "cell_type": "markdown",
   "metadata": {},
   "source": [
    "## Saving and Loading ML Model"
   ]
  },
  {
   "cell_type": "code",
   "execution_count": 37,
   "metadata": {},
   "outputs": [],
   "source": [
    "pickle.dump(clf, open('clf.pkl', 'wb'))\n",
    "pickle.dump(tfidf, open('tfidf.pkl', 'wb'))"
   ]
  },
  {
   "cell_type": "code",
   "execution_count": 38,
   "metadata": {},
   "outputs": [],
   "source": [
    "del clf\n",
    "del tfidf"
   ]
  },
  {
   "cell_type": "code",
   "execution_count": 39,
   "metadata": {},
   "outputs": [],
   "source": [
    "clf = pickle.load(open('clf.pkl', 'rb'))\n",
    "tfidf = pickle.load(open('tfidf.pkl', 'rb'))"
   ]
  },
  {
   "cell_type": "code",
   "execution_count": 40,
   "metadata": {},
   "outputs": [
    {
     "data": {
      "text/plain": [
       "LinearSVC()"
      ]
     },
     "execution_count": 40,
     "metadata": {},
     "output_type": "execute_result"
    }
   ],
   "source": [
    "clf"
   ]
  },
  {
   "cell_type": "code",
   "execution_count": 41,
   "metadata": {},
   "outputs": [
    {
     "data": {
      "text/plain": [
       "['i am really happy thanks a lot for coming with me']"
      ]
     },
     "execution_count": 41,
     "metadata": {},
     "output_type": "execute_result"
    }
   ],
   "source": [
    "x"
   ]
  },
  {
   "cell_type": "code",
   "execution_count": 42,
   "metadata": {},
   "outputs": [
    {
     "data": {
      "text/plain": [
       "array([1])"
      ]
     },
     "execution_count": 42,
     "metadata": {},
     "output_type": "execute_result"
    }
   ],
   "source": [
    "clf.predict(tfidf.transform(x))"
   ]
  },
  {
   "cell_type": "markdown",
   "metadata": {},
   "source": [
    "# Real-Time Twitter Sentiment Analysis"
   ]
  },
  {
   "cell_type": "code",
   "execution_count": 122,
   "metadata": {},
   "outputs": [],
   "source": [
    "import numpy as np\n",
    "import pandas as pd\n",
    "\n",
    "from sklearn.model_selection import train_test_split\n",
    "from sklearn.svm import LinearSVC\n",
    "from sklearn.metrics import accuracy_score, classification_report, confusion_matrix\n",
    "\n",
    "from sklearn.feature_extraction.text import TfidfVectorizer\n",
    "\n",
    "import preprocess_nlp_Cesar_Arcos as pp\n",
    "\n",
    "import pickle\n",
    "import json\n",
    "import csv\n",
    "\n",
    "from textblob import TextBlob\n",
    "\n",
    "import tweepy\n",
    "from Twitter_key import consumer_key,consumer_secret,access_token,access_token_secret"
   ]
  },
  {
   "cell_type": "code",
   "execution_count": 50,
   "metadata": {},
   "outputs": [],
   "source": [
    "#!pip install tweepy\n",
    "#!pip install git+ssh://git@github.com/racec9999/preprocess_nlp_Cesar_Arcos.git"
   ]
  },
  {
   "cell_type": "code",
   "execution_count": 95,
   "metadata": {},
   "outputs": [],
   "source": [
    "auth = tweepy.OAuthHandler(consumer_key, consumer_secret)\n",
    "auth.set_access_token(access_token, access_token_secret)\n",
    "\n",
    "api = tweepy.API(auth)\n",
    "\n",
    "public_tweets = api.home_timeline()"
   ]
  },
  {
   "cell_type": "code",
   "execution_count": 96,
   "metadata": {},
   "outputs": [
    {
     "data": {
      "text/plain": [
       "[Status(_api=<tweepy.api.API object at 0x7fb49984e250>, _json={'created_at': 'Mon Mar 29 20:16:16 +0000 2021', 'id': 1376629300619804683, 'id_str': '1376629300619804683', 'text': 'La verdad, no nos sorprende que sean estos dos.\\n¿Sus teclados también lucen así? https://t.co/1NytjK95uH', 'truncated': False, 'entities': {'hashtags': [], 'symbols': [], 'user_mentions': [], 'urls': [], 'media': [{'id': 1376627689285640192, 'id_str': '1376627689285640192', 'indices': [81, 104], 'media_url': 'http://pbs.twimg.com/media/ExrDlvfWYAAHip_.png', 'media_url_https': 'https://pbs.twimg.com/media/ExrDlvfWYAAHip_.png', 'url': 'https://t.co/1NytjK95uH', 'display_url': 'pic.twitter.com/1NytjK95uH', 'expanded_url': 'https://twitter.com/XboxMexico/status/1376629300619804683/photo/1', 'type': 'photo', 'sizes': {'large': {'w': 800, 'h': 800, 'resize': 'fit'}, 'medium': {'w': 800, 'h': 800, 'resize': 'fit'}, 'thumb': {'w': 150, 'h': 150, 'resize': 'crop'}, 'small': {'w': 680, 'h': 680, 'resize': 'fit'}}}]}, 'extended_entities': {'media': [{'id': 1376627689285640192, 'id_str': '1376627689285640192', 'indices': [81, 104], 'media_url': 'http://pbs.twimg.com/media/ExrDlvfWYAAHip_.png', 'media_url_https': 'https://pbs.twimg.com/media/ExrDlvfWYAAHip_.png', 'url': 'https://t.co/1NytjK95uH', 'display_url': 'pic.twitter.com/1NytjK95uH', 'expanded_url': 'https://twitter.com/XboxMexico/status/1376629300619804683/photo/1', 'type': 'photo', 'sizes': {'large': {'w': 800, 'h': 800, 'resize': 'fit'}, 'medium': {'w': 800, 'h': 800, 'resize': 'fit'}, 'thumb': {'w': 150, 'h': 150, 'resize': 'crop'}, 'small': {'w': 680, 'h': 680, 'resize': 'fit'}}}]}, 'source': '<a href=\"https://mobile.twitter.com\" rel=\"nofollow\">Twitter Web App</a>', 'in_reply_to_status_id': None, 'in_reply_to_status_id_str': None, 'in_reply_to_user_id': None, 'in_reply_to_user_id_str': None, 'in_reply_to_screen_name': None, 'user': {'id': 16089734, 'id_str': '16089734', 'name': 'Xbox México', 'screen_name': 'XboxMexico', 'location': 'México', 'description': 'Cuenta oficial de #Xbox en #México. 🇲🇽 Noticias de #XboxGamePass, lanzamientos, descuentos, promociones y más. 🎮 Soporte técnico: https://t.co/bxP27uHca9', 'url': 'https://t.co/F0Jsq5R64I', 'entities': {'url': {'urls': [{'url': 'https://t.co/F0Jsq5R64I', 'expanded_url': 'http://www.xbox.com/es-MX/', 'display_url': 'xbox.com/es-MX/', 'indices': [0, 23]}]}, 'description': {'urls': [{'url': 'https://t.co/bxP27uHca9', 'expanded_url': 'http://support.xbox.com', 'display_url': 'support.xbox.com', 'indices': [130, 153]}]}}, 'protected': False, 'followers_count': 879265, 'friends_count': 1197, 'listed_count': 1652, 'created_at': 'Mon Sep 01 23:42:24 +0000 2008', 'favourites_count': 9535, 'utc_offset': None, 'time_zone': None, 'geo_enabled': True, 'verified': True, 'statuses_count': 27578, 'lang': None, 'contributors_enabled': False, 'is_translator': False, 'is_translation_enabled': False, 'profile_background_color': '107C10', 'profile_background_image_url': 'http://abs.twimg.com/images/themes/theme1/bg.png', 'profile_background_image_url_https': 'https://abs.twimg.com/images/themes/theme1/bg.png', 'profile_background_tile': False, 'profile_image_url': 'http://pbs.twimg.com/profile_images/1374080556007309315/s4lTXJTR_normal.jpg', 'profile_image_url_https': 'https://pbs.twimg.com/profile_images/1374080556007309315/s4lTXJTR_normal.jpg', 'profile_banner_url': 'https://pbs.twimg.com/profile_banners/16089734/1616441310', 'profile_link_color': '107C10', 'profile_sidebar_border_color': 'FFFFFF', 'profile_sidebar_fill_color': 'F5F5F5', 'profile_text_color': '000000', 'profile_use_background_image': False, 'has_extended_profile': False, 'default_profile': False, 'default_profile_image': False, 'following': True, 'follow_request_sent': False, 'notifications': False, 'translator_type': 'none'}, 'geo': None, 'coordinates': None, 'place': None, 'contributors': None, 'is_quote_status': False, 'retweet_count': 4, 'favorite_count': 105, 'favorited': False, 'retweeted': False, 'possibly_sensitive': False, 'possibly_sensitive_appealable': False, 'lang': 'es'}, created_at=datetime.datetime(2021, 3, 29, 20, 16, 16), id=1376629300619804683, id_str='1376629300619804683', text='La verdad, no nos sorprende que sean estos dos.\\n¿Sus teclados también lucen así? https://t.co/1NytjK95uH', truncated=False, entities={'hashtags': [], 'symbols': [], 'user_mentions': [], 'urls': [], 'media': [{'id': 1376627689285640192, 'id_str': '1376627689285640192', 'indices': [81, 104], 'media_url': 'http://pbs.twimg.com/media/ExrDlvfWYAAHip_.png', 'media_url_https': 'https://pbs.twimg.com/media/ExrDlvfWYAAHip_.png', 'url': 'https://t.co/1NytjK95uH', 'display_url': 'pic.twitter.com/1NytjK95uH', 'expanded_url': 'https://twitter.com/XboxMexico/status/1376629300619804683/photo/1', 'type': 'photo', 'sizes': {'large': {'w': 800, 'h': 800, 'resize': 'fit'}, 'medium': {'w': 800, 'h': 800, 'resize': 'fit'}, 'thumb': {'w': 150, 'h': 150, 'resize': 'crop'}, 'small': {'w': 680, 'h': 680, 'resize': 'fit'}}}]}, extended_entities={'media': [{'id': 1376627689285640192, 'id_str': '1376627689285640192', 'indices': [81, 104], 'media_url': 'http://pbs.twimg.com/media/ExrDlvfWYAAHip_.png', 'media_url_https': 'https://pbs.twimg.com/media/ExrDlvfWYAAHip_.png', 'url': 'https://t.co/1NytjK95uH', 'display_url': 'pic.twitter.com/1NytjK95uH', 'expanded_url': 'https://twitter.com/XboxMexico/status/1376629300619804683/photo/1', 'type': 'photo', 'sizes': {'large': {'w': 800, 'h': 800, 'resize': 'fit'}, 'medium': {'w': 800, 'h': 800, 'resize': 'fit'}, 'thumb': {'w': 150, 'h': 150, 'resize': 'crop'}, 'small': {'w': 680, 'h': 680, 'resize': 'fit'}}}]}, source='Twitter Web App', source_url='https://mobile.twitter.com', in_reply_to_status_id=None, in_reply_to_status_id_str=None, in_reply_to_user_id=None, in_reply_to_user_id_str=None, in_reply_to_screen_name=None, author=User(_api=<tweepy.api.API object at 0x7fb49984e250>, _json={'id': 16089734, 'id_str': '16089734', 'name': 'Xbox México', 'screen_name': 'XboxMexico', 'location': 'México', 'description': 'Cuenta oficial de #Xbox en #México. 🇲🇽 Noticias de #XboxGamePass, lanzamientos, descuentos, promociones y más. 🎮 Soporte técnico: https://t.co/bxP27uHca9', 'url': 'https://t.co/F0Jsq5R64I', 'entities': {'url': {'urls': [{'url': 'https://t.co/F0Jsq5R64I', 'expanded_url': 'http://www.xbox.com/es-MX/', 'display_url': 'xbox.com/es-MX/', 'indices': [0, 23]}]}, 'description': {'urls': [{'url': 'https://t.co/bxP27uHca9', 'expanded_url': 'http://support.xbox.com', 'display_url': 'support.xbox.com', 'indices': [130, 153]}]}}, 'protected': False, 'followers_count': 879265, 'friends_count': 1197, 'listed_count': 1652, 'created_at': 'Mon Sep 01 23:42:24 +0000 2008', 'favourites_count': 9535, 'utc_offset': None, 'time_zone': None, 'geo_enabled': True, 'verified': True, 'statuses_count': 27578, 'lang': None, 'contributors_enabled': False, 'is_translator': False, 'is_translation_enabled': False, 'profile_background_color': '107C10', 'profile_background_image_url': 'http://abs.twimg.com/images/themes/theme1/bg.png', 'profile_background_image_url_https': 'https://abs.twimg.com/images/themes/theme1/bg.png', 'profile_background_tile': False, 'profile_image_url': 'http://pbs.twimg.com/profile_images/1374080556007309315/s4lTXJTR_normal.jpg', 'profile_image_url_https': 'https://pbs.twimg.com/profile_images/1374080556007309315/s4lTXJTR_normal.jpg', 'profile_banner_url': 'https://pbs.twimg.com/profile_banners/16089734/1616441310', 'profile_link_color': '107C10', 'profile_sidebar_border_color': 'FFFFFF', 'profile_sidebar_fill_color': 'F5F5F5', 'profile_text_color': '000000', 'profile_use_background_image': False, 'has_extended_profile': False, 'default_profile': False, 'default_profile_image': False, 'following': True, 'follow_request_sent': False, 'notifications': False, 'translator_type': 'none'}, id=16089734, id_str='16089734', name='Xbox México', screen_name='XboxMexico', location='México', description='Cuenta oficial de #Xbox en #México. 🇲🇽 Noticias de #XboxGamePass, lanzamientos, descuentos, promociones y más. 🎮 Soporte técnico: https://t.co/bxP27uHca9', url='https://t.co/F0Jsq5R64I', entities={'url': {'urls': [{'url': 'https://t.co/F0Jsq5R64I', 'expanded_url': 'http://www.xbox.com/es-MX/', 'display_url': 'xbox.com/es-MX/', 'indices': [0, 23]}]}, 'description': {'urls': [{'url': 'https://t.co/bxP27uHca9', 'expanded_url': 'http://support.xbox.com', 'display_url': 'support.xbox.com', 'indices': [130, 153]}]}}, protected=False, followers_count=879265, friends_count=1197, listed_count=1652, created_at=datetime.datetime(2008, 9, 1, 23, 42, 24), favourites_count=9535, utc_offset=None, time_zone=None, geo_enabled=True, verified=True, statuses_count=27578, lang=None, contributors_enabled=False, is_translator=False, is_translation_enabled=False, profile_background_color='107C10', profile_background_image_url='http://abs.twimg.com/images/themes/theme1/bg.png', profile_background_image_url_https='https://abs.twimg.com/images/themes/theme1/bg.png', profile_background_tile=False, profile_image_url='http://pbs.twimg.com/profile_images/1374080556007309315/s4lTXJTR_normal.jpg', profile_image_url_https='https://pbs.twimg.com/profile_images/1374080556007309315/s4lTXJTR_normal.jpg', profile_banner_url='https://pbs.twimg.com/profile_banners/16089734/1616441310', profile_link_color='107C10', profile_sidebar_border_color='FFFFFF', profile_sidebar_fill_color='F5F5F5', profile_text_color='000000', profile_use_background_image=False, has_extended_profile=False, default_profile=False, default_profile_image=False, following=True, follow_request_sent=False, notifications=False, translator_type='none'), user=User(_api=<tweepy.api.API object at 0x7fb49984e250>, _json={'id': 16089734, 'id_str': '16089734', 'name': 'Xbox México', 'screen_name': 'XboxMexico', 'location': 'México', 'description': 'Cuenta oficial de #Xbox en #México. 🇲🇽 Noticias de #XboxGamePass, lanzamientos, descuentos, promociones y más. 🎮 Soporte técnico: https://t.co/bxP27uHca9', 'url': 'https://t.co/F0Jsq5R64I', 'entities': {'url': {'urls': [{'url': 'https://t.co/F0Jsq5R64I', 'expanded_url': 'http://www.xbox.com/es-MX/', 'display_url': 'xbox.com/es-MX/', 'indices': [0, 23]}]}, 'description': {'urls': [{'url': 'https://t.co/bxP27uHca9', 'expanded_url': 'http://support.xbox.com', 'display_url': 'support.xbox.com', 'indices': [130, 153]}]}}, 'protected': False, 'followers_count': 879265, 'friends_count': 1197, 'listed_count': 1652, 'created_at': 'Mon Sep 01 23:42:24 +0000 2008', 'favourites_count': 9535, 'utc_offset': None, 'time_zone': None, 'geo_enabled': True, 'verified': True, 'statuses_count': 27578, 'lang': None, 'contributors_enabled': False, 'is_translator': False, 'is_translation_enabled': False, 'profile_background_color': '107C10', 'profile_background_image_url': 'http://abs.twimg.com/images/themes/theme1/bg.png', 'profile_background_image_url_https': 'https://abs.twimg.com/images/themes/theme1/bg.png', 'profile_background_tile': False, 'profile_image_url': 'http://pbs.twimg.com/profile_images/1374080556007309315/s4lTXJTR_normal.jpg', 'profile_image_url_https': 'https://pbs.twimg.com/profile_images/1374080556007309315/s4lTXJTR_normal.jpg', 'profile_banner_url': 'https://pbs.twimg.com/profile_banners/16089734/1616441310', 'profile_link_color': '107C10', 'profile_sidebar_border_color': 'FFFFFF', 'profile_sidebar_fill_color': 'F5F5F5', 'profile_text_color': '000000', 'profile_use_background_image': False, 'has_extended_profile': False, 'default_profile': False, 'default_profile_image': False, 'following': True, 'follow_request_sent': False, 'notifications': False, 'translator_type': 'none'}, id=16089734, id_str='16089734', name='Xbox México', screen_name='XboxMexico', location='México', description='Cuenta oficial de #Xbox en #México. 🇲🇽 Noticias de #XboxGamePass, lanzamientos, descuentos, promociones y más. 🎮 Soporte técnico: https://t.co/bxP27uHca9', url='https://t.co/F0Jsq5R64I', entities={'url': {'urls': [{'url': 'https://t.co/F0Jsq5R64I', 'expanded_url': 'http://www.xbox.com/es-MX/', 'display_url': 'xbox.com/es-MX/', 'indices': [0, 23]}]}, 'description': {'urls': [{'url': 'https://t.co/bxP27uHca9', 'expanded_url': 'http://support.xbox.com', 'display_url': 'support.xbox.com', 'indices': [130, 153]}]}}, protected=False, followers_count=879265, friends_count=1197, listed_count=1652, created_at=datetime.datetime(2008, 9, 1, 23, 42, 24), favourites_count=9535, utc_offset=None, time_zone=None, geo_enabled=True, verified=True, statuses_count=27578, lang=None, contributors_enabled=False, is_translator=False, is_translation_enabled=False, profile_background_color='107C10', profile_background_image_url='http://abs.twimg.com/images/themes/theme1/bg.png', profile_background_image_url_https='https://abs.twimg.com/images/themes/theme1/bg.png', profile_background_tile=False, profile_image_url='http://pbs.twimg.com/profile_images/1374080556007309315/s4lTXJTR_normal.jpg', profile_image_url_https='https://pbs.twimg.com/profile_images/1374080556007309315/s4lTXJTR_normal.jpg', profile_banner_url='https://pbs.twimg.com/profile_banners/16089734/1616441310', profile_link_color='107C10', profile_sidebar_border_color='FFFFFF', profile_sidebar_fill_color='F5F5F5', profile_text_color='000000', profile_use_background_image=False, has_extended_profile=False, default_profile=False, default_profile_image=False, following=True, follow_request_sent=False, notifications=False, translator_type='none'), geo=None, coordinates=None, place=None, contributors=None, is_quote_status=False, retweet_count=4, favorite_count=105, favorited=False, retweeted=False, possibly_sensitive=False, possibly_sensitive_appealable=False, lang='es'),\n",
       " Status(_api=<tweepy.api.API object at 0x7fb49984e250>, _json={'created_at': 'Mon Mar 29 20:15:00 +0000 2021', 'id': 1376628981915615237, 'id_str': '1376628981915615237', 'text': '\"The more the merrier.\" https://t.co/UDMaQsSTWf', 'truncated': False, 'entities': {'hashtags': [], 'symbols': [], 'user_mentions': [], 'urls': [{'url': 'https://t.co/UDMaQsSTWf', 'expanded_url': 'https://www.sciencenews.org/article/coronavirus-covid-astrazeneca-vaccine-effective-us-trial-results', 'display_url': 'sciencenews.org/article/corona…', 'indices': [24, 47]}]}, 'source': '<a href=\"http://www.socialnewsdesk.com\" rel=\"nofollow\">SocialNewsDesk</a>', 'in_reply_to_status_id': None, 'in_reply_to_status_id_str': None, 'in_reply_to_user_id': None, 'in_reply_to_user_id_str': None, 'in_reply_to_screen_name': None, 'user': {'id': 19402238, 'id_str': '19402238', 'name': 'Science News', 'screen_name': 'ScienceNews', 'location': 'Washington, DC', 'description': 'Covering the latest news in all fields of science. Tweets by @ThatMikeDenison and @wwrfd. Publisher @society4science. See also @SNStudents.', 'url': 'https://t.co/crx5P5xmsH', 'entities': {'url': {'urls': [{'url': 'https://t.co/crx5P5xmsH', 'expanded_url': 'https://www.sciencenews.org', 'display_url': 'sciencenews.org', 'indices': [0, 23]}]}, 'description': {'urls': []}}, 'protected': False, 'followers_count': 3812288, 'friends_count': 598, 'listed_count': 19351, 'created_at': 'Fri Jan 23 16:56:32 +0000 2009', 'favourites_count': 587, 'utc_offset': None, 'time_zone': None, 'geo_enabled': False, 'verified': True, 'statuses_count': 57545, 'lang': None, 'contributors_enabled': False, 'is_translator': False, 'is_translation_enabled': False, 'profile_background_color': '00476F', 'profile_background_image_url': 'http://abs.twimg.com/images/themes/theme1/bg.png', 'profile_background_image_url_https': 'https://abs.twimg.com/images/themes/theme1/bg.png', 'profile_background_tile': False, 'profile_image_url': 'http://pbs.twimg.com/profile_images/1210648820541018113/j4qqEa6F_normal.png', 'profile_image_url_https': 'https://pbs.twimg.com/profile_images/1210648820541018113/j4qqEa6F_normal.png', 'profile_banner_url': 'https://pbs.twimg.com/profile_banners/19402238/1403559093', 'profile_link_color': '1F4363', 'profile_sidebar_border_color': 'CCCCCC', 'profile_sidebar_fill_color': 'E6E6E6', 'profile_text_color': '00476F', 'profile_use_background_image': False, 'has_extended_profile': False, 'default_profile': False, 'default_profile_image': False, 'following': True, 'follow_request_sent': False, 'notifications': False, 'translator_type': 'none'}, 'geo': None, 'coordinates': None, 'place': None, 'contributors': None, 'is_quote_status': False, 'retweet_count': 4, 'favorite_count': 21, 'favorited': False, 'retweeted': False, 'possibly_sensitive': False, 'possibly_sensitive_appealable': False, 'lang': 'en'}, created_at=datetime.datetime(2021, 3, 29, 20, 15), id=1376628981915615237, id_str='1376628981915615237', text='\"The more the merrier.\" https://t.co/UDMaQsSTWf', truncated=False, entities={'hashtags': [], 'symbols': [], 'user_mentions': [], 'urls': [{'url': 'https://t.co/UDMaQsSTWf', 'expanded_url': 'https://www.sciencenews.org/article/coronavirus-covid-astrazeneca-vaccine-effective-us-trial-results', 'display_url': 'sciencenews.org/article/corona…', 'indices': [24, 47]}]}, source='SocialNewsDesk', source_url='http://www.socialnewsdesk.com', in_reply_to_status_id=None, in_reply_to_status_id_str=None, in_reply_to_user_id=None, in_reply_to_user_id_str=None, in_reply_to_screen_name=None, author=User(_api=<tweepy.api.API object at 0x7fb49984e250>, _json={'id': 19402238, 'id_str': '19402238', 'name': 'Science News', 'screen_name': 'ScienceNews', 'location': 'Washington, DC', 'description': 'Covering the latest news in all fields of science. Tweets by @ThatMikeDenison and @wwrfd. Publisher @society4science. See also @SNStudents.', 'url': 'https://t.co/crx5P5xmsH', 'entities': {'url': {'urls': [{'url': 'https://t.co/crx5P5xmsH', 'expanded_url': 'https://www.sciencenews.org', 'display_url': 'sciencenews.org', 'indices': [0, 23]}]}, 'description': {'urls': []}}, 'protected': False, 'followers_count': 3812288, 'friends_count': 598, 'listed_count': 19351, 'created_at': 'Fri Jan 23 16:56:32 +0000 2009', 'favourites_count': 587, 'utc_offset': None, 'time_zone': None, 'geo_enabled': False, 'verified': True, 'statuses_count': 57545, 'lang': None, 'contributors_enabled': False, 'is_translator': False, 'is_translation_enabled': False, 'profile_background_color': '00476F', 'profile_background_image_url': 'http://abs.twimg.com/images/themes/theme1/bg.png', 'profile_background_image_url_https': 'https://abs.twimg.com/images/themes/theme1/bg.png', 'profile_background_tile': False, 'profile_image_url': 'http://pbs.twimg.com/profile_images/1210648820541018113/j4qqEa6F_normal.png', 'profile_image_url_https': 'https://pbs.twimg.com/profile_images/1210648820541018113/j4qqEa6F_normal.png', 'profile_banner_url': 'https://pbs.twimg.com/profile_banners/19402238/1403559093', 'profile_link_color': '1F4363', 'profile_sidebar_border_color': 'CCCCCC', 'profile_sidebar_fill_color': 'E6E6E6', 'profile_text_color': '00476F', 'profile_use_background_image': False, 'has_extended_profile': False, 'default_profile': False, 'default_profile_image': False, 'following': True, 'follow_request_sent': False, 'notifications': False, 'translator_type': 'none'}, id=19402238, id_str='19402238', name='Science News', screen_name='ScienceNews', location='Washington, DC', description='Covering the latest news in all fields of science. Tweets by @ThatMikeDenison and @wwrfd. Publisher @society4science. See also @SNStudents.', url='https://t.co/crx5P5xmsH', entities={'url': {'urls': [{'url': 'https://t.co/crx5P5xmsH', 'expanded_url': 'https://www.sciencenews.org', 'display_url': 'sciencenews.org', 'indices': [0, 23]}]}, 'description': {'urls': []}}, protected=False, followers_count=3812288, friends_count=598, listed_count=19351, created_at=datetime.datetime(2009, 1, 23, 16, 56, 32), favourites_count=587, utc_offset=None, time_zone=None, geo_enabled=False, verified=True, statuses_count=57545, lang=None, contributors_enabled=False, is_translator=False, is_translation_enabled=False, profile_background_color='00476F', profile_background_image_url='http://abs.twimg.com/images/themes/theme1/bg.png', profile_background_image_url_https='https://abs.twimg.com/images/themes/theme1/bg.png', profile_background_tile=False, profile_image_url='http://pbs.twimg.com/profile_images/1210648820541018113/j4qqEa6F_normal.png', profile_image_url_https='https://pbs.twimg.com/profile_images/1210648820541018113/j4qqEa6F_normal.png', profile_banner_url='https://pbs.twimg.com/profile_banners/19402238/1403559093', profile_link_color='1F4363', profile_sidebar_border_color='CCCCCC', profile_sidebar_fill_color='E6E6E6', profile_text_color='00476F', profile_use_background_image=False, has_extended_profile=False, default_profile=False, default_profile_image=False, following=True, follow_request_sent=False, notifications=False, translator_type='none'), user=User(_api=<tweepy.api.API object at 0x7fb49984e250>, _json={'id': 19402238, 'id_str': '19402238', 'name': 'Science News', 'screen_name': 'ScienceNews', 'location': 'Washington, DC', 'description': 'Covering the latest news in all fields of science. Tweets by @ThatMikeDenison and @wwrfd. Publisher @society4science. See also @SNStudents.', 'url': 'https://t.co/crx5P5xmsH', 'entities': {'url': {'urls': [{'url': 'https://t.co/crx5P5xmsH', 'expanded_url': 'https://www.sciencenews.org', 'display_url': 'sciencenews.org', 'indices': [0, 23]}]}, 'description': {'urls': []}}, 'protected': False, 'followers_count': 3812288, 'friends_count': 598, 'listed_count': 19351, 'created_at': 'Fri Jan 23 16:56:32 +0000 2009', 'favourites_count': 587, 'utc_offset': None, 'time_zone': None, 'geo_enabled': False, 'verified': True, 'statuses_count': 57545, 'lang': None, 'contributors_enabled': False, 'is_translator': False, 'is_translation_enabled': False, 'profile_background_color': '00476F', 'profile_background_image_url': 'http://abs.twimg.com/images/themes/theme1/bg.png', 'profile_background_image_url_https': 'https://abs.twimg.com/images/themes/theme1/bg.png', 'profile_background_tile': False, 'profile_image_url': 'http://pbs.twimg.com/profile_images/1210648820541018113/j4qqEa6F_normal.png', 'profile_image_url_https': 'https://pbs.twimg.com/profile_images/1210648820541018113/j4qqEa6F_normal.png', 'profile_banner_url': 'https://pbs.twimg.com/profile_banners/19402238/1403559093', 'profile_link_color': '1F4363', 'profile_sidebar_border_color': 'CCCCCC', 'profile_sidebar_fill_color': 'E6E6E6', 'profile_text_color': '00476F', 'profile_use_background_image': False, 'has_extended_profile': False, 'default_profile': False, 'default_profile_image': False, 'following': True, 'follow_request_sent': False, 'notifications': False, 'translator_type': 'none'}, id=19402238, id_str='19402238', name='Science News', screen_name='ScienceNews', location='Washington, DC', description='Covering the latest news in all fields of science. Tweets by @ThatMikeDenison and @wwrfd. Publisher @society4science. See also @SNStudents.', url='https://t.co/crx5P5xmsH', entities={'url': {'urls': [{'url': 'https://t.co/crx5P5xmsH', 'expanded_url': 'https://www.sciencenews.org', 'display_url': 'sciencenews.org', 'indices': [0, 23]}]}, 'description': {'urls': []}}, protected=False, followers_count=3812288, friends_count=598, listed_count=19351, created_at=datetime.datetime(2009, 1, 23, 16, 56, 32), favourites_count=587, utc_offset=None, time_zone=None, geo_enabled=False, verified=True, statuses_count=57545, lang=None, contributors_enabled=False, is_translator=False, is_translation_enabled=False, profile_background_color='00476F', profile_background_image_url='http://abs.twimg.com/images/themes/theme1/bg.png', profile_background_image_url_https='https://abs.twimg.com/images/themes/theme1/bg.png', profile_background_tile=False, profile_image_url='http://pbs.twimg.com/profile_images/1210648820541018113/j4qqEa6F_normal.png', profile_image_url_https='https://pbs.twimg.com/profile_images/1210648820541018113/j4qqEa6F_normal.png', profile_banner_url='https://pbs.twimg.com/profile_banners/19402238/1403559093', profile_link_color='1F4363', profile_sidebar_border_color='CCCCCC', profile_sidebar_fill_color='E6E6E6', profile_text_color='00476F', profile_use_background_image=False, has_extended_profile=False, default_profile=False, default_profile_image=False, following=True, follow_request_sent=False, notifications=False, translator_type='none'), geo=None, coordinates=None, place=None, contributors=None, is_quote_status=False, retweet_count=4, favorite_count=21, favorited=False, retweeted=False, possibly_sensitive=False, possibly_sensitive_appealable=False, lang='en'),\n",
       " Status(_api=<tweepy.api.API object at 0x7fb49984e250>, _json={'created_at': 'Mon Mar 29 20:11:52 +0000 2021', 'id': 1376628193067732994, 'id_str': '1376628193067732994', 'text': \"RT @CoinDeskMarkets: No wonder cryptocurrency markets were so lackluster last week: There just wasn't much appetite from investors to put n…\", 'truncated': False, 'entities': {'hashtags': [], 'symbols': [], 'user_mentions': [{'screen_name': 'CoinDeskMarkets', 'name': 'CoinDesk Markets', 'id': 956155022957531137, 'id_str': '956155022957531137', 'indices': [3, 19]}], 'urls': []}, 'source': '<a href=\"http://www.socialflow.com\" rel=\"nofollow\">SocialFlow</a>', 'in_reply_to_status_id': None, 'in_reply_to_status_id_str': None, 'in_reply_to_user_id': None, 'in_reply_to_user_id_str': None, 'in_reply_to_screen_name': None, 'user': {'id': 1333467482, 'id_str': '1333467482', 'name': 'CoinDesk', 'screen_name': 'CoinDesk', 'location': 'New York, USA', 'description': 'Welcome to the conversation on the future of money and Web 3.0. Follow Markets @CoinDeskMarkets + Research @CoinDeskData.', 'url': 'https://t.co/voQSwZsxYC', 'entities': {'url': {'urls': [{'url': 'https://t.co/voQSwZsxYC', 'expanded_url': 'http://www.coindesk.com', 'display_url': 'coindesk.com', 'indices': [0, 23]}]}, 'description': {'urls': []}}, 'protected': False, 'followers_count': 1226404, 'friends_count': 1287, 'listed_count': 12733, 'created_at': 'Sun Apr 07 07:50:08 +0000 2013', 'favourites_count': 4902, 'utc_offset': None, 'time_zone': None, 'geo_enabled': True, 'verified': True, 'statuses_count': 77219, 'lang': None, 'contributors_enabled': False, 'is_translator': False, 'is_translation_enabled': False, 'profile_background_color': '000000', 'profile_background_image_url': 'http://abs.twimg.com/images/themes/theme1/bg.png', 'profile_background_image_url_https': 'https://abs.twimg.com/images/themes/theme1/bg.png', 'profile_background_tile': False, 'profile_image_url': 'http://pbs.twimg.com/profile_images/1273411415215411202/9HeiHTVY_normal.jpg', 'profile_image_url_https': 'https://pbs.twimg.com/profile_images/1273411415215411202/9HeiHTVY_normal.jpg', 'profile_banner_url': 'https://pbs.twimg.com/profile_banners/1333467482/1592439922', 'profile_link_color': '0084B4', 'profile_sidebar_border_color': '000000', 'profile_sidebar_fill_color': 'DDEEF6', 'profile_text_color': '333333', 'profile_use_background_image': True, 'has_extended_profile': False, 'default_profile': False, 'default_profile_image': False, 'following': True, 'follow_request_sent': False, 'notifications': False, 'translator_type': 'none'}, 'geo': None, 'coordinates': None, 'place': None, 'contributors': None, 'retweeted_status': {'created_at': 'Mon Mar 29 20:11:46 +0000 2021', 'id': 1376628168333914114, 'id_str': '1376628168333914114', 'text': \"No wonder cryptocurrency markets were so lackluster last week: There just wasn't much appetite from investors to pu… https://t.co/22lMGCSL4z\", 'truncated': True, 'entities': {'hashtags': [], 'symbols': [], 'user_mentions': [], 'urls': [{'url': 'https://t.co/22lMGCSL4z', 'expanded_url': 'https://twitter.com/i/web/status/1376628168333914114', 'display_url': 'twitter.com/i/web/status/1…', 'indices': [117, 140]}]}, 'source': '<a href=\"http://www.socialflow.com\" rel=\"nofollow\">SocialFlow</a>', 'in_reply_to_status_id': None, 'in_reply_to_status_id_str': None, 'in_reply_to_user_id': None, 'in_reply_to_user_id_str': None, 'in_reply_to_screen_name': None, 'user': {'id': 956155022957531137, 'id_str': '956155022957531137', 'name': 'CoinDesk Markets', 'screen_name': 'CoinDeskMarkets', 'location': 'New York, NY', 'description': 'Official @CoinDesk markets channel for cryptocurrencies, #bitcoin, digital finance and Web 3.0.', 'url': 'https://t.co/voQSwZK8Qa', 'entities': {'url': {'urls': [{'url': 'https://t.co/voQSwZK8Qa', 'expanded_url': 'http://www.coindesk.com', 'display_url': 'coindesk.com', 'indices': [0, 23]}]}, 'description': {'urls': []}}, 'protected': False, 'followers_count': 48384, 'friends_count': 712, 'listed_count': 981, 'created_at': 'Wed Jan 24 13:21:36 +0000 2018', 'favourites_count': 2194, 'utc_offset': None, 'time_zone': None, 'geo_enabled': False, 'verified': False, 'statuses_count': 16993, 'lang': None, 'contributors_enabled': False, 'is_translator': False, 'is_translation_enabled': False, 'profile_background_color': '000000', 'profile_background_image_url': 'http://abs.twimg.com/images/themes/theme1/bg.png', 'profile_background_image_url_https': 'https://abs.twimg.com/images/themes/theme1/bg.png', 'profile_background_tile': False, 'profile_image_url': 'http://pbs.twimg.com/profile_images/1282447555352297475/tTwjHs8X_normal.jpg', 'profile_image_url_https': 'https://pbs.twimg.com/profile_images/1282447555352297475/tTwjHs8X_normal.jpg', 'profile_banner_url': 'https://pbs.twimg.com/profile_banners/956155022957531137/1594594325', 'profile_link_color': '19CF86', 'profile_sidebar_border_color': '000000', 'profile_sidebar_fill_color': '000000', 'profile_text_color': '000000', 'profile_use_background_image': False, 'has_extended_profile': False, 'default_profile': False, 'default_profile_image': False, 'following': False, 'follow_request_sent': False, 'notifications': False, 'translator_type': 'none'}, 'geo': None, 'coordinates': None, 'place': None, 'contributors': None, 'is_quote_status': False, 'retweet_count': 10, 'favorite_count': 25, 'favorited': False, 'retweeted': False, 'possibly_sensitive': False, 'possibly_sensitive_appealable': False, 'lang': 'en'}, 'is_quote_status': False, 'retweet_count': 10, 'favorite_count': 0, 'favorited': False, 'retweeted': False, 'lang': 'en'}, created_at=datetime.datetime(2021, 3, 29, 20, 11, 52), id=1376628193067732994, id_str='1376628193067732994', text=\"RT @CoinDeskMarkets: No wonder cryptocurrency markets were so lackluster last week: There just wasn't much appetite from investors to put n…\", truncated=False, entities={'hashtags': [], 'symbols': [], 'user_mentions': [{'screen_name': 'CoinDeskMarkets', 'name': 'CoinDesk Markets', 'id': 956155022957531137, 'id_str': '956155022957531137', 'indices': [3, 19]}], 'urls': []}, source='SocialFlow', source_url='http://www.socialflow.com', in_reply_to_status_id=None, in_reply_to_status_id_str=None, in_reply_to_user_id=None, in_reply_to_user_id_str=None, in_reply_to_screen_name=None, author=User(_api=<tweepy.api.API object at 0x7fb49984e250>, _json={'id': 1333467482, 'id_str': '1333467482', 'name': 'CoinDesk', 'screen_name': 'CoinDesk', 'location': 'New York, USA', 'description': 'Welcome to the conversation on the future of money and Web 3.0. Follow Markets @CoinDeskMarkets + Research @CoinDeskData.', 'url': 'https://t.co/voQSwZsxYC', 'entities': {'url': {'urls': [{'url': 'https://t.co/voQSwZsxYC', 'expanded_url': 'http://www.coindesk.com', 'display_url': 'coindesk.com', 'indices': [0, 23]}]}, 'description': {'urls': []}}, 'protected': False, 'followers_count': 1226404, 'friends_count': 1287, 'listed_count': 12733, 'created_at': 'Sun Apr 07 07:50:08 +0000 2013', 'favourites_count': 4902, 'utc_offset': None, 'time_zone': None, 'geo_enabled': True, 'verified': True, 'statuses_count': 77219, 'lang': None, 'contributors_enabled': False, 'is_translator': False, 'is_translation_enabled': False, 'profile_background_color': '000000', 'profile_background_image_url': 'http://abs.twimg.com/images/themes/theme1/bg.png', 'profile_background_image_url_https': 'https://abs.twimg.com/images/themes/theme1/bg.png', 'profile_background_tile': False, 'profile_image_url': 'http://pbs.twimg.com/profile_images/1273411415215411202/9HeiHTVY_normal.jpg', 'profile_image_url_https': 'https://pbs.twimg.com/profile_images/1273411415215411202/9HeiHTVY_normal.jpg', 'profile_banner_url': 'https://pbs.twimg.com/profile_banners/1333467482/1592439922', 'profile_link_color': '0084B4', 'profile_sidebar_border_color': '000000', 'profile_sidebar_fill_color': 'DDEEF6', 'profile_text_color': '333333', 'profile_use_background_image': True, 'has_extended_profile': False, 'default_profile': False, 'default_profile_image': False, 'following': True, 'follow_request_sent': False, 'notifications': False, 'translator_type': 'none'}, id=1333467482, id_str='1333467482', name='CoinDesk', screen_name='CoinDesk', location='New York, USA', description='Welcome to the conversation on the future of money and Web 3.0. Follow Markets @CoinDeskMarkets + Research @CoinDeskData.', url='https://t.co/voQSwZsxYC', entities={'url': {'urls': [{'url': 'https://t.co/voQSwZsxYC', 'expanded_url': 'http://www.coindesk.com', 'display_url': 'coindesk.com', 'indices': [0, 23]}]}, 'description': {'urls': []}}, protected=False, followers_count=1226404, friends_count=1287, listed_count=12733, created_at=datetime.datetime(2013, 4, 7, 7, 50, 8), favourites_count=4902, utc_offset=None, time_zone=None, geo_enabled=True, verified=True, statuses_count=77219, lang=None, contributors_enabled=False, is_translator=False, is_translation_enabled=False, profile_background_color='000000', profile_background_image_url='http://abs.twimg.com/images/themes/theme1/bg.png', profile_background_image_url_https='https://abs.twimg.com/images/themes/theme1/bg.png', profile_background_tile=False, profile_image_url='http://pbs.twimg.com/profile_images/1273411415215411202/9HeiHTVY_normal.jpg', profile_image_url_https='https://pbs.twimg.com/profile_images/1273411415215411202/9HeiHTVY_normal.jpg', profile_banner_url='https://pbs.twimg.com/profile_banners/1333467482/1592439922', profile_link_color='0084B4', profile_sidebar_border_color='000000', profile_sidebar_fill_color='DDEEF6', profile_text_color='333333', profile_use_background_image=True, has_extended_profile=False, default_profile=False, default_profile_image=False, following=True, follow_request_sent=False, notifications=False, translator_type='none'), user=User(_api=<tweepy.api.API object at 0x7fb49984e250>, _json={'id': 1333467482, 'id_str': '1333467482', 'name': 'CoinDesk', 'screen_name': 'CoinDesk', 'location': 'New York, USA', 'description': 'Welcome to the conversation on the future of money and Web 3.0. Follow Markets @CoinDeskMarkets + Research @CoinDeskData.', 'url': 'https://t.co/voQSwZsxYC', 'entities': {'url': {'urls': [{'url': 'https://t.co/voQSwZsxYC', 'expanded_url': 'http://www.coindesk.com', 'display_url': 'coindesk.com', 'indices': [0, 23]}]}, 'description': {'urls': []}}, 'protected': False, 'followers_count': 1226404, 'friends_count': 1287, 'listed_count': 12733, 'created_at': 'Sun Apr 07 07:50:08 +0000 2013', 'favourites_count': 4902, 'utc_offset': None, 'time_zone': None, 'geo_enabled': True, 'verified': True, 'statuses_count': 77219, 'lang': None, 'contributors_enabled': False, 'is_translator': False, 'is_translation_enabled': False, 'profile_background_color': '000000', 'profile_background_image_url': 'http://abs.twimg.com/images/themes/theme1/bg.png', 'profile_background_image_url_https': 'https://abs.twimg.com/images/themes/theme1/bg.png', 'profile_background_tile': False, 'profile_image_url': 'http://pbs.twimg.com/profile_images/1273411415215411202/9HeiHTVY_normal.jpg', 'profile_image_url_https': 'https://pbs.twimg.com/profile_images/1273411415215411202/9HeiHTVY_normal.jpg', 'profile_banner_url': 'https://pbs.twimg.com/profile_banners/1333467482/1592439922', 'profile_link_color': '0084B4', 'profile_sidebar_border_color': '000000', 'profile_sidebar_fill_color': 'DDEEF6', 'profile_text_color': '333333', 'profile_use_background_image': True, 'has_extended_profile': False, 'default_profile': False, 'default_profile_image': False, 'following': True, 'follow_request_sent': False, 'notifications': False, 'translator_type': 'none'}, id=1333467482, id_str='1333467482', name='CoinDesk', screen_name='CoinDesk', location='New York, USA', description='Welcome to the conversation on the future of money and Web 3.0. Follow Markets @CoinDeskMarkets + Research @CoinDeskData.', url='https://t.co/voQSwZsxYC', entities={'url': {'urls': [{'url': 'https://t.co/voQSwZsxYC', 'expanded_url': 'http://www.coindesk.com', 'display_url': 'coindesk.com', 'indices': [0, 23]}]}, 'description': {'urls': []}}, protected=False, followers_count=1226404, friends_count=1287, listed_count=12733, created_at=datetime.datetime(2013, 4, 7, 7, 50, 8), favourites_count=4902, utc_offset=None, time_zone=None, geo_enabled=True, verified=True, statuses_count=77219, lang=None, contributors_enabled=False, is_translator=False, is_translation_enabled=False, profile_background_color='000000', profile_background_image_url='http://abs.twimg.com/images/themes/theme1/bg.png', profile_background_image_url_https='https://abs.twimg.com/images/themes/theme1/bg.png', profile_background_tile=False, profile_image_url='http://pbs.twimg.com/profile_images/1273411415215411202/9HeiHTVY_normal.jpg', profile_image_url_https='https://pbs.twimg.com/profile_images/1273411415215411202/9HeiHTVY_normal.jpg', profile_banner_url='https://pbs.twimg.com/profile_banners/1333467482/1592439922', profile_link_color='0084B4', profile_sidebar_border_color='000000', profile_sidebar_fill_color='DDEEF6', profile_text_color='333333', profile_use_background_image=True, has_extended_profile=False, default_profile=False, default_profile_image=False, following=True, follow_request_sent=False, notifications=False, translator_type='none'), geo=None, coordinates=None, place=None, contributors=None, retweeted_status=Status(_api=<tweepy.api.API object at 0x7fb49984e250>, _json={'created_at': 'Mon Mar 29 20:11:46 +0000 2021', 'id': 1376628168333914114, 'id_str': '1376628168333914114', 'text': \"No wonder cryptocurrency markets were so lackluster last week: There just wasn't much appetite from investors to pu… https://t.co/22lMGCSL4z\", 'truncated': True, 'entities': {'hashtags': [], 'symbols': [], 'user_mentions': [], 'urls': [{'url': 'https://t.co/22lMGCSL4z', 'expanded_url': 'https://twitter.com/i/web/status/1376628168333914114', 'display_url': 'twitter.com/i/web/status/1…', 'indices': [117, 140]}]}, 'source': '<a href=\"http://www.socialflow.com\" rel=\"nofollow\">SocialFlow</a>', 'in_reply_to_status_id': None, 'in_reply_to_status_id_str': None, 'in_reply_to_user_id': None, 'in_reply_to_user_id_str': None, 'in_reply_to_screen_name': None, 'user': {'id': 956155022957531137, 'id_str': '956155022957531137', 'name': 'CoinDesk Markets', 'screen_name': 'CoinDeskMarkets', 'location': 'New York, NY', 'description': 'Official @CoinDesk markets channel for cryptocurrencies, #bitcoin, digital finance and Web 3.0.', 'url': 'https://t.co/voQSwZK8Qa', 'entities': {'url': {'urls': [{'url': 'https://t.co/voQSwZK8Qa', 'expanded_url': 'http://www.coindesk.com', 'display_url': 'coindesk.com', 'indices': [0, 23]}]}, 'description': {'urls': []}}, 'protected': False, 'followers_count': 48384, 'friends_count': 712, 'listed_count': 981, 'created_at': 'Wed Jan 24 13:21:36 +0000 2018', 'favourites_count': 2194, 'utc_offset': None, 'time_zone': None, 'geo_enabled': False, 'verified': False, 'statuses_count': 16993, 'lang': None, 'contributors_enabled': False, 'is_translator': False, 'is_translation_enabled': False, 'profile_background_color': '000000', 'profile_background_image_url': 'http://abs.twimg.com/images/themes/theme1/bg.png', 'profile_background_image_url_https': 'https://abs.twimg.com/images/themes/theme1/bg.png', 'profile_background_tile': False, 'profile_image_url': 'http://pbs.twimg.com/profile_images/1282447555352297475/tTwjHs8X_normal.jpg', 'profile_image_url_https': 'https://pbs.twimg.com/profile_images/1282447555352297475/tTwjHs8X_normal.jpg', 'profile_banner_url': 'https://pbs.twimg.com/profile_banners/956155022957531137/1594594325', 'profile_link_color': '19CF86', 'profile_sidebar_border_color': '000000', 'profile_sidebar_fill_color': '000000', 'profile_text_color': '000000', 'profile_use_background_image': False, 'has_extended_profile': False, 'default_profile': False, 'default_profile_image': False, 'following': False, 'follow_request_sent': False, 'notifications': False, 'translator_type': 'none'}, 'geo': None, 'coordinates': None, 'place': None, 'contributors': None, 'is_quote_status': False, 'retweet_count': 10, 'favorite_count': 25, 'favorited': False, 'retweeted': False, 'possibly_sensitive': False, 'possibly_sensitive_appealable': False, 'lang': 'en'}, created_at=datetime.datetime(2021, 3, 29, 20, 11, 46), id=1376628168333914114, id_str='1376628168333914114', text=\"No wonder cryptocurrency markets were so lackluster last week: There just wasn't much appetite from investors to pu… https://t.co/22lMGCSL4z\", truncated=True, entities={'hashtags': [], 'symbols': [], 'user_mentions': [], 'urls': [{'url': 'https://t.co/22lMGCSL4z', 'expanded_url': 'https://twitter.com/i/web/status/1376628168333914114', 'display_url': 'twitter.com/i/web/status/1…', 'indices': [117, 140]}]}, source='SocialFlow', source_url='http://www.socialflow.com', in_reply_to_status_id=None, in_reply_to_status_id_str=None, in_reply_to_user_id=None, in_reply_to_user_id_str=None, in_reply_to_screen_name=None, author=User(_api=<tweepy.api.API object at 0x7fb49984e250>, _json={'id': 956155022957531137, 'id_str': '956155022957531137', 'name': 'CoinDesk Markets', 'screen_name': 'CoinDeskMarkets', 'location': 'New York, NY', 'description': 'Official @CoinDesk markets channel for cryptocurrencies, #bitcoin, digital finance and Web 3.0.', 'url': 'https://t.co/voQSwZK8Qa', 'entities': {'url': {'urls': [{'url': 'https://t.co/voQSwZK8Qa', 'expanded_url': 'http://www.coindesk.com', 'display_url': 'coindesk.com', 'indices': [0, 23]}]}, 'description': {'urls': []}}, 'protected': False, 'followers_count': 48384, 'friends_count': 712, 'listed_count': 981, 'created_at': 'Wed Jan 24 13:21:36 +0000 2018', 'favourites_count': 2194, 'utc_offset': None, 'time_zone': None, 'geo_enabled': False, 'verified': False, 'statuses_count': 16993, 'lang': None, 'contributors_enabled': False, 'is_translator': False, 'is_translation_enabled': False, 'profile_background_color': '000000', 'profile_background_image_url': 'http://abs.twimg.com/images/themes/theme1/bg.png', 'profile_background_image_url_https': 'https://abs.twimg.com/images/themes/theme1/bg.png', 'profile_background_tile': False, 'profile_image_url': 'http://pbs.twimg.com/profile_images/1282447555352297475/tTwjHs8X_normal.jpg', 'profile_image_url_https': 'https://pbs.twimg.com/profile_images/1282447555352297475/tTwjHs8X_normal.jpg', 'profile_banner_url': 'https://pbs.twimg.com/profile_banners/956155022957531137/1594594325', 'profile_link_color': '19CF86', 'profile_sidebar_border_color': '000000', 'profile_sidebar_fill_color': '000000', 'profile_text_color': '000000', 'profile_use_background_image': False, 'has_extended_profile': False, 'default_profile': False, 'default_profile_image': False, 'following': False, 'follow_request_sent': False, 'notifications': False, 'translator_type': 'none'}, id=956155022957531137, id_str='956155022957531137', name='CoinDesk Markets', screen_name='CoinDeskMarkets', location='New York, NY', description='Official @CoinDesk markets channel for cryptocurrencies, #bitcoin, digital finance and Web 3.0.', url='https://t.co/voQSwZK8Qa', entities={'url': {'urls': [{'url': 'https://t.co/voQSwZK8Qa', 'expanded_url': 'http://www.coindesk.com', 'display_url': 'coindesk.com', 'indices': [0, 23]}]}, 'description': {'urls': []}}, protected=False, followers_count=48384, friends_count=712, listed_count=981, created_at=datetime.datetime(2018, 1, 24, 13, 21, 36), favourites_count=2194, utc_offset=None, time_zone=None, geo_enabled=False, verified=False, statuses_count=16993, lang=None, contributors_enabled=False, is_translator=False, is_translation_enabled=False, profile_background_color='000000', profile_background_image_url='http://abs.twimg.com/images/themes/theme1/bg.png', profile_background_image_url_https='https://abs.twimg.com/images/themes/theme1/bg.png', profile_background_tile=False, profile_image_url='http://pbs.twimg.com/profile_images/1282447555352297475/tTwjHs8X_normal.jpg', profile_image_url_https='https://pbs.twimg.com/profile_images/1282447555352297475/tTwjHs8X_normal.jpg', profile_banner_url='https://pbs.twimg.com/profile_banners/956155022957531137/1594594325', profile_link_color='19CF86', profile_sidebar_border_color='000000', profile_sidebar_fill_color='000000', profile_text_color='000000', profile_use_background_image=False, has_extended_profile=False, default_profile=False, default_profile_image=False, following=False, follow_request_sent=False, notifications=False, translator_type='none'), user=User(_api=<tweepy.api.API object at 0x7fb49984e250>, _json={'id': 956155022957531137, 'id_str': '956155022957531137', 'name': 'CoinDesk Markets', 'screen_name': 'CoinDeskMarkets', 'location': 'New York, NY', 'description': 'Official @CoinDesk markets channel for cryptocurrencies, #bitcoin, digital finance and Web 3.0.', 'url': 'https://t.co/voQSwZK8Qa', 'entities': {'url': {'urls': [{'url': 'https://t.co/voQSwZK8Qa', 'expanded_url': 'http://www.coindesk.com', 'display_url': 'coindesk.com', 'indices': [0, 23]}]}, 'description': {'urls': []}}, 'protected': False, 'followers_count': 48384, 'friends_count': 712, 'listed_count': 981, 'created_at': 'Wed Jan 24 13:21:36 +0000 2018', 'favourites_count': 2194, 'utc_offset': None, 'time_zone': None, 'geo_enabled': False, 'verified': False, 'statuses_count': 16993, 'lang': None, 'contributors_enabled': False, 'is_translator': False, 'is_translation_enabled': False, 'profile_background_color': '000000', 'profile_background_image_url': 'http://abs.twimg.com/images/themes/theme1/bg.png', 'profile_background_image_url_https': 'https://abs.twimg.com/images/themes/theme1/bg.png', 'profile_background_tile': False, 'profile_image_url': 'http://pbs.twimg.com/profile_images/1282447555352297475/tTwjHs8X_normal.jpg', 'profile_image_url_https': 'https://pbs.twimg.com/profile_images/1282447555352297475/tTwjHs8X_normal.jpg', 'profile_banner_url': 'https://pbs.twimg.com/profile_banners/956155022957531137/1594594325', 'profile_link_color': '19CF86', 'profile_sidebar_border_color': '000000', 'profile_sidebar_fill_color': '000000', 'profile_text_color': '000000', 'profile_use_background_image': False, 'has_extended_profile': False, 'default_profile': False, 'default_profile_image': False, 'following': False, 'follow_request_sent': False, 'notifications': False, 'translator_type': 'none'}, id=956155022957531137, id_str='956155022957531137', name='CoinDesk Markets', screen_name='CoinDeskMarkets', location='New York, NY', description='Official @CoinDesk markets channel for cryptocurrencies, #bitcoin, digital finance and Web 3.0.', url='https://t.co/voQSwZK8Qa', entities={'url': {'urls': [{'url': 'https://t.co/voQSwZK8Qa', 'expanded_url': 'http://www.coindesk.com', 'display_url': 'coindesk.com', 'indices': [0, 23]}]}, 'description': {'urls': []}}, protected=False, followers_count=48384, friends_count=712, listed_count=981, created_at=datetime.datetime(2018, 1, 24, 13, 21, 36), favourites_count=2194, utc_offset=None, time_zone=None, geo_enabled=False, verified=False, statuses_count=16993, lang=None, contributors_enabled=False, is_translator=False, is_translation_enabled=False, profile_background_color='000000', profile_background_image_url='http://abs.twimg.com/images/themes/theme1/bg.png', profile_background_image_url_https='https://abs.twimg.com/images/themes/theme1/bg.png', profile_background_tile=False, profile_image_url='http://pbs.twimg.com/profile_images/1282447555352297475/tTwjHs8X_normal.jpg', profile_image_url_https='https://pbs.twimg.com/profile_images/1282447555352297475/tTwjHs8X_normal.jpg', profile_banner_url='https://pbs.twimg.com/profile_banners/956155022957531137/1594594325', profile_link_color='19CF86', profile_sidebar_border_color='000000', profile_sidebar_fill_color='000000', profile_text_color='000000', profile_use_background_image=False, has_extended_profile=False, default_profile=False, default_profile_image=False, following=False, follow_request_sent=False, notifications=False, translator_type='none'), geo=None, coordinates=None, place=None, contributors=None, is_quote_status=False, retweet_count=10, favorite_count=25, favorited=False, retweeted=False, possibly_sensitive=False, possibly_sensitive_appealable=False, lang='en'), is_quote_status=False, retweet_count=10, favorite_count=0, favorited=False, retweeted=False, lang='en'),\n",
       " Status(_api=<tweepy.api.API object at 0x7fb49984e250>, _json={'created_at': 'Mon Mar 29 20:11:01 +0000 2021', 'id': 1376627980005482496, 'id_str': '1376627980005482496', 'text': 'RT @el_pais: 🔴ÚLTIMA HORA | Londres no registra ningún muerto por covid en un día por primera vez en seis meses https://t.co/3AwIqoVvlR htt…', 'truncated': False, 'entities': {'hashtags': [], 'symbols': [], 'user_mentions': [{'screen_name': 'el_pais', 'name': 'EL PAÍS', 'id': 7996082, 'id_str': '7996082', 'indices': [3, 11]}], 'urls': [{'url': 'https://t.co/3AwIqoVvlR', 'expanded_url': 'https://bit.ly/31w3ZdM', 'display_url': 'bit.ly/31w3ZdM', 'indices': [112, 135]}]}, 'source': '<a href=\"http://twitter.com/download/iphone\" rel=\"nofollow\">Twitter for iPhone</a>', 'in_reply_to_status_id': None, 'in_reply_to_status_id_str': None, 'in_reply_to_user_id': None, 'in_reply_to_user_id_str': None, 'in_reply_to_screen_name': None, 'user': {'id': 348556812, 'id_str': '348556812', 'name': 'Rene Garcia', 'screen_name': 'renegarcia900', 'location': '', 'description': '', 'url': None, 'entities': {'description': {'urls': []}}, 'protected': False, 'followers_count': 152602, 'friends_count': 894, 'listed_count': 207, 'created_at': 'Thu Aug 04 16:38:33 +0000 2011', 'favourites_count': 88085, 'utc_offset': None, 'time_zone': None, 'geo_enabled': False, 'verified': False, 'statuses_count': 24431, 'lang': None, 'contributors_enabled': False, 'is_translator': False, 'is_translation_enabled': False, 'profile_background_color': 'C0DEED', 'profile_background_image_url': 'http://abs.twimg.com/images/themes/theme1/bg.png', 'profile_background_image_url_https': 'https://abs.twimg.com/images/themes/theme1/bg.png', 'profile_background_tile': False, 'profile_image_url': 'http://pbs.twimg.com/profile_images/1346839084698746881/vorD9UcM_normal.jpg', 'profile_image_url_https': 'https://pbs.twimg.com/profile_images/1346839084698746881/vorD9UcM_normal.jpg', 'profile_banner_url': 'https://pbs.twimg.com/profile_banners/348556812/1554494305', 'profile_link_color': '1DA1F2', 'profile_sidebar_border_color': 'C0DEED', 'profile_sidebar_fill_color': 'DDEEF6', 'profile_text_color': '333333', 'profile_use_background_image': True, 'has_extended_profile': False, 'default_profile': True, 'default_profile_image': False, 'following': True, 'follow_request_sent': False, 'notifications': False, 'translator_type': 'none'}, 'geo': None, 'coordinates': None, 'place': None, 'contributors': None, 'retweeted_status': {'created_at': 'Mon Mar 29 12:02:25 +0000 2021', 'id': 1376505021299367938, 'id_str': '1376505021299367938', 'text': '🔴ÚLTIMA HORA | Londres no registra ningún muerto por covid en un día por primera vez en seis meses… https://t.co/IN8HPzAR5S', 'truncated': True, 'entities': {'hashtags': [], 'symbols': [], 'user_mentions': [], 'urls': [{'url': 'https://t.co/IN8HPzAR5S', 'expanded_url': 'https://twitter.com/i/web/status/1376505021299367938', 'display_url': 'twitter.com/i/web/status/1…', 'indices': [100, 123]}]}, 'source': '<a href=\"https://studio.twitter.com\" rel=\"nofollow\">Twitter Media Studio</a>', 'in_reply_to_status_id': None, 'in_reply_to_status_id_str': None, 'in_reply_to_user_id': None, 'in_reply_to_user_id_str': None, 'in_reply_to_screen_name': None, 'user': {'id': 7996082, 'id_str': '7996082', 'name': 'EL PAÍS', 'screen_name': 'el_pais', 'location': 'Madrid', 'description': 'La mejor información en español. Con nuestra mirada puesta en España, Europa y América. Suscríbete a los hechos: https://t.co/9NNCHlsu3H\\nAyuda: @elpais_mas', 'url': 'https://t.co/0o6oj1LRF2', 'entities': {'url': {'urls': [{'url': 'https://t.co/0o6oj1LRF2', 'expanded_url': 'http://www.elpais.com', 'display_url': 'elpais.com', 'indices': [0, 23]}]}, 'description': {'urls': [{'url': 'https://t.co/9NNCHlsu3H', 'expanded_url': 'http://bit.ly/39BdXwN', 'display_url': 'bit.ly/39BdXwN', 'indices': [113, 136]}]}}, 'protected': False, 'followers_count': 8020660, 'friends_count': 788, 'listed_count': 56974, 'created_at': 'Mon Aug 06 16:20:09 +0000 2007', 'favourites_count': 1869, 'utc_offset': None, 'time_zone': None, 'geo_enabled': True, 'verified': True, 'statuses_count': 614268, 'lang': None, 'contributors_enabled': False, 'is_translator': False, 'is_translation_enabled': True, 'profile_background_color': 'FFFFFF', 'profile_background_image_url': 'http://abs.twimg.com/images/themes/theme1/bg.png', 'profile_background_image_url_https': 'https://abs.twimg.com/images/themes/theme1/bg.png', 'profile_background_tile': False, 'profile_image_url': 'http://pbs.twimg.com/profile_images/1236548818402971648/F-pcFaq6_normal.jpg', 'profile_image_url_https': 'https://pbs.twimg.com/profile_images/1236548818402971648/F-pcFaq6_normal.jpg', 'profile_banner_url': 'https://pbs.twimg.com/profile_banners/7996082/1583651188', 'profile_link_color': '0084B4', 'profile_sidebar_border_color': 'FFFFFF', 'profile_sidebar_fill_color': 'F1F4F9', 'profile_text_color': '333333', 'profile_use_background_image': False, 'has_extended_profile': True, 'default_profile': False, 'default_profile_image': False, 'following': False, 'follow_request_sent': False, 'notifications': False, 'translator_type': 'none'}, 'geo': None, 'coordinates': None, 'place': None, 'contributors': None, 'is_quote_status': False, 'retweet_count': 6198, 'favorite_count': 32315, 'favorited': False, 'retweeted': False, 'possibly_sensitive': False, 'possibly_sensitive_appealable': False, 'lang': 'es'}, 'is_quote_status': False, 'retweet_count': 6198, 'favorite_count': 0, 'favorited': False, 'retweeted': False, 'possibly_sensitive': False, 'possibly_sensitive_appealable': False, 'lang': 'es'}, created_at=datetime.datetime(2021, 3, 29, 20, 11, 1), id=1376627980005482496, id_str='1376627980005482496', text='RT @el_pais: 🔴ÚLTIMA HORA | Londres no registra ningún muerto por covid en un día por primera vez en seis meses https://t.co/3AwIqoVvlR htt…', truncated=False, entities={'hashtags': [], 'symbols': [], 'user_mentions': [{'screen_name': 'el_pais', 'name': 'EL PAÍS', 'id': 7996082, 'id_str': '7996082', 'indices': [3, 11]}], 'urls': [{'url': 'https://t.co/3AwIqoVvlR', 'expanded_url': 'https://bit.ly/31w3ZdM', 'display_url': 'bit.ly/31w3ZdM', 'indices': [112, 135]}]}, source='Twitter for iPhone', source_url='http://twitter.com/download/iphone', in_reply_to_status_id=None, in_reply_to_status_id_str=None, in_reply_to_user_id=None, in_reply_to_user_id_str=None, in_reply_to_screen_name=None, author=User(_api=<tweepy.api.API object at 0x7fb49984e250>, _json={'id': 348556812, 'id_str': '348556812', 'name': 'Rene Garcia', 'screen_name': 'renegarcia900', 'location': '', 'description': '', 'url': None, 'entities': {'description': {'urls': []}}, 'protected': False, 'followers_count': 152602, 'friends_count': 894, 'listed_count': 207, 'created_at': 'Thu Aug 04 16:38:33 +0000 2011', 'favourites_count': 88085, 'utc_offset': None, 'time_zone': None, 'geo_enabled': False, 'verified': False, 'statuses_count': 24431, 'lang': None, 'contributors_enabled': False, 'is_translator': False, 'is_translation_enabled': False, 'profile_background_color': 'C0DEED', 'profile_background_image_url': 'http://abs.twimg.com/images/themes/theme1/bg.png', 'profile_background_image_url_https': 'https://abs.twimg.com/images/themes/theme1/bg.png', 'profile_background_tile': False, 'profile_image_url': 'http://pbs.twimg.com/profile_images/1346839084698746881/vorD9UcM_normal.jpg', 'profile_image_url_https': 'https://pbs.twimg.com/profile_images/1346839084698746881/vorD9UcM_normal.jpg', 'profile_banner_url': 'https://pbs.twimg.com/profile_banners/348556812/1554494305', 'profile_link_color': '1DA1F2', 'profile_sidebar_border_color': 'C0DEED', 'profile_sidebar_fill_color': 'DDEEF6', 'profile_text_color': '333333', 'profile_use_background_image': True, 'has_extended_profile': False, 'default_profile': True, 'default_profile_image': False, 'following': True, 'follow_request_sent': False, 'notifications': False, 'translator_type': 'none'}, id=348556812, id_str='348556812', name='Rene Garcia', screen_name='renegarcia900', location='', description='', url=None, entities={'description': {'urls': []}}, protected=False, followers_count=152602, friends_count=894, listed_count=207, created_at=datetime.datetime(2011, 8, 4, 16, 38, 33), favourites_count=88085, utc_offset=None, time_zone=None, geo_enabled=False, verified=False, statuses_count=24431, lang=None, contributors_enabled=False, is_translator=False, is_translation_enabled=False, profile_background_color='C0DEED', profile_background_image_url='http://abs.twimg.com/images/themes/theme1/bg.png', profile_background_image_url_https='https://abs.twimg.com/images/themes/theme1/bg.png', profile_background_tile=False, profile_image_url='http://pbs.twimg.com/profile_images/1346839084698746881/vorD9UcM_normal.jpg', profile_image_url_https='https://pbs.twimg.com/profile_images/1346839084698746881/vorD9UcM_normal.jpg', profile_banner_url='https://pbs.twimg.com/profile_banners/348556812/1554494305', profile_link_color='1DA1F2', profile_sidebar_border_color='C0DEED', profile_sidebar_fill_color='DDEEF6', profile_text_color='333333', profile_use_background_image=True, has_extended_profile=False, default_profile=True, default_profile_image=False, following=True, follow_request_sent=False, notifications=False, translator_type='none'), user=User(_api=<tweepy.api.API object at 0x7fb49984e250>, _json={'id': 348556812, 'id_str': '348556812', 'name': 'Rene Garcia', 'screen_name': 'renegarcia900', 'location': '', 'description': '', 'url': None, 'entities': {'description': {'urls': []}}, 'protected': False, 'followers_count': 152602, 'friends_count': 894, 'listed_count': 207, 'created_at': 'Thu Aug 04 16:38:33 +0000 2011', 'favourites_count': 88085, 'utc_offset': None, 'time_zone': None, 'geo_enabled': False, 'verified': False, 'statuses_count': 24431, 'lang': None, 'contributors_enabled': False, 'is_translator': False, 'is_translation_enabled': False, 'profile_background_color': 'C0DEED', 'profile_background_image_url': 'http://abs.twimg.com/images/themes/theme1/bg.png', 'profile_background_image_url_https': 'https://abs.twimg.com/images/themes/theme1/bg.png', 'profile_background_tile': False, 'profile_image_url': 'http://pbs.twimg.com/profile_images/1346839084698746881/vorD9UcM_normal.jpg', 'profile_image_url_https': 'https://pbs.twimg.com/profile_images/1346839084698746881/vorD9UcM_normal.jpg', 'profile_banner_url': 'https://pbs.twimg.com/profile_banners/348556812/1554494305', 'profile_link_color': '1DA1F2', 'profile_sidebar_border_color': 'C0DEED', 'profile_sidebar_fill_color': 'DDEEF6', 'profile_text_color': '333333', 'profile_use_background_image': True, 'has_extended_profile': False, 'default_profile': True, 'default_profile_image': False, 'following': True, 'follow_request_sent': False, 'notifications': False, 'translator_type': 'none'}, id=348556812, id_str='348556812', name='Rene Garcia', screen_name='renegarcia900', location='', description='', url=None, entities={'description': {'urls': []}}, protected=False, followers_count=152602, friends_count=894, listed_count=207, created_at=datetime.datetime(2011, 8, 4, 16, 38, 33), favourites_count=88085, utc_offset=None, time_zone=None, geo_enabled=False, verified=False, statuses_count=24431, lang=None, contributors_enabled=False, is_translator=False, is_translation_enabled=False, profile_background_color='C0DEED', profile_background_image_url='http://abs.twimg.com/images/themes/theme1/bg.png', profile_background_image_url_https='https://abs.twimg.com/images/themes/theme1/bg.png', profile_background_tile=False, profile_image_url='http://pbs.twimg.com/profile_images/1346839084698746881/vorD9UcM_normal.jpg', profile_image_url_https='https://pbs.twimg.com/profile_images/1346839084698746881/vorD9UcM_normal.jpg', profile_banner_url='https://pbs.twimg.com/profile_banners/348556812/1554494305', profile_link_color='1DA1F2', profile_sidebar_border_color='C0DEED', profile_sidebar_fill_color='DDEEF6', profile_text_color='333333', profile_use_background_image=True, has_extended_profile=False, default_profile=True, default_profile_image=False, following=True, follow_request_sent=False, notifications=False, translator_type='none'), geo=None, coordinates=None, place=None, contributors=None, retweeted_status=Status(_api=<tweepy.api.API object at 0x7fb49984e250>, _json={'created_at': 'Mon Mar 29 12:02:25 +0000 2021', 'id': 1376505021299367938, 'id_str': '1376505021299367938', 'text': '🔴ÚLTIMA HORA | Londres no registra ningún muerto por covid en un día por primera vez en seis meses… https://t.co/IN8HPzAR5S', 'truncated': True, 'entities': {'hashtags': [], 'symbols': [], 'user_mentions': [], 'urls': [{'url': 'https://t.co/IN8HPzAR5S', 'expanded_url': 'https://twitter.com/i/web/status/1376505021299367938', 'display_url': 'twitter.com/i/web/status/1…', 'indices': [100, 123]}]}, 'source': '<a href=\"https://studio.twitter.com\" rel=\"nofollow\">Twitter Media Studio</a>', 'in_reply_to_status_id': None, 'in_reply_to_status_id_str': None, 'in_reply_to_user_id': None, 'in_reply_to_user_id_str': None, 'in_reply_to_screen_name': None, 'user': {'id': 7996082, 'id_str': '7996082', 'name': 'EL PAÍS', 'screen_name': 'el_pais', 'location': 'Madrid', 'description': 'La mejor información en español. Con nuestra mirada puesta en España, Europa y América. Suscríbete a los hechos: https://t.co/9NNCHlsu3H\\nAyuda: @elpais_mas', 'url': 'https://t.co/0o6oj1LRF2', 'entities': {'url': {'urls': [{'url': 'https://t.co/0o6oj1LRF2', 'expanded_url': 'http://www.elpais.com', 'display_url': 'elpais.com', 'indices': [0, 23]}]}, 'description': {'urls': [{'url': 'https://t.co/9NNCHlsu3H', 'expanded_url': 'http://bit.ly/39BdXwN', 'display_url': 'bit.ly/39BdXwN', 'indices': [113, 136]}]}}, 'protected': False, 'followers_count': 8020660, 'friends_count': 788, 'listed_count': 56974, 'created_at': 'Mon Aug 06 16:20:09 +0000 2007', 'favourites_count': 1869, 'utc_offset': None, 'time_zone': None, 'geo_enabled': True, 'verified': True, 'statuses_count': 614268, 'lang': None, 'contributors_enabled': False, 'is_translator': False, 'is_translation_enabled': True, 'profile_background_color': 'FFFFFF', 'profile_background_image_url': 'http://abs.twimg.com/images/themes/theme1/bg.png', 'profile_background_image_url_https': 'https://abs.twimg.com/images/themes/theme1/bg.png', 'profile_background_tile': False, 'profile_image_url': 'http://pbs.twimg.com/profile_images/1236548818402971648/F-pcFaq6_normal.jpg', 'profile_image_url_https': 'https://pbs.twimg.com/profile_images/1236548818402971648/F-pcFaq6_normal.jpg', 'profile_banner_url': 'https://pbs.twimg.com/profile_banners/7996082/1583651188', 'profile_link_color': '0084B4', 'profile_sidebar_border_color': 'FFFFFF', 'profile_sidebar_fill_color': 'F1F4F9', 'profile_text_color': '333333', 'profile_use_background_image': False, 'has_extended_profile': True, 'default_profile': False, 'default_profile_image': False, 'following': False, 'follow_request_sent': False, 'notifications': False, 'translator_type': 'none'}, 'geo': None, 'coordinates': None, 'place': None, 'contributors': None, 'is_quote_status': False, 'retweet_count': 6198, 'favorite_count': 32315, 'favorited': False, 'retweeted': False, 'possibly_sensitive': False, 'possibly_sensitive_appealable': False, 'lang': 'es'}, created_at=datetime.datetime(2021, 3, 29, 12, 2, 25), id=1376505021299367938, id_str='1376505021299367938', text='🔴ÚLTIMA HORA | Londres no registra ningún muerto por covid en un día por primera vez en seis meses… https://t.co/IN8HPzAR5S', truncated=True, entities={'hashtags': [], 'symbols': [], 'user_mentions': [], 'urls': [{'url': 'https://t.co/IN8HPzAR5S', 'expanded_url': 'https://twitter.com/i/web/status/1376505021299367938', 'display_url': 'twitter.com/i/web/status/1…', 'indices': [100, 123]}]}, source='Twitter Media Studio', source_url='https://studio.twitter.com', in_reply_to_status_id=None, in_reply_to_status_id_str=None, in_reply_to_user_id=None, in_reply_to_user_id_str=None, in_reply_to_screen_name=None, author=User(_api=<tweepy.api.API object at 0x7fb49984e250>, _json={'id': 7996082, 'id_str': '7996082', 'name': 'EL PAÍS', 'screen_name': 'el_pais', 'location': 'Madrid', 'description': 'La mejor información en español. Con nuestra mirada puesta en España, Europa y América. Suscríbete a los hechos: https://t.co/9NNCHlsu3H\\nAyuda: @elpais_mas', 'url': 'https://t.co/0o6oj1LRF2', 'entities': {'url': {'urls': [{'url': 'https://t.co/0o6oj1LRF2', 'expanded_url': 'http://www.elpais.com', 'display_url': 'elpais.com', 'indices': [0, 23]}]}, 'description': {'urls': [{'url': 'https://t.co/9NNCHlsu3H', 'expanded_url': 'http://bit.ly/39BdXwN', 'display_url': 'bit.ly/39BdXwN', 'indices': [113, 136]}]}}, 'protected': False, 'followers_count': 8020660, 'friends_count': 788, 'listed_count': 56974, 'created_at': 'Mon Aug 06 16:20:09 +0000 2007', 'favourites_count': 1869, 'utc_offset': None, 'time_zone': None, 'geo_enabled': True, 'verified': True, 'statuses_count': 614268, 'lang': None, 'contributors_enabled': False, 'is_translator': False, 'is_translation_enabled': True, 'profile_background_color': 'FFFFFF', 'profile_background_image_url': 'http://abs.twimg.com/images/themes/theme1/bg.png', 'profile_background_image_url_https': 'https://abs.twimg.com/images/themes/theme1/bg.png', 'profile_background_tile': False, 'profile_image_url': 'http://pbs.twimg.com/profile_images/1236548818402971648/F-pcFaq6_normal.jpg', 'profile_image_url_https': 'https://pbs.twimg.com/profile_images/1236548818402971648/F-pcFaq6_normal.jpg', 'profile_banner_url': 'https://pbs.twimg.com/profile_banners/7996082/1583651188', 'profile_link_color': '0084B4', 'profile_sidebar_border_color': 'FFFFFF', 'profile_sidebar_fill_color': 'F1F4F9', 'profile_text_color': '333333', 'profile_use_background_image': False, 'has_extended_profile': True, 'default_profile': False, 'default_profile_image': False, 'following': False, 'follow_request_sent': False, 'notifications': False, 'translator_type': 'none'}, id=7996082, id_str='7996082', name='EL PAÍS', screen_name='el_pais', location='Madrid', description='La mejor información en español. Con nuestra mirada puesta en España, Europa y América. Suscríbete a los hechos: https://t.co/9NNCHlsu3H\\nAyuda: @elpais_mas', url='https://t.co/0o6oj1LRF2', entities={'url': {'urls': [{'url': 'https://t.co/0o6oj1LRF2', 'expanded_url': 'http://www.elpais.com', 'display_url': 'elpais.com', 'indices': [0, 23]}]}, 'description': {'urls': [{'url': 'https://t.co/9NNCHlsu3H', 'expanded_url': 'http://bit.ly/39BdXwN', 'display_url': 'bit.ly/39BdXwN', 'indices': [113, 136]}]}}, protected=False, followers_count=8020660, friends_count=788, listed_count=56974, created_at=datetime.datetime(2007, 8, 6, 16, 20, 9), favourites_count=1869, utc_offset=None, time_zone=None, geo_enabled=True, verified=True, statuses_count=614268, lang=None, contributors_enabled=False, is_translator=False, is_translation_enabled=True, profile_background_color='FFFFFF', profile_background_image_url='http://abs.twimg.com/images/themes/theme1/bg.png', profile_background_image_url_https='https://abs.twimg.com/images/themes/theme1/bg.png', profile_background_tile=False, profile_image_url='http://pbs.twimg.com/profile_images/1236548818402971648/F-pcFaq6_normal.jpg', profile_image_url_https='https://pbs.twimg.com/profile_images/1236548818402971648/F-pcFaq6_normal.jpg', profile_banner_url='https://pbs.twimg.com/profile_banners/7996082/1583651188', profile_link_color='0084B4', profile_sidebar_border_color='FFFFFF', profile_sidebar_fill_color='F1F4F9', profile_text_color='333333', profile_use_background_image=False, has_extended_profile=True, default_profile=False, default_profile_image=False, following=False, follow_request_sent=False, notifications=False, translator_type='none'), user=User(_api=<tweepy.api.API object at 0x7fb49984e250>, _json={'id': 7996082, 'id_str': '7996082', 'name': 'EL PAÍS', 'screen_name': 'el_pais', 'location': 'Madrid', 'description': 'La mejor información en español. Con nuestra mirada puesta en España, Europa y América. Suscríbete a los hechos: https://t.co/9NNCHlsu3H\\nAyuda: @elpais_mas', 'url': 'https://t.co/0o6oj1LRF2', 'entities': {'url': {'urls': [{'url': 'https://t.co/0o6oj1LRF2', 'expanded_url': 'http://www.elpais.com', 'display_url': 'elpais.com', 'indices': [0, 23]}]}, 'description': {'urls': [{'url': 'https://t.co/9NNCHlsu3H', 'expanded_url': 'http://bit.ly/39BdXwN', 'display_url': 'bit.ly/39BdXwN', 'indices': [113, 136]}]}}, 'protected': False, 'followers_count': 8020660, 'friends_count': 788, 'listed_count': 56974, 'created_at': 'Mon Aug 06 16:20:09 +0000 2007', 'favourites_count': 1869, 'utc_offset': None, 'time_zone': None, 'geo_enabled': True, 'verified': True, 'statuses_count': 614268, 'lang': None, 'contributors_enabled': False, 'is_translator': False, 'is_translation_enabled': True, 'profile_background_color': 'FFFFFF', 'profile_background_image_url': 'http://abs.twimg.com/images/themes/theme1/bg.png', 'profile_background_image_url_https': 'https://abs.twimg.com/images/themes/theme1/bg.png', 'profile_background_tile': False, 'profile_image_url': 'http://pbs.twimg.com/profile_images/1236548818402971648/F-pcFaq6_normal.jpg', 'profile_image_url_https': 'https://pbs.twimg.com/profile_images/1236548818402971648/F-pcFaq6_normal.jpg', 'profile_banner_url': 'https://pbs.twimg.com/profile_banners/7996082/1583651188', 'profile_link_color': '0084B4', 'profile_sidebar_border_color': 'FFFFFF', 'profile_sidebar_fill_color': 'F1F4F9', 'profile_text_color': '333333', 'profile_use_background_image': False, 'has_extended_profile': True, 'default_profile': False, 'default_profile_image': False, 'following': False, 'follow_request_sent': False, 'notifications': False, 'translator_type': 'none'}, id=7996082, id_str='7996082', name='EL PAÍS', screen_name='el_pais', location='Madrid', description='La mejor información en español. Con nuestra mirada puesta en España, Europa y América. Suscríbete a los hechos: https://t.co/9NNCHlsu3H\\nAyuda: @elpais_mas', url='https://t.co/0o6oj1LRF2', entities={'url': {'urls': [{'url': 'https://t.co/0o6oj1LRF2', 'expanded_url': 'http://www.elpais.com', 'display_url': 'elpais.com', 'indices': [0, 23]}]}, 'description': {'urls': [{'url': 'https://t.co/9NNCHlsu3H', 'expanded_url': 'http://bit.ly/39BdXwN', 'display_url': 'bit.ly/39BdXwN', 'indices': [113, 136]}]}}, protected=False, followers_count=8020660, friends_count=788, listed_count=56974, created_at=datetime.datetime(2007, 8, 6, 16, 20, 9), favourites_count=1869, utc_offset=None, time_zone=None, geo_enabled=True, verified=True, statuses_count=614268, lang=None, contributors_enabled=False, is_translator=False, is_translation_enabled=True, profile_background_color='FFFFFF', profile_background_image_url='http://abs.twimg.com/images/themes/theme1/bg.png', profile_background_image_url_https='https://abs.twimg.com/images/themes/theme1/bg.png', profile_background_tile=False, profile_image_url='http://pbs.twimg.com/profile_images/1236548818402971648/F-pcFaq6_normal.jpg', profile_image_url_https='https://pbs.twimg.com/profile_images/1236548818402971648/F-pcFaq6_normal.jpg', profile_banner_url='https://pbs.twimg.com/profile_banners/7996082/1583651188', profile_link_color='0084B4', profile_sidebar_border_color='FFFFFF', profile_sidebar_fill_color='F1F4F9', profile_text_color='333333', profile_use_background_image=False, has_extended_profile=True, default_profile=False, default_profile_image=False, following=False, follow_request_sent=False, notifications=False, translator_type='none'), geo=None, coordinates=None, place=None, contributors=None, is_quote_status=False, retweet_count=6198, favorite_count=32315, favorited=False, retweeted=False, possibly_sensitive=False, possibly_sensitive_appealable=False, lang='es'), is_quote_status=False, retweet_count=6198, favorite_count=0, favorited=False, retweeted=False, possibly_sensitive=False, possibly_sensitive_appealable=False, lang='es'),\n",
       " Status(_api=<tweepy.api.API object at 0x7fb49984e250>, _json={'created_at': 'Mon Mar 29 20:09:52 +0000 2021', 'id': 1376627692167176197, 'id_str': '1376627692167176197', 'text': 'DOS DÍAS https://t.co/2lpg6Yxe0C', 'truncated': False, 'entities': {'hashtags': [], 'symbols': [], 'user_mentions': [], 'urls': [], 'media': [{'id': 1376627685703745538, 'id_str': '1376627685703745538', 'indices': [9, 32], 'media_url': 'http://pbs.twimg.com/media/ExrDliJXAAIuDKN.jpg', 'media_url_https': 'https://pbs.twimg.com/media/ExrDliJXAAIuDKN.jpg', 'url': 'https://t.co/2lpg6Yxe0C', 'display_url': 'pic.twitter.com/2lpg6Yxe0C', 'expanded_url': 'https://twitter.com/EvilAFM/status/1376627692167176197/photo/1', 'type': 'photo', 'sizes': {'thumb': {'w': 150, 'h': 150, 'resize': 'crop'}, 'large': {'w': 1280, 'h': 720, 'resize': 'fit'}, 'medium': {'w': 1200, 'h': 675, 'resize': 'fit'}, 'small': {'w': 680, 'h': 383, 'resize': 'fit'}}}]}, 'extended_entities': {'media': [{'id': 1376627685703745538, 'id_str': '1376627685703745538', 'indices': [9, 32], 'media_url': 'http://pbs.twimg.com/media/ExrDliJXAAIuDKN.jpg', 'media_url_https': 'https://pbs.twimg.com/media/ExrDliJXAAIuDKN.jpg', 'url': 'https://t.co/2lpg6Yxe0C', 'display_url': 'pic.twitter.com/2lpg6Yxe0C', 'expanded_url': 'https://twitter.com/EvilAFM/status/1376627692167176197/photo/1', 'type': 'photo', 'sizes': {'thumb': {'w': 150, 'h': 150, 'resize': 'crop'}, 'large': {'w': 1280, 'h': 720, 'resize': 'fit'}, 'medium': {'w': 1200, 'h': 675, 'resize': 'fit'}, 'small': {'w': 680, 'h': 383, 'resize': 'fit'}}}]}, 'source': '<a href=\"https://mobile.twitter.com\" rel=\"nofollow\">Twitter Web App</a>', 'in_reply_to_status_id': None, 'in_reply_to_status_id_str': None, 'in_reply_to_user_id': None, 'in_reply_to_user_id_str': None, 'in_reply_to_screen_name': None, 'user': {'id': 61879392, 'id_str': '61879392', 'name': 'Alexelcapo', 'screen_name': 'EvilAFM', 'location': 'Palma de Mallorca', 'description': 'Twitch: https://t.co/6bWLw8JNtc\\nInsta: https://t.co/rTRRK8QGQ1', 'url': 'https://t.co/FJpEpf2y49', 'entities': {'url': {'urls': [{'url': 'https://t.co/FJpEpf2y49', 'expanded_url': 'http://youtube.com/alexelcapo', 'display_url': 'youtube.com/alexelcapo', 'indices': [0, 23]}]}, 'description': {'urls': [{'url': 'https://t.co/6bWLw8JNtc', 'expanded_url': 'http://twitch.tv/alexelcapo', 'display_url': 'twitch.tv/alexelcapo', 'indices': [8, 31]}, {'url': 'https://t.co/rTRRK8QGQ1', 'expanded_url': 'http://instagram.com/alexelcapoyt', 'display_url': 'instagram.com/alexelcapoyt', 'indices': [39, 62]}]}}, 'protected': False, 'followers_count': 810025, 'friends_count': 251, 'listed_count': 1292, 'created_at': 'Fri Jul 31 21:27:58 +0000 2009', 'favourites_count': 3393, 'utc_offset': None, 'time_zone': None, 'geo_enabled': True, 'verified': True, 'statuses_count': 100121, 'lang': None, 'contributors_enabled': False, 'is_translator': False, 'is_translation_enabled': False, 'profile_background_color': '000000', 'profile_background_image_url': 'http://abs.twimg.com/images/themes/theme15/bg.png', 'profile_background_image_url_https': 'https://abs.twimg.com/images/themes/theme15/bg.png', 'profile_background_tile': False, 'profile_image_url': 'http://pbs.twimg.com/profile_images/1375404821495308299/6DF0ZTVs_normal.jpg', 'profile_image_url_https': 'https://pbs.twimg.com/profile_images/1375404821495308299/6DF0ZTVs_normal.jpg', 'profile_banner_url': 'https://pbs.twimg.com/profile_banners/61879392/1592913738', 'profile_link_color': '1B95E0', 'profile_sidebar_border_color': '000000', 'profile_sidebar_fill_color': '000000', 'profile_text_color': '000000', 'profile_use_background_image': False, 'has_extended_profile': True, 'default_profile': False, 'default_profile_image': False, 'following': True, 'follow_request_sent': False, 'notifications': False, 'translator_type': 'regular'}, 'geo': None, 'coordinates': None, 'place': None, 'contributors': None, 'is_quote_status': False, 'retweet_count': 158, 'favorite_count': 1569, 'favorited': False, 'retweeted': False, 'possibly_sensitive': False, 'possibly_sensitive_appealable': False, 'lang': 'es'}, created_at=datetime.datetime(2021, 3, 29, 20, 9, 52), id=1376627692167176197, id_str='1376627692167176197', text='DOS DÍAS https://t.co/2lpg6Yxe0C', truncated=False, entities={'hashtags': [], 'symbols': [], 'user_mentions': [], 'urls': [], 'media': [{'id': 1376627685703745538, 'id_str': '1376627685703745538', 'indices': [9, 32], 'media_url': 'http://pbs.twimg.com/media/ExrDliJXAAIuDKN.jpg', 'media_url_https': 'https://pbs.twimg.com/media/ExrDliJXAAIuDKN.jpg', 'url': 'https://t.co/2lpg6Yxe0C', 'display_url': 'pic.twitter.com/2lpg6Yxe0C', 'expanded_url': 'https://twitter.com/EvilAFM/status/1376627692167176197/photo/1', 'type': 'photo', 'sizes': {'thumb': {'w': 150, 'h': 150, 'resize': 'crop'}, 'large': {'w': 1280, 'h': 720, 'resize': 'fit'}, 'medium': {'w': 1200, 'h': 675, 'resize': 'fit'}, 'small': {'w': 680, 'h': 383, 'resize': 'fit'}}}]}, extended_entities={'media': [{'id': 1376627685703745538, 'id_str': '1376627685703745538', 'indices': [9, 32], 'media_url': 'http://pbs.twimg.com/media/ExrDliJXAAIuDKN.jpg', 'media_url_https': 'https://pbs.twimg.com/media/ExrDliJXAAIuDKN.jpg', 'url': 'https://t.co/2lpg6Yxe0C', 'display_url': 'pic.twitter.com/2lpg6Yxe0C', 'expanded_url': 'https://twitter.com/EvilAFM/status/1376627692167176197/photo/1', 'type': 'photo', 'sizes': {'thumb': {'w': 150, 'h': 150, 'resize': 'crop'}, 'large': {'w': 1280, 'h': 720, 'resize': 'fit'}, 'medium': {'w': 1200, 'h': 675, 'resize': 'fit'}, 'small': {'w': 680, 'h': 383, 'resize': 'fit'}}}]}, source='Twitter Web App', source_url='https://mobile.twitter.com', in_reply_to_status_id=None, in_reply_to_status_id_str=None, in_reply_to_user_id=None, in_reply_to_user_id_str=None, in_reply_to_screen_name=None, author=User(_api=<tweepy.api.API object at 0x7fb49984e250>, _json={'id': 61879392, 'id_str': '61879392', 'name': 'Alexelcapo', 'screen_name': 'EvilAFM', 'location': 'Palma de Mallorca', 'description': 'Twitch: https://t.co/6bWLw8JNtc\\nInsta: https://t.co/rTRRK8QGQ1', 'url': 'https://t.co/FJpEpf2y49', 'entities': {'url': {'urls': [{'url': 'https://t.co/FJpEpf2y49', 'expanded_url': 'http://youtube.com/alexelcapo', 'display_url': 'youtube.com/alexelcapo', 'indices': [0, 23]}]}, 'description': {'urls': [{'url': 'https://t.co/6bWLw8JNtc', 'expanded_url': 'http://twitch.tv/alexelcapo', 'display_url': 'twitch.tv/alexelcapo', 'indices': [8, 31]}, {'url': 'https://t.co/rTRRK8QGQ1', 'expanded_url': 'http://instagram.com/alexelcapoyt', 'display_url': 'instagram.com/alexelcapoyt', 'indices': [39, 62]}]}}, 'protected': False, 'followers_count': 810025, 'friends_count': 251, 'listed_count': 1292, 'created_at': 'Fri Jul 31 21:27:58 +0000 2009', 'favourites_count': 3393, 'utc_offset': None, 'time_zone': None, 'geo_enabled': True, 'verified': True, 'statuses_count': 100121, 'lang': None, 'contributors_enabled': False, 'is_translator': False, 'is_translation_enabled': False, 'profile_background_color': '000000', 'profile_background_image_url': 'http://abs.twimg.com/images/themes/theme15/bg.png', 'profile_background_image_url_https': 'https://abs.twimg.com/images/themes/theme15/bg.png', 'profile_background_tile': False, 'profile_image_url': 'http://pbs.twimg.com/profile_images/1375404821495308299/6DF0ZTVs_normal.jpg', 'profile_image_url_https': 'https://pbs.twimg.com/profile_images/1375404821495308299/6DF0ZTVs_normal.jpg', 'profile_banner_url': 'https://pbs.twimg.com/profile_banners/61879392/1592913738', 'profile_link_color': '1B95E0', 'profile_sidebar_border_color': '000000', 'profile_sidebar_fill_color': '000000', 'profile_text_color': '000000', 'profile_use_background_image': False, 'has_extended_profile': True, 'default_profile': False, 'default_profile_image': False, 'following': True, 'follow_request_sent': False, 'notifications': False, 'translator_type': 'regular'}, id=61879392, id_str='61879392', name='Alexelcapo', screen_name='EvilAFM', location='Palma de Mallorca', description='Twitch: https://t.co/6bWLw8JNtc\\nInsta: https://t.co/rTRRK8QGQ1', url='https://t.co/FJpEpf2y49', entities={'url': {'urls': [{'url': 'https://t.co/FJpEpf2y49', 'expanded_url': 'http://youtube.com/alexelcapo', 'display_url': 'youtube.com/alexelcapo', 'indices': [0, 23]}]}, 'description': {'urls': [{'url': 'https://t.co/6bWLw8JNtc', 'expanded_url': 'http://twitch.tv/alexelcapo', 'display_url': 'twitch.tv/alexelcapo', 'indices': [8, 31]}, {'url': 'https://t.co/rTRRK8QGQ1', 'expanded_url': 'http://instagram.com/alexelcapoyt', 'display_url': 'instagram.com/alexelcapoyt', 'indices': [39, 62]}]}}, protected=False, followers_count=810025, friends_count=251, listed_count=1292, created_at=datetime.datetime(2009, 7, 31, 21, 27, 58), favourites_count=3393, utc_offset=None, time_zone=None, geo_enabled=True, verified=True, statuses_count=100121, lang=None, contributors_enabled=False, is_translator=False, is_translation_enabled=False, profile_background_color='000000', profile_background_image_url='http://abs.twimg.com/images/themes/theme15/bg.png', profile_background_image_url_https='https://abs.twimg.com/images/themes/theme15/bg.png', profile_background_tile=False, profile_image_url='http://pbs.twimg.com/profile_images/1375404821495308299/6DF0ZTVs_normal.jpg', profile_image_url_https='https://pbs.twimg.com/profile_images/1375404821495308299/6DF0ZTVs_normal.jpg', profile_banner_url='https://pbs.twimg.com/profile_banners/61879392/1592913738', profile_link_color='1B95E0', profile_sidebar_border_color='000000', profile_sidebar_fill_color='000000', profile_text_color='000000', profile_use_background_image=False, has_extended_profile=True, default_profile=False, default_profile_image=False, following=True, follow_request_sent=False, notifications=False, translator_type='regular'), user=User(_api=<tweepy.api.API object at 0x7fb49984e250>, _json={'id': 61879392, 'id_str': '61879392', 'name': 'Alexelcapo', 'screen_name': 'EvilAFM', 'location': 'Palma de Mallorca', 'description': 'Twitch: https://t.co/6bWLw8JNtc\\nInsta: https://t.co/rTRRK8QGQ1', 'url': 'https://t.co/FJpEpf2y49', 'entities': {'url': {'urls': [{'url': 'https://t.co/FJpEpf2y49', 'expanded_url': 'http://youtube.com/alexelcapo', 'display_url': 'youtube.com/alexelcapo', 'indices': [0, 23]}]}, 'description': {'urls': [{'url': 'https://t.co/6bWLw8JNtc', 'expanded_url': 'http://twitch.tv/alexelcapo', 'display_url': 'twitch.tv/alexelcapo', 'indices': [8, 31]}, {'url': 'https://t.co/rTRRK8QGQ1', 'expanded_url': 'http://instagram.com/alexelcapoyt', 'display_url': 'instagram.com/alexelcapoyt', 'indices': [39, 62]}]}}, 'protected': False, 'followers_count': 810025, 'friends_count': 251, 'listed_count': 1292, 'created_at': 'Fri Jul 31 21:27:58 +0000 2009', 'favourites_count': 3393, 'utc_offset': None, 'time_zone': None, 'geo_enabled': True, 'verified': True, 'statuses_count': 100121, 'lang': None, 'contributors_enabled': False, 'is_translator': False, 'is_translation_enabled': False, 'profile_background_color': '000000', 'profile_background_image_url': 'http://abs.twimg.com/images/themes/theme15/bg.png', 'profile_background_image_url_https': 'https://abs.twimg.com/images/themes/theme15/bg.png', 'profile_background_tile': False, 'profile_image_url': 'http://pbs.twimg.com/profile_images/1375404821495308299/6DF0ZTVs_normal.jpg', 'profile_image_url_https': 'https://pbs.twimg.com/profile_images/1375404821495308299/6DF0ZTVs_normal.jpg', 'profile_banner_url': 'https://pbs.twimg.com/profile_banners/61879392/1592913738', 'profile_link_color': '1B95E0', 'profile_sidebar_border_color': '000000', 'profile_sidebar_fill_color': '000000', 'profile_text_color': '000000', 'profile_use_background_image': False, 'has_extended_profile': True, 'default_profile': False, 'default_profile_image': False, 'following': True, 'follow_request_sent': False, 'notifications': False, 'translator_type': 'regular'}, id=61879392, id_str='61879392', name='Alexelcapo', screen_name='EvilAFM', location='Palma de Mallorca', description='Twitch: https://t.co/6bWLw8JNtc\\nInsta: https://t.co/rTRRK8QGQ1', url='https://t.co/FJpEpf2y49', entities={'url': {'urls': [{'url': 'https://t.co/FJpEpf2y49', 'expanded_url': 'http://youtube.com/alexelcapo', 'display_url': 'youtube.com/alexelcapo', 'indices': [0, 23]}]}, 'description': {'urls': [{'url': 'https://t.co/6bWLw8JNtc', 'expanded_url': 'http://twitch.tv/alexelcapo', 'display_url': 'twitch.tv/alexelcapo', 'indices': [8, 31]}, {'url': 'https://t.co/rTRRK8QGQ1', 'expanded_url': 'http://instagram.com/alexelcapoyt', 'display_url': 'instagram.com/alexelcapoyt', 'indices': [39, 62]}]}}, protected=False, followers_count=810025, friends_count=251, listed_count=1292, created_at=datetime.datetime(2009, 7, 31, 21, 27, 58), favourites_count=3393, utc_offset=None, time_zone=None, geo_enabled=True, verified=True, statuses_count=100121, lang=None, contributors_enabled=False, is_translator=False, is_translation_enabled=False, profile_background_color='000000', profile_background_image_url='http://abs.twimg.com/images/themes/theme15/bg.png', profile_background_image_url_https='https://abs.twimg.com/images/themes/theme15/bg.png', profile_background_tile=False, profile_image_url='http://pbs.twimg.com/profile_images/1375404821495308299/6DF0ZTVs_normal.jpg', profile_image_url_https='https://pbs.twimg.com/profile_images/1375404821495308299/6DF0ZTVs_normal.jpg', profile_banner_url='https://pbs.twimg.com/profile_banners/61879392/1592913738', profile_link_color='1B95E0', profile_sidebar_border_color='000000', profile_sidebar_fill_color='000000', profile_text_color='000000', profile_use_background_image=False, has_extended_profile=True, default_profile=False, default_profile_image=False, following=True, follow_request_sent=False, notifications=False, translator_type='regular'), geo=None, coordinates=None, place=None, contributors=None, is_quote_status=False, retweet_count=158, favorite_count=1569, favorited=False, retweeted=False, possibly_sensitive=False, possibly_sensitive_appealable=False, lang='es'),\n",
       " Status(_api=<tweepy.api.API object at 0x7fb49984e250>, _json={'created_at': 'Mon Mar 29 20:06:00 +0000 2021', 'id': 1376626716056109058, 'id_str': '1376626716056109058', 'text': 'Cap del Nuevo Video de hoy, si ya saben cómo soy para qué me echan más leña? https://t.co/hyFazzCUUs', 'truncated': False, 'entities': {'hashtags': [], 'symbols': [], 'user_mentions': [], 'urls': [], 'media': [{'id': 1376580687004844035, 'id_str': '1376580687004844035', 'indices': [77, 100], 'media_url': 'http://pbs.twimg.com/media/ExqY12WWQAMZsGF.jpg', 'media_url_https': 'https://pbs.twimg.com/media/ExqY12WWQAMZsGF.jpg', 'url': 'https://t.co/hyFazzCUUs', 'display_url': 'pic.twitter.com/hyFazzCUUs', 'expanded_url': 'https://twitter.com/luisitorey/status/1376626716056109058/photo/1', 'type': 'photo', 'sizes': {'small': {'w': 680, 'h': 382, 'resize': 'fit'}, 'medium': {'w': 1200, 'h': 674, 'resize': 'fit'}, 'thumb': {'w': 150, 'h': 150, 'resize': 'crop'}, 'large': {'w': 2048, 'h': 1150, 'resize': 'fit'}}}]}, 'extended_entities': {'media': [{'id': 1376580687004844035, 'id_str': '1376580687004844035', 'indices': [77, 100], 'media_url': 'http://pbs.twimg.com/media/ExqY12WWQAMZsGF.jpg', 'media_url_https': 'https://pbs.twimg.com/media/ExqY12WWQAMZsGF.jpg', 'url': 'https://t.co/hyFazzCUUs', 'display_url': 'pic.twitter.com/hyFazzCUUs', 'expanded_url': 'https://twitter.com/luisitorey/status/1376626716056109058/photo/1', 'type': 'photo', 'sizes': {'small': {'w': 680, 'h': 382, 'resize': 'fit'}, 'medium': {'w': 1200, 'h': 674, 'resize': 'fit'}, 'thumb': {'w': 150, 'h': 150, 'resize': 'crop'}, 'large': {'w': 2048, 'h': 1150, 'resize': 'fit'}}}]}, 'source': '<a href=\"https://about.twitter.com/products/tweetdeck\" rel=\"nofollow\">TweetDeck</a>', 'in_reply_to_status_id': None, 'in_reply_to_status_id_str': None, 'in_reply_to_user_id': None, 'in_reply_to_user_id_str': None, 'in_reply_to_screen_name': None, 'user': {'id': 67380738, 'id_str': '67380738', 'name': 'LR', 'screen_name': 'luisitorey', 'location': 'México D.F', 'description': 'Un Kingdom haciendo historia. contacto@luisitorey.mx IG. @luisitoreyfotos Los tuits de Luisito Rey se firmarán como - LR', 'url': 'https://t.co/oWikfn0c62', 'entities': {'url': {'urls': [{'url': 'https://t.co/oWikfn0c62', 'expanded_url': 'http://www.luisitorey.mx', 'display_url': 'luisitorey.mx', 'indices': [0, 23]}]}, 'description': {'urls': []}}, 'protected': False, 'followers_count': 2860409, 'friends_count': 1759, 'listed_count': 1250, 'created_at': 'Thu Aug 20 18:14:41 +0000 2009', 'favourites_count': 19836, 'utc_offset': None, 'time_zone': None, 'geo_enabled': True, 'verified': True, 'statuses_count': 34383, 'lang': None, 'contributors_enabled': False, 'is_translator': False, 'is_translation_enabled': False, 'profile_background_color': '0099B9', 'profile_background_image_url': 'http://abs.twimg.com/images/themes/theme4/bg.gif', 'profile_background_image_url_https': 'https://abs.twimg.com/images/themes/theme4/bg.gif', 'profile_background_tile': False, 'profile_image_url': 'http://pbs.twimg.com/profile_images/1323686799286407171/oTPy6zh4_normal.jpg', 'profile_image_url_https': 'https://pbs.twimg.com/profile_images/1323686799286407171/oTPy6zh4_normal.jpg', 'profile_banner_url': 'https://pbs.twimg.com/profile_banners/67380738/1588193906', 'profile_link_color': 'FAB81E', 'profile_sidebar_border_color': 'FFFFFF', 'profile_sidebar_fill_color': '95E8EC', 'profile_text_color': '3C3940', 'profile_use_background_image': True, 'has_extended_profile': True, 'default_profile': False, 'default_profile_image': False, 'following': True, 'follow_request_sent': False, 'notifications': False, 'translator_type': 'regular'}, 'geo': None, 'coordinates': None, 'place': None, 'contributors': None, 'is_quote_status': False, 'retweet_count': 0, 'favorite_count': 36, 'favorited': False, 'retweeted': False, 'possibly_sensitive': False, 'possibly_sensitive_appealable': False, 'lang': 'es'}, created_at=datetime.datetime(2021, 3, 29, 20, 6), id=1376626716056109058, id_str='1376626716056109058', text='Cap del Nuevo Video de hoy, si ya saben cómo soy para qué me echan más leña? https://t.co/hyFazzCUUs', truncated=False, entities={'hashtags': [], 'symbols': [], 'user_mentions': [], 'urls': [], 'media': [{'id': 1376580687004844035, 'id_str': '1376580687004844035', 'indices': [77, 100], 'media_url': 'http://pbs.twimg.com/media/ExqY12WWQAMZsGF.jpg', 'media_url_https': 'https://pbs.twimg.com/media/ExqY12WWQAMZsGF.jpg', 'url': 'https://t.co/hyFazzCUUs', 'display_url': 'pic.twitter.com/hyFazzCUUs', 'expanded_url': 'https://twitter.com/luisitorey/status/1376626716056109058/photo/1', 'type': 'photo', 'sizes': {'small': {'w': 680, 'h': 382, 'resize': 'fit'}, 'medium': {'w': 1200, 'h': 674, 'resize': 'fit'}, 'thumb': {'w': 150, 'h': 150, 'resize': 'crop'}, 'large': {'w': 2048, 'h': 1150, 'resize': 'fit'}}}]}, extended_entities={'media': [{'id': 1376580687004844035, 'id_str': '1376580687004844035', 'indices': [77, 100], 'media_url': 'http://pbs.twimg.com/media/ExqY12WWQAMZsGF.jpg', 'media_url_https': 'https://pbs.twimg.com/media/ExqY12WWQAMZsGF.jpg', 'url': 'https://t.co/hyFazzCUUs', 'display_url': 'pic.twitter.com/hyFazzCUUs', 'expanded_url': 'https://twitter.com/luisitorey/status/1376626716056109058/photo/1', 'type': 'photo', 'sizes': {'small': {'w': 680, 'h': 382, 'resize': 'fit'}, 'medium': {'w': 1200, 'h': 674, 'resize': 'fit'}, 'thumb': {'w': 150, 'h': 150, 'resize': 'crop'}, 'large': {'w': 2048, 'h': 1150, 'resize': 'fit'}}}]}, source='TweetDeck', source_url='https://about.twitter.com/products/tweetdeck', in_reply_to_status_id=None, in_reply_to_status_id_str=None, in_reply_to_user_id=None, in_reply_to_user_id_str=None, in_reply_to_screen_name=None, author=User(_api=<tweepy.api.API object at 0x7fb49984e250>, _json={'id': 67380738, 'id_str': '67380738', 'name': 'LR', 'screen_name': 'luisitorey', 'location': 'México D.F', 'description': 'Un Kingdom haciendo historia. contacto@luisitorey.mx IG. @luisitoreyfotos Los tuits de Luisito Rey se firmarán como - LR', 'url': 'https://t.co/oWikfn0c62', 'entities': {'url': {'urls': [{'url': 'https://t.co/oWikfn0c62', 'expanded_url': 'http://www.luisitorey.mx', 'display_url': 'luisitorey.mx', 'indices': [0, 23]}]}, 'description': {'urls': []}}, 'protected': False, 'followers_count': 2860409, 'friends_count': 1759, 'listed_count': 1250, 'created_at': 'Thu Aug 20 18:14:41 +0000 2009', 'favourites_count': 19836, 'utc_offset': None, 'time_zone': None, 'geo_enabled': True, 'verified': True, 'statuses_count': 34383, 'lang': None, 'contributors_enabled': False, 'is_translator': False, 'is_translation_enabled': False, 'profile_background_color': '0099B9', 'profile_background_image_url': 'http://abs.twimg.com/images/themes/theme4/bg.gif', 'profile_background_image_url_https': 'https://abs.twimg.com/images/themes/theme4/bg.gif', 'profile_background_tile': False, 'profile_image_url': 'http://pbs.twimg.com/profile_images/1323686799286407171/oTPy6zh4_normal.jpg', 'profile_image_url_https': 'https://pbs.twimg.com/profile_images/1323686799286407171/oTPy6zh4_normal.jpg', 'profile_banner_url': 'https://pbs.twimg.com/profile_banners/67380738/1588193906', 'profile_link_color': 'FAB81E', 'profile_sidebar_border_color': 'FFFFFF', 'profile_sidebar_fill_color': '95E8EC', 'profile_text_color': '3C3940', 'profile_use_background_image': True, 'has_extended_profile': True, 'default_profile': False, 'default_profile_image': False, 'following': True, 'follow_request_sent': False, 'notifications': False, 'translator_type': 'regular'}, id=67380738, id_str='67380738', name='LR', screen_name='luisitorey', location='México D.F', description='Un Kingdom haciendo historia. contacto@luisitorey.mx IG. @luisitoreyfotos Los tuits de Luisito Rey se firmarán como - LR', url='https://t.co/oWikfn0c62', entities={'url': {'urls': [{'url': 'https://t.co/oWikfn0c62', 'expanded_url': 'http://www.luisitorey.mx', 'display_url': 'luisitorey.mx', 'indices': [0, 23]}]}, 'description': {'urls': []}}, protected=False, followers_count=2860409, friends_count=1759, listed_count=1250, created_at=datetime.datetime(2009, 8, 20, 18, 14, 41), favourites_count=19836, utc_offset=None, time_zone=None, geo_enabled=True, verified=True, statuses_count=34383, lang=None, contributors_enabled=False, is_translator=False, is_translation_enabled=False, profile_background_color='0099B9', profile_background_image_url='http://abs.twimg.com/images/themes/theme4/bg.gif', profile_background_image_url_https='https://abs.twimg.com/images/themes/theme4/bg.gif', profile_background_tile=False, profile_image_url='http://pbs.twimg.com/profile_images/1323686799286407171/oTPy6zh4_normal.jpg', profile_image_url_https='https://pbs.twimg.com/profile_images/1323686799286407171/oTPy6zh4_normal.jpg', profile_banner_url='https://pbs.twimg.com/profile_banners/67380738/1588193906', profile_link_color='FAB81E', profile_sidebar_border_color='FFFFFF', profile_sidebar_fill_color='95E8EC', profile_text_color='3C3940', profile_use_background_image=True, has_extended_profile=True, default_profile=False, default_profile_image=False, following=True, follow_request_sent=False, notifications=False, translator_type='regular'), user=User(_api=<tweepy.api.API object at 0x7fb49984e250>, _json={'id': 67380738, 'id_str': '67380738', 'name': 'LR', 'screen_name': 'luisitorey', 'location': 'México D.F', 'description': 'Un Kingdom haciendo historia. contacto@luisitorey.mx IG. @luisitoreyfotos Los tuits de Luisito Rey se firmarán como - LR', 'url': 'https://t.co/oWikfn0c62', 'entities': {'url': {'urls': [{'url': 'https://t.co/oWikfn0c62', 'expanded_url': 'http://www.luisitorey.mx', 'display_url': 'luisitorey.mx', 'indices': [0, 23]}]}, 'description': {'urls': []}}, 'protected': False, 'followers_count': 2860409, 'friends_count': 1759, 'listed_count': 1250, 'created_at': 'Thu Aug 20 18:14:41 +0000 2009', 'favourites_count': 19836, 'utc_offset': None, 'time_zone': None, 'geo_enabled': True, 'verified': True, 'statuses_count': 34383, 'lang': None, 'contributors_enabled': False, 'is_translator': False, 'is_translation_enabled': False, 'profile_background_color': '0099B9', 'profile_background_image_url': 'http://abs.twimg.com/images/themes/theme4/bg.gif', 'profile_background_image_url_https': 'https://abs.twimg.com/images/themes/theme4/bg.gif', 'profile_background_tile': False, 'profile_image_url': 'http://pbs.twimg.com/profile_images/1323686799286407171/oTPy6zh4_normal.jpg', 'profile_image_url_https': 'https://pbs.twimg.com/profile_images/1323686799286407171/oTPy6zh4_normal.jpg', 'profile_banner_url': 'https://pbs.twimg.com/profile_banners/67380738/1588193906', 'profile_link_color': 'FAB81E', 'profile_sidebar_border_color': 'FFFFFF', 'profile_sidebar_fill_color': '95E8EC', 'profile_text_color': '3C3940', 'profile_use_background_image': True, 'has_extended_profile': True, 'default_profile': False, 'default_profile_image': False, 'following': True, 'follow_request_sent': False, 'notifications': False, 'translator_type': 'regular'}, id=67380738, id_str='67380738', name='LR', screen_name='luisitorey', location='México D.F', description='Un Kingdom haciendo historia. contacto@luisitorey.mx IG. @luisitoreyfotos Los tuits de Luisito Rey se firmarán como - LR', url='https://t.co/oWikfn0c62', entities={'url': {'urls': [{'url': 'https://t.co/oWikfn0c62', 'expanded_url': 'http://www.luisitorey.mx', 'display_url': 'luisitorey.mx', 'indices': [0, 23]}]}, 'description': {'urls': []}}, protected=False, followers_count=2860409, friends_count=1759, listed_count=1250, created_at=datetime.datetime(2009, 8, 20, 18, 14, 41), favourites_count=19836, utc_offset=None, time_zone=None, geo_enabled=True, verified=True, statuses_count=34383, lang=None, contributors_enabled=False, is_translator=False, is_translation_enabled=False, profile_background_color='0099B9', profile_background_image_url='http://abs.twimg.com/images/themes/theme4/bg.gif', profile_background_image_url_https='https://abs.twimg.com/images/themes/theme4/bg.gif', profile_background_tile=False, profile_image_url='http://pbs.twimg.com/profile_images/1323686799286407171/oTPy6zh4_normal.jpg', profile_image_url_https='https://pbs.twimg.com/profile_images/1323686799286407171/oTPy6zh4_normal.jpg', profile_banner_url='https://pbs.twimg.com/profile_banners/67380738/1588193906', profile_link_color='FAB81E', profile_sidebar_border_color='FFFFFF', profile_sidebar_fill_color='95E8EC', profile_text_color='3C3940', profile_use_background_image=True, has_extended_profile=True, default_profile=False, default_profile_image=False, following=True, follow_request_sent=False, notifications=False, translator_type='regular'), geo=None, coordinates=None, place=None, contributors=None, is_quote_status=False, retweet_count=0, favorite_count=36, favorited=False, retweeted=False, possibly_sensitive=False, possibly_sensitive_appealable=False, lang='es'),\n",
       " Status(_api=<tweepy.api.API object at 0x7fb49984e250>, _json={'created_at': 'Mon Mar 29 20:05:32 +0000 2021', 'id': 1376626601367113730, 'id_str': '1376626601367113730', 'text': 'Blasts of intergalactic radiation hint at elusive mid-sized black hole https://t.co/tGfk5jUvKW https://t.co/L5vJ2mOtzz', 'truncated': False, 'entities': {'hashtags': [], 'symbols': [], 'user_mentions': [], 'urls': [{'url': 'https://t.co/tGfk5jUvKW', 'expanded_url': 'https://bit.ly/3m333qN', 'display_url': 'bit.ly/3m333qN', 'indices': [71, 94]}], 'media': [{'id': 1376626599165112320, 'id_str': '1376626599165112320', 'indices': [95, 118], 'media_url': 'http://pbs.twimg.com/media/ExrCmSeXMAAZvRT.jpg', 'media_url_https': 'https://pbs.twimg.com/media/ExrCmSeXMAAZvRT.jpg', 'url': 'https://t.co/L5vJ2mOtzz', 'display_url': 'pic.twitter.com/L5vJ2mOtzz', 'expanded_url': 'https://twitter.com/newscientist/status/1376626601367113730/photo/1', 'type': 'photo', 'sizes': {'thumb': {'w': 150, 'h': 150, 'resize': 'crop'}, 'large': {'w': 1200, 'h': 800, 'resize': 'fit'}, 'medium': {'w': 1200, 'h': 800, 'resize': 'fit'}, 'small': {'w': 680, 'h': 453, 'resize': 'fit'}}}]}, 'extended_entities': {'media': [{'id': 1376626599165112320, 'id_str': '1376626599165112320', 'indices': [95, 118], 'media_url': 'http://pbs.twimg.com/media/ExrCmSeXMAAZvRT.jpg', 'media_url_https': 'https://pbs.twimg.com/media/ExrCmSeXMAAZvRT.jpg', 'url': 'https://t.co/L5vJ2mOtzz', 'display_url': 'pic.twitter.com/L5vJ2mOtzz', 'expanded_url': 'https://twitter.com/newscientist/status/1376626601367113730/photo/1', 'type': 'photo', 'sizes': {'thumb': {'w': 150, 'h': 150, 'resize': 'crop'}, 'large': {'w': 1200, 'h': 800, 'resize': 'fit'}, 'medium': {'w': 1200, 'h': 800, 'resize': 'fit'}, 'small': {'w': 680, 'h': 453, 'resize': 'fit'}}}]}, 'source': '<a href=\"https://www.echobox.com\" rel=\"nofollow\">Echobox</a>', 'in_reply_to_status_id': None, 'in_reply_to_status_id_str': None, 'in_reply_to_user_id': None, 'in_reply_to_user_id_str': None, 'in_reply_to_screen_name': None, 'user': {'id': 19658826, 'id_str': '19658826', 'name': 'New Scientist', 'screen_name': 'newscientist', 'location': 'Worldwide', 'description': 'The best place to find out what’s new in science – and why it matters. Tweets by @samwong1. Subscribe here: https://t.co/IfOsLsD70h', 'url': 'https://t.co/fvIreKOHAv', 'entities': {'url': {'urls': [{'url': 'https://t.co/fvIreKOHAv', 'expanded_url': 'http://www.newscientist.com', 'display_url': 'newscientist.com', 'indices': [0, 23]}]}, 'description': {'urls': [{'url': 'https://t.co/IfOsLsD70h', 'expanded_url': 'https://bit.ly/35DIyui', 'display_url': 'bit.ly/35DIyui', 'indices': [108, 131]}]}}, 'protected': False, 'followers_count': 3903997, 'friends_count': 220, 'listed_count': 33499, 'created_at': 'Wed Jan 28 16:05:49 +0000 2009', 'favourites_count': 16176, 'utc_offset': None, 'time_zone': None, 'geo_enabled': True, 'verified': True, 'statuses_count': 81369, 'lang': None, 'contributors_enabled': False, 'is_translator': False, 'is_translation_enabled': False, 'profile_background_color': '333333', 'profile_background_image_url': 'http://abs.twimg.com/images/themes/theme1/bg.png', 'profile_background_image_url_https': 'https://abs.twimg.com/images/themes/theme1/bg.png', 'profile_background_tile': False, 'profile_image_url': 'http://pbs.twimg.com/profile_images/960860144329469953/Tc-GOIGJ_normal.jpg', 'profile_image_url_https': 'https://pbs.twimg.com/profile_images/960860144329469953/Tc-GOIGJ_normal.jpg', 'profile_banner_url': 'https://pbs.twimg.com/profile_banners/19658826/1598372105', 'profile_link_color': '0084B4', 'profile_sidebar_border_color': 'FFFFFF', 'profile_sidebar_fill_color': 'FFFFFF', 'profile_text_color': '333333', 'profile_use_background_image': True, 'has_extended_profile': False, 'default_profile': False, 'default_profile_image': False, 'following': True, 'follow_request_sent': False, 'notifications': False, 'translator_type': 'none'}, 'geo': None, 'coordinates': None, 'place': None, 'contributors': None, 'is_quote_status': False, 'retweet_count': 16, 'favorite_count': 52, 'favorited': False, 'retweeted': False, 'possibly_sensitive': False, 'possibly_sensitive_appealable': False, 'lang': 'en'}, created_at=datetime.datetime(2021, 3, 29, 20, 5, 32), id=1376626601367113730, id_str='1376626601367113730', text='Blasts of intergalactic radiation hint at elusive mid-sized black hole https://t.co/tGfk5jUvKW https://t.co/L5vJ2mOtzz', truncated=False, entities={'hashtags': [], 'symbols': [], 'user_mentions': [], 'urls': [{'url': 'https://t.co/tGfk5jUvKW', 'expanded_url': 'https://bit.ly/3m333qN', 'display_url': 'bit.ly/3m333qN', 'indices': [71, 94]}], 'media': [{'id': 1376626599165112320, 'id_str': '1376626599165112320', 'indices': [95, 118], 'media_url': 'http://pbs.twimg.com/media/ExrCmSeXMAAZvRT.jpg', 'media_url_https': 'https://pbs.twimg.com/media/ExrCmSeXMAAZvRT.jpg', 'url': 'https://t.co/L5vJ2mOtzz', 'display_url': 'pic.twitter.com/L5vJ2mOtzz', 'expanded_url': 'https://twitter.com/newscientist/status/1376626601367113730/photo/1', 'type': 'photo', 'sizes': {'thumb': {'w': 150, 'h': 150, 'resize': 'crop'}, 'large': {'w': 1200, 'h': 800, 'resize': 'fit'}, 'medium': {'w': 1200, 'h': 800, 'resize': 'fit'}, 'small': {'w': 680, 'h': 453, 'resize': 'fit'}}}]}, extended_entities={'media': [{'id': 1376626599165112320, 'id_str': '1376626599165112320', 'indices': [95, 118], 'media_url': 'http://pbs.twimg.com/media/ExrCmSeXMAAZvRT.jpg', 'media_url_https': 'https://pbs.twimg.com/media/ExrCmSeXMAAZvRT.jpg', 'url': 'https://t.co/L5vJ2mOtzz', 'display_url': 'pic.twitter.com/L5vJ2mOtzz', 'expanded_url': 'https://twitter.com/newscientist/status/1376626601367113730/photo/1', 'type': 'photo', 'sizes': {'thumb': {'w': 150, 'h': 150, 'resize': 'crop'}, 'large': {'w': 1200, 'h': 800, 'resize': 'fit'}, 'medium': {'w': 1200, 'h': 800, 'resize': 'fit'}, 'small': {'w': 680, 'h': 453, 'resize': 'fit'}}}]}, source='Echobox', source_url='https://www.echobox.com', in_reply_to_status_id=None, in_reply_to_status_id_str=None, in_reply_to_user_id=None, in_reply_to_user_id_str=None, in_reply_to_screen_name=None, author=User(_api=<tweepy.api.API object at 0x7fb49984e250>, _json={'id': 19658826, 'id_str': '19658826', 'name': 'New Scientist', 'screen_name': 'newscientist', 'location': 'Worldwide', 'description': 'The best place to find out what’s new in science – and why it matters. Tweets by @samwong1. Subscribe here: https://t.co/IfOsLsD70h', 'url': 'https://t.co/fvIreKOHAv', 'entities': {'url': {'urls': [{'url': 'https://t.co/fvIreKOHAv', 'expanded_url': 'http://www.newscientist.com', 'display_url': 'newscientist.com', 'indices': [0, 23]}]}, 'description': {'urls': [{'url': 'https://t.co/IfOsLsD70h', 'expanded_url': 'https://bit.ly/35DIyui', 'display_url': 'bit.ly/35DIyui', 'indices': [108, 131]}]}}, 'protected': False, 'followers_count': 3903997, 'friends_count': 220, 'listed_count': 33499, 'created_at': 'Wed Jan 28 16:05:49 +0000 2009', 'favourites_count': 16176, 'utc_offset': None, 'time_zone': None, 'geo_enabled': True, 'verified': True, 'statuses_count': 81369, 'lang': None, 'contributors_enabled': False, 'is_translator': False, 'is_translation_enabled': False, 'profile_background_color': '333333', 'profile_background_image_url': 'http://abs.twimg.com/images/themes/theme1/bg.png', 'profile_background_image_url_https': 'https://abs.twimg.com/images/themes/theme1/bg.png', 'profile_background_tile': False, 'profile_image_url': 'http://pbs.twimg.com/profile_images/960860144329469953/Tc-GOIGJ_normal.jpg', 'profile_image_url_https': 'https://pbs.twimg.com/profile_images/960860144329469953/Tc-GOIGJ_normal.jpg', 'profile_banner_url': 'https://pbs.twimg.com/profile_banners/19658826/1598372105', 'profile_link_color': '0084B4', 'profile_sidebar_border_color': 'FFFFFF', 'profile_sidebar_fill_color': 'FFFFFF', 'profile_text_color': '333333', 'profile_use_background_image': True, 'has_extended_profile': False, 'default_profile': False, 'default_profile_image': False, 'following': True, 'follow_request_sent': False, 'notifications': False, 'translator_type': 'none'}, id=19658826, id_str='19658826', name='New Scientist', screen_name='newscientist', location='Worldwide', description='The best place to find out what’s new in science – and why it matters. Tweets by @samwong1. Subscribe here: https://t.co/IfOsLsD70h', url='https://t.co/fvIreKOHAv', entities={'url': {'urls': [{'url': 'https://t.co/fvIreKOHAv', 'expanded_url': 'http://www.newscientist.com', 'display_url': 'newscientist.com', 'indices': [0, 23]}]}, 'description': {'urls': [{'url': 'https://t.co/IfOsLsD70h', 'expanded_url': 'https://bit.ly/35DIyui', 'display_url': 'bit.ly/35DIyui', 'indices': [108, 131]}]}}, protected=False, followers_count=3903997, friends_count=220, listed_count=33499, created_at=datetime.datetime(2009, 1, 28, 16, 5, 49), favourites_count=16176, utc_offset=None, time_zone=None, geo_enabled=True, verified=True, statuses_count=81369, lang=None, contributors_enabled=False, is_translator=False, is_translation_enabled=False, profile_background_color='333333', profile_background_image_url='http://abs.twimg.com/images/themes/theme1/bg.png', profile_background_image_url_https='https://abs.twimg.com/images/themes/theme1/bg.png', profile_background_tile=False, profile_image_url='http://pbs.twimg.com/profile_images/960860144329469953/Tc-GOIGJ_normal.jpg', profile_image_url_https='https://pbs.twimg.com/profile_images/960860144329469953/Tc-GOIGJ_normal.jpg', profile_banner_url='https://pbs.twimg.com/profile_banners/19658826/1598372105', profile_link_color='0084B4', profile_sidebar_border_color='FFFFFF', profile_sidebar_fill_color='FFFFFF', profile_text_color='333333', profile_use_background_image=True, has_extended_profile=False, default_profile=False, default_profile_image=False, following=True, follow_request_sent=False, notifications=False, translator_type='none'), user=User(_api=<tweepy.api.API object at 0x7fb49984e250>, _json={'id': 19658826, 'id_str': '19658826', 'name': 'New Scientist', 'screen_name': 'newscientist', 'location': 'Worldwide', 'description': 'The best place to find out what’s new in science – and why it matters. Tweets by @samwong1. Subscribe here: https://t.co/IfOsLsD70h', 'url': 'https://t.co/fvIreKOHAv', 'entities': {'url': {'urls': [{'url': 'https://t.co/fvIreKOHAv', 'expanded_url': 'http://www.newscientist.com', 'display_url': 'newscientist.com', 'indices': [0, 23]}]}, 'description': {'urls': [{'url': 'https://t.co/IfOsLsD70h', 'expanded_url': 'https://bit.ly/35DIyui', 'display_url': 'bit.ly/35DIyui', 'indices': [108, 131]}]}}, 'protected': False, 'followers_count': 3903997, 'friends_count': 220, 'listed_count': 33499, 'created_at': 'Wed Jan 28 16:05:49 +0000 2009', 'favourites_count': 16176, 'utc_offset': None, 'time_zone': None, 'geo_enabled': True, 'verified': True, 'statuses_count': 81369, 'lang': None, 'contributors_enabled': False, 'is_translator': False, 'is_translation_enabled': False, 'profile_background_color': '333333', 'profile_background_image_url': 'http://abs.twimg.com/images/themes/theme1/bg.png', 'profile_background_image_url_https': 'https://abs.twimg.com/images/themes/theme1/bg.png', 'profile_background_tile': False, 'profile_image_url': 'http://pbs.twimg.com/profile_images/960860144329469953/Tc-GOIGJ_normal.jpg', 'profile_image_url_https': 'https://pbs.twimg.com/profile_images/960860144329469953/Tc-GOIGJ_normal.jpg', 'profile_banner_url': 'https://pbs.twimg.com/profile_banners/19658826/1598372105', 'profile_link_color': '0084B4', 'profile_sidebar_border_color': 'FFFFFF', 'profile_sidebar_fill_color': 'FFFFFF', 'profile_text_color': '333333', 'profile_use_background_image': True, 'has_extended_profile': False, 'default_profile': False, 'default_profile_image': False, 'following': True, 'follow_request_sent': False, 'notifications': False, 'translator_type': 'none'}, id=19658826, id_str='19658826', name='New Scientist', screen_name='newscientist', location='Worldwide', description='The best place to find out what’s new in science – and why it matters. Tweets by @samwong1. Subscribe here: https://t.co/IfOsLsD70h', url='https://t.co/fvIreKOHAv', entities={'url': {'urls': [{'url': 'https://t.co/fvIreKOHAv', 'expanded_url': 'http://www.newscientist.com', 'display_url': 'newscientist.com', 'indices': [0, 23]}]}, 'description': {'urls': [{'url': 'https://t.co/IfOsLsD70h', 'expanded_url': 'https://bit.ly/35DIyui', 'display_url': 'bit.ly/35DIyui', 'indices': [108, 131]}]}}, protected=False, followers_count=3903997, friends_count=220, listed_count=33499, created_at=datetime.datetime(2009, 1, 28, 16, 5, 49), favourites_count=16176, utc_offset=None, time_zone=None, geo_enabled=True, verified=True, statuses_count=81369, lang=None, contributors_enabled=False, is_translator=False, is_translation_enabled=False, profile_background_color='333333', profile_background_image_url='http://abs.twimg.com/images/themes/theme1/bg.png', profile_background_image_url_https='https://abs.twimg.com/images/themes/theme1/bg.png', profile_background_tile=False, profile_image_url='http://pbs.twimg.com/profile_images/960860144329469953/Tc-GOIGJ_normal.jpg', profile_image_url_https='https://pbs.twimg.com/profile_images/960860144329469953/Tc-GOIGJ_normal.jpg', profile_banner_url='https://pbs.twimg.com/profile_banners/19658826/1598372105', profile_link_color='0084B4', profile_sidebar_border_color='FFFFFF', profile_sidebar_fill_color='FFFFFF', profile_text_color='333333', profile_use_background_image=True, has_extended_profile=False, default_profile=False, default_profile_image=False, following=True, follow_request_sent=False, notifications=False, translator_type='none'), geo=None, coordinates=None, place=None, contributors=None, is_quote_status=False, retweet_count=16, favorite_count=52, favorited=False, retweeted=False, possibly_sensitive=False, possibly_sensitive_appealable=False, lang='en'),\n",
       " Status(_api=<tweepy.api.API object at 0x7fb49984e250>, _json={'created_at': 'Mon Mar 29 20:02:30 +0000 2021', 'id': 1376625834774175745, 'id_str': '1376625834774175745', 'text': 'Gracias FanParty Monterrey...!!! @AnaLobo78 https://t.co/RsItHKMK2j', 'truncated': False, 'entities': {'hashtags': [], 'symbols': [], 'user_mentions': [{'screen_name': 'AnaLobo78', 'name': 'Ana Lobo', 'id': 921021773390450688, 'id_str': '921021773390450688', 'indices': [33, 43]}], 'urls': [], 'media': [{'id': 1376625827316695044, 'id_str': '1376625827316695044', 'indices': [44, 67], 'media_url': 'http://pbs.twimg.com/media/ExrB5XHXAAQupa6.jpg', 'media_url_https': 'https://pbs.twimg.com/media/ExrB5XHXAAQupa6.jpg', 'url': 'https://t.co/RsItHKMK2j', 'display_url': 'pic.twitter.com/RsItHKMK2j', 'expanded_url': 'https://twitter.com/ccp_mario/status/1376625834774175745/photo/1', 'type': 'photo', 'sizes': {'small': {'w': 501, 'h': 680, 'resize': 'fit'}, 'thumb': {'w': 150, 'h': 150, 'resize': 'crop'}, 'large': {'w': 1508, 'h': 2048, 'resize': 'fit'}, 'medium': {'w': 884, 'h': 1200, 'resize': 'fit'}}}]}, 'extended_entities': {'media': [{'id': 1376625827316695044, 'id_str': '1376625827316695044', 'indices': [44, 67], 'media_url': 'http://pbs.twimg.com/media/ExrB5XHXAAQupa6.jpg', 'media_url_https': 'https://pbs.twimg.com/media/ExrB5XHXAAQupa6.jpg', 'url': 'https://t.co/RsItHKMK2j', 'display_url': 'pic.twitter.com/RsItHKMK2j', 'expanded_url': 'https://twitter.com/ccp_mario/status/1376625834774175745/photo/1', 'type': 'photo', 'sizes': {'small': {'w': 501, 'h': 680, 'resize': 'fit'}, 'thumb': {'w': 150, 'h': 150, 'resize': 'crop'}, 'large': {'w': 1508, 'h': 2048, 'resize': 'fit'}, 'medium': {'w': 884, 'h': 1200, 'resize': 'fit'}}}, {'id': 1376625827308265480, 'id_str': '1376625827308265480', 'indices': [44, 67], 'media_url': 'http://pbs.twimg.com/media/ExrB5XFWYAg25kd.jpg', 'media_url_https': 'https://pbs.twimg.com/media/ExrB5XFWYAg25kd.jpg', 'url': 'https://t.co/RsItHKMK2j', 'display_url': 'pic.twitter.com/RsItHKMK2j', 'expanded_url': 'https://twitter.com/ccp_mario/status/1376625834774175745/photo/1', 'type': 'photo', 'sizes': {'thumb': {'w': 150, 'h': 150, 'resize': 'crop'}, 'medium': {'w': 1027, 'h': 1200, 'resize': 'fit'}, 'large': {'w': 1752, 'h': 2048, 'resize': 'fit'}, 'small': {'w': 582, 'h': 680, 'resize': 'fit'}}}, {'id': 1376625827295731721, 'id_str': '1376625827295731721', 'indices': [44, 67], 'media_url': 'http://pbs.twimg.com/media/ExrB5XCXIAkftjQ.jpg', 'media_url_https': 'https://pbs.twimg.com/media/ExrB5XCXIAkftjQ.jpg', 'url': 'https://t.co/RsItHKMK2j', 'display_url': 'pic.twitter.com/RsItHKMK2j', 'expanded_url': 'https://twitter.com/ccp_mario/status/1376625834774175745/photo/1', 'type': 'photo', 'sizes': {'medium': {'w': 1200, 'h': 976, 'resize': 'fit'}, 'thumb': {'w': 150, 'h': 150, 'resize': 'crop'}, 'small': {'w': 680, 'h': 553, 'resize': 'fit'}, 'large': {'w': 2048, 'h': 1666, 'resize': 'fit'}}}, {'id': 1376625827308318720, 'id_str': '1376625827308318720', 'indices': [44, 67], 'media_url': 'http://pbs.twimg.com/media/ExrB5XFXMAARxOI.jpg', 'media_url_https': 'https://pbs.twimg.com/media/ExrB5XFXMAARxOI.jpg', 'url': 'https://t.co/RsItHKMK2j', 'display_url': 'pic.twitter.com/RsItHKMK2j', 'expanded_url': 'https://twitter.com/ccp_mario/status/1376625834774175745/photo/1', 'type': 'photo', 'sizes': {'thumb': {'w': 150, 'h': 150, 'resize': 'crop'}, 'small': {'w': 680, 'h': 481, 'resize': 'fit'}, 'large': {'w': 2048, 'h': 1448, 'resize': 'fit'}, 'medium': {'w': 1200, 'h': 848, 'resize': 'fit'}}}]}, 'source': '<a href=\"http://twitter.com/download/iphone\" rel=\"nofollow\">Twitter for iPhone</a>', 'in_reply_to_status_id': None, 'in_reply_to_status_id_str': None, 'in_reply_to_user_id': None, 'in_reply_to_user_id_str': None, 'in_reply_to_screen_name': None, 'user': {'id': 781078346, 'id_str': '781078346', 'name': 'Mario C Castañeda P.', 'screen_name': 'ccp_mario', 'location': 'Contacto: grinchgoku@gmail.com', 'description': '¡Hola, soy Goku! Bueno, soy el actor de doblaje que ha doblado a muchos personajes, entre ellos a Goku...', 'url': 'https://t.co/jc31Bwg3go', 'entities': {'url': {'urls': [{'url': 'https://t.co/jc31Bwg3go', 'expanded_url': 'http://es.doblaje.wikia.com/wiki/Mario_Castañeda', 'display_url': 'es.doblaje.wikia.com/wiki/Mario_Cas…', 'indices': [0, 23]}]}, 'description': {'urls': []}}, 'protected': False, 'followers_count': 302267, 'friends_count': 242, 'listed_count': 368, 'created_at': 'Sat Aug 25 20:55:42 +0000 2012', 'favourites_count': 24734, 'utc_offset': None, 'time_zone': None, 'geo_enabled': False, 'verified': True, 'statuses_count': 30313, 'lang': None, 'contributors_enabled': False, 'is_translator': False, 'is_translation_enabled': False, 'profile_background_color': 'C0DEED', 'profile_background_image_url': 'http://abs.twimg.com/images/themes/theme1/bg.png', 'profile_background_image_url_https': 'https://abs.twimg.com/images/themes/theme1/bg.png', 'profile_background_tile': False, 'profile_image_url': 'http://pbs.twimg.com/profile_images/681518835912970240/TSyCYFc3_normal.jpg', 'profile_image_url_https': 'https://pbs.twimg.com/profile_images/681518835912970240/TSyCYFc3_normal.jpg', 'profile_banner_url': 'https://pbs.twimg.com/profile_banners/781078346/1451329419', 'profile_link_color': '1DA1F2', 'profile_sidebar_border_color': 'C0DEED', 'profile_sidebar_fill_color': 'DDEEF6', 'profile_text_color': '333333', 'profile_use_background_image': True, 'has_extended_profile': True, 'default_profile': True, 'default_profile_image': False, 'following': True, 'follow_request_sent': False, 'notifications': False, 'translator_type': 'none'}, 'geo': None, 'coordinates': None, 'place': None, 'contributors': None, 'is_quote_status': False, 'retweet_count': 5, 'favorite_count': 145, 'favorited': False, 'retweeted': False, 'possibly_sensitive': False, 'possibly_sensitive_appealable': False, 'lang': 'es'}, created_at=datetime.datetime(2021, 3, 29, 20, 2, 30), id=1376625834774175745, id_str='1376625834774175745', text='Gracias FanParty Monterrey...!!! @AnaLobo78 https://t.co/RsItHKMK2j', truncated=False, entities={'hashtags': [], 'symbols': [], 'user_mentions': [{'screen_name': 'AnaLobo78', 'name': 'Ana Lobo', 'id': 921021773390450688, 'id_str': '921021773390450688', 'indices': [33, 43]}], 'urls': [], 'media': [{'id': 1376625827316695044, 'id_str': '1376625827316695044', 'indices': [44, 67], 'media_url': 'http://pbs.twimg.com/media/ExrB5XHXAAQupa6.jpg', 'media_url_https': 'https://pbs.twimg.com/media/ExrB5XHXAAQupa6.jpg', 'url': 'https://t.co/RsItHKMK2j', 'display_url': 'pic.twitter.com/RsItHKMK2j', 'expanded_url': 'https://twitter.com/ccp_mario/status/1376625834774175745/photo/1', 'type': 'photo', 'sizes': {'small': {'w': 501, 'h': 680, 'resize': 'fit'}, 'thumb': {'w': 150, 'h': 150, 'resize': 'crop'}, 'large': {'w': 1508, 'h': 2048, 'resize': 'fit'}, 'medium': {'w': 884, 'h': 1200, 'resize': 'fit'}}}]}, extended_entities={'media': [{'id': 1376625827316695044, 'id_str': '1376625827316695044', 'indices': [44, 67], 'media_url': 'http://pbs.twimg.com/media/ExrB5XHXAAQupa6.jpg', 'media_url_https': 'https://pbs.twimg.com/media/ExrB5XHXAAQupa6.jpg', 'url': 'https://t.co/RsItHKMK2j', 'display_url': 'pic.twitter.com/RsItHKMK2j', 'expanded_url': 'https://twitter.com/ccp_mario/status/1376625834774175745/photo/1', 'type': 'photo', 'sizes': {'small': {'w': 501, 'h': 680, 'resize': 'fit'}, 'thumb': {'w': 150, 'h': 150, 'resize': 'crop'}, 'large': {'w': 1508, 'h': 2048, 'resize': 'fit'}, 'medium': {'w': 884, 'h': 1200, 'resize': 'fit'}}}, {'id': 1376625827308265480, 'id_str': '1376625827308265480', 'indices': [44, 67], 'media_url': 'http://pbs.twimg.com/media/ExrB5XFWYAg25kd.jpg', 'media_url_https': 'https://pbs.twimg.com/media/ExrB5XFWYAg25kd.jpg', 'url': 'https://t.co/RsItHKMK2j', 'display_url': 'pic.twitter.com/RsItHKMK2j', 'expanded_url': 'https://twitter.com/ccp_mario/status/1376625834774175745/photo/1', 'type': 'photo', 'sizes': {'thumb': {'w': 150, 'h': 150, 'resize': 'crop'}, 'medium': {'w': 1027, 'h': 1200, 'resize': 'fit'}, 'large': {'w': 1752, 'h': 2048, 'resize': 'fit'}, 'small': {'w': 582, 'h': 680, 'resize': 'fit'}}}, {'id': 1376625827295731721, 'id_str': '1376625827295731721', 'indices': [44, 67], 'media_url': 'http://pbs.twimg.com/media/ExrB5XCXIAkftjQ.jpg', 'media_url_https': 'https://pbs.twimg.com/media/ExrB5XCXIAkftjQ.jpg', 'url': 'https://t.co/RsItHKMK2j', 'display_url': 'pic.twitter.com/RsItHKMK2j', 'expanded_url': 'https://twitter.com/ccp_mario/status/1376625834774175745/photo/1', 'type': 'photo', 'sizes': {'medium': {'w': 1200, 'h': 976, 'resize': 'fit'}, 'thumb': {'w': 150, 'h': 150, 'resize': 'crop'}, 'small': {'w': 680, 'h': 553, 'resize': 'fit'}, 'large': {'w': 2048, 'h': 1666, 'resize': 'fit'}}}, {'id': 1376625827308318720, 'id_str': '1376625827308318720', 'indices': [44, 67], 'media_url': 'http://pbs.twimg.com/media/ExrB5XFXMAARxOI.jpg', 'media_url_https': 'https://pbs.twimg.com/media/ExrB5XFXMAARxOI.jpg', 'url': 'https://t.co/RsItHKMK2j', 'display_url': 'pic.twitter.com/RsItHKMK2j', 'expanded_url': 'https://twitter.com/ccp_mario/status/1376625834774175745/photo/1', 'type': 'photo', 'sizes': {'thumb': {'w': 150, 'h': 150, 'resize': 'crop'}, 'small': {'w': 680, 'h': 481, 'resize': 'fit'}, 'large': {'w': 2048, 'h': 1448, 'resize': 'fit'}, 'medium': {'w': 1200, 'h': 848, 'resize': 'fit'}}}]}, source='Twitter for iPhone', source_url='http://twitter.com/download/iphone', in_reply_to_status_id=None, in_reply_to_status_id_str=None, in_reply_to_user_id=None, in_reply_to_user_id_str=None, in_reply_to_screen_name=None, author=User(_api=<tweepy.api.API object at 0x7fb49984e250>, _json={'id': 781078346, 'id_str': '781078346', 'name': 'Mario C Castañeda P.', 'screen_name': 'ccp_mario', 'location': 'Contacto: grinchgoku@gmail.com', 'description': '¡Hola, soy Goku! Bueno, soy el actor de doblaje que ha doblado a muchos personajes, entre ellos a Goku...', 'url': 'https://t.co/jc31Bwg3go', 'entities': {'url': {'urls': [{'url': 'https://t.co/jc31Bwg3go', 'expanded_url': 'http://es.doblaje.wikia.com/wiki/Mario_Castañeda', 'display_url': 'es.doblaje.wikia.com/wiki/Mario_Cas…', 'indices': [0, 23]}]}, 'description': {'urls': []}}, 'protected': False, 'followers_count': 302267, 'friends_count': 242, 'listed_count': 368, 'created_at': 'Sat Aug 25 20:55:42 +0000 2012', 'favourites_count': 24734, 'utc_offset': None, 'time_zone': None, 'geo_enabled': False, 'verified': True, 'statuses_count': 30313, 'lang': None, 'contributors_enabled': False, 'is_translator': False, 'is_translation_enabled': False, 'profile_background_color': 'C0DEED', 'profile_background_image_url': 'http://abs.twimg.com/images/themes/theme1/bg.png', 'profile_background_image_url_https': 'https://abs.twimg.com/images/themes/theme1/bg.png', 'profile_background_tile': False, 'profile_image_url': 'http://pbs.twimg.com/profile_images/681518835912970240/TSyCYFc3_normal.jpg', 'profile_image_url_https': 'https://pbs.twimg.com/profile_images/681518835912970240/TSyCYFc3_normal.jpg', 'profile_banner_url': 'https://pbs.twimg.com/profile_banners/781078346/1451329419', 'profile_link_color': '1DA1F2', 'profile_sidebar_border_color': 'C0DEED', 'profile_sidebar_fill_color': 'DDEEF6', 'profile_text_color': '333333', 'profile_use_background_image': True, 'has_extended_profile': True, 'default_profile': True, 'default_profile_image': False, 'following': True, 'follow_request_sent': False, 'notifications': False, 'translator_type': 'none'}, id=781078346, id_str='781078346', name='Mario C Castañeda P.', screen_name='ccp_mario', location='Contacto: grinchgoku@gmail.com', description='¡Hola, soy Goku! Bueno, soy el actor de doblaje que ha doblado a muchos personajes, entre ellos a Goku...', url='https://t.co/jc31Bwg3go', entities={'url': {'urls': [{'url': 'https://t.co/jc31Bwg3go', 'expanded_url': 'http://es.doblaje.wikia.com/wiki/Mario_Castañeda', 'display_url': 'es.doblaje.wikia.com/wiki/Mario_Cas…', 'indices': [0, 23]}]}, 'description': {'urls': []}}, protected=False, followers_count=302267, friends_count=242, listed_count=368, created_at=datetime.datetime(2012, 8, 25, 20, 55, 42), favourites_count=24734, utc_offset=None, time_zone=None, geo_enabled=False, verified=True, statuses_count=30313, lang=None, contributors_enabled=False, is_translator=False, is_translation_enabled=False, profile_background_color='C0DEED', profile_background_image_url='http://abs.twimg.com/images/themes/theme1/bg.png', profile_background_image_url_https='https://abs.twimg.com/images/themes/theme1/bg.png', profile_background_tile=False, profile_image_url='http://pbs.twimg.com/profile_images/681518835912970240/TSyCYFc3_normal.jpg', profile_image_url_https='https://pbs.twimg.com/profile_images/681518835912970240/TSyCYFc3_normal.jpg', profile_banner_url='https://pbs.twimg.com/profile_banners/781078346/1451329419', profile_link_color='1DA1F2', profile_sidebar_border_color='C0DEED', profile_sidebar_fill_color='DDEEF6', profile_text_color='333333', profile_use_background_image=True, has_extended_profile=True, default_profile=True, default_profile_image=False, following=True, follow_request_sent=False, notifications=False, translator_type='none'), user=User(_api=<tweepy.api.API object at 0x7fb49984e250>, _json={'id': 781078346, 'id_str': '781078346', 'name': 'Mario C Castañeda P.', 'screen_name': 'ccp_mario', 'location': 'Contacto: grinchgoku@gmail.com', 'description': '¡Hola, soy Goku! Bueno, soy el actor de doblaje que ha doblado a muchos personajes, entre ellos a Goku...', 'url': 'https://t.co/jc31Bwg3go', 'entities': {'url': {'urls': [{'url': 'https://t.co/jc31Bwg3go', 'expanded_url': 'http://es.doblaje.wikia.com/wiki/Mario_Castañeda', 'display_url': 'es.doblaje.wikia.com/wiki/Mario_Cas…', 'indices': [0, 23]}]}, 'description': {'urls': []}}, 'protected': False, 'followers_count': 302267, 'friends_count': 242, 'listed_count': 368, 'created_at': 'Sat Aug 25 20:55:42 +0000 2012', 'favourites_count': 24734, 'utc_offset': None, 'time_zone': None, 'geo_enabled': False, 'verified': True, 'statuses_count': 30313, 'lang': None, 'contributors_enabled': False, 'is_translator': False, 'is_translation_enabled': False, 'profile_background_color': 'C0DEED', 'profile_background_image_url': 'http://abs.twimg.com/images/themes/theme1/bg.png', 'profile_background_image_url_https': 'https://abs.twimg.com/images/themes/theme1/bg.png', 'profile_background_tile': False, 'profile_image_url': 'http://pbs.twimg.com/profile_images/681518835912970240/TSyCYFc3_normal.jpg', 'profile_image_url_https': 'https://pbs.twimg.com/profile_images/681518835912970240/TSyCYFc3_normal.jpg', 'profile_banner_url': 'https://pbs.twimg.com/profile_banners/781078346/1451329419', 'profile_link_color': '1DA1F2', 'profile_sidebar_border_color': 'C0DEED', 'profile_sidebar_fill_color': 'DDEEF6', 'profile_text_color': '333333', 'profile_use_background_image': True, 'has_extended_profile': True, 'default_profile': True, 'default_profile_image': False, 'following': True, 'follow_request_sent': False, 'notifications': False, 'translator_type': 'none'}, id=781078346, id_str='781078346', name='Mario C Castañeda P.', screen_name='ccp_mario', location='Contacto: grinchgoku@gmail.com', description='¡Hola, soy Goku! Bueno, soy el actor de doblaje que ha doblado a muchos personajes, entre ellos a Goku...', url='https://t.co/jc31Bwg3go', entities={'url': {'urls': [{'url': 'https://t.co/jc31Bwg3go', 'expanded_url': 'http://es.doblaje.wikia.com/wiki/Mario_Castañeda', 'display_url': 'es.doblaje.wikia.com/wiki/Mario_Cas…', 'indices': [0, 23]}]}, 'description': {'urls': []}}, protected=False, followers_count=302267, friends_count=242, listed_count=368, created_at=datetime.datetime(2012, 8, 25, 20, 55, 42), favourites_count=24734, utc_offset=None, time_zone=None, geo_enabled=False, verified=True, statuses_count=30313, lang=None, contributors_enabled=False, is_translator=False, is_translation_enabled=False, profile_background_color='C0DEED', profile_background_image_url='http://abs.twimg.com/images/themes/theme1/bg.png', profile_background_image_url_https='https://abs.twimg.com/images/themes/theme1/bg.png', profile_background_tile=False, profile_image_url='http://pbs.twimg.com/profile_images/681518835912970240/TSyCYFc3_normal.jpg', profile_image_url_https='https://pbs.twimg.com/profile_images/681518835912970240/TSyCYFc3_normal.jpg', profile_banner_url='https://pbs.twimg.com/profile_banners/781078346/1451329419', profile_link_color='1DA1F2', profile_sidebar_border_color='C0DEED', profile_sidebar_fill_color='DDEEF6', profile_text_color='333333', profile_use_background_image=True, has_extended_profile=True, default_profile=True, default_profile_image=False, following=True, follow_request_sent=False, notifications=False, translator_type='none'), geo=None, coordinates=None, place=None, contributors=None, is_quote_status=False, retweet_count=5, favorite_count=145, favorited=False, retweeted=False, possibly_sensitive=False, possibly_sensitive_appealable=False, lang='es'),\n",
       " Status(_api=<tweepy.api.API object at 0x7fb49984e250>, _json={'created_at': 'Mon Mar 29 20:02:10 +0000 2021', 'id': 1376625753471639553, 'id_str': '1376625753471639553', 'text': 'Explore all of these #ItTakesTwoGame levels and more with a friend now! https://t.co/SiCyWVaJZJ', 'truncated': False, 'entities': {'hashtags': [{'text': 'ItTakesTwoGame', 'indices': [21, 36]}], 'symbols': [], 'user_mentions': [], 'urls': [{'url': 'https://t.co/SiCyWVaJZJ', 'expanded_url': 'http://x.ea.com/67071', 'display_url': 'x.ea.com/67071', 'indices': [72, 95]}]}, 'source': '<a href=\"https://mobile.twitter.com\" rel=\"nofollow\">Twitter Web App</a>', 'in_reply_to_status_id': 1376625751609368576, 'in_reply_to_status_id_str': '1376625751609368576', 'in_reply_to_user_id': 15234657, 'in_reply_to_user_id_str': '15234657', 'in_reply_to_screen_name': 'EA', 'user': {'id': 15234657, 'id_str': '15234657', 'name': 'Electronic Arts', 'screen_name': 'EA', 'location': 'Redwood City, CA', 'description': 'Official Twitter account for EA. Follow for updates on all your favorite EA games. For account help, visit https://t.co/5xFg35b7m1 or Tweet @EAHelp', 'url': 'https://t.co/bGInjY7zZP', 'entities': {'url': {'urls': [{'url': 'https://t.co/bGInjY7zZP', 'expanded_url': 'http://www.EA.com', 'display_url': 'EA.com', 'indices': [0, 23]}]}, 'description': {'urls': [{'url': 'https://t.co/5xFg35b7m1', 'expanded_url': 'http://help.ea.com', 'display_url': 'help.ea.com', 'indices': [107, 130]}]}}, 'protected': False, 'followers_count': 6098128, 'friends_count': 337, 'listed_count': 17527, 'created_at': 'Wed Jun 25 18:19:20 +0000 2008', 'favourites_count': 6200, 'utc_offset': None, 'time_zone': None, 'geo_enabled': False, 'verified': True, 'statuses_count': 31595, 'lang': None, 'contributors_enabled': False, 'is_translator': False, 'is_translation_enabled': False, 'profile_background_color': '000000', 'profile_background_image_url': 'http://abs.twimg.com/images/themes/theme14/bg.gif', 'profile_background_image_url_https': 'https://abs.twimg.com/images/themes/theme14/bg.gif', 'profile_background_tile': False, 'profile_image_url': 'http://pbs.twimg.com/profile_images/1375446149440569350/dnQX-Cbc_normal.jpg', 'profile_image_url_https': 'https://pbs.twimg.com/profile_images/1375446149440569350/dnQX-Cbc_normal.jpg', 'profile_banner_url': 'https://pbs.twimg.com/profile_banners/15234657/1616766893', 'profile_link_color': '1B95E0', 'profile_sidebar_border_color': '000000', 'profile_sidebar_fill_color': 'EFEFEF', 'profile_text_color': '333333', 'profile_use_background_image': True, 'has_extended_profile': False, 'default_profile': False, 'default_profile_image': False, 'following': True, 'follow_request_sent': False, 'notifications': False, 'translator_type': 'regular'}, 'geo': None, 'coordinates': None, 'place': None, 'contributors': None, 'is_quote_status': False, 'retweet_count': 0, 'favorite_count': 25, 'favorited': False, 'retweeted': False, 'possibly_sensitive': False, 'possibly_sensitive_appealable': False, 'lang': 'en'}, created_at=datetime.datetime(2021, 3, 29, 20, 2, 10), id=1376625753471639553, id_str='1376625753471639553', text='Explore all of these #ItTakesTwoGame levels and more with a friend now! https://t.co/SiCyWVaJZJ', truncated=False, entities={'hashtags': [{'text': 'ItTakesTwoGame', 'indices': [21, 36]}], 'symbols': [], 'user_mentions': [], 'urls': [{'url': 'https://t.co/SiCyWVaJZJ', 'expanded_url': 'http://x.ea.com/67071', 'display_url': 'x.ea.com/67071', 'indices': [72, 95]}]}, source='Twitter Web App', source_url='https://mobile.twitter.com', in_reply_to_status_id=1376625751609368576, in_reply_to_status_id_str='1376625751609368576', in_reply_to_user_id=15234657, in_reply_to_user_id_str='15234657', in_reply_to_screen_name='EA', author=User(_api=<tweepy.api.API object at 0x7fb49984e250>, _json={'id': 15234657, 'id_str': '15234657', 'name': 'Electronic Arts', 'screen_name': 'EA', 'location': 'Redwood City, CA', 'description': 'Official Twitter account for EA. Follow for updates on all your favorite EA games. For account help, visit https://t.co/5xFg35b7m1 or Tweet @EAHelp', 'url': 'https://t.co/bGInjY7zZP', 'entities': {'url': {'urls': [{'url': 'https://t.co/bGInjY7zZP', 'expanded_url': 'http://www.EA.com', 'display_url': 'EA.com', 'indices': [0, 23]}]}, 'description': {'urls': [{'url': 'https://t.co/5xFg35b7m1', 'expanded_url': 'http://help.ea.com', 'display_url': 'help.ea.com', 'indices': [107, 130]}]}}, 'protected': False, 'followers_count': 6098128, 'friends_count': 337, 'listed_count': 17527, 'created_at': 'Wed Jun 25 18:19:20 +0000 2008', 'favourites_count': 6200, 'utc_offset': None, 'time_zone': None, 'geo_enabled': False, 'verified': True, 'statuses_count': 31595, 'lang': None, 'contributors_enabled': False, 'is_translator': False, 'is_translation_enabled': False, 'profile_background_color': '000000', 'profile_background_image_url': 'http://abs.twimg.com/images/themes/theme14/bg.gif', 'profile_background_image_url_https': 'https://abs.twimg.com/images/themes/theme14/bg.gif', 'profile_background_tile': False, 'profile_image_url': 'http://pbs.twimg.com/profile_images/1375446149440569350/dnQX-Cbc_normal.jpg', 'profile_image_url_https': 'https://pbs.twimg.com/profile_images/1375446149440569350/dnQX-Cbc_normal.jpg', 'profile_banner_url': 'https://pbs.twimg.com/profile_banners/15234657/1616766893', 'profile_link_color': '1B95E0', 'profile_sidebar_border_color': '000000', 'profile_sidebar_fill_color': 'EFEFEF', 'profile_text_color': '333333', 'profile_use_background_image': True, 'has_extended_profile': False, 'default_profile': False, 'default_profile_image': False, 'following': True, 'follow_request_sent': False, 'notifications': False, 'translator_type': 'regular'}, id=15234657, id_str='15234657', name='Electronic Arts', screen_name='EA', location='Redwood City, CA', description='Official Twitter account for EA. Follow for updates on all your favorite EA games. For account help, visit https://t.co/5xFg35b7m1 or Tweet @EAHelp', url='https://t.co/bGInjY7zZP', entities={'url': {'urls': [{'url': 'https://t.co/bGInjY7zZP', 'expanded_url': 'http://www.EA.com', 'display_url': 'EA.com', 'indices': [0, 23]}]}, 'description': {'urls': [{'url': 'https://t.co/5xFg35b7m1', 'expanded_url': 'http://help.ea.com', 'display_url': 'help.ea.com', 'indices': [107, 130]}]}}, protected=False, followers_count=6098128, friends_count=337, listed_count=17527, created_at=datetime.datetime(2008, 6, 25, 18, 19, 20), favourites_count=6200, utc_offset=None, time_zone=None, geo_enabled=False, verified=True, statuses_count=31595, lang=None, contributors_enabled=False, is_translator=False, is_translation_enabled=False, profile_background_color='000000', profile_background_image_url='http://abs.twimg.com/images/themes/theme14/bg.gif', profile_background_image_url_https='https://abs.twimg.com/images/themes/theme14/bg.gif', profile_background_tile=False, profile_image_url='http://pbs.twimg.com/profile_images/1375446149440569350/dnQX-Cbc_normal.jpg', profile_image_url_https='https://pbs.twimg.com/profile_images/1375446149440569350/dnQX-Cbc_normal.jpg', profile_banner_url='https://pbs.twimg.com/profile_banners/15234657/1616766893', profile_link_color='1B95E0', profile_sidebar_border_color='000000', profile_sidebar_fill_color='EFEFEF', profile_text_color='333333', profile_use_background_image=True, has_extended_profile=False, default_profile=False, default_profile_image=False, following=True, follow_request_sent=False, notifications=False, translator_type='regular'), user=User(_api=<tweepy.api.API object at 0x7fb49984e250>, _json={'id': 15234657, 'id_str': '15234657', 'name': 'Electronic Arts', 'screen_name': 'EA', 'location': 'Redwood City, CA', 'description': 'Official Twitter account for EA. Follow for updates on all your favorite EA games. For account help, visit https://t.co/5xFg35b7m1 or Tweet @EAHelp', 'url': 'https://t.co/bGInjY7zZP', 'entities': {'url': {'urls': [{'url': 'https://t.co/bGInjY7zZP', 'expanded_url': 'http://www.EA.com', 'display_url': 'EA.com', 'indices': [0, 23]}]}, 'description': {'urls': [{'url': 'https://t.co/5xFg35b7m1', 'expanded_url': 'http://help.ea.com', 'display_url': 'help.ea.com', 'indices': [107, 130]}]}}, 'protected': False, 'followers_count': 6098128, 'friends_count': 337, 'listed_count': 17527, 'created_at': 'Wed Jun 25 18:19:20 +0000 2008', 'favourites_count': 6200, 'utc_offset': None, 'time_zone': None, 'geo_enabled': False, 'verified': True, 'statuses_count': 31595, 'lang': None, 'contributors_enabled': False, 'is_translator': False, 'is_translation_enabled': False, 'profile_background_color': '000000', 'profile_background_image_url': 'http://abs.twimg.com/images/themes/theme14/bg.gif', 'profile_background_image_url_https': 'https://abs.twimg.com/images/themes/theme14/bg.gif', 'profile_background_tile': False, 'profile_image_url': 'http://pbs.twimg.com/profile_images/1375446149440569350/dnQX-Cbc_normal.jpg', 'profile_image_url_https': 'https://pbs.twimg.com/profile_images/1375446149440569350/dnQX-Cbc_normal.jpg', 'profile_banner_url': 'https://pbs.twimg.com/profile_banners/15234657/1616766893', 'profile_link_color': '1B95E0', 'profile_sidebar_border_color': '000000', 'profile_sidebar_fill_color': 'EFEFEF', 'profile_text_color': '333333', 'profile_use_background_image': True, 'has_extended_profile': False, 'default_profile': False, 'default_profile_image': False, 'following': True, 'follow_request_sent': False, 'notifications': False, 'translator_type': 'regular'}, id=15234657, id_str='15234657', name='Electronic Arts', screen_name='EA', location='Redwood City, CA', description='Official Twitter account for EA. Follow for updates on all your favorite EA games. For account help, visit https://t.co/5xFg35b7m1 or Tweet @EAHelp', url='https://t.co/bGInjY7zZP', entities={'url': {'urls': [{'url': 'https://t.co/bGInjY7zZP', 'expanded_url': 'http://www.EA.com', 'display_url': 'EA.com', 'indices': [0, 23]}]}, 'description': {'urls': [{'url': 'https://t.co/5xFg35b7m1', 'expanded_url': 'http://help.ea.com', 'display_url': 'help.ea.com', 'indices': [107, 130]}]}}, protected=False, followers_count=6098128, friends_count=337, listed_count=17527, created_at=datetime.datetime(2008, 6, 25, 18, 19, 20), favourites_count=6200, utc_offset=None, time_zone=None, geo_enabled=False, verified=True, statuses_count=31595, lang=None, contributors_enabled=False, is_translator=False, is_translation_enabled=False, profile_background_color='000000', profile_background_image_url='http://abs.twimg.com/images/themes/theme14/bg.gif', profile_background_image_url_https='https://abs.twimg.com/images/themes/theme14/bg.gif', profile_background_tile=False, profile_image_url='http://pbs.twimg.com/profile_images/1375446149440569350/dnQX-Cbc_normal.jpg', profile_image_url_https='https://pbs.twimg.com/profile_images/1375446149440569350/dnQX-Cbc_normal.jpg', profile_banner_url='https://pbs.twimg.com/profile_banners/15234657/1616766893', profile_link_color='1B95E0', profile_sidebar_border_color='000000', profile_sidebar_fill_color='EFEFEF', profile_text_color='333333', profile_use_background_image=True, has_extended_profile=False, default_profile=False, default_profile_image=False, following=True, follow_request_sent=False, notifications=False, translator_type='regular'), geo=None, coordinates=None, place=None, contributors=None, is_quote_status=False, retweet_count=0, favorite_count=25, favorited=False, retweeted=False, possibly_sensitive=False, possibly_sensitive_appealable=False, lang='en'),\n",
       " Status(_api=<tweepy.api.API object at 0x7fb49984e250>, _json={'created_at': 'Mon Mar 29 20:02:10 +0000 2021', 'id': 1376625751609368576, 'id_str': '1376625751609368576', 'text': \"This level is worthy of an encore! 👏 Reignite May's true passion in the Music Level! 🎤🎶 https://t.co/77uERFW65z\", 'truncated': False, 'entities': {'hashtags': [], 'symbols': [], 'user_mentions': [], 'urls': [], 'media': [{'id': 1376624405854388225, 'id_str': '1376624405854388225', 'indices': [88, 111], 'media_url': 'http://pbs.twimg.com/ext_tw_video_thumb/1376624405854388225/pu/img/It8wUOcXu574-379.jpg', 'media_url_https': 'https://pbs.twimg.com/ext_tw_video_thumb/1376624405854388225/pu/img/It8wUOcXu574-379.jpg', 'url': 'https://t.co/77uERFW65z', 'display_url': 'pic.twitter.com/77uERFW65z', 'expanded_url': 'https://twitter.com/EA/status/1376625751609368576/video/1', 'type': 'photo', 'sizes': {'thumb': {'w': 150, 'h': 150, 'resize': 'crop'}, 'small': {'w': 680, 'h': 680, 'resize': 'fit'}, 'medium': {'w': 720, 'h': 720, 'resize': 'fit'}, 'large': {'w': 720, 'h': 720, 'resize': 'fit'}}}]}, 'extended_entities': {'media': [{'id': 1376624405854388225, 'id_str': '1376624405854388225', 'indices': [88, 111], 'media_url': 'http://pbs.twimg.com/ext_tw_video_thumb/1376624405854388225/pu/img/It8wUOcXu574-379.jpg', 'media_url_https': 'https://pbs.twimg.com/ext_tw_video_thumb/1376624405854388225/pu/img/It8wUOcXu574-379.jpg', 'url': 'https://t.co/77uERFW65z', 'display_url': 'pic.twitter.com/77uERFW65z', 'expanded_url': 'https://twitter.com/EA/status/1376625751609368576/video/1', 'type': 'video', 'sizes': {'thumb': {'w': 150, 'h': 150, 'resize': 'crop'}, 'small': {'w': 680, 'h': 680, 'resize': 'fit'}, 'medium': {'w': 720, 'h': 720, 'resize': 'fit'}, 'large': {'w': 720, 'h': 720, 'resize': 'fit'}}, 'video_info': {'aspect_ratio': [1, 1], 'duration_millis': 15000, 'variants': [{'bitrate': 1280000, 'content_type': 'video/mp4', 'url': 'https://video.twimg.com/ext_tw_video/1376624405854388225/pu/vid/720x720/WHiERAP5cvMwQga4.mp4?tag=12'}, {'content_type': 'application/x-mpegURL', 'url': 'https://video.twimg.com/ext_tw_video/1376624405854388225/pu/pl/bZwOt2RhfGWM4XK-.m3u8?tag=12'}, {'bitrate': 832000, 'content_type': 'video/mp4', 'url': 'https://video.twimg.com/ext_tw_video/1376624405854388225/pu/vid/540x540/NI49Lw2P3wXdDl-I.mp4?tag=12'}, {'bitrate': 432000, 'content_type': 'video/mp4', 'url': 'https://video.twimg.com/ext_tw_video/1376624405854388225/pu/vid/320x320/4wPREyUETIPJcUNA.mp4?tag=12'}]}, 'additional_media_info': {'monetizable': False}}]}, 'source': '<a href=\"https://mobile.twitter.com\" rel=\"nofollow\">Twitter Web App</a>', 'in_reply_to_status_id': 1376625684399804420, 'in_reply_to_status_id_str': '1376625684399804420', 'in_reply_to_user_id': 15234657, 'in_reply_to_user_id_str': '15234657', 'in_reply_to_screen_name': 'EA', 'user': {'id': 15234657, 'id_str': '15234657', 'name': 'Electronic Arts', 'screen_name': 'EA', 'location': 'Redwood City, CA', 'description': 'Official Twitter account for EA. Follow for updates on all your favorite EA games. For account help, visit https://t.co/5xFg35b7m1 or Tweet @EAHelp', 'url': 'https://t.co/bGInjY7zZP', 'entities': {'url': {'urls': [{'url': 'https://t.co/bGInjY7zZP', 'expanded_url': 'http://www.EA.com', 'display_url': 'EA.com', 'indices': [0, 23]}]}, 'description': {'urls': [{'url': 'https://t.co/5xFg35b7m1', 'expanded_url': 'http://help.ea.com', 'display_url': 'help.ea.com', 'indices': [107, 130]}]}}, 'protected': False, 'followers_count': 6098128, 'friends_count': 337, 'listed_count': 17527, 'created_at': 'Wed Jun 25 18:19:20 +0000 2008', 'favourites_count': 6200, 'utc_offset': None, 'time_zone': None, 'geo_enabled': False, 'verified': True, 'statuses_count': 31595, 'lang': None, 'contributors_enabled': False, 'is_translator': False, 'is_translation_enabled': False, 'profile_background_color': '000000', 'profile_background_image_url': 'http://abs.twimg.com/images/themes/theme14/bg.gif', 'profile_background_image_url_https': 'https://abs.twimg.com/images/themes/theme14/bg.gif', 'profile_background_tile': False, 'profile_image_url': 'http://pbs.twimg.com/profile_images/1375446149440569350/dnQX-Cbc_normal.jpg', 'profile_image_url_https': 'https://pbs.twimg.com/profile_images/1375446149440569350/dnQX-Cbc_normal.jpg', 'profile_banner_url': 'https://pbs.twimg.com/profile_banners/15234657/1616766893', 'profile_link_color': '1B95E0', 'profile_sidebar_border_color': '000000', 'profile_sidebar_fill_color': 'EFEFEF', 'profile_text_color': '333333', 'profile_use_background_image': True, 'has_extended_profile': False, 'default_profile': False, 'default_profile_image': False, 'following': True, 'follow_request_sent': False, 'notifications': False, 'translator_type': 'regular'}, 'geo': None, 'coordinates': None, 'place': None, 'contributors': None, 'is_quote_status': False, 'retweet_count': 0, 'favorite_count': 26, 'favorited': False, 'retweeted': False, 'possibly_sensitive': False, 'possibly_sensitive_appealable': False, 'lang': 'en'}, created_at=datetime.datetime(2021, 3, 29, 20, 2, 10), id=1376625751609368576, id_str='1376625751609368576', text=\"This level is worthy of an encore! 👏 Reignite May's true passion in the Music Level! 🎤🎶 https://t.co/77uERFW65z\", truncated=False, entities={'hashtags': [], 'symbols': [], 'user_mentions': [], 'urls': [], 'media': [{'id': 1376624405854388225, 'id_str': '1376624405854388225', 'indices': [88, 111], 'media_url': 'http://pbs.twimg.com/ext_tw_video_thumb/1376624405854388225/pu/img/It8wUOcXu574-379.jpg', 'media_url_https': 'https://pbs.twimg.com/ext_tw_video_thumb/1376624405854388225/pu/img/It8wUOcXu574-379.jpg', 'url': 'https://t.co/77uERFW65z', 'display_url': 'pic.twitter.com/77uERFW65z', 'expanded_url': 'https://twitter.com/EA/status/1376625751609368576/video/1', 'type': 'photo', 'sizes': {'thumb': {'w': 150, 'h': 150, 'resize': 'crop'}, 'small': {'w': 680, 'h': 680, 'resize': 'fit'}, 'medium': {'w': 720, 'h': 720, 'resize': 'fit'}, 'large': {'w': 720, 'h': 720, 'resize': 'fit'}}}]}, extended_entities={'media': [{'id': 1376624405854388225, 'id_str': '1376624405854388225', 'indices': [88, 111], 'media_url': 'http://pbs.twimg.com/ext_tw_video_thumb/1376624405854388225/pu/img/It8wUOcXu574-379.jpg', 'media_url_https': 'https://pbs.twimg.com/ext_tw_video_thumb/1376624405854388225/pu/img/It8wUOcXu574-379.jpg', 'url': 'https://t.co/77uERFW65z', 'display_url': 'pic.twitter.com/77uERFW65z', 'expanded_url': 'https://twitter.com/EA/status/1376625751609368576/video/1', 'type': 'video', 'sizes': {'thumb': {'w': 150, 'h': 150, 'resize': 'crop'}, 'small': {'w': 680, 'h': 680, 'resize': 'fit'}, 'medium': {'w': 720, 'h': 720, 'resize': 'fit'}, 'large': {'w': 720, 'h': 720, 'resize': 'fit'}}, 'video_info': {'aspect_ratio': [1, 1], 'duration_millis': 15000, 'variants': [{'bitrate': 1280000, 'content_type': 'video/mp4', 'url': 'https://video.twimg.com/ext_tw_video/1376624405854388225/pu/vid/720x720/WHiERAP5cvMwQga4.mp4?tag=12'}, {'content_type': 'application/x-mpegURL', 'url': 'https://video.twimg.com/ext_tw_video/1376624405854388225/pu/pl/bZwOt2RhfGWM4XK-.m3u8?tag=12'}, {'bitrate': 832000, 'content_type': 'video/mp4', 'url': 'https://video.twimg.com/ext_tw_video/1376624405854388225/pu/vid/540x540/NI49Lw2P3wXdDl-I.mp4?tag=12'}, {'bitrate': 432000, 'content_type': 'video/mp4', 'url': 'https://video.twimg.com/ext_tw_video/1376624405854388225/pu/vid/320x320/4wPREyUETIPJcUNA.mp4?tag=12'}]}, 'additional_media_info': {'monetizable': False}}]}, source='Twitter Web App', source_url='https://mobile.twitter.com', in_reply_to_status_id=1376625684399804420, in_reply_to_status_id_str='1376625684399804420', in_reply_to_user_id=15234657, in_reply_to_user_id_str='15234657', in_reply_to_screen_name='EA', author=User(_api=<tweepy.api.API object at 0x7fb49984e250>, _json={'id': 15234657, 'id_str': '15234657', 'name': 'Electronic Arts', 'screen_name': 'EA', 'location': 'Redwood City, CA', 'description': 'Official Twitter account for EA. Follow for updates on all your favorite EA games. For account help, visit https://t.co/5xFg35b7m1 or Tweet @EAHelp', 'url': 'https://t.co/bGInjY7zZP', 'entities': {'url': {'urls': [{'url': 'https://t.co/bGInjY7zZP', 'expanded_url': 'http://www.EA.com', 'display_url': 'EA.com', 'indices': [0, 23]}]}, 'description': {'urls': [{'url': 'https://t.co/5xFg35b7m1', 'expanded_url': 'http://help.ea.com', 'display_url': 'help.ea.com', 'indices': [107, 130]}]}}, 'protected': False, 'followers_count': 6098128, 'friends_count': 337, 'listed_count': 17527, 'created_at': 'Wed Jun 25 18:19:20 +0000 2008', 'favourites_count': 6200, 'utc_offset': None, 'time_zone': None, 'geo_enabled': False, 'verified': True, 'statuses_count': 31595, 'lang': None, 'contributors_enabled': False, 'is_translator': False, 'is_translation_enabled': False, 'profile_background_color': '000000', 'profile_background_image_url': 'http://abs.twimg.com/images/themes/theme14/bg.gif', 'profile_background_image_url_https': 'https://abs.twimg.com/images/themes/theme14/bg.gif', 'profile_background_tile': False, 'profile_image_url': 'http://pbs.twimg.com/profile_images/1375446149440569350/dnQX-Cbc_normal.jpg', 'profile_image_url_https': 'https://pbs.twimg.com/profile_images/1375446149440569350/dnQX-Cbc_normal.jpg', 'profile_banner_url': 'https://pbs.twimg.com/profile_banners/15234657/1616766893', 'profile_link_color': '1B95E0', 'profile_sidebar_border_color': '000000', 'profile_sidebar_fill_color': 'EFEFEF', 'profile_text_color': '333333', 'profile_use_background_image': True, 'has_extended_profile': False, 'default_profile': False, 'default_profile_image': False, 'following': True, 'follow_request_sent': False, 'notifications': False, 'translator_type': 'regular'}, id=15234657, id_str='15234657', name='Electronic Arts', screen_name='EA', location='Redwood City, CA', description='Official Twitter account for EA. Follow for updates on all your favorite EA games. For account help, visit https://t.co/5xFg35b7m1 or Tweet @EAHelp', url='https://t.co/bGInjY7zZP', entities={'url': {'urls': [{'url': 'https://t.co/bGInjY7zZP', 'expanded_url': 'http://www.EA.com', 'display_url': 'EA.com', 'indices': [0, 23]}]}, 'description': {'urls': [{'url': 'https://t.co/5xFg35b7m1', 'expanded_url': 'http://help.ea.com', 'display_url': 'help.ea.com', 'indices': [107, 130]}]}}, protected=False, followers_count=6098128, friends_count=337, listed_count=17527, created_at=datetime.datetime(2008, 6, 25, 18, 19, 20), favourites_count=6200, utc_offset=None, time_zone=None, geo_enabled=False, verified=True, statuses_count=31595, lang=None, contributors_enabled=False, is_translator=False, is_translation_enabled=False, profile_background_color='000000', profile_background_image_url='http://abs.twimg.com/images/themes/theme14/bg.gif', profile_background_image_url_https='https://abs.twimg.com/images/themes/theme14/bg.gif', profile_background_tile=False, profile_image_url='http://pbs.twimg.com/profile_images/1375446149440569350/dnQX-Cbc_normal.jpg', profile_image_url_https='https://pbs.twimg.com/profile_images/1375446149440569350/dnQX-Cbc_normal.jpg', profile_banner_url='https://pbs.twimg.com/profile_banners/15234657/1616766893', profile_link_color='1B95E0', profile_sidebar_border_color='000000', profile_sidebar_fill_color='EFEFEF', profile_text_color='333333', profile_use_background_image=True, has_extended_profile=False, default_profile=False, default_profile_image=False, following=True, follow_request_sent=False, notifications=False, translator_type='regular'), user=User(_api=<tweepy.api.API object at 0x7fb49984e250>, _json={'id': 15234657, 'id_str': '15234657', 'name': 'Electronic Arts', 'screen_name': 'EA', 'location': 'Redwood City, CA', 'description': 'Official Twitter account for EA. Follow for updates on all your favorite EA games. For account help, visit https://t.co/5xFg35b7m1 or Tweet @EAHelp', 'url': 'https://t.co/bGInjY7zZP', 'entities': {'url': {'urls': [{'url': 'https://t.co/bGInjY7zZP', 'expanded_url': 'http://www.EA.com', 'display_url': 'EA.com', 'indices': [0, 23]}]}, 'description': {'urls': [{'url': 'https://t.co/5xFg35b7m1', 'expanded_url': 'http://help.ea.com', 'display_url': 'help.ea.com', 'indices': [107, 130]}]}}, 'protected': False, 'followers_count': 6098128, 'friends_count': 337, 'listed_count': 17527, 'created_at': 'Wed Jun 25 18:19:20 +0000 2008', 'favourites_count': 6200, 'utc_offset': None, 'time_zone': None, 'geo_enabled': False, 'verified': True, 'statuses_count': 31595, 'lang': None, 'contributors_enabled': False, 'is_translator': False, 'is_translation_enabled': False, 'profile_background_color': '000000', 'profile_background_image_url': 'http://abs.twimg.com/images/themes/theme14/bg.gif', 'profile_background_image_url_https': 'https://abs.twimg.com/images/themes/theme14/bg.gif', 'profile_background_tile': False, 'profile_image_url': 'http://pbs.twimg.com/profile_images/1375446149440569350/dnQX-Cbc_normal.jpg', 'profile_image_url_https': 'https://pbs.twimg.com/profile_images/1375446149440569350/dnQX-Cbc_normal.jpg', 'profile_banner_url': 'https://pbs.twimg.com/profile_banners/15234657/1616766893', 'profile_link_color': '1B95E0', 'profile_sidebar_border_color': '000000', 'profile_sidebar_fill_color': 'EFEFEF', 'profile_text_color': '333333', 'profile_use_background_image': True, 'has_extended_profile': False, 'default_profile': False, 'default_profile_image': False, 'following': True, 'follow_request_sent': False, 'notifications': False, 'translator_type': 'regular'}, id=15234657, id_str='15234657', name='Electronic Arts', screen_name='EA', location='Redwood City, CA', description='Official Twitter account for EA. Follow for updates on all your favorite EA games. For account help, visit https://t.co/5xFg35b7m1 or Tweet @EAHelp', url='https://t.co/bGInjY7zZP', entities={'url': {'urls': [{'url': 'https://t.co/bGInjY7zZP', 'expanded_url': 'http://www.EA.com', 'display_url': 'EA.com', 'indices': [0, 23]}]}, 'description': {'urls': [{'url': 'https://t.co/5xFg35b7m1', 'expanded_url': 'http://help.ea.com', 'display_url': 'help.ea.com', 'indices': [107, 130]}]}}, protected=False, followers_count=6098128, friends_count=337, listed_count=17527, created_at=datetime.datetime(2008, 6, 25, 18, 19, 20), favourites_count=6200, utc_offset=None, time_zone=None, geo_enabled=False, verified=True, statuses_count=31595, lang=None, contributors_enabled=False, is_translator=False, is_translation_enabled=False, profile_background_color='000000', profile_background_image_url='http://abs.twimg.com/images/themes/theme14/bg.gif', profile_background_image_url_https='https://abs.twimg.com/images/themes/theme14/bg.gif', profile_background_tile=False, profile_image_url='http://pbs.twimg.com/profile_images/1375446149440569350/dnQX-Cbc_normal.jpg', profile_image_url_https='https://pbs.twimg.com/profile_images/1375446149440569350/dnQX-Cbc_normal.jpg', profile_banner_url='https://pbs.twimg.com/profile_banners/15234657/1616766893', profile_link_color='1B95E0', profile_sidebar_border_color='000000', profile_sidebar_fill_color='EFEFEF', profile_text_color='333333', profile_use_background_image=True, has_extended_profile=False, default_profile=False, default_profile_image=False, following=True, follow_request_sent=False, notifications=False, translator_type='regular'), geo=None, coordinates=None, place=None, contributors=None, is_quote_status=False, retweet_count=0, favorite_count=26, favorited=False, retweeted=False, possibly_sensitive=False, possibly_sensitive_appealable=False, lang='en'),\n",
       " Status(_api=<tweepy.api.API object at 0x7fb49984e250>, _json={'created_at': 'Mon Mar 29 20:02:05 +0000 2021', 'id': 1376625730478559237, 'id_str': '1376625730478559237', 'text': 'The regulator says the high risks already inherent in crypto assets is further being compounded by scam activity. https://t.co/afJPZQ5xz1', 'truncated': False, 'entities': {'hashtags': [], 'symbols': [], 'user_mentions': [], 'urls': [{'url': 'https://t.co/afJPZQ5xz1', 'expanded_url': 'https://zpr.io/RY8eq', 'display_url': 'zpr.io/RY8eq', 'indices': [114, 137]}]}, 'source': '<a href=\"https://zapier.com/\" rel=\"nofollow\">Zapier.com</a>', 'in_reply_to_status_id': None, 'in_reply_to_status_id_str': None, 'in_reply_to_user_id': None, 'in_reply_to_user_id_str': None, 'in_reply_to_screen_name': None, 'user': {'id': 3367334171, 'id_str': '3367334171', 'name': 'Bitcoin News', 'screen_name': 'BTCTN', 'location': 'World Wide', 'description': 'Official Twitter account for https://t.co/Y3Sm6N0oR5. Follow us for all the latest Bitcoin news and services! Follow @bitcoincom for all https://t.co/5vSQA17h1m updates.', 'url': 'https://t.co/oZCuHV2ZwX', 'entities': {'url': {'urls': [{'url': 'https://t.co/oZCuHV2ZwX', 'expanded_url': 'http://www.Bitcoin.com', 'display_url': 'Bitcoin.com', 'indices': [0, 23]}]}, 'description': {'urls': [{'url': 'https://t.co/Y3Sm6N0oR5', 'expanded_url': 'http://news.bitcoin.com', 'display_url': 'news.bitcoin.com', 'indices': [29, 52]}, {'url': 'https://t.co/5vSQA17h1m', 'expanded_url': 'http://bitcoin.com', 'display_url': 'bitcoin.com', 'indices': [137, 160]}]}}, 'protected': False, 'followers_count': 921123, 'friends_count': 929, 'listed_count': 5559, 'created_at': 'Thu Jul 09 08:58:22 +0000 2015', 'favourites_count': 10108, 'utc_offset': None, 'time_zone': None, 'geo_enabled': True, 'verified': True, 'statuses_count': 17907, 'lang': None, 'contributors_enabled': False, 'is_translator': False, 'is_translation_enabled': False, 'profile_background_color': '000000', 'profile_background_image_url': 'http://abs.twimg.com/images/themes/theme1/bg.png', 'profile_background_image_url_https': 'https://abs.twimg.com/images/themes/theme1/bg.png', 'profile_background_tile': False, 'profile_image_url': 'http://pbs.twimg.com/profile_images/1140965421908144128/_80iSgFS_normal.png', 'profile_image_url_https': 'https://pbs.twimg.com/profile_images/1140965421908144128/_80iSgFS_normal.png', 'profile_banner_url': 'https://pbs.twimg.com/profile_banners/3367334171/1560756921', 'profile_link_color': '0AC18E', 'profile_sidebar_border_color': '000000', 'profile_sidebar_fill_color': '000000', 'profile_text_color': '000000', 'profile_use_background_image': False, 'has_extended_profile': False, 'default_profile': False, 'default_profile_image': False, 'following': True, 'follow_request_sent': False, 'notifications': False, 'translator_type': 'none'}, 'geo': None, 'coordinates': None, 'place': None, 'contributors': None, 'is_quote_status': False, 'retweet_count': 6, 'favorite_count': 22, 'favorited': False, 'retweeted': False, 'possibly_sensitive': False, 'possibly_sensitive_appealable': False, 'lang': 'en'}, created_at=datetime.datetime(2021, 3, 29, 20, 2, 5), id=1376625730478559237, id_str='1376625730478559237', text='The regulator says the high risks already inherent in crypto assets is further being compounded by scam activity. https://t.co/afJPZQ5xz1', truncated=False, entities={'hashtags': [], 'symbols': [], 'user_mentions': [], 'urls': [{'url': 'https://t.co/afJPZQ5xz1', 'expanded_url': 'https://zpr.io/RY8eq', 'display_url': 'zpr.io/RY8eq', 'indices': [114, 137]}]}, source='Zapier.com', source_url='https://zapier.com/', in_reply_to_status_id=None, in_reply_to_status_id_str=None, in_reply_to_user_id=None, in_reply_to_user_id_str=None, in_reply_to_screen_name=None, author=User(_api=<tweepy.api.API object at 0x7fb49984e250>, _json={'id': 3367334171, 'id_str': '3367334171', 'name': 'Bitcoin News', 'screen_name': 'BTCTN', 'location': 'World Wide', 'description': 'Official Twitter account for https://t.co/Y3Sm6N0oR5. Follow us for all the latest Bitcoin news and services! Follow @bitcoincom for all https://t.co/5vSQA17h1m updates.', 'url': 'https://t.co/oZCuHV2ZwX', 'entities': {'url': {'urls': [{'url': 'https://t.co/oZCuHV2ZwX', 'expanded_url': 'http://www.Bitcoin.com', 'display_url': 'Bitcoin.com', 'indices': [0, 23]}]}, 'description': {'urls': [{'url': 'https://t.co/Y3Sm6N0oR5', 'expanded_url': 'http://news.bitcoin.com', 'display_url': 'news.bitcoin.com', 'indices': [29, 52]}, {'url': 'https://t.co/5vSQA17h1m', 'expanded_url': 'http://bitcoin.com', 'display_url': 'bitcoin.com', 'indices': [137, 160]}]}}, 'protected': False, 'followers_count': 921123, 'friends_count': 929, 'listed_count': 5559, 'created_at': 'Thu Jul 09 08:58:22 +0000 2015', 'favourites_count': 10108, 'utc_offset': None, 'time_zone': None, 'geo_enabled': True, 'verified': True, 'statuses_count': 17907, 'lang': None, 'contributors_enabled': False, 'is_translator': False, 'is_translation_enabled': False, 'profile_background_color': '000000', 'profile_background_image_url': 'http://abs.twimg.com/images/themes/theme1/bg.png', 'profile_background_image_url_https': 'https://abs.twimg.com/images/themes/theme1/bg.png', 'profile_background_tile': False, 'profile_image_url': 'http://pbs.twimg.com/profile_images/1140965421908144128/_80iSgFS_normal.png', 'profile_image_url_https': 'https://pbs.twimg.com/profile_images/1140965421908144128/_80iSgFS_normal.png', 'profile_banner_url': 'https://pbs.twimg.com/profile_banners/3367334171/1560756921', 'profile_link_color': '0AC18E', 'profile_sidebar_border_color': '000000', 'profile_sidebar_fill_color': '000000', 'profile_text_color': '000000', 'profile_use_background_image': False, 'has_extended_profile': False, 'default_profile': False, 'default_profile_image': False, 'following': True, 'follow_request_sent': False, 'notifications': False, 'translator_type': 'none'}, id=3367334171, id_str='3367334171', name='Bitcoin News', screen_name='BTCTN', location='World Wide', description='Official Twitter account for https://t.co/Y3Sm6N0oR5. Follow us for all the latest Bitcoin news and services! Follow @bitcoincom for all https://t.co/5vSQA17h1m updates.', url='https://t.co/oZCuHV2ZwX', entities={'url': {'urls': [{'url': 'https://t.co/oZCuHV2ZwX', 'expanded_url': 'http://www.Bitcoin.com', 'display_url': 'Bitcoin.com', 'indices': [0, 23]}]}, 'description': {'urls': [{'url': 'https://t.co/Y3Sm6N0oR5', 'expanded_url': 'http://news.bitcoin.com', 'display_url': 'news.bitcoin.com', 'indices': [29, 52]}, {'url': 'https://t.co/5vSQA17h1m', 'expanded_url': 'http://bitcoin.com', 'display_url': 'bitcoin.com', 'indices': [137, 160]}]}}, protected=False, followers_count=921123, friends_count=929, listed_count=5559, created_at=datetime.datetime(2015, 7, 9, 8, 58, 22), favourites_count=10108, utc_offset=None, time_zone=None, geo_enabled=True, verified=True, statuses_count=17907, lang=None, contributors_enabled=False, is_translator=False, is_translation_enabled=False, profile_background_color='000000', profile_background_image_url='http://abs.twimg.com/images/themes/theme1/bg.png', profile_background_image_url_https='https://abs.twimg.com/images/themes/theme1/bg.png', profile_background_tile=False, profile_image_url='http://pbs.twimg.com/profile_images/1140965421908144128/_80iSgFS_normal.png', profile_image_url_https='https://pbs.twimg.com/profile_images/1140965421908144128/_80iSgFS_normal.png', profile_banner_url='https://pbs.twimg.com/profile_banners/3367334171/1560756921', profile_link_color='0AC18E', profile_sidebar_border_color='000000', profile_sidebar_fill_color='000000', profile_text_color='000000', profile_use_background_image=False, has_extended_profile=False, default_profile=False, default_profile_image=False, following=True, follow_request_sent=False, notifications=False, translator_type='none'), user=User(_api=<tweepy.api.API object at 0x7fb49984e250>, _json={'id': 3367334171, 'id_str': '3367334171', 'name': 'Bitcoin News', 'screen_name': 'BTCTN', 'location': 'World Wide', 'description': 'Official Twitter account for https://t.co/Y3Sm6N0oR5. Follow us for all the latest Bitcoin news and services! Follow @bitcoincom for all https://t.co/5vSQA17h1m updates.', 'url': 'https://t.co/oZCuHV2ZwX', 'entities': {'url': {'urls': [{'url': 'https://t.co/oZCuHV2ZwX', 'expanded_url': 'http://www.Bitcoin.com', 'display_url': 'Bitcoin.com', 'indices': [0, 23]}]}, 'description': {'urls': [{'url': 'https://t.co/Y3Sm6N0oR5', 'expanded_url': 'http://news.bitcoin.com', 'display_url': 'news.bitcoin.com', 'indices': [29, 52]}, {'url': 'https://t.co/5vSQA17h1m', 'expanded_url': 'http://bitcoin.com', 'display_url': 'bitcoin.com', 'indices': [137, 160]}]}}, 'protected': False, 'followers_count': 921123, 'friends_count': 929, 'listed_count': 5559, 'created_at': 'Thu Jul 09 08:58:22 +0000 2015', 'favourites_count': 10108, 'utc_offset': None, 'time_zone': None, 'geo_enabled': True, 'verified': True, 'statuses_count': 17907, 'lang': None, 'contributors_enabled': False, 'is_translator': False, 'is_translation_enabled': False, 'profile_background_color': '000000', 'profile_background_image_url': 'http://abs.twimg.com/images/themes/theme1/bg.png', 'profile_background_image_url_https': 'https://abs.twimg.com/images/themes/theme1/bg.png', 'profile_background_tile': False, 'profile_image_url': 'http://pbs.twimg.com/profile_images/1140965421908144128/_80iSgFS_normal.png', 'profile_image_url_https': 'https://pbs.twimg.com/profile_images/1140965421908144128/_80iSgFS_normal.png', 'profile_banner_url': 'https://pbs.twimg.com/profile_banners/3367334171/1560756921', 'profile_link_color': '0AC18E', 'profile_sidebar_border_color': '000000', 'profile_sidebar_fill_color': '000000', 'profile_text_color': '000000', 'profile_use_background_image': False, 'has_extended_profile': False, 'default_profile': False, 'default_profile_image': False, 'following': True, 'follow_request_sent': False, 'notifications': False, 'translator_type': 'none'}, id=3367334171, id_str='3367334171', name='Bitcoin News', screen_name='BTCTN', location='World Wide', description='Official Twitter account for https://t.co/Y3Sm6N0oR5. Follow us for all the latest Bitcoin news and services! Follow @bitcoincom for all https://t.co/5vSQA17h1m updates.', url='https://t.co/oZCuHV2ZwX', entities={'url': {'urls': [{'url': 'https://t.co/oZCuHV2ZwX', 'expanded_url': 'http://www.Bitcoin.com', 'display_url': 'Bitcoin.com', 'indices': [0, 23]}]}, 'description': {'urls': [{'url': 'https://t.co/Y3Sm6N0oR5', 'expanded_url': 'http://news.bitcoin.com', 'display_url': 'news.bitcoin.com', 'indices': [29, 52]}, {'url': 'https://t.co/5vSQA17h1m', 'expanded_url': 'http://bitcoin.com', 'display_url': 'bitcoin.com', 'indices': [137, 160]}]}}, protected=False, followers_count=921123, friends_count=929, listed_count=5559, created_at=datetime.datetime(2015, 7, 9, 8, 58, 22), favourites_count=10108, utc_offset=None, time_zone=None, geo_enabled=True, verified=True, statuses_count=17907, lang=None, contributors_enabled=False, is_translator=False, is_translation_enabled=False, profile_background_color='000000', profile_background_image_url='http://abs.twimg.com/images/themes/theme1/bg.png', profile_background_image_url_https='https://abs.twimg.com/images/themes/theme1/bg.png', profile_background_tile=False, profile_image_url='http://pbs.twimg.com/profile_images/1140965421908144128/_80iSgFS_normal.png', profile_image_url_https='https://pbs.twimg.com/profile_images/1140965421908144128/_80iSgFS_normal.png', profile_banner_url='https://pbs.twimg.com/profile_banners/3367334171/1560756921', profile_link_color='0AC18E', profile_sidebar_border_color='000000', profile_sidebar_fill_color='000000', profile_text_color='000000', profile_use_background_image=False, has_extended_profile=False, default_profile=False, default_profile_image=False, following=True, follow_request_sent=False, notifications=False, translator_type='none'), geo=None, coordinates=None, place=None, contributors=None, is_quote_status=False, retweet_count=6, favorite_count=22, favorited=False, retweeted=False, possibly_sensitive=False, possibly_sensitive_appealable=False, lang='en'),\n",
       " Status(_api=<tweepy.api.API object at 0x7fb49984e250>, _json={'created_at': 'Mon Mar 29 20:01:54 +0000 2021', 'id': 1376625684399804420, 'id_str': '1376625684399804420', 'text': 'Time to hit the slopes! 🏂 Rekindle the lost attraction between Cody and May in the Snowglobe Level! https://t.co/xuEKbU3zfO', 'truncated': False, 'entities': {'hashtags': [], 'symbols': [], 'user_mentions': [], 'urls': [], 'media': [{'id': 1376624224652066816, 'id_str': '1376624224652066816', 'indices': [100, 123], 'media_url': 'http://pbs.twimg.com/ext_tw_video_thumb/1376624224652066816/pu/img/ttzOfB3zyTKmDJc5.jpg', 'media_url_https': 'https://pbs.twimg.com/ext_tw_video_thumb/1376624224652066816/pu/img/ttzOfB3zyTKmDJc5.jpg', 'url': 'https://t.co/xuEKbU3zfO', 'display_url': 'pic.twitter.com/xuEKbU3zfO', 'expanded_url': 'https://twitter.com/EA/status/1376625684399804420/video/1', 'type': 'photo', 'sizes': {'thumb': {'w': 150, 'h': 150, 'resize': 'crop'}, 'small': {'w': 680, 'h': 680, 'resize': 'fit'}, 'medium': {'w': 720, 'h': 720, 'resize': 'fit'}, 'large': {'w': 720, 'h': 720, 'resize': 'fit'}}}]}, 'extended_entities': {'media': [{'id': 1376624224652066816, 'id_str': '1376624224652066816', 'indices': [100, 123], 'media_url': 'http://pbs.twimg.com/ext_tw_video_thumb/1376624224652066816/pu/img/ttzOfB3zyTKmDJc5.jpg', 'media_url_https': 'https://pbs.twimg.com/ext_tw_video_thumb/1376624224652066816/pu/img/ttzOfB3zyTKmDJc5.jpg', 'url': 'https://t.co/xuEKbU3zfO', 'display_url': 'pic.twitter.com/xuEKbU3zfO', 'expanded_url': 'https://twitter.com/EA/status/1376625684399804420/video/1', 'type': 'video', 'sizes': {'thumb': {'w': 150, 'h': 150, 'resize': 'crop'}, 'small': {'w': 680, 'h': 680, 'resize': 'fit'}, 'medium': {'w': 720, 'h': 720, 'resize': 'fit'}, 'large': {'w': 720, 'h': 720, 'resize': 'fit'}}, 'video_info': {'aspect_ratio': [1, 1], 'duration_millis': 15000, 'variants': [{'content_type': 'application/x-mpegURL', 'url': 'https://video.twimg.com/ext_tw_video/1376624224652066816/pu/pl/TEXb6j0K1LICb5Wy.m3u8?tag=12'}, {'bitrate': 832000, 'content_type': 'video/mp4', 'url': 'https://video.twimg.com/ext_tw_video/1376624224652066816/pu/vid/540x540/keog43L09D0Ee9Oz.mp4?tag=12'}, {'bitrate': 432000, 'content_type': 'video/mp4', 'url': 'https://video.twimg.com/ext_tw_video/1376624224652066816/pu/vid/320x320/seddZRZMYnyweA0d.mp4?tag=12'}, {'bitrate': 1280000, 'content_type': 'video/mp4', 'url': 'https://video.twimg.com/ext_tw_video/1376624224652066816/pu/vid/720x720/eKi557gY5FGjQIYg.mp4?tag=12'}]}, 'additional_media_info': {'monetizable': False}}]}, 'source': '<a href=\"https://mobile.twitter.com\" rel=\"nofollow\">Twitter Web App</a>', 'in_reply_to_status_id': 1376625607392391170, 'in_reply_to_status_id_str': '1376625607392391170', 'in_reply_to_user_id': 15234657, 'in_reply_to_user_id_str': '15234657', 'in_reply_to_screen_name': 'EA', 'user': {'id': 15234657, 'id_str': '15234657', 'name': 'Electronic Arts', 'screen_name': 'EA', 'location': 'Redwood City, CA', 'description': 'Official Twitter account for EA. Follow for updates on all your favorite EA games. For account help, visit https://t.co/5xFg35b7m1 or Tweet @EAHelp', 'url': 'https://t.co/bGInjY7zZP', 'entities': {'url': {'urls': [{'url': 'https://t.co/bGInjY7zZP', 'expanded_url': 'http://www.EA.com', 'display_url': 'EA.com', 'indices': [0, 23]}]}, 'description': {'urls': [{'url': 'https://t.co/5xFg35b7m1', 'expanded_url': 'http://help.ea.com', 'display_url': 'help.ea.com', 'indices': [107, 130]}]}}, 'protected': False, 'followers_count': 6098128, 'friends_count': 337, 'listed_count': 17527, 'created_at': 'Wed Jun 25 18:19:20 +0000 2008', 'favourites_count': 6200, 'utc_offset': None, 'time_zone': None, 'geo_enabled': False, 'verified': True, 'statuses_count': 31595, 'lang': None, 'contributors_enabled': False, 'is_translator': False, 'is_translation_enabled': False, 'profile_background_color': '000000', 'profile_background_image_url': 'http://abs.twimg.com/images/themes/theme14/bg.gif', 'profile_background_image_url_https': 'https://abs.twimg.com/images/themes/theme14/bg.gif', 'profile_background_tile': False, 'profile_image_url': 'http://pbs.twimg.com/profile_images/1375446149440569350/dnQX-Cbc_normal.jpg', 'profile_image_url_https': 'https://pbs.twimg.com/profile_images/1375446149440569350/dnQX-Cbc_normal.jpg', 'profile_banner_url': 'https://pbs.twimg.com/profile_banners/15234657/1616766893', 'profile_link_color': '1B95E0', 'profile_sidebar_border_color': '000000', 'profile_sidebar_fill_color': 'EFEFEF', 'profile_text_color': '333333', 'profile_use_background_image': True, 'has_extended_profile': False, 'default_profile': False, 'default_profile_image': False, 'following': True, 'follow_request_sent': False, 'notifications': False, 'translator_type': 'regular'}, 'geo': None, 'coordinates': None, 'place': None, 'contributors': None, 'is_quote_status': False, 'retweet_count': 0, 'favorite_count': 5, 'favorited': False, 'retweeted': False, 'possibly_sensitive': False, 'possibly_sensitive_appealable': False, 'lang': 'en'}, created_at=datetime.datetime(2021, 3, 29, 20, 1, 54), id=1376625684399804420, id_str='1376625684399804420', text='Time to hit the slopes! 🏂 Rekindle the lost attraction between Cody and May in the Snowglobe Level! https://t.co/xuEKbU3zfO', truncated=False, entities={'hashtags': [], 'symbols': [], 'user_mentions': [], 'urls': [], 'media': [{'id': 1376624224652066816, 'id_str': '1376624224652066816', 'indices': [100, 123], 'media_url': 'http://pbs.twimg.com/ext_tw_video_thumb/1376624224652066816/pu/img/ttzOfB3zyTKmDJc5.jpg', 'media_url_https': 'https://pbs.twimg.com/ext_tw_video_thumb/1376624224652066816/pu/img/ttzOfB3zyTKmDJc5.jpg', 'url': 'https://t.co/xuEKbU3zfO', 'display_url': 'pic.twitter.com/xuEKbU3zfO', 'expanded_url': 'https://twitter.com/EA/status/1376625684399804420/video/1', 'type': 'photo', 'sizes': {'thumb': {'w': 150, 'h': 150, 'resize': 'crop'}, 'small': {'w': 680, 'h': 680, 'resize': 'fit'}, 'medium': {'w': 720, 'h': 720, 'resize': 'fit'}, 'large': {'w': 720, 'h': 720, 'resize': 'fit'}}}]}, extended_entities={'media': [{'id': 1376624224652066816, 'id_str': '1376624224652066816', 'indices': [100, 123], 'media_url': 'http://pbs.twimg.com/ext_tw_video_thumb/1376624224652066816/pu/img/ttzOfB3zyTKmDJc5.jpg', 'media_url_https': 'https://pbs.twimg.com/ext_tw_video_thumb/1376624224652066816/pu/img/ttzOfB3zyTKmDJc5.jpg', 'url': 'https://t.co/xuEKbU3zfO', 'display_url': 'pic.twitter.com/xuEKbU3zfO', 'expanded_url': 'https://twitter.com/EA/status/1376625684399804420/video/1', 'type': 'video', 'sizes': {'thumb': {'w': 150, 'h': 150, 'resize': 'crop'}, 'small': {'w': 680, 'h': 680, 'resize': 'fit'}, 'medium': {'w': 720, 'h': 720, 'resize': 'fit'}, 'large': {'w': 720, 'h': 720, 'resize': 'fit'}}, 'video_info': {'aspect_ratio': [1, 1], 'duration_millis': 15000, 'variants': [{'content_type': 'application/x-mpegURL', 'url': 'https://video.twimg.com/ext_tw_video/1376624224652066816/pu/pl/TEXb6j0K1LICb5Wy.m3u8?tag=12'}, {'bitrate': 832000, 'content_type': 'video/mp4', 'url': 'https://video.twimg.com/ext_tw_video/1376624224652066816/pu/vid/540x540/keog43L09D0Ee9Oz.mp4?tag=12'}, {'bitrate': 432000, 'content_type': 'video/mp4', 'url': 'https://video.twimg.com/ext_tw_video/1376624224652066816/pu/vid/320x320/seddZRZMYnyweA0d.mp4?tag=12'}, {'bitrate': 1280000, 'content_type': 'video/mp4', 'url': 'https://video.twimg.com/ext_tw_video/1376624224652066816/pu/vid/720x720/eKi557gY5FGjQIYg.mp4?tag=12'}]}, 'additional_media_info': {'monetizable': False}}]}, source='Twitter Web App', source_url='https://mobile.twitter.com', in_reply_to_status_id=1376625607392391170, in_reply_to_status_id_str='1376625607392391170', in_reply_to_user_id=15234657, in_reply_to_user_id_str='15234657', in_reply_to_screen_name='EA', author=User(_api=<tweepy.api.API object at 0x7fb49984e250>, _json={'id': 15234657, 'id_str': '15234657', 'name': 'Electronic Arts', 'screen_name': 'EA', 'location': 'Redwood City, CA', 'description': 'Official Twitter account for EA. Follow for updates on all your favorite EA games. For account help, visit https://t.co/5xFg35b7m1 or Tweet @EAHelp', 'url': 'https://t.co/bGInjY7zZP', 'entities': {'url': {'urls': [{'url': 'https://t.co/bGInjY7zZP', 'expanded_url': 'http://www.EA.com', 'display_url': 'EA.com', 'indices': [0, 23]}]}, 'description': {'urls': [{'url': 'https://t.co/5xFg35b7m1', 'expanded_url': 'http://help.ea.com', 'display_url': 'help.ea.com', 'indices': [107, 130]}]}}, 'protected': False, 'followers_count': 6098128, 'friends_count': 337, 'listed_count': 17527, 'created_at': 'Wed Jun 25 18:19:20 +0000 2008', 'favourites_count': 6200, 'utc_offset': None, 'time_zone': None, 'geo_enabled': False, 'verified': True, 'statuses_count': 31595, 'lang': None, 'contributors_enabled': False, 'is_translator': False, 'is_translation_enabled': False, 'profile_background_color': '000000', 'profile_background_image_url': 'http://abs.twimg.com/images/themes/theme14/bg.gif', 'profile_background_image_url_https': 'https://abs.twimg.com/images/themes/theme14/bg.gif', 'profile_background_tile': False, 'profile_image_url': 'http://pbs.twimg.com/profile_images/1375446149440569350/dnQX-Cbc_normal.jpg', 'profile_image_url_https': 'https://pbs.twimg.com/profile_images/1375446149440569350/dnQX-Cbc_normal.jpg', 'profile_banner_url': 'https://pbs.twimg.com/profile_banners/15234657/1616766893', 'profile_link_color': '1B95E0', 'profile_sidebar_border_color': '000000', 'profile_sidebar_fill_color': 'EFEFEF', 'profile_text_color': '333333', 'profile_use_background_image': True, 'has_extended_profile': False, 'default_profile': False, 'default_profile_image': False, 'following': True, 'follow_request_sent': False, 'notifications': False, 'translator_type': 'regular'}, id=15234657, id_str='15234657', name='Electronic Arts', screen_name='EA', location='Redwood City, CA', description='Official Twitter account for EA. Follow for updates on all your favorite EA games. For account help, visit https://t.co/5xFg35b7m1 or Tweet @EAHelp', url='https://t.co/bGInjY7zZP', entities={'url': {'urls': [{'url': 'https://t.co/bGInjY7zZP', 'expanded_url': 'http://www.EA.com', 'display_url': 'EA.com', 'indices': [0, 23]}]}, 'description': {'urls': [{'url': 'https://t.co/5xFg35b7m1', 'expanded_url': 'http://help.ea.com', 'display_url': 'help.ea.com', 'indices': [107, 130]}]}}, protected=False, followers_count=6098128, friends_count=337, listed_count=17527, created_at=datetime.datetime(2008, 6, 25, 18, 19, 20), favourites_count=6200, utc_offset=None, time_zone=None, geo_enabled=False, verified=True, statuses_count=31595, lang=None, contributors_enabled=False, is_translator=False, is_translation_enabled=False, profile_background_color='000000', profile_background_image_url='http://abs.twimg.com/images/themes/theme14/bg.gif', profile_background_image_url_https='https://abs.twimg.com/images/themes/theme14/bg.gif', profile_background_tile=False, profile_image_url='http://pbs.twimg.com/profile_images/1375446149440569350/dnQX-Cbc_normal.jpg', profile_image_url_https='https://pbs.twimg.com/profile_images/1375446149440569350/dnQX-Cbc_normal.jpg', profile_banner_url='https://pbs.twimg.com/profile_banners/15234657/1616766893', profile_link_color='1B95E0', profile_sidebar_border_color='000000', profile_sidebar_fill_color='EFEFEF', profile_text_color='333333', profile_use_background_image=True, has_extended_profile=False, default_profile=False, default_profile_image=False, following=True, follow_request_sent=False, notifications=False, translator_type='regular'), user=User(_api=<tweepy.api.API object at 0x7fb49984e250>, _json={'id': 15234657, 'id_str': '15234657', 'name': 'Electronic Arts', 'screen_name': 'EA', 'location': 'Redwood City, CA', 'description': 'Official Twitter account for EA. Follow for updates on all your favorite EA games. For account help, visit https://t.co/5xFg35b7m1 or Tweet @EAHelp', 'url': 'https://t.co/bGInjY7zZP', 'entities': {'url': {'urls': [{'url': 'https://t.co/bGInjY7zZP', 'expanded_url': 'http://www.EA.com', 'display_url': 'EA.com', 'indices': [0, 23]}]}, 'description': {'urls': [{'url': 'https://t.co/5xFg35b7m1', 'expanded_url': 'http://help.ea.com', 'display_url': 'help.ea.com', 'indices': [107, 130]}]}}, 'protected': False, 'followers_count': 6098128, 'friends_count': 337, 'listed_count': 17527, 'created_at': 'Wed Jun 25 18:19:20 +0000 2008', 'favourites_count': 6200, 'utc_offset': None, 'time_zone': None, 'geo_enabled': False, 'verified': True, 'statuses_count': 31595, 'lang': None, 'contributors_enabled': False, 'is_translator': False, 'is_translation_enabled': False, 'profile_background_color': '000000', 'profile_background_image_url': 'http://abs.twimg.com/images/themes/theme14/bg.gif', 'profile_background_image_url_https': 'https://abs.twimg.com/images/themes/theme14/bg.gif', 'profile_background_tile': False, 'profile_image_url': 'http://pbs.twimg.com/profile_images/1375446149440569350/dnQX-Cbc_normal.jpg', 'profile_image_url_https': 'https://pbs.twimg.com/profile_images/1375446149440569350/dnQX-Cbc_normal.jpg', 'profile_banner_url': 'https://pbs.twimg.com/profile_banners/15234657/1616766893', 'profile_link_color': '1B95E0', 'profile_sidebar_border_color': '000000', 'profile_sidebar_fill_color': 'EFEFEF', 'profile_text_color': '333333', 'profile_use_background_image': True, 'has_extended_profile': False, 'default_profile': False, 'default_profile_image': False, 'following': True, 'follow_request_sent': False, 'notifications': False, 'translator_type': 'regular'}, id=15234657, id_str='15234657', name='Electronic Arts', screen_name='EA', location='Redwood City, CA', description='Official Twitter account for EA. Follow for updates on all your favorite EA games. For account help, visit https://t.co/5xFg35b7m1 or Tweet @EAHelp', url='https://t.co/bGInjY7zZP', entities={'url': {'urls': [{'url': 'https://t.co/bGInjY7zZP', 'expanded_url': 'http://www.EA.com', 'display_url': 'EA.com', 'indices': [0, 23]}]}, 'description': {'urls': [{'url': 'https://t.co/5xFg35b7m1', 'expanded_url': 'http://help.ea.com', 'display_url': 'help.ea.com', 'indices': [107, 130]}]}}, protected=False, followers_count=6098128, friends_count=337, listed_count=17527, created_at=datetime.datetime(2008, 6, 25, 18, 19, 20), favourites_count=6200, utc_offset=None, time_zone=None, geo_enabled=False, verified=True, statuses_count=31595, lang=None, contributors_enabled=False, is_translator=False, is_translation_enabled=False, profile_background_color='000000', profile_background_image_url='http://abs.twimg.com/images/themes/theme14/bg.gif', profile_background_image_url_https='https://abs.twimg.com/images/themes/theme14/bg.gif', profile_background_tile=False, profile_image_url='http://pbs.twimg.com/profile_images/1375446149440569350/dnQX-Cbc_normal.jpg', profile_image_url_https='https://pbs.twimg.com/profile_images/1375446149440569350/dnQX-Cbc_normal.jpg', profile_banner_url='https://pbs.twimg.com/profile_banners/15234657/1616766893', profile_link_color='1B95E0', profile_sidebar_border_color='000000', profile_sidebar_fill_color='EFEFEF', profile_text_color='333333', profile_use_background_image=True, has_extended_profile=False, default_profile=False, default_profile_image=False, following=True, follow_request_sent=False, notifications=False, translator_type='regular'), geo=None, coordinates=None, place=None, contributors=None, is_quote_status=False, retweet_count=0, favorite_count=5, favorited=False, retweeted=False, possibly_sensitive=False, possibly_sensitive_appealable=False, lang='en'),\n",
       " Status(_api=<tweepy.api.API object at 0x7fb49984e250>, _json={'created_at': 'Mon Mar 29 20:01:35 +0000 2021', 'id': 1376625607392391170, 'id_str': '1376625607392391170', 'text': 'In the Clockwork Level, you have all the time in the world! ⏱️ Control time and teleport yourself to complete each… https://t.co/RlNfLpYhgE', 'truncated': True, 'entities': {'hashtags': [], 'symbols': [], 'user_mentions': [], 'urls': [{'url': 'https://t.co/RlNfLpYhgE', 'expanded_url': 'https://twitter.com/i/web/status/1376625607392391170', 'display_url': 'twitter.com/i/web/status/1…', 'indices': [116, 139]}]}, 'source': '<a href=\"https://mobile.twitter.com\" rel=\"nofollow\">Twitter Web App</a>', 'in_reply_to_status_id': 1376625568695812097, 'in_reply_to_status_id_str': '1376625568695812097', 'in_reply_to_user_id': 15234657, 'in_reply_to_user_id_str': '15234657', 'in_reply_to_screen_name': 'EA', 'user': {'id': 15234657, 'id_str': '15234657', 'name': 'Electronic Arts', 'screen_name': 'EA', 'location': 'Redwood City, CA', 'description': 'Official Twitter account for EA. Follow for updates on all your favorite EA games. For account help, visit https://t.co/5xFg35b7m1 or Tweet @EAHelp', 'url': 'https://t.co/bGInjY7zZP', 'entities': {'url': {'urls': [{'url': 'https://t.co/bGInjY7zZP', 'expanded_url': 'http://www.EA.com', 'display_url': 'EA.com', 'indices': [0, 23]}]}, 'description': {'urls': [{'url': 'https://t.co/5xFg35b7m1', 'expanded_url': 'http://help.ea.com', 'display_url': 'help.ea.com', 'indices': [107, 130]}]}}, 'protected': False, 'followers_count': 6098128, 'friends_count': 337, 'listed_count': 17527, 'created_at': 'Wed Jun 25 18:19:20 +0000 2008', 'favourites_count': 6200, 'utc_offset': None, 'time_zone': None, 'geo_enabled': False, 'verified': True, 'statuses_count': 31595, 'lang': None, 'contributors_enabled': False, 'is_translator': False, 'is_translation_enabled': False, 'profile_background_color': '000000', 'profile_background_image_url': 'http://abs.twimg.com/images/themes/theme14/bg.gif', 'profile_background_image_url_https': 'https://abs.twimg.com/images/themes/theme14/bg.gif', 'profile_background_tile': False, 'profile_image_url': 'http://pbs.twimg.com/profile_images/1375446149440569350/dnQX-Cbc_normal.jpg', 'profile_image_url_https': 'https://pbs.twimg.com/profile_images/1375446149440569350/dnQX-Cbc_normal.jpg', 'profile_banner_url': 'https://pbs.twimg.com/profile_banners/15234657/1616766893', 'profile_link_color': '1B95E0', 'profile_sidebar_border_color': '000000', 'profile_sidebar_fill_color': 'EFEFEF', 'profile_text_color': '333333', 'profile_use_background_image': True, 'has_extended_profile': False, 'default_profile': False, 'default_profile_image': False, 'following': True, 'follow_request_sent': False, 'notifications': False, 'translator_type': 'regular'}, 'geo': None, 'coordinates': None, 'place': None, 'contributors': None, 'is_quote_status': False, 'retweet_count': 0, 'favorite_count': 8, 'favorited': False, 'retweeted': False, 'possibly_sensitive': False, 'possibly_sensitive_appealable': False, 'lang': 'en'}, created_at=datetime.datetime(2021, 3, 29, 20, 1, 35), id=1376625607392391170, id_str='1376625607392391170', text='In the Clockwork Level, you have all the time in the world! ⏱️ Control time and teleport yourself to complete each… https://t.co/RlNfLpYhgE', truncated=True, entities={'hashtags': [], 'symbols': [], 'user_mentions': [], 'urls': [{'url': 'https://t.co/RlNfLpYhgE', 'expanded_url': 'https://twitter.com/i/web/status/1376625607392391170', 'display_url': 'twitter.com/i/web/status/1…', 'indices': [116, 139]}]}, source='Twitter Web App', source_url='https://mobile.twitter.com', in_reply_to_status_id=1376625568695812097, in_reply_to_status_id_str='1376625568695812097', in_reply_to_user_id=15234657, in_reply_to_user_id_str='15234657', in_reply_to_screen_name='EA', author=User(_api=<tweepy.api.API object at 0x7fb49984e250>, _json={'id': 15234657, 'id_str': '15234657', 'name': 'Electronic Arts', 'screen_name': 'EA', 'location': 'Redwood City, CA', 'description': 'Official Twitter account for EA. Follow for updates on all your favorite EA games. For account help, visit https://t.co/5xFg35b7m1 or Tweet @EAHelp', 'url': 'https://t.co/bGInjY7zZP', 'entities': {'url': {'urls': [{'url': 'https://t.co/bGInjY7zZP', 'expanded_url': 'http://www.EA.com', 'display_url': 'EA.com', 'indices': [0, 23]}]}, 'description': {'urls': [{'url': 'https://t.co/5xFg35b7m1', 'expanded_url': 'http://help.ea.com', 'display_url': 'help.ea.com', 'indices': [107, 130]}]}}, 'protected': False, 'followers_count': 6098128, 'friends_count': 337, 'listed_count': 17527, 'created_at': 'Wed Jun 25 18:19:20 +0000 2008', 'favourites_count': 6200, 'utc_offset': None, 'time_zone': None, 'geo_enabled': False, 'verified': True, 'statuses_count': 31595, 'lang': None, 'contributors_enabled': False, 'is_translator': False, 'is_translation_enabled': False, 'profile_background_color': '000000', 'profile_background_image_url': 'http://abs.twimg.com/images/themes/theme14/bg.gif', 'profile_background_image_url_https': 'https://abs.twimg.com/images/themes/theme14/bg.gif', 'profile_background_tile': False, 'profile_image_url': 'http://pbs.twimg.com/profile_images/1375446149440569350/dnQX-Cbc_normal.jpg', 'profile_image_url_https': 'https://pbs.twimg.com/profile_images/1375446149440569350/dnQX-Cbc_normal.jpg', 'profile_banner_url': 'https://pbs.twimg.com/profile_banners/15234657/1616766893', 'profile_link_color': '1B95E0', 'profile_sidebar_border_color': '000000', 'profile_sidebar_fill_color': 'EFEFEF', 'profile_text_color': '333333', 'profile_use_background_image': True, 'has_extended_profile': False, 'default_profile': False, 'default_profile_image': False, 'following': True, 'follow_request_sent': False, 'notifications': False, 'translator_type': 'regular'}, id=15234657, id_str='15234657', name='Electronic Arts', screen_name='EA', location='Redwood City, CA', description='Official Twitter account for EA. Follow for updates on all your favorite EA games. For account help, visit https://t.co/5xFg35b7m1 or Tweet @EAHelp', url='https://t.co/bGInjY7zZP', entities={'url': {'urls': [{'url': 'https://t.co/bGInjY7zZP', 'expanded_url': 'http://www.EA.com', 'display_url': 'EA.com', 'indices': [0, 23]}]}, 'description': {'urls': [{'url': 'https://t.co/5xFg35b7m1', 'expanded_url': 'http://help.ea.com', 'display_url': 'help.ea.com', 'indices': [107, 130]}]}}, protected=False, followers_count=6098128, friends_count=337, listed_count=17527, created_at=datetime.datetime(2008, 6, 25, 18, 19, 20), favourites_count=6200, utc_offset=None, time_zone=None, geo_enabled=False, verified=True, statuses_count=31595, lang=None, contributors_enabled=False, is_translator=False, is_translation_enabled=False, profile_background_color='000000', profile_background_image_url='http://abs.twimg.com/images/themes/theme14/bg.gif', profile_background_image_url_https='https://abs.twimg.com/images/themes/theme14/bg.gif', profile_background_tile=False, profile_image_url='http://pbs.twimg.com/profile_images/1375446149440569350/dnQX-Cbc_normal.jpg', profile_image_url_https='https://pbs.twimg.com/profile_images/1375446149440569350/dnQX-Cbc_normal.jpg', profile_banner_url='https://pbs.twimg.com/profile_banners/15234657/1616766893', profile_link_color='1B95E0', profile_sidebar_border_color='000000', profile_sidebar_fill_color='EFEFEF', profile_text_color='333333', profile_use_background_image=True, has_extended_profile=False, default_profile=False, default_profile_image=False, following=True, follow_request_sent=False, notifications=False, translator_type='regular'), user=User(_api=<tweepy.api.API object at 0x7fb49984e250>, _json={'id': 15234657, 'id_str': '15234657', 'name': 'Electronic Arts', 'screen_name': 'EA', 'location': 'Redwood City, CA', 'description': 'Official Twitter account for EA. Follow for updates on all your favorite EA games. For account help, visit https://t.co/5xFg35b7m1 or Tweet @EAHelp', 'url': 'https://t.co/bGInjY7zZP', 'entities': {'url': {'urls': [{'url': 'https://t.co/bGInjY7zZP', 'expanded_url': 'http://www.EA.com', 'display_url': 'EA.com', 'indices': [0, 23]}]}, 'description': {'urls': [{'url': 'https://t.co/5xFg35b7m1', 'expanded_url': 'http://help.ea.com', 'display_url': 'help.ea.com', 'indices': [107, 130]}]}}, 'protected': False, 'followers_count': 6098128, 'friends_count': 337, 'listed_count': 17527, 'created_at': 'Wed Jun 25 18:19:20 +0000 2008', 'favourites_count': 6200, 'utc_offset': None, 'time_zone': None, 'geo_enabled': False, 'verified': True, 'statuses_count': 31595, 'lang': None, 'contributors_enabled': False, 'is_translator': False, 'is_translation_enabled': False, 'profile_background_color': '000000', 'profile_background_image_url': 'http://abs.twimg.com/images/themes/theme14/bg.gif', 'profile_background_image_url_https': 'https://abs.twimg.com/images/themes/theme14/bg.gif', 'profile_background_tile': False, 'profile_image_url': 'http://pbs.twimg.com/profile_images/1375446149440569350/dnQX-Cbc_normal.jpg', 'profile_image_url_https': 'https://pbs.twimg.com/profile_images/1375446149440569350/dnQX-Cbc_normal.jpg', 'profile_banner_url': 'https://pbs.twimg.com/profile_banners/15234657/1616766893', 'profile_link_color': '1B95E0', 'profile_sidebar_border_color': '000000', 'profile_sidebar_fill_color': 'EFEFEF', 'profile_text_color': '333333', 'profile_use_background_image': True, 'has_extended_profile': False, 'default_profile': False, 'default_profile_image': False, 'following': True, 'follow_request_sent': False, 'notifications': False, 'translator_type': 'regular'}, id=15234657, id_str='15234657', name='Electronic Arts', screen_name='EA', location='Redwood City, CA', description='Official Twitter account for EA. Follow for updates on all your favorite EA games. For account help, visit https://t.co/5xFg35b7m1 or Tweet @EAHelp', url='https://t.co/bGInjY7zZP', entities={'url': {'urls': [{'url': 'https://t.co/bGInjY7zZP', 'expanded_url': 'http://www.EA.com', 'display_url': 'EA.com', 'indices': [0, 23]}]}, 'description': {'urls': [{'url': 'https://t.co/5xFg35b7m1', 'expanded_url': 'http://help.ea.com', 'display_url': 'help.ea.com', 'indices': [107, 130]}]}}, protected=False, followers_count=6098128, friends_count=337, listed_count=17527, created_at=datetime.datetime(2008, 6, 25, 18, 19, 20), favourites_count=6200, utc_offset=None, time_zone=None, geo_enabled=False, verified=True, statuses_count=31595, lang=None, contributors_enabled=False, is_translator=False, is_translation_enabled=False, profile_background_color='000000', profile_background_image_url='http://abs.twimg.com/images/themes/theme14/bg.gif', profile_background_image_url_https='https://abs.twimg.com/images/themes/theme14/bg.gif', profile_background_tile=False, profile_image_url='http://pbs.twimg.com/profile_images/1375446149440569350/dnQX-Cbc_normal.jpg', profile_image_url_https='https://pbs.twimg.com/profile_images/1375446149440569350/dnQX-Cbc_normal.jpg', profile_banner_url='https://pbs.twimg.com/profile_banners/15234657/1616766893', profile_link_color='1B95E0', profile_sidebar_border_color='000000', profile_sidebar_fill_color='EFEFEF', profile_text_color='333333', profile_use_background_image=True, has_extended_profile=False, default_profile=False, default_profile_image=False, following=True, follow_request_sent=False, notifications=False, translator_type='regular'), geo=None, coordinates=None, place=None, contributors=None, is_quote_status=False, retweet_count=0, favorite_count=8, favorited=False, retweeted=False, possibly_sensitive=False, possibly_sensitive_appealable=False, lang='en'),\n",
       " Status(_api=<tweepy.api.API object at 0x7fb49984e250>, _json={'created_at': 'Mon Mar 29 20:01:26 +0000 2021', 'id': 1376625568695812097, 'id_str': '1376625568695812097', 'text': 'Space pinball? ☄️ Count us in! Grab your friend and explore the gravity-defying, out-of-this-world Playroom Level!… https://t.co/tiwntkZHBa', 'truncated': True, 'entities': {'hashtags': [], 'symbols': [], 'user_mentions': [], 'urls': [{'url': 'https://t.co/tiwntkZHBa', 'expanded_url': 'https://twitter.com/i/web/status/1376625568695812097', 'display_url': 'twitter.com/i/web/status/1…', 'indices': [116, 139]}]}, 'source': '<a href=\"https://mobile.twitter.com\" rel=\"nofollow\">Twitter Web App</a>', 'in_reply_to_status_id': None, 'in_reply_to_status_id_str': None, 'in_reply_to_user_id': None, 'in_reply_to_user_id_str': None, 'in_reply_to_screen_name': None, 'user': {'id': 15234657, 'id_str': '15234657', 'name': 'Electronic Arts', 'screen_name': 'EA', 'location': 'Redwood City, CA', 'description': 'Official Twitter account for EA. Follow for updates on all your favorite EA games. For account help, visit https://t.co/5xFg35b7m1 or Tweet @EAHelp', 'url': 'https://t.co/bGInjY7zZP', 'entities': {'url': {'urls': [{'url': 'https://t.co/bGInjY7zZP', 'expanded_url': 'http://www.EA.com', 'display_url': 'EA.com', 'indices': [0, 23]}]}, 'description': {'urls': [{'url': 'https://t.co/5xFg35b7m1', 'expanded_url': 'http://help.ea.com', 'display_url': 'help.ea.com', 'indices': [107, 130]}]}}, 'protected': False, 'followers_count': 6098128, 'friends_count': 337, 'listed_count': 17527, 'created_at': 'Wed Jun 25 18:19:20 +0000 2008', 'favourites_count': 6200, 'utc_offset': None, 'time_zone': None, 'geo_enabled': False, 'verified': True, 'statuses_count': 31595, 'lang': None, 'contributors_enabled': False, 'is_translator': False, 'is_translation_enabled': False, 'profile_background_color': '000000', 'profile_background_image_url': 'http://abs.twimg.com/images/themes/theme14/bg.gif', 'profile_background_image_url_https': 'https://abs.twimg.com/images/themes/theme14/bg.gif', 'profile_background_tile': False, 'profile_image_url': 'http://pbs.twimg.com/profile_images/1375446149440569350/dnQX-Cbc_normal.jpg', 'profile_image_url_https': 'https://pbs.twimg.com/profile_images/1375446149440569350/dnQX-Cbc_normal.jpg', 'profile_banner_url': 'https://pbs.twimg.com/profile_banners/15234657/1616766893', 'profile_link_color': '1B95E0', 'profile_sidebar_border_color': '000000', 'profile_sidebar_fill_color': 'EFEFEF', 'profile_text_color': '333333', 'profile_use_background_image': True, 'has_extended_profile': False, 'default_profile': False, 'default_profile_image': False, 'following': True, 'follow_request_sent': False, 'notifications': False, 'translator_type': 'regular'}, 'geo': None, 'coordinates': None, 'place': None, 'contributors': None, 'is_quote_status': False, 'retweet_count': 7, 'favorite_count': 93, 'favorited': False, 'retweeted': False, 'possibly_sensitive': False, 'possibly_sensitive_appealable': False, 'lang': 'en'}, created_at=datetime.datetime(2021, 3, 29, 20, 1, 26), id=1376625568695812097, id_str='1376625568695812097', text='Space pinball? ☄️ Count us in! Grab your friend and explore the gravity-defying, out-of-this-world Playroom Level!… https://t.co/tiwntkZHBa', truncated=True, entities={'hashtags': [], 'symbols': [], 'user_mentions': [], 'urls': [{'url': 'https://t.co/tiwntkZHBa', 'expanded_url': 'https://twitter.com/i/web/status/1376625568695812097', 'display_url': 'twitter.com/i/web/status/1…', 'indices': [116, 139]}]}, source='Twitter Web App', source_url='https://mobile.twitter.com', in_reply_to_status_id=None, in_reply_to_status_id_str=None, in_reply_to_user_id=None, in_reply_to_user_id_str=None, in_reply_to_screen_name=None, author=User(_api=<tweepy.api.API object at 0x7fb49984e250>, _json={'id': 15234657, 'id_str': '15234657', 'name': 'Electronic Arts', 'screen_name': 'EA', 'location': 'Redwood City, CA', 'description': 'Official Twitter account for EA. Follow for updates on all your favorite EA games. For account help, visit https://t.co/5xFg35b7m1 or Tweet @EAHelp', 'url': 'https://t.co/bGInjY7zZP', 'entities': {'url': {'urls': [{'url': 'https://t.co/bGInjY7zZP', 'expanded_url': 'http://www.EA.com', 'display_url': 'EA.com', 'indices': [0, 23]}]}, 'description': {'urls': [{'url': 'https://t.co/5xFg35b7m1', 'expanded_url': 'http://help.ea.com', 'display_url': 'help.ea.com', 'indices': [107, 130]}]}}, 'protected': False, 'followers_count': 6098128, 'friends_count': 337, 'listed_count': 17527, 'created_at': 'Wed Jun 25 18:19:20 +0000 2008', 'favourites_count': 6200, 'utc_offset': None, 'time_zone': None, 'geo_enabled': False, 'verified': True, 'statuses_count': 31595, 'lang': None, 'contributors_enabled': False, 'is_translator': False, 'is_translation_enabled': False, 'profile_background_color': '000000', 'profile_background_image_url': 'http://abs.twimg.com/images/themes/theme14/bg.gif', 'profile_background_image_url_https': 'https://abs.twimg.com/images/themes/theme14/bg.gif', 'profile_background_tile': False, 'profile_image_url': 'http://pbs.twimg.com/profile_images/1375446149440569350/dnQX-Cbc_normal.jpg', 'profile_image_url_https': 'https://pbs.twimg.com/profile_images/1375446149440569350/dnQX-Cbc_normal.jpg', 'profile_banner_url': 'https://pbs.twimg.com/profile_banners/15234657/1616766893', 'profile_link_color': '1B95E0', 'profile_sidebar_border_color': '000000', 'profile_sidebar_fill_color': 'EFEFEF', 'profile_text_color': '333333', 'profile_use_background_image': True, 'has_extended_profile': False, 'default_profile': False, 'default_profile_image': False, 'following': True, 'follow_request_sent': False, 'notifications': False, 'translator_type': 'regular'}, id=15234657, id_str='15234657', name='Electronic Arts', screen_name='EA', location='Redwood City, CA', description='Official Twitter account for EA. Follow for updates on all your favorite EA games. For account help, visit https://t.co/5xFg35b7m1 or Tweet @EAHelp', url='https://t.co/bGInjY7zZP', entities={'url': {'urls': [{'url': 'https://t.co/bGInjY7zZP', 'expanded_url': 'http://www.EA.com', 'display_url': 'EA.com', 'indices': [0, 23]}]}, 'description': {'urls': [{'url': 'https://t.co/5xFg35b7m1', 'expanded_url': 'http://help.ea.com', 'display_url': 'help.ea.com', 'indices': [107, 130]}]}}, protected=False, followers_count=6098128, friends_count=337, listed_count=17527, created_at=datetime.datetime(2008, 6, 25, 18, 19, 20), favourites_count=6200, utc_offset=None, time_zone=None, geo_enabled=False, verified=True, statuses_count=31595, lang=None, contributors_enabled=False, is_translator=False, is_translation_enabled=False, profile_background_color='000000', profile_background_image_url='http://abs.twimg.com/images/themes/theme14/bg.gif', profile_background_image_url_https='https://abs.twimg.com/images/themes/theme14/bg.gif', profile_background_tile=False, profile_image_url='http://pbs.twimg.com/profile_images/1375446149440569350/dnQX-Cbc_normal.jpg', profile_image_url_https='https://pbs.twimg.com/profile_images/1375446149440569350/dnQX-Cbc_normal.jpg', profile_banner_url='https://pbs.twimg.com/profile_banners/15234657/1616766893', profile_link_color='1B95E0', profile_sidebar_border_color='000000', profile_sidebar_fill_color='EFEFEF', profile_text_color='333333', profile_use_background_image=True, has_extended_profile=False, default_profile=False, default_profile_image=False, following=True, follow_request_sent=False, notifications=False, translator_type='regular'), user=User(_api=<tweepy.api.API object at 0x7fb49984e250>, _json={'id': 15234657, 'id_str': '15234657', 'name': 'Electronic Arts', 'screen_name': 'EA', 'location': 'Redwood City, CA', 'description': 'Official Twitter account for EA. Follow for updates on all your favorite EA games. For account help, visit https://t.co/5xFg35b7m1 or Tweet @EAHelp', 'url': 'https://t.co/bGInjY7zZP', 'entities': {'url': {'urls': [{'url': 'https://t.co/bGInjY7zZP', 'expanded_url': 'http://www.EA.com', 'display_url': 'EA.com', 'indices': [0, 23]}]}, 'description': {'urls': [{'url': 'https://t.co/5xFg35b7m1', 'expanded_url': 'http://help.ea.com', 'display_url': 'help.ea.com', 'indices': [107, 130]}]}}, 'protected': False, 'followers_count': 6098128, 'friends_count': 337, 'listed_count': 17527, 'created_at': 'Wed Jun 25 18:19:20 +0000 2008', 'favourites_count': 6200, 'utc_offset': None, 'time_zone': None, 'geo_enabled': False, 'verified': True, 'statuses_count': 31595, 'lang': None, 'contributors_enabled': False, 'is_translator': False, 'is_translation_enabled': False, 'profile_background_color': '000000', 'profile_background_image_url': 'http://abs.twimg.com/images/themes/theme14/bg.gif', 'profile_background_image_url_https': 'https://abs.twimg.com/images/themes/theme14/bg.gif', 'profile_background_tile': False, 'profile_image_url': 'http://pbs.twimg.com/profile_images/1375446149440569350/dnQX-Cbc_normal.jpg', 'profile_image_url_https': 'https://pbs.twimg.com/profile_images/1375446149440569350/dnQX-Cbc_normal.jpg', 'profile_banner_url': 'https://pbs.twimg.com/profile_banners/15234657/1616766893', 'profile_link_color': '1B95E0', 'profile_sidebar_border_color': '000000', 'profile_sidebar_fill_color': 'EFEFEF', 'profile_text_color': '333333', 'profile_use_background_image': True, 'has_extended_profile': False, 'default_profile': False, 'default_profile_image': False, 'following': True, 'follow_request_sent': False, 'notifications': False, 'translator_type': 'regular'}, id=15234657, id_str='15234657', name='Electronic Arts', screen_name='EA', location='Redwood City, CA', description='Official Twitter account for EA. Follow for updates on all your favorite EA games. For account help, visit https://t.co/5xFg35b7m1 or Tweet @EAHelp', url='https://t.co/bGInjY7zZP', entities={'url': {'urls': [{'url': 'https://t.co/bGInjY7zZP', 'expanded_url': 'http://www.EA.com', 'display_url': 'EA.com', 'indices': [0, 23]}]}, 'description': {'urls': [{'url': 'https://t.co/5xFg35b7m1', 'expanded_url': 'http://help.ea.com', 'display_url': 'help.ea.com', 'indices': [107, 130]}]}}, protected=False, followers_count=6098128, friends_count=337, listed_count=17527, created_at=datetime.datetime(2008, 6, 25, 18, 19, 20), favourites_count=6200, utc_offset=None, time_zone=None, geo_enabled=False, verified=True, statuses_count=31595, lang=None, contributors_enabled=False, is_translator=False, is_translation_enabled=False, profile_background_color='000000', profile_background_image_url='http://abs.twimg.com/images/themes/theme14/bg.gif', profile_background_image_url_https='https://abs.twimg.com/images/themes/theme14/bg.gif', profile_background_tile=False, profile_image_url='http://pbs.twimg.com/profile_images/1375446149440569350/dnQX-Cbc_normal.jpg', profile_image_url_https='https://pbs.twimg.com/profile_images/1375446149440569350/dnQX-Cbc_normal.jpg', profile_banner_url='https://pbs.twimg.com/profile_banners/15234657/1616766893', profile_link_color='1B95E0', profile_sidebar_border_color='000000', profile_sidebar_fill_color='EFEFEF', profile_text_color='333333', profile_use_background_image=True, has_extended_profile=False, default_profile=False, default_profile_image=False, following=True, follow_request_sent=False, notifications=False, translator_type='regular'), geo=None, coordinates=None, place=None, contributors=None, is_quote_status=False, retweet_count=7, favorite_count=93, favorited=False, retweeted=False, possibly_sensitive=False, possibly_sensitive_appealable=False, lang='en'),\n",
       " Status(_api=<tweepy.api.API object at 0x7fb49984e250>, _json={'created_at': 'Mon Mar 29 20:01:05 +0000 2021', 'id': 1376625478157619201, 'id_str': '1376625478157619201', 'text': 'Invita a personajes completamente nuevos a tu isla con la ayuda de este paquete de colaboración amiibo Animal Cross… https://t.co/aGchpBW6CS', 'truncated': True, 'entities': {'hashtags': [], 'symbols': [], 'user_mentions': [], 'urls': [{'url': 'https://t.co/aGchpBW6CS', 'expanded_url': 'https://twitter.com/i/web/status/1376625478157619201', 'display_url': 'twitter.com/i/web/status/1…', 'indices': [117, 140]}]}, 'source': '<a href=\"https://www.hootsuite.com\" rel=\"nofollow\">Hootsuite Inc.</a>', 'in_reply_to_status_id': None, 'in_reply_to_status_id_str': None, 'in_reply_to_user_id': None, 'in_reply_to_user_id_str': None, 'in_reply_to_screen_name': None, 'user': {'id': 16886214, 'id_str': '16886214', 'name': 'Gameplanet', 'screen_name': 'Gameplanet_Mex', 'location': '¡Todo México!', 'description': '¡Sigue a Gameplanet! Compra tus videojuegos, consolas, accesorios y coleccionables con nosotros.', 'url': 'https://t.co/B9DyeTXuZg', 'entities': {'url': {'urls': [{'url': 'https://t.co/B9DyeTXuZg', 'expanded_url': 'http://www.gameplanet.com', 'display_url': 'gameplanet.com', 'indices': [0, 23]}]}, 'description': {'urls': []}}, 'protected': False, 'followers_count': 133660, 'friends_count': 28564, 'listed_count': 1058, 'created_at': 'Tue Oct 21 13:58:59 +0000 2008', 'favourites_count': 1257, 'utc_offset': None, 'time_zone': None, 'geo_enabled': True, 'verified': True, 'statuses_count': 99287, 'lang': None, 'contributors_enabled': False, 'is_translator': False, 'is_translation_enabled': False, 'profile_background_color': 'B2DFDA', 'profile_background_image_url': 'http://abs.twimg.com/images/themes/theme1/bg.png', 'profile_background_image_url_https': 'https://abs.twimg.com/images/themes/theme1/bg.png', 'profile_background_tile': False, 'profile_image_url': 'http://pbs.twimg.com/profile_images/1351715665602863106/zFqs3rKa_normal.jpg', 'profile_image_url_https': 'https://pbs.twimg.com/profile_images/1351715665602863106/zFqs3rKa_normal.jpg', 'profile_banner_url': 'https://pbs.twimg.com/profile_banners/16886214/1611109104', 'profile_link_color': '19CF86', 'profile_sidebar_border_color': 'FFFFFF', 'profile_sidebar_fill_color': 'F7DA93', 'profile_text_color': '000000', 'profile_use_background_image': False, 'has_extended_profile': False, 'default_profile': False, 'default_profile_image': False, 'following': True, 'follow_request_sent': False, 'notifications': False, 'translator_type': 'none'}, 'geo': None, 'coordinates': None, 'place': None, 'contributors': None, 'is_quote_status': False, 'retweet_count': 1, 'favorite_count': 4, 'favorited': False, 'retweeted': False, 'possibly_sensitive': False, 'possibly_sensitive_appealable': False, 'lang': 'es'}, created_at=datetime.datetime(2021, 3, 29, 20, 1, 5), id=1376625478157619201, id_str='1376625478157619201', text='Invita a personajes completamente nuevos a tu isla con la ayuda de este paquete de colaboración amiibo Animal Cross… https://t.co/aGchpBW6CS', truncated=True, entities={'hashtags': [], 'symbols': [], 'user_mentions': [], 'urls': [{'url': 'https://t.co/aGchpBW6CS', 'expanded_url': 'https://twitter.com/i/web/status/1376625478157619201', 'display_url': 'twitter.com/i/web/status/1…', 'indices': [117, 140]}]}, source='Hootsuite Inc.', source_url='https://www.hootsuite.com', in_reply_to_status_id=None, in_reply_to_status_id_str=None, in_reply_to_user_id=None, in_reply_to_user_id_str=None, in_reply_to_screen_name=None, author=User(_api=<tweepy.api.API object at 0x7fb49984e250>, _json={'id': 16886214, 'id_str': '16886214', 'name': 'Gameplanet', 'screen_name': 'Gameplanet_Mex', 'location': '¡Todo México!', 'description': '¡Sigue a Gameplanet! Compra tus videojuegos, consolas, accesorios y coleccionables con nosotros.', 'url': 'https://t.co/B9DyeTXuZg', 'entities': {'url': {'urls': [{'url': 'https://t.co/B9DyeTXuZg', 'expanded_url': 'http://www.gameplanet.com', 'display_url': 'gameplanet.com', 'indices': [0, 23]}]}, 'description': {'urls': []}}, 'protected': False, 'followers_count': 133660, 'friends_count': 28564, 'listed_count': 1058, 'created_at': 'Tue Oct 21 13:58:59 +0000 2008', 'favourites_count': 1257, 'utc_offset': None, 'time_zone': None, 'geo_enabled': True, 'verified': True, 'statuses_count': 99287, 'lang': None, 'contributors_enabled': False, 'is_translator': False, 'is_translation_enabled': False, 'profile_background_color': 'B2DFDA', 'profile_background_image_url': 'http://abs.twimg.com/images/themes/theme1/bg.png', 'profile_background_image_url_https': 'https://abs.twimg.com/images/themes/theme1/bg.png', 'profile_background_tile': False, 'profile_image_url': 'http://pbs.twimg.com/profile_images/1351715665602863106/zFqs3rKa_normal.jpg', 'profile_image_url_https': 'https://pbs.twimg.com/profile_images/1351715665602863106/zFqs3rKa_normal.jpg', 'profile_banner_url': 'https://pbs.twimg.com/profile_banners/16886214/1611109104', 'profile_link_color': '19CF86', 'profile_sidebar_border_color': 'FFFFFF', 'profile_sidebar_fill_color': 'F7DA93', 'profile_text_color': '000000', 'profile_use_background_image': False, 'has_extended_profile': False, 'default_profile': False, 'default_profile_image': False, 'following': True, 'follow_request_sent': False, 'notifications': False, 'translator_type': 'none'}, id=16886214, id_str='16886214', name='Gameplanet', screen_name='Gameplanet_Mex', location='¡Todo México!', description='¡Sigue a Gameplanet! Compra tus videojuegos, consolas, accesorios y coleccionables con nosotros.', url='https://t.co/B9DyeTXuZg', entities={'url': {'urls': [{'url': 'https://t.co/B9DyeTXuZg', 'expanded_url': 'http://www.gameplanet.com', 'display_url': 'gameplanet.com', 'indices': [0, 23]}]}, 'description': {'urls': []}}, protected=False, followers_count=133660, friends_count=28564, listed_count=1058, created_at=datetime.datetime(2008, 10, 21, 13, 58, 59), favourites_count=1257, utc_offset=None, time_zone=None, geo_enabled=True, verified=True, statuses_count=99287, lang=None, contributors_enabled=False, is_translator=False, is_translation_enabled=False, profile_background_color='B2DFDA', profile_background_image_url='http://abs.twimg.com/images/themes/theme1/bg.png', profile_background_image_url_https='https://abs.twimg.com/images/themes/theme1/bg.png', profile_background_tile=False, profile_image_url='http://pbs.twimg.com/profile_images/1351715665602863106/zFqs3rKa_normal.jpg', profile_image_url_https='https://pbs.twimg.com/profile_images/1351715665602863106/zFqs3rKa_normal.jpg', profile_banner_url='https://pbs.twimg.com/profile_banners/16886214/1611109104', profile_link_color='19CF86', profile_sidebar_border_color='FFFFFF', profile_sidebar_fill_color='F7DA93', profile_text_color='000000', profile_use_background_image=False, has_extended_profile=False, default_profile=False, default_profile_image=False, following=True, follow_request_sent=False, notifications=False, translator_type='none'), user=User(_api=<tweepy.api.API object at 0x7fb49984e250>, _json={'id': 16886214, 'id_str': '16886214', 'name': 'Gameplanet', 'screen_name': 'Gameplanet_Mex', 'location': '¡Todo México!', 'description': '¡Sigue a Gameplanet! Compra tus videojuegos, consolas, accesorios y coleccionables con nosotros.', 'url': 'https://t.co/B9DyeTXuZg', 'entities': {'url': {'urls': [{'url': 'https://t.co/B9DyeTXuZg', 'expanded_url': 'http://www.gameplanet.com', 'display_url': 'gameplanet.com', 'indices': [0, 23]}]}, 'description': {'urls': []}}, 'protected': False, 'followers_count': 133660, 'friends_count': 28564, 'listed_count': 1058, 'created_at': 'Tue Oct 21 13:58:59 +0000 2008', 'favourites_count': 1257, 'utc_offset': None, 'time_zone': None, 'geo_enabled': True, 'verified': True, 'statuses_count': 99287, 'lang': None, 'contributors_enabled': False, 'is_translator': False, 'is_translation_enabled': False, 'profile_background_color': 'B2DFDA', 'profile_background_image_url': 'http://abs.twimg.com/images/themes/theme1/bg.png', 'profile_background_image_url_https': 'https://abs.twimg.com/images/themes/theme1/bg.png', 'profile_background_tile': False, 'profile_image_url': 'http://pbs.twimg.com/profile_images/1351715665602863106/zFqs3rKa_normal.jpg', 'profile_image_url_https': 'https://pbs.twimg.com/profile_images/1351715665602863106/zFqs3rKa_normal.jpg', 'profile_banner_url': 'https://pbs.twimg.com/profile_banners/16886214/1611109104', 'profile_link_color': '19CF86', 'profile_sidebar_border_color': 'FFFFFF', 'profile_sidebar_fill_color': 'F7DA93', 'profile_text_color': '000000', 'profile_use_background_image': False, 'has_extended_profile': False, 'default_profile': False, 'default_profile_image': False, 'following': True, 'follow_request_sent': False, 'notifications': False, 'translator_type': 'none'}, id=16886214, id_str='16886214', name='Gameplanet', screen_name='Gameplanet_Mex', location='¡Todo México!', description='¡Sigue a Gameplanet! Compra tus videojuegos, consolas, accesorios y coleccionables con nosotros.', url='https://t.co/B9DyeTXuZg', entities={'url': {'urls': [{'url': 'https://t.co/B9DyeTXuZg', 'expanded_url': 'http://www.gameplanet.com', 'display_url': 'gameplanet.com', 'indices': [0, 23]}]}, 'description': {'urls': []}}, protected=False, followers_count=133660, friends_count=28564, listed_count=1058, created_at=datetime.datetime(2008, 10, 21, 13, 58, 59), favourites_count=1257, utc_offset=None, time_zone=None, geo_enabled=True, verified=True, statuses_count=99287, lang=None, contributors_enabled=False, is_translator=False, is_translation_enabled=False, profile_background_color='B2DFDA', profile_background_image_url='http://abs.twimg.com/images/themes/theme1/bg.png', profile_background_image_url_https='https://abs.twimg.com/images/themes/theme1/bg.png', profile_background_tile=False, profile_image_url='http://pbs.twimg.com/profile_images/1351715665602863106/zFqs3rKa_normal.jpg', profile_image_url_https='https://pbs.twimg.com/profile_images/1351715665602863106/zFqs3rKa_normal.jpg', profile_banner_url='https://pbs.twimg.com/profile_banners/16886214/1611109104', profile_link_color='19CF86', profile_sidebar_border_color='FFFFFF', profile_sidebar_fill_color='F7DA93', profile_text_color='000000', profile_use_background_image=False, has_extended_profile=False, default_profile=False, default_profile_image=False, following=True, follow_request_sent=False, notifications=False, translator_type='none'), geo=None, coordinates=None, place=None, contributors=None, is_quote_status=False, retweet_count=1, favorite_count=4, favorited=False, retweeted=False, possibly_sensitive=False, possibly_sensitive_appealable=False, lang='es'),\n",
       " Status(_api=<tweepy.api.API object at 0x7fb49984e250>, _json={'created_at': 'Mon Mar 29 20:00:11 +0000 2021', 'id': 1376625254236360708, 'id_str': '1376625254236360708', 'text': 'Most states will open vaccinations to all adults by mid-April https://t.co/SkLxsmqQkK https://t.co/xo1ySvl6e3', 'truncated': False, 'entities': {'hashtags': [], 'symbols': [], 'user_mentions': [], 'urls': [{'url': 'https://t.co/SkLxsmqQkK', 'expanded_url': 'https://www.popsci.com/story/health/covid-19-news-cases-rising/?taid=606231ca9e71f30001ce130c&utm_campaign=trueanthem_trending-content&utm_medium=social&utm_source=twitter', 'display_url': 'popsci.com/story/health/c…', 'indices': [62, 85]}], 'media': [{'id': 1376625250759290882, 'id_str': '1376625250759290882', 'indices': [86, 109], 'media_url': 'http://pbs.twimg.com/media/ExrBXzRXMAITo7o.jpg', 'media_url_https': 'https://pbs.twimg.com/media/ExrBXzRXMAITo7o.jpg', 'url': 'https://t.co/xo1ySvl6e3', 'display_url': 'pic.twitter.com/xo1ySvl6e3', 'expanded_url': 'https://twitter.com/PopSci/status/1376625254236360708/photo/1', 'type': 'photo', 'sizes': {'medium': {'w': 1200, 'h': 801, 'resize': 'fit'}, 'thumb': {'w': 150, 'h': 150, 'resize': 'crop'}, 'large': {'w': 2048, 'h': 1367, 'resize': 'fit'}, 'small': {'w': 680, 'h': 454, 'resize': 'fit'}}}]}, 'extended_entities': {'media': [{'id': 1376625250759290882, 'id_str': '1376625250759290882', 'indices': [86, 109], 'media_url': 'http://pbs.twimg.com/media/ExrBXzRXMAITo7o.jpg', 'media_url_https': 'https://pbs.twimg.com/media/ExrBXzRXMAITo7o.jpg', 'url': 'https://t.co/xo1ySvl6e3', 'display_url': 'pic.twitter.com/xo1ySvl6e3', 'expanded_url': 'https://twitter.com/PopSci/status/1376625254236360708/photo/1', 'type': 'photo', 'sizes': {'medium': {'w': 1200, 'h': 801, 'resize': 'fit'}, 'thumb': {'w': 150, 'h': 150, 'resize': 'crop'}, 'large': {'w': 2048, 'h': 1367, 'resize': 'fit'}, 'small': {'w': 680, 'h': 454, 'resize': 'fit'}}}]}, 'source': '<a href=\"https://trueanthem.com/\" rel=\"nofollow\">True Anthem</a>', 'in_reply_to_status_id': None, 'in_reply_to_status_id_str': None, 'in_reply_to_user_id': None, 'in_reply_to_user_id_str': None, 'in_reply_to_screen_name': None, 'user': {'id': 19722699, 'id_str': '19722699', 'name': 'Popular Science', 'screen_name': 'PopSci', 'location': 'New York', 'description': 'Awe-inspiring science, tech, and DIY. Our latest issue is *cue the smoke machine* packed with mysteries. Sample the stories here: https://t.co/DOv3tfEtsT.', 'url': 'https://t.co/CzvtWPd0Q9', 'entities': {'url': {'urls': [{'url': 'https://t.co/CzvtWPd0Q9', 'expanded_url': 'http://www.popsci.com', 'display_url': 'popsci.com', 'indices': [0, 23]}]}, 'description': {'urls': [{'url': 'https://t.co/DOv3tfEtsT', 'expanded_url': 'http://popsci.com/tags/mysteries', 'display_url': 'popsci.com/tags/mysteries', 'indices': [130, 153]}]}}, 'protected': False, 'followers_count': 1408957, 'friends_count': 1360, 'listed_count': 15162, 'created_at': 'Thu Jan 29 17:46:28 +0000 2009', 'favourites_count': 5675, 'utc_offset': None, 'time_zone': None, 'geo_enabled': True, 'verified': True, 'statuses_count': 118917, 'lang': None, 'contributors_enabled': False, 'is_translator': False, 'is_translation_enabled': False, 'profile_background_color': 'EBEBEB', 'profile_background_image_url': 'http://abs.twimg.com/images/themes/theme1/bg.png', 'profile_background_image_url_https': 'https://abs.twimg.com/images/themes/theme1/bg.png', 'profile_background_tile': False, 'profile_image_url': 'http://pbs.twimg.com/profile_images/1029084163780079616/KL96wS4C_normal.jpg', 'profile_image_url_https': 'https://pbs.twimg.com/profile_images/1029084163780079616/KL96wS4C_normal.jpg', 'profile_banner_url': 'https://pbs.twimg.com/profile_banners/19722699/1607380164', 'profile_link_color': '990000', 'profile_sidebar_border_color': 'FFFFFF', 'profile_sidebar_fill_color': 'F3F3F3', 'profile_text_color': '333333', 'profile_use_background_image': True, 'has_extended_profile': False, 'default_profile': False, 'default_profile_image': False, 'following': True, 'follow_request_sent': False, 'notifications': False, 'translator_type': 'regular'}, 'geo': None, 'coordinates': None, 'place': None, 'contributors': None, 'is_quote_status': False, 'retweet_count': 1, 'favorite_count': 6, 'favorited': False, 'retweeted': False, 'possibly_sensitive': False, 'possibly_sensitive_appealable': False, 'lang': 'en'}, created_at=datetime.datetime(2021, 3, 29, 20, 0, 11), id=1376625254236360708, id_str='1376625254236360708', text='Most states will open vaccinations to all adults by mid-April https://t.co/SkLxsmqQkK https://t.co/xo1ySvl6e3', truncated=False, entities={'hashtags': [], 'symbols': [], 'user_mentions': [], 'urls': [{'url': 'https://t.co/SkLxsmqQkK', 'expanded_url': 'https://www.popsci.com/story/health/covid-19-news-cases-rising/?taid=606231ca9e71f30001ce130c&utm_campaign=trueanthem_trending-content&utm_medium=social&utm_source=twitter', 'display_url': 'popsci.com/story/health/c…', 'indices': [62, 85]}], 'media': [{'id': 1376625250759290882, 'id_str': '1376625250759290882', 'indices': [86, 109], 'media_url': 'http://pbs.twimg.com/media/ExrBXzRXMAITo7o.jpg', 'media_url_https': 'https://pbs.twimg.com/media/ExrBXzRXMAITo7o.jpg', 'url': 'https://t.co/xo1ySvl6e3', 'display_url': 'pic.twitter.com/xo1ySvl6e3', 'expanded_url': 'https://twitter.com/PopSci/status/1376625254236360708/photo/1', 'type': 'photo', 'sizes': {'medium': {'w': 1200, 'h': 801, 'resize': 'fit'}, 'thumb': {'w': 150, 'h': 150, 'resize': 'crop'}, 'large': {'w': 2048, 'h': 1367, 'resize': 'fit'}, 'small': {'w': 680, 'h': 454, 'resize': 'fit'}}}]}, extended_entities={'media': [{'id': 1376625250759290882, 'id_str': '1376625250759290882', 'indices': [86, 109], 'media_url': 'http://pbs.twimg.com/media/ExrBXzRXMAITo7o.jpg', 'media_url_https': 'https://pbs.twimg.com/media/ExrBXzRXMAITo7o.jpg', 'url': 'https://t.co/xo1ySvl6e3', 'display_url': 'pic.twitter.com/xo1ySvl6e3', 'expanded_url': 'https://twitter.com/PopSci/status/1376625254236360708/photo/1', 'type': 'photo', 'sizes': {'medium': {'w': 1200, 'h': 801, 'resize': 'fit'}, 'thumb': {'w': 150, 'h': 150, 'resize': 'crop'}, 'large': {'w': 2048, 'h': 1367, 'resize': 'fit'}, 'small': {'w': 680, 'h': 454, 'resize': 'fit'}}}]}, source='True Anthem', source_url='https://trueanthem.com/', in_reply_to_status_id=None, in_reply_to_status_id_str=None, in_reply_to_user_id=None, in_reply_to_user_id_str=None, in_reply_to_screen_name=None, author=User(_api=<tweepy.api.API object at 0x7fb49984e250>, _json={'id': 19722699, 'id_str': '19722699', 'name': 'Popular Science', 'screen_name': 'PopSci', 'location': 'New York', 'description': 'Awe-inspiring science, tech, and DIY. Our latest issue is *cue the smoke machine* packed with mysteries. Sample the stories here: https://t.co/DOv3tfEtsT.', 'url': 'https://t.co/CzvtWPd0Q9', 'entities': {'url': {'urls': [{'url': 'https://t.co/CzvtWPd0Q9', 'expanded_url': 'http://www.popsci.com', 'display_url': 'popsci.com', 'indices': [0, 23]}]}, 'description': {'urls': [{'url': 'https://t.co/DOv3tfEtsT', 'expanded_url': 'http://popsci.com/tags/mysteries', 'display_url': 'popsci.com/tags/mysteries', 'indices': [130, 153]}]}}, 'protected': False, 'followers_count': 1408957, 'friends_count': 1360, 'listed_count': 15162, 'created_at': 'Thu Jan 29 17:46:28 +0000 2009', 'favourites_count': 5675, 'utc_offset': None, 'time_zone': None, 'geo_enabled': True, 'verified': True, 'statuses_count': 118917, 'lang': None, 'contributors_enabled': False, 'is_translator': False, 'is_translation_enabled': False, 'profile_background_color': 'EBEBEB', 'profile_background_image_url': 'http://abs.twimg.com/images/themes/theme1/bg.png', 'profile_background_image_url_https': 'https://abs.twimg.com/images/themes/theme1/bg.png', 'profile_background_tile': False, 'profile_image_url': 'http://pbs.twimg.com/profile_images/1029084163780079616/KL96wS4C_normal.jpg', 'profile_image_url_https': 'https://pbs.twimg.com/profile_images/1029084163780079616/KL96wS4C_normal.jpg', 'profile_banner_url': 'https://pbs.twimg.com/profile_banners/19722699/1607380164', 'profile_link_color': '990000', 'profile_sidebar_border_color': 'FFFFFF', 'profile_sidebar_fill_color': 'F3F3F3', 'profile_text_color': '333333', 'profile_use_background_image': True, 'has_extended_profile': False, 'default_profile': False, 'default_profile_image': False, 'following': True, 'follow_request_sent': False, 'notifications': False, 'translator_type': 'regular'}, id=19722699, id_str='19722699', name='Popular Science', screen_name='PopSci', location='New York', description='Awe-inspiring science, tech, and DIY. Our latest issue is *cue the smoke machine* packed with mysteries. Sample the stories here: https://t.co/DOv3tfEtsT.', url='https://t.co/CzvtWPd0Q9', entities={'url': {'urls': [{'url': 'https://t.co/CzvtWPd0Q9', 'expanded_url': 'http://www.popsci.com', 'display_url': 'popsci.com', 'indices': [0, 23]}]}, 'description': {'urls': [{'url': 'https://t.co/DOv3tfEtsT', 'expanded_url': 'http://popsci.com/tags/mysteries', 'display_url': 'popsci.com/tags/mysteries', 'indices': [130, 153]}]}}, protected=False, followers_count=1408957, friends_count=1360, listed_count=15162, created_at=datetime.datetime(2009, 1, 29, 17, 46, 28), favourites_count=5675, utc_offset=None, time_zone=None, geo_enabled=True, verified=True, statuses_count=118917, lang=None, contributors_enabled=False, is_translator=False, is_translation_enabled=False, profile_background_color='EBEBEB', profile_background_image_url='http://abs.twimg.com/images/themes/theme1/bg.png', profile_background_image_url_https='https://abs.twimg.com/images/themes/theme1/bg.png', profile_background_tile=False, profile_image_url='http://pbs.twimg.com/profile_images/1029084163780079616/KL96wS4C_normal.jpg', profile_image_url_https='https://pbs.twimg.com/profile_images/1029084163780079616/KL96wS4C_normal.jpg', profile_banner_url='https://pbs.twimg.com/profile_banners/19722699/1607380164', profile_link_color='990000', profile_sidebar_border_color='FFFFFF', profile_sidebar_fill_color='F3F3F3', profile_text_color='333333', profile_use_background_image=True, has_extended_profile=False, default_profile=False, default_profile_image=False, following=True, follow_request_sent=False, notifications=False, translator_type='regular'), user=User(_api=<tweepy.api.API object at 0x7fb49984e250>, _json={'id': 19722699, 'id_str': '19722699', 'name': 'Popular Science', 'screen_name': 'PopSci', 'location': 'New York', 'description': 'Awe-inspiring science, tech, and DIY. Our latest issue is *cue the smoke machine* packed with mysteries. Sample the stories here: https://t.co/DOv3tfEtsT.', 'url': 'https://t.co/CzvtWPd0Q9', 'entities': {'url': {'urls': [{'url': 'https://t.co/CzvtWPd0Q9', 'expanded_url': 'http://www.popsci.com', 'display_url': 'popsci.com', 'indices': [0, 23]}]}, 'description': {'urls': [{'url': 'https://t.co/DOv3tfEtsT', 'expanded_url': 'http://popsci.com/tags/mysteries', 'display_url': 'popsci.com/tags/mysteries', 'indices': [130, 153]}]}}, 'protected': False, 'followers_count': 1408957, 'friends_count': 1360, 'listed_count': 15162, 'created_at': 'Thu Jan 29 17:46:28 +0000 2009', 'favourites_count': 5675, 'utc_offset': None, 'time_zone': None, 'geo_enabled': True, 'verified': True, 'statuses_count': 118917, 'lang': None, 'contributors_enabled': False, 'is_translator': False, 'is_translation_enabled': False, 'profile_background_color': 'EBEBEB', 'profile_background_image_url': 'http://abs.twimg.com/images/themes/theme1/bg.png', 'profile_background_image_url_https': 'https://abs.twimg.com/images/themes/theme1/bg.png', 'profile_background_tile': False, 'profile_image_url': 'http://pbs.twimg.com/profile_images/1029084163780079616/KL96wS4C_normal.jpg', 'profile_image_url_https': 'https://pbs.twimg.com/profile_images/1029084163780079616/KL96wS4C_normal.jpg', 'profile_banner_url': 'https://pbs.twimg.com/profile_banners/19722699/1607380164', 'profile_link_color': '990000', 'profile_sidebar_border_color': 'FFFFFF', 'profile_sidebar_fill_color': 'F3F3F3', 'profile_text_color': '333333', 'profile_use_background_image': True, 'has_extended_profile': False, 'default_profile': False, 'default_profile_image': False, 'following': True, 'follow_request_sent': False, 'notifications': False, 'translator_type': 'regular'}, id=19722699, id_str='19722699', name='Popular Science', screen_name='PopSci', location='New York', description='Awe-inspiring science, tech, and DIY. Our latest issue is *cue the smoke machine* packed with mysteries. Sample the stories here: https://t.co/DOv3tfEtsT.', url='https://t.co/CzvtWPd0Q9', entities={'url': {'urls': [{'url': 'https://t.co/CzvtWPd0Q9', 'expanded_url': 'http://www.popsci.com', 'display_url': 'popsci.com', 'indices': [0, 23]}]}, 'description': {'urls': [{'url': 'https://t.co/DOv3tfEtsT', 'expanded_url': 'http://popsci.com/tags/mysteries', 'display_url': 'popsci.com/tags/mysteries', 'indices': [130, 153]}]}}, protected=False, followers_count=1408957, friends_count=1360, listed_count=15162, created_at=datetime.datetime(2009, 1, 29, 17, 46, 28), favourites_count=5675, utc_offset=None, time_zone=None, geo_enabled=True, verified=True, statuses_count=118917, lang=None, contributors_enabled=False, is_translator=False, is_translation_enabled=False, profile_background_color='EBEBEB', profile_background_image_url='http://abs.twimg.com/images/themes/theme1/bg.png', profile_background_image_url_https='https://abs.twimg.com/images/themes/theme1/bg.png', profile_background_tile=False, profile_image_url='http://pbs.twimg.com/profile_images/1029084163780079616/KL96wS4C_normal.jpg', profile_image_url_https='https://pbs.twimg.com/profile_images/1029084163780079616/KL96wS4C_normal.jpg', profile_banner_url='https://pbs.twimg.com/profile_banners/19722699/1607380164', profile_link_color='990000', profile_sidebar_border_color='FFFFFF', profile_sidebar_fill_color='F3F3F3', profile_text_color='333333', profile_use_background_image=True, has_extended_profile=False, default_profile=False, default_profile_image=False, following=True, follow_request_sent=False, notifications=False, translator_type='regular'), geo=None, coordinates=None, place=None, contributors=None, is_quote_status=False, retweet_count=1, favorite_count=6, favorited=False, retweeted=False, possibly_sensitive=False, possibly_sensitive_appealable=False, lang='en'),\n",
       " Status(_api=<tweepy.api.API object at 0x7fb49984e250>, _json={'created_at': 'Mon Mar 29 20:00:08 +0000 2021', 'id': 1376625241732960259, 'id_str': '1376625241732960259', 'text': '.@britneyspears is the first female artist since 1991 to have her first four studio albums debut at number one on t… https://t.co/jgLdtBvyVe', 'truncated': True, 'entities': {'hashtags': [], 'symbols': [], 'user_mentions': [{'screen_name': 'britneyspears', 'name': 'Britney Spears', 'id': 16409683, 'id_str': '16409683', 'indices': [1, 15]}], 'urls': [{'url': 'https://t.co/jgLdtBvyVe', 'expanded_url': 'https://twitter.com/i/web/status/1376625241732960259', 'display_url': 'twitter.com/i/web/status/1…', 'indices': [117, 140]}]}, 'source': '<a href=\"https://www.percolate.com\" rel=\"nofollow\">Percolate</a>', 'in_reply_to_status_id': None, 'in_reply_to_status_id_str': None, 'in_reply_to_user_id': None, 'in_reply_to_user_id_str': None, 'in_reply_to_screen_name': None, 'user': {'id': 34442404, 'id_str': '34442404', 'name': 'Sony', 'screen_name': 'Sony', 'location': 'New York, NY', 'description': 'The official Twitter for Sony in the United States. For all support inquiries: @SonySupportUSA.', 'url': 'https://t.co/juLEMjTfPj', 'entities': {'url': {'urls': [{'url': 'https://t.co/juLEMjTfPj', 'expanded_url': 'http://www.sony.com', 'display_url': 'sony.com', 'indices': [0, 23]}]}, 'description': {'urls': []}}, 'protected': False, 'followers_count': 4845414, 'friends_count': 2365, 'listed_count': 9638, 'created_at': 'Wed Apr 22 23:29:33 +0000 2009', 'favourites_count': 57604, 'utc_offset': None, 'time_zone': None, 'geo_enabled': False, 'verified': True, 'statuses_count': 31373, 'lang': None, 'contributors_enabled': False, 'is_translator': False, 'is_translation_enabled': True, 'profile_background_color': '000000', 'profile_background_image_url': 'http://abs.twimg.com/images/themes/theme1/bg.png', 'profile_background_image_url_https': 'https://abs.twimg.com/images/themes/theme1/bg.png', 'profile_background_tile': False, 'profile_image_url': 'http://pbs.twimg.com/profile_images/1196440017524199424/Kwd1F92E_normal.jpg', 'profile_image_url_https': 'https://pbs.twimg.com/profile_images/1196440017524199424/Kwd1F92E_normal.jpg', 'profile_banner_url': 'https://pbs.twimg.com/profile_banners/34442404/1567693724', 'profile_link_color': '3BADEB', 'profile_sidebar_border_color': 'FFFFFF', 'profile_sidebar_fill_color': '000000', 'profile_text_color': '787878', 'profile_use_background_image': False, 'has_extended_profile': False, 'default_profile': False, 'default_profile_image': False, 'following': True, 'follow_request_sent': False, 'notifications': False, 'translator_type': 'none'}, 'geo': None, 'coordinates': None, 'place': None, 'contributors': None, 'is_quote_status': False, 'retweet_count': 6, 'favorite_count': 105, 'favorited': False, 'retweeted': False, 'possibly_sensitive': False, 'possibly_sensitive_appealable': False, 'lang': 'en'}, created_at=datetime.datetime(2021, 3, 29, 20, 0, 8), id=1376625241732960259, id_str='1376625241732960259', text='.@britneyspears is the first female artist since 1991 to have her first four studio albums debut at number one on t… https://t.co/jgLdtBvyVe', truncated=True, entities={'hashtags': [], 'symbols': [], 'user_mentions': [{'screen_name': 'britneyspears', 'name': 'Britney Spears', 'id': 16409683, 'id_str': '16409683', 'indices': [1, 15]}], 'urls': [{'url': 'https://t.co/jgLdtBvyVe', 'expanded_url': 'https://twitter.com/i/web/status/1376625241732960259', 'display_url': 'twitter.com/i/web/status/1…', 'indices': [117, 140]}]}, source='Percolate', source_url='https://www.percolate.com', in_reply_to_status_id=None, in_reply_to_status_id_str=None, in_reply_to_user_id=None, in_reply_to_user_id_str=None, in_reply_to_screen_name=None, author=User(_api=<tweepy.api.API object at 0x7fb49984e250>, _json={'id': 34442404, 'id_str': '34442404', 'name': 'Sony', 'screen_name': 'Sony', 'location': 'New York, NY', 'description': 'The official Twitter for Sony in the United States. For all support inquiries: @SonySupportUSA.', 'url': 'https://t.co/juLEMjTfPj', 'entities': {'url': {'urls': [{'url': 'https://t.co/juLEMjTfPj', 'expanded_url': 'http://www.sony.com', 'display_url': 'sony.com', 'indices': [0, 23]}]}, 'description': {'urls': []}}, 'protected': False, 'followers_count': 4845414, 'friends_count': 2365, 'listed_count': 9638, 'created_at': 'Wed Apr 22 23:29:33 +0000 2009', 'favourites_count': 57604, 'utc_offset': None, 'time_zone': None, 'geo_enabled': False, 'verified': True, 'statuses_count': 31373, 'lang': None, 'contributors_enabled': False, 'is_translator': False, 'is_translation_enabled': True, 'profile_background_color': '000000', 'profile_background_image_url': 'http://abs.twimg.com/images/themes/theme1/bg.png', 'profile_background_image_url_https': 'https://abs.twimg.com/images/themes/theme1/bg.png', 'profile_background_tile': False, 'profile_image_url': 'http://pbs.twimg.com/profile_images/1196440017524199424/Kwd1F92E_normal.jpg', 'profile_image_url_https': 'https://pbs.twimg.com/profile_images/1196440017524199424/Kwd1F92E_normal.jpg', 'profile_banner_url': 'https://pbs.twimg.com/profile_banners/34442404/1567693724', 'profile_link_color': '3BADEB', 'profile_sidebar_border_color': 'FFFFFF', 'profile_sidebar_fill_color': '000000', 'profile_text_color': '787878', 'profile_use_background_image': False, 'has_extended_profile': False, 'default_profile': False, 'default_profile_image': False, 'following': True, 'follow_request_sent': False, 'notifications': False, 'translator_type': 'none'}, id=34442404, id_str='34442404', name='Sony', screen_name='Sony', location='New York, NY', description='The official Twitter for Sony in the United States. For all support inquiries: @SonySupportUSA.', url='https://t.co/juLEMjTfPj', entities={'url': {'urls': [{'url': 'https://t.co/juLEMjTfPj', 'expanded_url': 'http://www.sony.com', 'display_url': 'sony.com', 'indices': [0, 23]}]}, 'description': {'urls': []}}, protected=False, followers_count=4845414, friends_count=2365, listed_count=9638, created_at=datetime.datetime(2009, 4, 22, 23, 29, 33), favourites_count=57604, utc_offset=None, time_zone=None, geo_enabled=False, verified=True, statuses_count=31373, lang=None, contributors_enabled=False, is_translator=False, is_translation_enabled=True, profile_background_color='000000', profile_background_image_url='http://abs.twimg.com/images/themes/theme1/bg.png', profile_background_image_url_https='https://abs.twimg.com/images/themes/theme1/bg.png', profile_background_tile=False, profile_image_url='http://pbs.twimg.com/profile_images/1196440017524199424/Kwd1F92E_normal.jpg', profile_image_url_https='https://pbs.twimg.com/profile_images/1196440017524199424/Kwd1F92E_normal.jpg', profile_banner_url='https://pbs.twimg.com/profile_banners/34442404/1567693724', profile_link_color='3BADEB', profile_sidebar_border_color='FFFFFF', profile_sidebar_fill_color='000000', profile_text_color='787878', profile_use_background_image=False, has_extended_profile=False, default_profile=False, default_profile_image=False, following=True, follow_request_sent=False, notifications=False, translator_type='none'), user=User(_api=<tweepy.api.API object at 0x7fb49984e250>, _json={'id': 34442404, 'id_str': '34442404', 'name': 'Sony', 'screen_name': 'Sony', 'location': 'New York, NY', 'description': 'The official Twitter for Sony in the United States. For all support inquiries: @SonySupportUSA.', 'url': 'https://t.co/juLEMjTfPj', 'entities': {'url': {'urls': [{'url': 'https://t.co/juLEMjTfPj', 'expanded_url': 'http://www.sony.com', 'display_url': 'sony.com', 'indices': [0, 23]}]}, 'description': {'urls': []}}, 'protected': False, 'followers_count': 4845414, 'friends_count': 2365, 'listed_count': 9638, 'created_at': 'Wed Apr 22 23:29:33 +0000 2009', 'favourites_count': 57604, 'utc_offset': None, 'time_zone': None, 'geo_enabled': False, 'verified': True, 'statuses_count': 31373, 'lang': None, 'contributors_enabled': False, 'is_translator': False, 'is_translation_enabled': True, 'profile_background_color': '000000', 'profile_background_image_url': 'http://abs.twimg.com/images/themes/theme1/bg.png', 'profile_background_image_url_https': 'https://abs.twimg.com/images/themes/theme1/bg.png', 'profile_background_tile': False, 'profile_image_url': 'http://pbs.twimg.com/profile_images/1196440017524199424/Kwd1F92E_normal.jpg', 'profile_image_url_https': 'https://pbs.twimg.com/profile_images/1196440017524199424/Kwd1F92E_normal.jpg', 'profile_banner_url': 'https://pbs.twimg.com/profile_banners/34442404/1567693724', 'profile_link_color': '3BADEB', 'profile_sidebar_border_color': 'FFFFFF', 'profile_sidebar_fill_color': '000000', 'profile_text_color': '787878', 'profile_use_background_image': False, 'has_extended_profile': False, 'default_profile': False, 'default_profile_image': False, 'following': True, 'follow_request_sent': False, 'notifications': False, 'translator_type': 'none'}, id=34442404, id_str='34442404', name='Sony', screen_name='Sony', location='New York, NY', description='The official Twitter for Sony in the United States. For all support inquiries: @SonySupportUSA.', url='https://t.co/juLEMjTfPj', entities={'url': {'urls': [{'url': 'https://t.co/juLEMjTfPj', 'expanded_url': 'http://www.sony.com', 'display_url': 'sony.com', 'indices': [0, 23]}]}, 'description': {'urls': []}}, protected=False, followers_count=4845414, friends_count=2365, listed_count=9638, created_at=datetime.datetime(2009, 4, 22, 23, 29, 33), favourites_count=57604, utc_offset=None, time_zone=None, geo_enabled=False, verified=True, statuses_count=31373, lang=None, contributors_enabled=False, is_translator=False, is_translation_enabled=True, profile_background_color='000000', profile_background_image_url='http://abs.twimg.com/images/themes/theme1/bg.png', profile_background_image_url_https='https://abs.twimg.com/images/themes/theme1/bg.png', profile_background_tile=False, profile_image_url='http://pbs.twimg.com/profile_images/1196440017524199424/Kwd1F92E_normal.jpg', profile_image_url_https='https://pbs.twimg.com/profile_images/1196440017524199424/Kwd1F92E_normal.jpg', profile_banner_url='https://pbs.twimg.com/profile_banners/34442404/1567693724', profile_link_color='3BADEB', profile_sidebar_border_color='FFFFFF', profile_sidebar_fill_color='000000', profile_text_color='787878', profile_use_background_image=False, has_extended_profile=False, default_profile=False, default_profile_image=False, following=True, follow_request_sent=False, notifications=False, translator_type='none'), geo=None, coordinates=None, place=None, contributors=None, is_quote_status=False, retweet_count=6, favorite_count=105, favorited=False, retweeted=False, possibly_sensitive=False, possibly_sensitive_appealable=False, lang='en'),\n",
       " Status(_api=<tweepy.api.API object at 0x7fb49984e250>, _json={'created_at': 'Mon Mar 29 20:00:00 +0000 2021', 'id': 1376625208409346050, 'id_str': '1376625208409346050', 'text': 'semi-transparent solar cells can generate electricity without affecting the growth and health of the plants inside.… https://t.co/FQ4ulHXZ0f', 'truncated': True, 'entities': {'hashtags': [], 'symbols': [], 'user_mentions': [], 'urls': [{'url': 'https://t.co/FQ4ulHXZ0f', 'expanded_url': 'https://twitter.com/i/web/status/1376625208409346050', 'display_url': 'twitter.com/i/web/status/1…', 'indices': [117, 140]}]}, 'source': '<a href=\"https://studio.twitter.com\" rel=\"nofollow\">Twitter Media Studio</a>', 'in_reply_to_status_id': None, 'in_reply_to_status_id_str': None, 'in_reply_to_user_id': None, 'in_reply_to_user_id_str': None, 'in_reply_to_screen_name': None, 'user': {'id': 484796656, 'id_str': '484796656', 'name': 'Ajit Johnson', 'screen_name': 'ajitjohnson_n', 'location': 'Boston, MA', 'description': 'Cancer Geneticist @harvard • Voicing for evidence based policies to preserve our species for another million years. | https://t.co/7x665FRxLV', 'url': 'https://t.co/Ct4SZhSmL1', 'entities': {'url': {'urls': [{'url': 'https://t.co/Ct4SZhSmL1', 'expanded_url': 'http://www.ajitjohnson.com/about', 'display_url': 'ajitjohnson.com/about', 'indices': [0, 23]}]}, 'description': {'urls': [{'url': 'https://t.co/7x665FRxLV', 'expanded_url': 'http://joinclubhouse.com/@ajitjohnson', 'display_url': 'joinclubhouse.com/@ajitjohnson', 'indices': [118, 141]}]}}, 'protected': False, 'followers_count': 108703, 'friends_count': 8190, 'listed_count': 858, 'created_at': 'Mon Feb 06 14:08:20 +0000 2012', 'favourites_count': 2644, 'utc_offset': None, 'time_zone': None, 'geo_enabled': True, 'verified': True, 'statuses_count': 1775, 'lang': None, 'contributors_enabled': False, 'is_translator': False, 'is_translation_enabled': False, 'profile_background_color': '000000', 'profile_background_image_url': 'http://abs.twimg.com/images/themes/theme14/bg.gif', 'profile_background_image_url_https': 'https://abs.twimg.com/images/themes/theme14/bg.gif', 'profile_background_tile': False, 'profile_image_url': 'http://pbs.twimg.com/profile_images/1363602247536549896/K8lcPFM0_normal.jpg', 'profile_image_url_https': 'https://pbs.twimg.com/profile_images/1363602247536549896/K8lcPFM0_normal.jpg', 'profile_banner_url': 'https://pbs.twimg.com/profile_banners/484796656/1486391527', 'profile_link_color': '1B95E0', 'profile_sidebar_border_color': '000000', 'profile_sidebar_fill_color': '000000', 'profile_text_color': '000000', 'profile_use_background_image': False, 'has_extended_profile': True, 'default_profile': False, 'default_profile_image': False, 'following': True, 'follow_request_sent': False, 'notifications': False, 'translator_type': 'none'}, 'geo': None, 'coordinates': None, 'place': None, 'contributors': None, 'is_quote_status': False, 'retweet_count': 11, 'favorite_count': 62, 'favorited': False, 'retweeted': False, 'possibly_sensitive': False, 'possibly_sensitive_appealable': False, 'lang': 'en'}, created_at=datetime.datetime(2021, 3, 29, 20, 0), id=1376625208409346050, id_str='1376625208409346050', text='semi-transparent solar cells can generate electricity without affecting the growth and health of the plants inside.… https://t.co/FQ4ulHXZ0f', truncated=True, entities={'hashtags': [], 'symbols': [], 'user_mentions': [], 'urls': [{'url': 'https://t.co/FQ4ulHXZ0f', 'expanded_url': 'https://twitter.com/i/web/status/1376625208409346050', 'display_url': 'twitter.com/i/web/status/1…', 'indices': [117, 140]}]}, source='Twitter Media Studio', source_url='https://studio.twitter.com', in_reply_to_status_id=None, in_reply_to_status_id_str=None, in_reply_to_user_id=None, in_reply_to_user_id_str=None, in_reply_to_screen_name=None, author=User(_api=<tweepy.api.API object at 0x7fb49984e250>, _json={'id': 484796656, 'id_str': '484796656', 'name': 'Ajit Johnson', 'screen_name': 'ajitjohnson_n', 'location': 'Boston, MA', 'description': 'Cancer Geneticist @harvard • Voicing for evidence based policies to preserve our species for another million years. | https://t.co/7x665FRxLV', 'url': 'https://t.co/Ct4SZhSmL1', 'entities': {'url': {'urls': [{'url': 'https://t.co/Ct4SZhSmL1', 'expanded_url': 'http://www.ajitjohnson.com/about', 'display_url': 'ajitjohnson.com/about', 'indices': [0, 23]}]}, 'description': {'urls': [{'url': 'https://t.co/7x665FRxLV', 'expanded_url': 'http://joinclubhouse.com/@ajitjohnson', 'display_url': 'joinclubhouse.com/@ajitjohnson', 'indices': [118, 141]}]}}, 'protected': False, 'followers_count': 108703, 'friends_count': 8190, 'listed_count': 858, 'created_at': 'Mon Feb 06 14:08:20 +0000 2012', 'favourites_count': 2644, 'utc_offset': None, 'time_zone': None, 'geo_enabled': True, 'verified': True, 'statuses_count': 1775, 'lang': None, 'contributors_enabled': False, 'is_translator': False, 'is_translation_enabled': False, 'profile_background_color': '000000', 'profile_background_image_url': 'http://abs.twimg.com/images/themes/theme14/bg.gif', 'profile_background_image_url_https': 'https://abs.twimg.com/images/themes/theme14/bg.gif', 'profile_background_tile': False, 'profile_image_url': 'http://pbs.twimg.com/profile_images/1363602247536549896/K8lcPFM0_normal.jpg', 'profile_image_url_https': 'https://pbs.twimg.com/profile_images/1363602247536549896/K8lcPFM0_normal.jpg', 'profile_banner_url': 'https://pbs.twimg.com/profile_banners/484796656/1486391527', 'profile_link_color': '1B95E0', 'profile_sidebar_border_color': '000000', 'profile_sidebar_fill_color': '000000', 'profile_text_color': '000000', 'profile_use_background_image': False, 'has_extended_profile': True, 'default_profile': False, 'default_profile_image': False, 'following': True, 'follow_request_sent': False, 'notifications': False, 'translator_type': 'none'}, id=484796656, id_str='484796656', name='Ajit Johnson', screen_name='ajitjohnson_n', location='Boston, MA', description='Cancer Geneticist @harvard • Voicing for evidence based policies to preserve our species for another million years. | https://t.co/7x665FRxLV', url='https://t.co/Ct4SZhSmL1', entities={'url': {'urls': [{'url': 'https://t.co/Ct4SZhSmL1', 'expanded_url': 'http://www.ajitjohnson.com/about', 'display_url': 'ajitjohnson.com/about', 'indices': [0, 23]}]}, 'description': {'urls': [{'url': 'https://t.co/7x665FRxLV', 'expanded_url': 'http://joinclubhouse.com/@ajitjohnson', 'display_url': 'joinclubhouse.com/@ajitjohnson', 'indices': [118, 141]}]}}, protected=False, followers_count=108703, friends_count=8190, listed_count=858, created_at=datetime.datetime(2012, 2, 6, 14, 8, 20), favourites_count=2644, utc_offset=None, time_zone=None, geo_enabled=True, verified=True, statuses_count=1775, lang=None, contributors_enabled=False, is_translator=False, is_translation_enabled=False, profile_background_color='000000', profile_background_image_url='http://abs.twimg.com/images/themes/theme14/bg.gif', profile_background_image_url_https='https://abs.twimg.com/images/themes/theme14/bg.gif', profile_background_tile=False, profile_image_url='http://pbs.twimg.com/profile_images/1363602247536549896/K8lcPFM0_normal.jpg', profile_image_url_https='https://pbs.twimg.com/profile_images/1363602247536549896/K8lcPFM0_normal.jpg', profile_banner_url='https://pbs.twimg.com/profile_banners/484796656/1486391527', profile_link_color='1B95E0', profile_sidebar_border_color='000000', profile_sidebar_fill_color='000000', profile_text_color='000000', profile_use_background_image=False, has_extended_profile=True, default_profile=False, default_profile_image=False, following=True, follow_request_sent=False, notifications=False, translator_type='none'), user=User(_api=<tweepy.api.API object at 0x7fb49984e250>, _json={'id': 484796656, 'id_str': '484796656', 'name': 'Ajit Johnson', 'screen_name': 'ajitjohnson_n', 'location': 'Boston, MA', 'description': 'Cancer Geneticist @harvard • Voicing for evidence based policies to preserve our species for another million years. | https://t.co/7x665FRxLV', 'url': 'https://t.co/Ct4SZhSmL1', 'entities': {'url': {'urls': [{'url': 'https://t.co/Ct4SZhSmL1', 'expanded_url': 'http://www.ajitjohnson.com/about', 'display_url': 'ajitjohnson.com/about', 'indices': [0, 23]}]}, 'description': {'urls': [{'url': 'https://t.co/7x665FRxLV', 'expanded_url': 'http://joinclubhouse.com/@ajitjohnson', 'display_url': 'joinclubhouse.com/@ajitjohnson', 'indices': [118, 141]}]}}, 'protected': False, 'followers_count': 108703, 'friends_count': 8190, 'listed_count': 858, 'created_at': 'Mon Feb 06 14:08:20 +0000 2012', 'favourites_count': 2644, 'utc_offset': None, 'time_zone': None, 'geo_enabled': True, 'verified': True, 'statuses_count': 1775, 'lang': None, 'contributors_enabled': False, 'is_translator': False, 'is_translation_enabled': False, 'profile_background_color': '000000', 'profile_background_image_url': 'http://abs.twimg.com/images/themes/theme14/bg.gif', 'profile_background_image_url_https': 'https://abs.twimg.com/images/themes/theme14/bg.gif', 'profile_background_tile': False, 'profile_image_url': 'http://pbs.twimg.com/profile_images/1363602247536549896/K8lcPFM0_normal.jpg', 'profile_image_url_https': 'https://pbs.twimg.com/profile_images/1363602247536549896/K8lcPFM0_normal.jpg', 'profile_banner_url': 'https://pbs.twimg.com/profile_banners/484796656/1486391527', 'profile_link_color': '1B95E0', 'profile_sidebar_border_color': '000000', 'profile_sidebar_fill_color': '000000', 'profile_text_color': '000000', 'profile_use_background_image': False, 'has_extended_profile': True, 'default_profile': False, 'default_profile_image': False, 'following': True, 'follow_request_sent': False, 'notifications': False, 'translator_type': 'none'}, id=484796656, id_str='484796656', name='Ajit Johnson', screen_name='ajitjohnson_n', location='Boston, MA', description='Cancer Geneticist @harvard • Voicing for evidence based policies to preserve our species for another million years. | https://t.co/7x665FRxLV', url='https://t.co/Ct4SZhSmL1', entities={'url': {'urls': [{'url': 'https://t.co/Ct4SZhSmL1', 'expanded_url': 'http://www.ajitjohnson.com/about', 'display_url': 'ajitjohnson.com/about', 'indices': [0, 23]}]}, 'description': {'urls': [{'url': 'https://t.co/7x665FRxLV', 'expanded_url': 'http://joinclubhouse.com/@ajitjohnson', 'display_url': 'joinclubhouse.com/@ajitjohnson', 'indices': [118, 141]}]}}, protected=False, followers_count=108703, friends_count=8190, listed_count=858, created_at=datetime.datetime(2012, 2, 6, 14, 8, 20), favourites_count=2644, utc_offset=None, time_zone=None, geo_enabled=True, verified=True, statuses_count=1775, lang=None, contributors_enabled=False, is_translator=False, is_translation_enabled=False, profile_background_color='000000', profile_background_image_url='http://abs.twimg.com/images/themes/theme14/bg.gif', profile_background_image_url_https='https://abs.twimg.com/images/themes/theme14/bg.gif', profile_background_tile=False, profile_image_url='http://pbs.twimg.com/profile_images/1363602247536549896/K8lcPFM0_normal.jpg', profile_image_url_https='https://pbs.twimg.com/profile_images/1363602247536549896/K8lcPFM0_normal.jpg', profile_banner_url='https://pbs.twimg.com/profile_banners/484796656/1486391527', profile_link_color='1B95E0', profile_sidebar_border_color='000000', profile_sidebar_fill_color='000000', profile_text_color='000000', profile_use_background_image=False, has_extended_profile=True, default_profile=False, default_profile_image=False, following=True, follow_request_sent=False, notifications=False, translator_type='none'), geo=None, coordinates=None, place=None, contributors=None, is_quote_status=False, retweet_count=11, favorite_count=62, favorited=False, retweeted=False, possibly_sensitive=False, possibly_sensitive_appealable=False, lang='en'),\n",
       " Status(_api=<tweepy.api.API object at 0x7fb49984e250>, _json={'created_at': 'Mon Mar 29 20:00:00 +0000 2021', 'id': 1376625205972496385, 'id_str': '1376625205972496385', 'text': 'Igual que en los viejos tiempos. 😏😏😏\\n\\nConviértete en un Vikingo en #AssassinsCreedValhalla: ⚔️🛡️… https://t.co/6jwHuRhLwr', 'truncated': True, 'entities': {'hashtags': [{'text': 'AssassinsCreedValhalla', 'indices': [67, 90]}], 'symbols': [], 'user_mentions': [], 'urls': [{'url': 'https://t.co/6jwHuRhLwr', 'expanded_url': 'https://twitter.com/i/web/status/1376625205972496385', 'display_url': 'twitter.com/i/web/status/1…', 'indices': [98, 121]}]}, 'source': '<a href=\"https://about.twitter.com/products/tweetdeck\" rel=\"nofollow\">TweetDeck</a>', 'in_reply_to_status_id': None, 'in_reply_to_status_id_str': None, 'in_reply_to_user_id': None, 'in_reply_to_user_id_str': None, 'in_reply_to_screen_name': None, 'user': {'id': 340601420, 'id_str': '340601420', 'name': 'Ubisoft Latam', 'screen_name': 'UbisoftLatam', 'location': '', 'description': 'Ubisoft es un importante productor, editor y distribuidor de productos de entretenimiento interactivo.', 'url': 'https://t.co/KJe5r1Jp5h', 'entities': {'url': {'urls': [{'url': 'https://t.co/KJe5r1Jp5h', 'expanded_url': 'https://www.ubisoft.com/es-MX/', 'display_url': 'ubisoft.com/es-MX/', 'indices': [0, 23]}]}, 'description': {'urls': []}}, 'protected': False, 'followers_count': 201498, 'friends_count': 897, 'listed_count': 324, 'created_at': 'Fri Jul 22 23:45:20 +0000 2011', 'favourites_count': 11882, 'utc_offset': None, 'time_zone': None, 'geo_enabled': True, 'verified': True, 'statuses_count': 22770, 'lang': None, 'contributors_enabled': False, 'is_translator': False, 'is_translation_enabled': False, 'profile_background_color': '0D0E0F', 'profile_background_image_url': 'http://abs.twimg.com/images/themes/theme1/bg.png', 'profile_background_image_url_https': 'https://abs.twimg.com/images/themes/theme1/bg.png', 'profile_background_tile': True, 'profile_image_url': 'http://pbs.twimg.com/profile_images/1128728187112964097/SbUWsxii_normal.png', 'profile_image_url_https': 'https://pbs.twimg.com/profile_images/1128728187112964097/SbUWsxii_normal.png', 'profile_banner_url': 'https://pbs.twimg.com/profile_banners/340601420/1607024624', 'profile_link_color': '9A1830', 'profile_sidebar_border_color': '000000', 'profile_sidebar_fill_color': 'DDEEF6', 'profile_text_color': '333333', 'profile_use_background_image': True, 'has_extended_profile': False, 'default_profile': False, 'default_profile_image': False, 'following': True, 'follow_request_sent': False, 'notifications': False, 'translator_type': 'none'}, 'geo': None, 'coordinates': None, 'place': None, 'contributors': None, 'is_quote_status': False, 'retweet_count': 6, 'favorite_count': 59, 'favorited': False, 'retweeted': False, 'possibly_sensitive': False, 'possibly_sensitive_appealable': False, 'lang': 'es'}, created_at=datetime.datetime(2021, 3, 29, 20, 0), id=1376625205972496385, id_str='1376625205972496385', text='Igual que en los viejos tiempos. 😏😏😏\\n\\nConviértete en un Vikingo en #AssassinsCreedValhalla: ⚔️🛡️… https://t.co/6jwHuRhLwr', truncated=True, entities={'hashtags': [{'text': 'AssassinsCreedValhalla', 'indices': [67, 90]}], 'symbols': [], 'user_mentions': [], 'urls': [{'url': 'https://t.co/6jwHuRhLwr', 'expanded_url': 'https://twitter.com/i/web/status/1376625205972496385', 'display_url': 'twitter.com/i/web/status/1…', 'indices': [98, 121]}]}, source='TweetDeck', source_url='https://about.twitter.com/products/tweetdeck', in_reply_to_status_id=None, in_reply_to_status_id_str=None, in_reply_to_user_id=None, in_reply_to_user_id_str=None, in_reply_to_screen_name=None, author=User(_api=<tweepy.api.API object at 0x7fb49984e250>, _json={'id': 340601420, 'id_str': '340601420', 'name': 'Ubisoft Latam', 'screen_name': 'UbisoftLatam', 'location': '', 'description': 'Ubisoft es un importante productor, editor y distribuidor de productos de entretenimiento interactivo.', 'url': 'https://t.co/KJe5r1Jp5h', 'entities': {'url': {'urls': [{'url': 'https://t.co/KJe5r1Jp5h', 'expanded_url': 'https://www.ubisoft.com/es-MX/', 'display_url': 'ubisoft.com/es-MX/', 'indices': [0, 23]}]}, 'description': {'urls': []}}, 'protected': False, 'followers_count': 201498, 'friends_count': 897, 'listed_count': 324, 'created_at': 'Fri Jul 22 23:45:20 +0000 2011', 'favourites_count': 11882, 'utc_offset': None, 'time_zone': None, 'geo_enabled': True, 'verified': True, 'statuses_count': 22770, 'lang': None, 'contributors_enabled': False, 'is_translator': False, 'is_translation_enabled': False, 'profile_background_color': '0D0E0F', 'profile_background_image_url': 'http://abs.twimg.com/images/themes/theme1/bg.png', 'profile_background_image_url_https': 'https://abs.twimg.com/images/themes/theme1/bg.png', 'profile_background_tile': True, 'profile_image_url': 'http://pbs.twimg.com/profile_images/1128728187112964097/SbUWsxii_normal.png', 'profile_image_url_https': 'https://pbs.twimg.com/profile_images/1128728187112964097/SbUWsxii_normal.png', 'profile_banner_url': 'https://pbs.twimg.com/profile_banners/340601420/1607024624', 'profile_link_color': '9A1830', 'profile_sidebar_border_color': '000000', 'profile_sidebar_fill_color': 'DDEEF6', 'profile_text_color': '333333', 'profile_use_background_image': True, 'has_extended_profile': False, 'default_profile': False, 'default_profile_image': False, 'following': True, 'follow_request_sent': False, 'notifications': False, 'translator_type': 'none'}, id=340601420, id_str='340601420', name='Ubisoft Latam', screen_name='UbisoftLatam', location='', description='Ubisoft es un importante productor, editor y distribuidor de productos de entretenimiento interactivo.', url='https://t.co/KJe5r1Jp5h', entities={'url': {'urls': [{'url': 'https://t.co/KJe5r1Jp5h', 'expanded_url': 'https://www.ubisoft.com/es-MX/', 'display_url': 'ubisoft.com/es-MX/', 'indices': [0, 23]}]}, 'description': {'urls': []}}, protected=False, followers_count=201498, friends_count=897, listed_count=324, created_at=datetime.datetime(2011, 7, 22, 23, 45, 20), favourites_count=11882, utc_offset=None, time_zone=None, geo_enabled=True, verified=True, statuses_count=22770, lang=None, contributors_enabled=False, is_translator=False, is_translation_enabled=False, profile_background_color='0D0E0F', profile_background_image_url='http://abs.twimg.com/images/themes/theme1/bg.png', profile_background_image_url_https='https://abs.twimg.com/images/themes/theme1/bg.png', profile_background_tile=True, profile_image_url='http://pbs.twimg.com/profile_images/1128728187112964097/SbUWsxii_normal.png', profile_image_url_https='https://pbs.twimg.com/profile_images/1128728187112964097/SbUWsxii_normal.png', profile_banner_url='https://pbs.twimg.com/profile_banners/340601420/1607024624', profile_link_color='9A1830', profile_sidebar_border_color='000000', profile_sidebar_fill_color='DDEEF6', profile_text_color='333333', profile_use_background_image=True, has_extended_profile=False, default_profile=False, default_profile_image=False, following=True, follow_request_sent=False, notifications=False, translator_type='none'), user=User(_api=<tweepy.api.API object at 0x7fb49984e250>, _json={'id': 340601420, 'id_str': '340601420', 'name': 'Ubisoft Latam', 'screen_name': 'UbisoftLatam', 'location': '', 'description': 'Ubisoft es un importante productor, editor y distribuidor de productos de entretenimiento interactivo.', 'url': 'https://t.co/KJe5r1Jp5h', 'entities': {'url': {'urls': [{'url': 'https://t.co/KJe5r1Jp5h', 'expanded_url': 'https://www.ubisoft.com/es-MX/', 'display_url': 'ubisoft.com/es-MX/', 'indices': [0, 23]}]}, 'description': {'urls': []}}, 'protected': False, 'followers_count': 201498, 'friends_count': 897, 'listed_count': 324, 'created_at': 'Fri Jul 22 23:45:20 +0000 2011', 'favourites_count': 11882, 'utc_offset': None, 'time_zone': None, 'geo_enabled': True, 'verified': True, 'statuses_count': 22770, 'lang': None, 'contributors_enabled': False, 'is_translator': False, 'is_translation_enabled': False, 'profile_background_color': '0D0E0F', 'profile_background_image_url': 'http://abs.twimg.com/images/themes/theme1/bg.png', 'profile_background_image_url_https': 'https://abs.twimg.com/images/themes/theme1/bg.png', 'profile_background_tile': True, 'profile_image_url': 'http://pbs.twimg.com/profile_images/1128728187112964097/SbUWsxii_normal.png', 'profile_image_url_https': 'https://pbs.twimg.com/profile_images/1128728187112964097/SbUWsxii_normal.png', 'profile_banner_url': 'https://pbs.twimg.com/profile_banners/340601420/1607024624', 'profile_link_color': '9A1830', 'profile_sidebar_border_color': '000000', 'profile_sidebar_fill_color': 'DDEEF6', 'profile_text_color': '333333', 'profile_use_background_image': True, 'has_extended_profile': False, 'default_profile': False, 'default_profile_image': False, 'following': True, 'follow_request_sent': False, 'notifications': False, 'translator_type': 'none'}, id=340601420, id_str='340601420', name='Ubisoft Latam', screen_name='UbisoftLatam', location='', description='Ubisoft es un importante productor, editor y distribuidor de productos de entretenimiento interactivo.', url='https://t.co/KJe5r1Jp5h', entities={'url': {'urls': [{'url': 'https://t.co/KJe5r1Jp5h', 'expanded_url': 'https://www.ubisoft.com/es-MX/', 'display_url': 'ubisoft.com/es-MX/', 'indices': [0, 23]}]}, 'description': {'urls': []}}, protected=False, followers_count=201498, friends_count=897, listed_count=324, created_at=datetime.datetime(2011, 7, 22, 23, 45, 20), favourites_count=11882, utc_offset=None, time_zone=None, geo_enabled=True, verified=True, statuses_count=22770, lang=None, contributors_enabled=False, is_translator=False, is_translation_enabled=False, profile_background_color='0D0E0F', profile_background_image_url='http://abs.twimg.com/images/themes/theme1/bg.png', profile_background_image_url_https='https://abs.twimg.com/images/themes/theme1/bg.png', profile_background_tile=True, profile_image_url='http://pbs.twimg.com/profile_images/1128728187112964097/SbUWsxii_normal.png', profile_image_url_https='https://pbs.twimg.com/profile_images/1128728187112964097/SbUWsxii_normal.png', profile_banner_url='https://pbs.twimg.com/profile_banners/340601420/1607024624', profile_link_color='9A1830', profile_sidebar_border_color='000000', profile_sidebar_fill_color='DDEEF6', profile_text_color='333333', profile_use_background_image=True, has_extended_profile=False, default_profile=False, default_profile_image=False, following=True, follow_request_sent=False, notifications=False, translator_type='none'), geo=None, coordinates=None, place=None, contributors=None, is_quote_status=False, retweet_count=6, favorite_count=59, favorited=False, retweeted=False, possibly_sensitive=False, possibly_sensitive_appealable=False, lang='es'),\n",
       " Status(_api=<tweepy.api.API object at 0x7fb49984e250>, _json={'created_at': 'Mon Mar 29 19:57:41 +0000 2021', 'id': 1376624623618510857, 'id_str': '1376624623618510857', 'text': \".@tarunchitra, @rleshner and @polychaincap's Olaf Carlson-Wee are advising a new automated market maker that has… https://t.co/kLZtzCMJ7H\", 'truncated': True, 'entities': {'hashtags': [], 'symbols': [], 'user_mentions': [{'screen_name': 'tarunchitra', 'name': 'Tarun Chitra', 'id': 53836928, 'id_str': '53836928', 'indices': [1, 13]}, {'screen_name': 'rleshner', 'name': '🤖 Leshner', 'id': 394480074, 'id_str': '394480074', 'indices': [15, 24]}, {'screen_name': 'polychaincap', 'name': 'Polychain Capital', 'id': 809024277748084736, 'id_str': '809024277748084736', 'indices': [29, 42]}], 'urls': [{'url': 'https://t.co/kLZtzCMJ7H', 'expanded_url': 'https://twitter.com/i/web/status/1376624623618510857', 'display_url': 'twitter.com/i/web/status/1…', 'indices': [114, 137]}]}, 'source': '<a href=\"http://www.socialflow.com\" rel=\"nofollow\">SocialFlow</a>', 'in_reply_to_status_id': None, 'in_reply_to_status_id_str': None, 'in_reply_to_user_id': None, 'in_reply_to_user_id_str': None, 'in_reply_to_screen_name': None, 'user': {'id': 1333467482, 'id_str': '1333467482', 'name': 'CoinDesk', 'screen_name': 'CoinDesk', 'location': 'New York, USA', 'description': 'Welcome to the conversation on the future of money and Web 3.0. Follow Markets @CoinDeskMarkets + Research @CoinDeskData.', 'url': 'https://t.co/voQSwZsxYC', 'entities': {'url': {'urls': [{'url': 'https://t.co/voQSwZsxYC', 'expanded_url': 'http://www.coindesk.com', 'display_url': 'coindesk.com', 'indices': [0, 23]}]}, 'description': {'urls': []}}, 'protected': False, 'followers_count': 1226404, 'friends_count': 1287, 'listed_count': 12733, 'created_at': 'Sun Apr 07 07:50:08 +0000 2013', 'favourites_count': 4902, 'utc_offset': None, 'time_zone': None, 'geo_enabled': True, 'verified': True, 'statuses_count': 77219, 'lang': None, 'contributors_enabled': False, 'is_translator': False, 'is_translation_enabled': False, 'profile_background_color': '000000', 'profile_background_image_url': 'http://abs.twimg.com/images/themes/theme1/bg.png', 'profile_background_image_url_https': 'https://abs.twimg.com/images/themes/theme1/bg.png', 'profile_background_tile': False, 'profile_image_url': 'http://pbs.twimg.com/profile_images/1273411415215411202/9HeiHTVY_normal.jpg', 'profile_image_url_https': 'https://pbs.twimg.com/profile_images/1273411415215411202/9HeiHTVY_normal.jpg', 'profile_banner_url': 'https://pbs.twimg.com/profile_banners/1333467482/1592439922', 'profile_link_color': '0084B4', 'profile_sidebar_border_color': '000000', 'profile_sidebar_fill_color': 'DDEEF6', 'profile_text_color': '333333', 'profile_use_background_image': True, 'has_extended_profile': False, 'default_profile': False, 'default_profile_image': False, 'following': True, 'follow_request_sent': False, 'notifications': False, 'translator_type': 'none'}, 'geo': None, 'coordinates': None, 'place': None, 'contributors': None, 'is_quote_status': False, 'retweet_count': 5, 'favorite_count': 16, 'favorited': False, 'retweeted': False, 'possibly_sensitive': False, 'possibly_sensitive_appealable': False, 'lang': 'en'}, created_at=datetime.datetime(2021, 3, 29, 19, 57, 41), id=1376624623618510857, id_str='1376624623618510857', text=\".@tarunchitra, @rleshner and @polychaincap's Olaf Carlson-Wee are advising a new automated market maker that has… https://t.co/kLZtzCMJ7H\", truncated=True, entities={'hashtags': [], 'symbols': [], 'user_mentions': [{'screen_name': 'tarunchitra', 'name': 'Tarun Chitra', 'id': 53836928, 'id_str': '53836928', 'indices': [1, 13]}, {'screen_name': 'rleshner', 'name': '🤖 Leshner', 'id': 394480074, 'id_str': '394480074', 'indices': [15, 24]}, {'screen_name': 'polychaincap', 'name': 'Polychain Capital', 'id': 809024277748084736, 'id_str': '809024277748084736', 'indices': [29, 42]}], 'urls': [{'url': 'https://t.co/kLZtzCMJ7H', 'expanded_url': 'https://twitter.com/i/web/status/1376624623618510857', 'display_url': 'twitter.com/i/web/status/1…', 'indices': [114, 137]}]}, source='SocialFlow', source_url='http://www.socialflow.com', in_reply_to_status_id=None, in_reply_to_status_id_str=None, in_reply_to_user_id=None, in_reply_to_user_id_str=None, in_reply_to_screen_name=None, author=User(_api=<tweepy.api.API object at 0x7fb49984e250>, _json={'id': 1333467482, 'id_str': '1333467482', 'name': 'CoinDesk', 'screen_name': 'CoinDesk', 'location': 'New York, USA', 'description': 'Welcome to the conversation on the future of money and Web 3.0. Follow Markets @CoinDeskMarkets + Research @CoinDeskData.', 'url': 'https://t.co/voQSwZsxYC', 'entities': {'url': {'urls': [{'url': 'https://t.co/voQSwZsxYC', 'expanded_url': 'http://www.coindesk.com', 'display_url': 'coindesk.com', 'indices': [0, 23]}]}, 'description': {'urls': []}}, 'protected': False, 'followers_count': 1226404, 'friends_count': 1287, 'listed_count': 12733, 'created_at': 'Sun Apr 07 07:50:08 +0000 2013', 'favourites_count': 4902, 'utc_offset': None, 'time_zone': None, 'geo_enabled': True, 'verified': True, 'statuses_count': 77219, 'lang': None, 'contributors_enabled': False, 'is_translator': False, 'is_translation_enabled': False, 'profile_background_color': '000000', 'profile_background_image_url': 'http://abs.twimg.com/images/themes/theme1/bg.png', 'profile_background_image_url_https': 'https://abs.twimg.com/images/themes/theme1/bg.png', 'profile_background_tile': False, 'profile_image_url': 'http://pbs.twimg.com/profile_images/1273411415215411202/9HeiHTVY_normal.jpg', 'profile_image_url_https': 'https://pbs.twimg.com/profile_images/1273411415215411202/9HeiHTVY_normal.jpg', 'profile_banner_url': 'https://pbs.twimg.com/profile_banners/1333467482/1592439922', 'profile_link_color': '0084B4', 'profile_sidebar_border_color': '000000', 'profile_sidebar_fill_color': 'DDEEF6', 'profile_text_color': '333333', 'profile_use_background_image': True, 'has_extended_profile': False, 'default_profile': False, 'default_profile_image': False, 'following': True, 'follow_request_sent': False, 'notifications': False, 'translator_type': 'none'}, id=1333467482, id_str='1333467482', name='CoinDesk', screen_name='CoinDesk', location='New York, USA', description='Welcome to the conversation on the future of money and Web 3.0. Follow Markets @CoinDeskMarkets + Research @CoinDeskData.', url='https://t.co/voQSwZsxYC', entities={'url': {'urls': [{'url': 'https://t.co/voQSwZsxYC', 'expanded_url': 'http://www.coindesk.com', 'display_url': 'coindesk.com', 'indices': [0, 23]}]}, 'description': {'urls': []}}, protected=False, followers_count=1226404, friends_count=1287, listed_count=12733, created_at=datetime.datetime(2013, 4, 7, 7, 50, 8), favourites_count=4902, utc_offset=None, time_zone=None, geo_enabled=True, verified=True, statuses_count=77219, lang=None, contributors_enabled=False, is_translator=False, is_translation_enabled=False, profile_background_color='000000', profile_background_image_url='http://abs.twimg.com/images/themes/theme1/bg.png', profile_background_image_url_https='https://abs.twimg.com/images/themes/theme1/bg.png', profile_background_tile=False, profile_image_url='http://pbs.twimg.com/profile_images/1273411415215411202/9HeiHTVY_normal.jpg', profile_image_url_https='https://pbs.twimg.com/profile_images/1273411415215411202/9HeiHTVY_normal.jpg', profile_banner_url='https://pbs.twimg.com/profile_banners/1333467482/1592439922', profile_link_color='0084B4', profile_sidebar_border_color='000000', profile_sidebar_fill_color='DDEEF6', profile_text_color='333333', profile_use_background_image=True, has_extended_profile=False, default_profile=False, default_profile_image=False, following=True, follow_request_sent=False, notifications=False, translator_type='none'), user=User(_api=<tweepy.api.API object at 0x7fb49984e250>, _json={'id': 1333467482, 'id_str': '1333467482', 'name': 'CoinDesk', 'screen_name': 'CoinDesk', 'location': 'New York, USA', 'description': 'Welcome to the conversation on the future of money and Web 3.0. Follow Markets @CoinDeskMarkets + Research @CoinDeskData.', 'url': 'https://t.co/voQSwZsxYC', 'entities': {'url': {'urls': [{'url': 'https://t.co/voQSwZsxYC', 'expanded_url': 'http://www.coindesk.com', 'display_url': 'coindesk.com', 'indices': [0, 23]}]}, 'description': {'urls': []}}, 'protected': False, 'followers_count': 1226404, 'friends_count': 1287, 'listed_count': 12733, 'created_at': 'Sun Apr 07 07:50:08 +0000 2013', 'favourites_count': 4902, 'utc_offset': None, 'time_zone': None, 'geo_enabled': True, 'verified': True, 'statuses_count': 77219, 'lang': None, 'contributors_enabled': False, 'is_translator': False, 'is_translation_enabled': False, 'profile_background_color': '000000', 'profile_background_image_url': 'http://abs.twimg.com/images/themes/theme1/bg.png', 'profile_background_image_url_https': 'https://abs.twimg.com/images/themes/theme1/bg.png', 'profile_background_tile': False, 'profile_image_url': 'http://pbs.twimg.com/profile_images/1273411415215411202/9HeiHTVY_normal.jpg', 'profile_image_url_https': 'https://pbs.twimg.com/profile_images/1273411415215411202/9HeiHTVY_normal.jpg', 'profile_banner_url': 'https://pbs.twimg.com/profile_banners/1333467482/1592439922', 'profile_link_color': '0084B4', 'profile_sidebar_border_color': '000000', 'profile_sidebar_fill_color': 'DDEEF6', 'profile_text_color': '333333', 'profile_use_background_image': True, 'has_extended_profile': False, 'default_profile': False, 'default_profile_image': False, 'following': True, 'follow_request_sent': False, 'notifications': False, 'translator_type': 'none'}, id=1333467482, id_str='1333467482', name='CoinDesk', screen_name='CoinDesk', location='New York, USA', description='Welcome to the conversation on the future of money and Web 3.0. Follow Markets @CoinDeskMarkets + Research @CoinDeskData.', url='https://t.co/voQSwZsxYC', entities={'url': {'urls': [{'url': 'https://t.co/voQSwZsxYC', 'expanded_url': 'http://www.coindesk.com', 'display_url': 'coindesk.com', 'indices': [0, 23]}]}, 'description': {'urls': []}}, protected=False, followers_count=1226404, friends_count=1287, listed_count=12733, created_at=datetime.datetime(2013, 4, 7, 7, 50, 8), favourites_count=4902, utc_offset=None, time_zone=None, geo_enabled=True, verified=True, statuses_count=77219, lang=None, contributors_enabled=False, is_translator=False, is_translation_enabled=False, profile_background_color='000000', profile_background_image_url='http://abs.twimg.com/images/themes/theme1/bg.png', profile_background_image_url_https='https://abs.twimg.com/images/themes/theme1/bg.png', profile_background_tile=False, profile_image_url='http://pbs.twimg.com/profile_images/1273411415215411202/9HeiHTVY_normal.jpg', profile_image_url_https='https://pbs.twimg.com/profile_images/1273411415215411202/9HeiHTVY_normal.jpg', profile_banner_url='https://pbs.twimg.com/profile_banners/1333467482/1592439922', profile_link_color='0084B4', profile_sidebar_border_color='000000', profile_sidebar_fill_color='DDEEF6', profile_text_color='333333', profile_use_background_image=True, has_extended_profile=False, default_profile=False, default_profile_image=False, following=True, follow_request_sent=False, notifications=False, translator_type='none'), geo=None, coordinates=None, place=None, contributors=None, is_quote_status=False, retweet_count=5, favorite_count=16, favorited=False, retweeted=False, possibly_sensitive=False, possibly_sensitive_appealable=False, lang='en')]"
      ]
     },
     "execution_count": 96,
     "metadata": {},
     "output_type": "execute_result"
    }
   ],
   "source": [
    "public_tweets"
   ]
  },
  {
   "cell_type": "code",
   "execution_count": 97,
   "metadata": {},
   "outputs": [
    {
     "data": {
      "text/plain": [
       "tweepy.models.ResultSet"
      ]
     },
     "execution_count": 97,
     "metadata": {},
     "output_type": "execute_result"
    }
   ],
   "source": [
    "type(public_tweets)"
   ]
  },
  {
   "cell_type": "code",
   "execution_count": 98,
   "metadata": {
    "scrolled": true
   },
   "outputs": [
    {
     "data": {
      "text/plain": [
       "\"RT @CoinDeskMarkets: No wonder cryptocurrency markets were so lackluster last week: There just wasn't much appetite from investors to put n…\""
      ]
     },
     "execution_count": 98,
     "metadata": {},
     "output_type": "execute_result"
    }
   ],
   "source": [
    "public_tweets[2].text"
   ]
  },
  {
   "cell_type": "markdown",
   "metadata": {},
   "source": [
    "## Tracking Keywords on Twitter"
   ]
  },
  {
   "cell_type": "code",
   "execution_count": 103,
   "metadata": {},
   "outputs": [],
   "source": [
    "track_keyword = ['usa','china']"
   ]
  },
  {
   "cell_type": "code",
   "execution_count": 107,
   "metadata": {},
   "outputs": [],
   "source": [
    "class MyStreamListener(tweepy.StreamListener):\n",
    "    \n",
    "    def on_status(self,status):\n",
    "        print(status.text)\n",
    "    \n",
    "    def on_data(self, data):\n",
    "        raw_tweets = json.loads(data)\n",
    "        try:\n",
    "            x = str(raw_tweets['text']).lower()\n",
    "            x = pp.cont_exp(x)\n",
    "            x = pp.remove_emails(x)\n",
    "            x = pp.remove_html_tags(x)\n",
    "            x = pp.remove_rt(x)\n",
    "            x = pp.remove_special_chars(x)\n",
    "            x = pp.remove_urls(x)\n",
    "            \n",
    "            blob = TextBlob(x)\n",
    "            sentiment = blob.sentiment.polarity\n",
    "            print(sentiment)\n",
    "        except:\n",
    "            pass\n",
    "        \n",
    "        \n",
    "    def on_error(self,status_code):\n",
    "        if status_code == 420:\n",
    "            print('Error 420')\n",
    "            return False # returnin False in on_error disconnects the stream"
   ]
  },
  {
   "cell_type": "code",
   "execution_count": 108,
   "metadata": {},
   "outputs": [],
   "source": [
    "myStreamListener = MyStreamListener()\n",
    "myStream = tweepy.Stream(auth = api.auth, listener =myStreamListener )"
   ]
  },
  {
   "cell_type": "code",
   "execution_count": 109,
   "metadata": {},
   "outputs": [
    {
     "name": "stdout",
     "output_type": "stream",
     "text": [
      "0.2771428571428572\n",
      "0.0\n",
      "0.0\n",
      "0.0\n",
      "0.2333333333333333\n",
      "0.0\n",
      "0.0\n",
      "0.2\n",
      "0.4\n",
      "0.0\n",
      "0.2\n",
      "-0.625\n",
      "0.0\n",
      "0.0\n",
      "0.0\n",
      "0.0\n",
      "0.0\n",
      "0.0\n",
      "0.0\n",
      "0.0\n",
      "0.0\n",
      "0.4\n",
      "-0.3333333333333333\n",
      "0.0\n",
      "0.0\n",
      "0.0\n",
      "0.2333333333333333\n",
      "0.13333333333333333\n",
      "0.0\n",
      "-0.6\n",
      "0.0\n",
      "0.08333333333333333\n",
      "0.0\n",
      "0.6000000000000001\n",
      "0.0\n",
      "0.0\n",
      "0.2\n",
      "0.0\n",
      "0.25\n",
      "0.0\n",
      "-0.25\n",
      "0.0\n",
      "0.07777777777777777\n",
      "0.0\n",
      "0.0\n",
      "0.0\n",
      "0.0\n",
      "0.0\n",
      "0.0\n",
      "0.0\n",
      "-0.05\n",
      "0.0\n",
      "0.0\n",
      "0.0\n",
      "0.5\n",
      "0.0\n",
      "-0.25\n",
      "0.0\n",
      "0.14285714285714285\n",
      "0.0\n",
      "-0.125\n",
      "-0.5\n",
      "0.7\n",
      "0.0\n",
      "0.8\n",
      "0.25\n",
      "0.6875\n",
      "0.6625\n",
      "0.0\n",
      "0.14285714285714285\n",
      "0.0\n",
      "0.0\n",
      "0.0\n",
      "-0.5\n",
      "0.0\n",
      "0.0\n",
      "0.0\n",
      "0.0\n",
      "0.0\n",
      "0.0\n",
      "0.0\n",
      "0.0\n",
      "0.0\n",
      "0.0\n",
      "0.0\n",
      "0.03333333333333333\n",
      "0.1619047619047619\n",
      "0.0\n",
      "-0.2\n",
      "0.0\n",
      "0.0\n",
      "-0.15000000000000002\n",
      "-0.15625\n",
      "0.05\n",
      "0.0\n",
      "-0.13333333333333333\n",
      "0.08333333333333333\n",
      "0.0\n",
      "0.0\n",
      "0.225\n",
      "0.0\n",
      "0.0\n",
      "0.0\n",
      "0.0\n",
      "0.0\n",
      "0.0\n",
      "0.0\n",
      "0.0\n",
      "0.0\n"
     ]
    },
    {
     "ename": "KeyboardInterrupt",
     "evalue": "",
     "output_type": "error",
     "traceback": [
      "\u001b[0;31m---------------------------------------------------------------------------\u001b[0m",
      "\u001b[0;31mKeyboardInterrupt\u001b[0m                         Traceback (most recent call last)",
      "\u001b[0;32m<ipython-input-109-54c1474ae453>\u001b[0m in \u001b[0;36m<module>\u001b[0;34m\u001b[0m\n\u001b[0;32m----> 1\u001b[0;31m \u001b[0mmyStream\u001b[0m\u001b[0;34m.\u001b[0m\u001b[0mfilter\u001b[0m\u001b[0;34m(\u001b[0m\u001b[0mtrack\u001b[0m\u001b[0;34m=\u001b[0m\u001b[0mtrack_keyword\u001b[0m\u001b[0;34m)\u001b[0m\u001b[0;34m\u001b[0m\u001b[0;34m\u001b[0m\u001b[0m\n\u001b[0m",
      "\u001b[0;32m~/anaconda3/lib/python3.8/site-packages/tweepy/streaming.py\u001b[0m in \u001b[0;36mfilter\u001b[0;34m(self, follow, track, is_async, locations, stall_warnings, languages, encoding, filter_level)\u001b[0m\n\u001b[1;32m    472\u001b[0m             \u001b[0mself\u001b[0m\u001b[0;34m.\u001b[0m\u001b[0mbody\u001b[0m\u001b[0;34m[\u001b[0m\u001b[0;34m'filter_level'\u001b[0m\u001b[0;34m]\u001b[0m \u001b[0;34m=\u001b[0m \u001b[0mfilter_level\u001b[0m\u001b[0;34m.\u001b[0m\u001b[0mencode\u001b[0m\u001b[0;34m(\u001b[0m\u001b[0mencoding\u001b[0m\u001b[0;34m)\u001b[0m\u001b[0;34m\u001b[0m\u001b[0;34m\u001b[0m\u001b[0m\n\u001b[1;32m    473\u001b[0m         \u001b[0mself\u001b[0m\u001b[0;34m.\u001b[0m\u001b[0msession\u001b[0m\u001b[0;34m.\u001b[0m\u001b[0mparams\u001b[0m \u001b[0;34m=\u001b[0m \u001b[0;34m{\u001b[0m\u001b[0;34m'delimited'\u001b[0m\u001b[0;34m:\u001b[0m \u001b[0;34m'length'\u001b[0m\u001b[0;34m}\u001b[0m\u001b[0;34m\u001b[0m\u001b[0;34m\u001b[0m\u001b[0m\n\u001b[0;32m--> 474\u001b[0;31m         \u001b[0mself\u001b[0m\u001b[0;34m.\u001b[0m\u001b[0m_start\u001b[0m\u001b[0;34m(\u001b[0m\u001b[0mis_async\u001b[0m\u001b[0;34m)\u001b[0m\u001b[0;34m\u001b[0m\u001b[0;34m\u001b[0m\u001b[0m\n\u001b[0m\u001b[1;32m    475\u001b[0m \u001b[0;34m\u001b[0m\u001b[0m\n\u001b[1;32m    476\u001b[0m     def sitestream(self, follow, stall_warnings=False,\n",
      "\u001b[0;32m~/anaconda3/lib/python3.8/site-packages/tweepy/streaming.py\u001b[0m in \u001b[0;36m_start\u001b[0;34m(self, is_async)\u001b[0m\n\u001b[1;32m    387\u001b[0m             \u001b[0mself\u001b[0m\u001b[0;34m.\u001b[0m\u001b[0m_thread\u001b[0m\u001b[0;34m.\u001b[0m\u001b[0mstart\u001b[0m\u001b[0;34m(\u001b[0m\u001b[0;34m)\u001b[0m\u001b[0;34m\u001b[0m\u001b[0;34m\u001b[0m\u001b[0m\n\u001b[1;32m    388\u001b[0m         \u001b[0;32melse\u001b[0m\u001b[0;34m:\u001b[0m\u001b[0;34m\u001b[0m\u001b[0;34m\u001b[0m\u001b[0m\n\u001b[0;32m--> 389\u001b[0;31m             \u001b[0mself\u001b[0m\u001b[0;34m.\u001b[0m\u001b[0m_run\u001b[0m\u001b[0;34m(\u001b[0m\u001b[0;34m)\u001b[0m\u001b[0;34m\u001b[0m\u001b[0;34m\u001b[0m\u001b[0m\n\u001b[0m\u001b[1;32m    390\u001b[0m \u001b[0;34m\u001b[0m\u001b[0m\n\u001b[1;32m    391\u001b[0m     \u001b[0;32mdef\u001b[0m \u001b[0mon_closed\u001b[0m\u001b[0;34m(\u001b[0m\u001b[0mself\u001b[0m\u001b[0;34m,\u001b[0m \u001b[0mresp\u001b[0m\u001b[0;34m)\u001b[0m\u001b[0;34m:\u001b[0m\u001b[0;34m\u001b[0m\u001b[0;34m\u001b[0m\u001b[0m\n",
      "\u001b[0;32m~/anaconda3/lib/python3.8/site-packages/tweepy/streaming.py\u001b[0m in \u001b[0;36m_run\u001b[0;34m(self)\u001b[0m\n\u001b[1;32m    287\u001b[0m                     \u001b[0mself\u001b[0m\u001b[0;34m.\u001b[0m\u001b[0msnooze_time\u001b[0m \u001b[0;34m=\u001b[0m \u001b[0mself\u001b[0m\u001b[0;34m.\u001b[0m\u001b[0msnooze_time_step\u001b[0m\u001b[0;34m\u001b[0m\u001b[0;34m\u001b[0m\u001b[0m\n\u001b[1;32m    288\u001b[0m                     \u001b[0mself\u001b[0m\u001b[0;34m.\u001b[0m\u001b[0mlistener\u001b[0m\u001b[0;34m.\u001b[0m\u001b[0mon_connect\u001b[0m\u001b[0;34m(\u001b[0m\u001b[0;34m)\u001b[0m\u001b[0;34m\u001b[0m\u001b[0;34m\u001b[0m\u001b[0m\n\u001b[0;32m--> 289\u001b[0;31m                     \u001b[0mself\u001b[0m\u001b[0;34m.\u001b[0m\u001b[0m_read_loop\u001b[0m\u001b[0;34m(\u001b[0m\u001b[0mresp\u001b[0m\u001b[0;34m)\u001b[0m\u001b[0;34m\u001b[0m\u001b[0;34m\u001b[0m\u001b[0m\n\u001b[0m\u001b[1;32m    290\u001b[0m             \u001b[0;32mexcept\u001b[0m \u001b[0;34m(\u001b[0m\u001b[0mTimeout\u001b[0m\u001b[0;34m,\u001b[0m \u001b[0mssl\u001b[0m\u001b[0;34m.\u001b[0m\u001b[0mSSLError\u001b[0m\u001b[0;34m)\u001b[0m \u001b[0;32mas\u001b[0m \u001b[0mexc\u001b[0m\u001b[0;34m:\u001b[0m\u001b[0;34m\u001b[0m\u001b[0;34m\u001b[0m\u001b[0m\n\u001b[1;32m    291\u001b[0m                 \u001b[0;31m# This is still necessary, as a SSLError can actually be\u001b[0m\u001b[0;34m\u001b[0m\u001b[0;34m\u001b[0m\u001b[0;34m\u001b[0m\u001b[0m\n",
      "\u001b[0;32m~/anaconda3/lib/python3.8/site-packages/tweepy/streaming.py\u001b[0m in \u001b[0;36m_read_loop\u001b[0;34m(self, resp)\u001b[0m\n\u001b[1;32m    337\u001b[0m             \u001b[0mlength\u001b[0m \u001b[0;34m=\u001b[0m \u001b[0;36m0\u001b[0m\u001b[0;34m\u001b[0m\u001b[0;34m\u001b[0m\u001b[0m\n\u001b[1;32m    338\u001b[0m             \u001b[0;32mwhile\u001b[0m \u001b[0;32mnot\u001b[0m \u001b[0mresp\u001b[0m\u001b[0;34m.\u001b[0m\u001b[0mraw\u001b[0m\u001b[0;34m.\u001b[0m\u001b[0mclosed\u001b[0m\u001b[0;34m:\u001b[0m\u001b[0;34m\u001b[0m\u001b[0;34m\u001b[0m\u001b[0m\n\u001b[0;32m--> 339\u001b[0;31m                 \u001b[0mline\u001b[0m \u001b[0;34m=\u001b[0m \u001b[0mbuf\u001b[0m\u001b[0;34m.\u001b[0m\u001b[0mread_line\u001b[0m\u001b[0;34m(\u001b[0m\u001b[0;34m)\u001b[0m\u001b[0;34m\u001b[0m\u001b[0;34m\u001b[0m\u001b[0m\n\u001b[0m\u001b[1;32m    340\u001b[0m                 \u001b[0mstripped_line\u001b[0m \u001b[0;34m=\u001b[0m \u001b[0mline\u001b[0m\u001b[0;34m.\u001b[0m\u001b[0mstrip\u001b[0m\u001b[0;34m(\u001b[0m\u001b[0;34m)\u001b[0m \u001b[0;32mif\u001b[0m \u001b[0mline\u001b[0m \u001b[0;32melse\u001b[0m \u001b[0mline\u001b[0m \u001b[0;31m# line is sometimes None so we need to check here\u001b[0m\u001b[0;34m\u001b[0m\u001b[0;34m\u001b[0m\u001b[0m\n\u001b[1;32m    341\u001b[0m                 \u001b[0;32mif\u001b[0m \u001b[0;32mnot\u001b[0m \u001b[0mstripped_line\u001b[0m\u001b[0;34m:\u001b[0m\u001b[0;34m\u001b[0m\u001b[0;34m\u001b[0m\u001b[0m\n",
      "\u001b[0;32m~/anaconda3/lib/python3.8/site-packages/tweepy/streaming.py\u001b[0m in \u001b[0;36mread_line\u001b[0;34m(self, sep)\u001b[0m\n\u001b[1;32m    198\u001b[0m             \u001b[0;32melse\u001b[0m\u001b[0;34m:\u001b[0m\u001b[0;34m\u001b[0m\u001b[0;34m\u001b[0m\u001b[0m\n\u001b[1;32m    199\u001b[0m                 \u001b[0mstart\u001b[0m \u001b[0;34m=\u001b[0m \u001b[0mlen\u001b[0m\u001b[0;34m(\u001b[0m\u001b[0mself\u001b[0m\u001b[0;34m.\u001b[0m\u001b[0m_buffer\u001b[0m\u001b[0;34m)\u001b[0m\u001b[0;34m\u001b[0m\u001b[0;34m\u001b[0m\u001b[0m\n\u001b[0;32m--> 200\u001b[0;31m             \u001b[0mself\u001b[0m\u001b[0;34m.\u001b[0m\u001b[0m_buffer\u001b[0m \u001b[0;34m+=\u001b[0m \u001b[0mself\u001b[0m\u001b[0;34m.\u001b[0m\u001b[0m_stream\u001b[0m\u001b[0;34m.\u001b[0m\u001b[0mread\u001b[0m\u001b[0;34m(\u001b[0m\u001b[0mself\u001b[0m\u001b[0;34m.\u001b[0m\u001b[0m_chunk_size\u001b[0m\u001b[0;34m)\u001b[0m\u001b[0;34m\u001b[0m\u001b[0;34m\u001b[0m\u001b[0m\n\u001b[0m\u001b[1;32m    201\u001b[0m         \u001b[0;32mreturn\u001b[0m \u001b[0msix\u001b[0m\u001b[0;34m.\u001b[0m\u001b[0mb\u001b[0m\u001b[0;34m(\u001b[0m\u001b[0;34m''\u001b[0m\u001b[0;34m)\u001b[0m\u001b[0;34m\u001b[0m\u001b[0;34m\u001b[0m\u001b[0m\n\u001b[1;32m    202\u001b[0m \u001b[0;34m\u001b[0m\u001b[0m\n",
      "\u001b[0;32m~/anaconda3/lib/python3.8/site-packages/urllib3/response.py\u001b[0m in \u001b[0;36mread\u001b[0;34m(self, amt, decode_content, cache_content)\u001b[0m\n\u001b[1;32m    517\u001b[0m             \u001b[0;32melse\u001b[0m\u001b[0;34m:\u001b[0m\u001b[0;34m\u001b[0m\u001b[0;34m\u001b[0m\u001b[0m\n\u001b[1;32m    518\u001b[0m                 \u001b[0mcache_content\u001b[0m \u001b[0;34m=\u001b[0m \u001b[0;32mFalse\u001b[0m\u001b[0;34m\u001b[0m\u001b[0;34m\u001b[0m\u001b[0m\n\u001b[0;32m--> 519\u001b[0;31m                 \u001b[0mdata\u001b[0m \u001b[0;34m=\u001b[0m \u001b[0mself\u001b[0m\u001b[0;34m.\u001b[0m\u001b[0m_fp\u001b[0m\u001b[0;34m.\u001b[0m\u001b[0mread\u001b[0m\u001b[0;34m(\u001b[0m\u001b[0mamt\u001b[0m\u001b[0;34m)\u001b[0m \u001b[0;32mif\u001b[0m \u001b[0;32mnot\u001b[0m \u001b[0mfp_closed\u001b[0m \u001b[0;32melse\u001b[0m \u001b[0;34mb\"\"\u001b[0m\u001b[0;34m\u001b[0m\u001b[0;34m\u001b[0m\u001b[0m\n\u001b[0m\u001b[1;32m    520\u001b[0m                 if (\n\u001b[1;32m    521\u001b[0m                     \u001b[0mamt\u001b[0m \u001b[0;34m!=\u001b[0m \u001b[0;36m0\u001b[0m \u001b[0;32mand\u001b[0m \u001b[0;32mnot\u001b[0m \u001b[0mdata\u001b[0m\u001b[0;34m\u001b[0m\u001b[0;34m\u001b[0m\u001b[0m\n",
      "\u001b[0;32m~/anaconda3/lib/python3.8/http/client.py\u001b[0m in \u001b[0;36mread\u001b[0;34m(self, amt)\u001b[0m\n\u001b[1;32m    452\u001b[0m             \u001b[0;31m# Amount is given, implement using readinto\u001b[0m\u001b[0;34m\u001b[0m\u001b[0;34m\u001b[0m\u001b[0;34m\u001b[0m\u001b[0m\n\u001b[1;32m    453\u001b[0m             \u001b[0mb\u001b[0m \u001b[0;34m=\u001b[0m \u001b[0mbytearray\u001b[0m\u001b[0;34m(\u001b[0m\u001b[0mamt\u001b[0m\u001b[0;34m)\u001b[0m\u001b[0;34m\u001b[0m\u001b[0;34m\u001b[0m\u001b[0m\n\u001b[0;32m--> 454\u001b[0;31m             \u001b[0mn\u001b[0m \u001b[0;34m=\u001b[0m \u001b[0mself\u001b[0m\u001b[0;34m.\u001b[0m\u001b[0mreadinto\u001b[0m\u001b[0;34m(\u001b[0m\u001b[0mb\u001b[0m\u001b[0;34m)\u001b[0m\u001b[0;34m\u001b[0m\u001b[0;34m\u001b[0m\u001b[0m\n\u001b[0m\u001b[1;32m    455\u001b[0m             \u001b[0;32mreturn\u001b[0m \u001b[0mmemoryview\u001b[0m\u001b[0;34m(\u001b[0m\u001b[0mb\u001b[0m\u001b[0;34m)\u001b[0m\u001b[0;34m[\u001b[0m\u001b[0;34m:\u001b[0m\u001b[0mn\u001b[0m\u001b[0;34m]\u001b[0m\u001b[0;34m.\u001b[0m\u001b[0mtobytes\u001b[0m\u001b[0;34m(\u001b[0m\u001b[0;34m)\u001b[0m\u001b[0;34m\u001b[0m\u001b[0;34m\u001b[0m\u001b[0m\n\u001b[1;32m    456\u001b[0m         \u001b[0;32melse\u001b[0m\u001b[0;34m:\u001b[0m\u001b[0;34m\u001b[0m\u001b[0;34m\u001b[0m\u001b[0m\n",
      "\u001b[0;32m~/anaconda3/lib/python3.8/http/client.py\u001b[0m in \u001b[0;36mreadinto\u001b[0;34m(self, b)\u001b[0m\n\u001b[1;32m    486\u001b[0m \u001b[0;34m\u001b[0m\u001b[0m\n\u001b[1;32m    487\u001b[0m         \u001b[0;32mif\u001b[0m \u001b[0mself\u001b[0m\u001b[0;34m.\u001b[0m\u001b[0mchunked\u001b[0m\u001b[0;34m:\u001b[0m\u001b[0;34m\u001b[0m\u001b[0;34m\u001b[0m\u001b[0m\n\u001b[0;32m--> 488\u001b[0;31m             \u001b[0;32mreturn\u001b[0m \u001b[0mself\u001b[0m\u001b[0;34m.\u001b[0m\u001b[0m_readinto_chunked\u001b[0m\u001b[0;34m(\u001b[0m\u001b[0mb\u001b[0m\u001b[0;34m)\u001b[0m\u001b[0;34m\u001b[0m\u001b[0;34m\u001b[0m\u001b[0m\n\u001b[0m\u001b[1;32m    489\u001b[0m \u001b[0;34m\u001b[0m\u001b[0m\n\u001b[1;32m    490\u001b[0m         \u001b[0;32mif\u001b[0m \u001b[0mself\u001b[0m\u001b[0;34m.\u001b[0m\u001b[0mlength\u001b[0m \u001b[0;32mis\u001b[0m \u001b[0;32mnot\u001b[0m \u001b[0;32mNone\u001b[0m\u001b[0;34m:\u001b[0m\u001b[0;34m\u001b[0m\u001b[0;34m\u001b[0m\u001b[0m\n",
      "\u001b[0;32m~/anaconda3/lib/python3.8/http/client.py\u001b[0m in \u001b[0;36m_readinto_chunked\u001b[0;34m(self, b)\u001b[0m\n\u001b[1;32m    581\u001b[0m         \u001b[0;32mtry\u001b[0m\u001b[0;34m:\u001b[0m\u001b[0;34m\u001b[0m\u001b[0;34m\u001b[0m\u001b[0m\n\u001b[1;32m    582\u001b[0m             \u001b[0;32mwhile\u001b[0m \u001b[0;32mTrue\u001b[0m\u001b[0;34m:\u001b[0m\u001b[0;34m\u001b[0m\u001b[0;34m\u001b[0m\u001b[0m\n\u001b[0;32m--> 583\u001b[0;31m                 \u001b[0mchunk_left\u001b[0m \u001b[0;34m=\u001b[0m \u001b[0mself\u001b[0m\u001b[0;34m.\u001b[0m\u001b[0m_get_chunk_left\u001b[0m\u001b[0;34m(\u001b[0m\u001b[0;34m)\u001b[0m\u001b[0;34m\u001b[0m\u001b[0;34m\u001b[0m\u001b[0m\n\u001b[0m\u001b[1;32m    584\u001b[0m                 \u001b[0;32mif\u001b[0m \u001b[0mchunk_left\u001b[0m \u001b[0;32mis\u001b[0m \u001b[0;32mNone\u001b[0m\u001b[0;34m:\u001b[0m\u001b[0;34m\u001b[0m\u001b[0;34m\u001b[0m\u001b[0m\n\u001b[1;32m    585\u001b[0m                     \u001b[0;32mreturn\u001b[0m \u001b[0mtotal_bytes\u001b[0m\u001b[0;34m\u001b[0m\u001b[0;34m\u001b[0m\u001b[0m\n",
      "\u001b[0;32m~/anaconda3/lib/python3.8/http/client.py\u001b[0m in \u001b[0;36m_get_chunk_left\u001b[0;34m(self)\u001b[0m\n\u001b[1;32m    549\u001b[0m                 \u001b[0mself\u001b[0m\u001b[0;34m.\u001b[0m\u001b[0m_safe_read\u001b[0m\u001b[0;34m(\u001b[0m\u001b[0;36m2\u001b[0m\u001b[0;34m)\u001b[0m  \u001b[0;31m# toss the CRLF at the end of the chunk\u001b[0m\u001b[0;34m\u001b[0m\u001b[0;34m\u001b[0m\u001b[0m\n\u001b[1;32m    550\u001b[0m             \u001b[0;32mtry\u001b[0m\u001b[0;34m:\u001b[0m\u001b[0;34m\u001b[0m\u001b[0;34m\u001b[0m\u001b[0m\n\u001b[0;32m--> 551\u001b[0;31m                 \u001b[0mchunk_left\u001b[0m \u001b[0;34m=\u001b[0m \u001b[0mself\u001b[0m\u001b[0;34m.\u001b[0m\u001b[0m_read_next_chunk_size\u001b[0m\u001b[0;34m(\u001b[0m\u001b[0;34m)\u001b[0m\u001b[0;34m\u001b[0m\u001b[0;34m\u001b[0m\u001b[0m\n\u001b[0m\u001b[1;32m    552\u001b[0m             \u001b[0;32mexcept\u001b[0m \u001b[0mValueError\u001b[0m\u001b[0;34m:\u001b[0m\u001b[0;34m\u001b[0m\u001b[0;34m\u001b[0m\u001b[0m\n\u001b[1;32m    553\u001b[0m                 \u001b[0;32mraise\u001b[0m \u001b[0mIncompleteRead\u001b[0m\u001b[0;34m(\u001b[0m\u001b[0;34mb''\u001b[0m\u001b[0;34m)\u001b[0m\u001b[0;34m\u001b[0m\u001b[0;34m\u001b[0m\u001b[0m\n",
      "\u001b[0;32m~/anaconda3/lib/python3.8/http/client.py\u001b[0m in \u001b[0;36m_read_next_chunk_size\u001b[0;34m(self)\u001b[0m\n\u001b[1;32m    509\u001b[0m     \u001b[0;32mdef\u001b[0m \u001b[0m_read_next_chunk_size\u001b[0m\u001b[0;34m(\u001b[0m\u001b[0mself\u001b[0m\u001b[0;34m)\u001b[0m\u001b[0;34m:\u001b[0m\u001b[0;34m\u001b[0m\u001b[0;34m\u001b[0m\u001b[0m\n\u001b[1;32m    510\u001b[0m         \u001b[0;31m# Read the next chunk size from the file\u001b[0m\u001b[0;34m\u001b[0m\u001b[0;34m\u001b[0m\u001b[0;34m\u001b[0m\u001b[0m\n\u001b[0;32m--> 511\u001b[0;31m         \u001b[0mline\u001b[0m \u001b[0;34m=\u001b[0m \u001b[0mself\u001b[0m\u001b[0;34m.\u001b[0m\u001b[0mfp\u001b[0m\u001b[0;34m.\u001b[0m\u001b[0mreadline\u001b[0m\u001b[0;34m(\u001b[0m\u001b[0m_MAXLINE\u001b[0m \u001b[0;34m+\u001b[0m \u001b[0;36m1\u001b[0m\u001b[0;34m)\u001b[0m\u001b[0;34m\u001b[0m\u001b[0;34m\u001b[0m\u001b[0m\n\u001b[0m\u001b[1;32m    512\u001b[0m         \u001b[0;32mif\u001b[0m \u001b[0mlen\u001b[0m\u001b[0;34m(\u001b[0m\u001b[0mline\u001b[0m\u001b[0;34m)\u001b[0m \u001b[0;34m>\u001b[0m \u001b[0m_MAXLINE\u001b[0m\u001b[0;34m:\u001b[0m\u001b[0;34m\u001b[0m\u001b[0;34m\u001b[0m\u001b[0m\n\u001b[1;32m    513\u001b[0m             \u001b[0;32mraise\u001b[0m \u001b[0mLineTooLong\u001b[0m\u001b[0;34m(\u001b[0m\u001b[0;34m\"chunk size\"\u001b[0m\u001b[0;34m)\u001b[0m\u001b[0;34m\u001b[0m\u001b[0;34m\u001b[0m\u001b[0m\n",
      "\u001b[0;32m~/anaconda3/lib/python3.8/socket.py\u001b[0m in \u001b[0;36mreadinto\u001b[0;34m(self, b)\u001b[0m\n\u001b[1;32m    667\u001b[0m         \u001b[0;32mwhile\u001b[0m \u001b[0;32mTrue\u001b[0m\u001b[0;34m:\u001b[0m\u001b[0;34m\u001b[0m\u001b[0;34m\u001b[0m\u001b[0m\n\u001b[1;32m    668\u001b[0m             \u001b[0;32mtry\u001b[0m\u001b[0;34m:\u001b[0m\u001b[0;34m\u001b[0m\u001b[0;34m\u001b[0m\u001b[0m\n\u001b[0;32m--> 669\u001b[0;31m                 \u001b[0;32mreturn\u001b[0m \u001b[0mself\u001b[0m\u001b[0;34m.\u001b[0m\u001b[0m_sock\u001b[0m\u001b[0;34m.\u001b[0m\u001b[0mrecv_into\u001b[0m\u001b[0;34m(\u001b[0m\u001b[0mb\u001b[0m\u001b[0;34m)\u001b[0m\u001b[0;34m\u001b[0m\u001b[0;34m\u001b[0m\u001b[0m\n\u001b[0m\u001b[1;32m    670\u001b[0m             \u001b[0;32mexcept\u001b[0m \u001b[0mtimeout\u001b[0m\u001b[0;34m:\u001b[0m\u001b[0;34m\u001b[0m\u001b[0;34m\u001b[0m\u001b[0m\n\u001b[1;32m    671\u001b[0m                 \u001b[0mself\u001b[0m\u001b[0;34m.\u001b[0m\u001b[0m_timeout_occurred\u001b[0m \u001b[0;34m=\u001b[0m \u001b[0;32mTrue\u001b[0m\u001b[0;34m\u001b[0m\u001b[0;34m\u001b[0m\u001b[0m\n",
      "\u001b[0;32m~/anaconda3/lib/python3.8/ssl.py\u001b[0m in \u001b[0;36mrecv_into\u001b[0;34m(self, buffer, nbytes, flags)\u001b[0m\n\u001b[1;32m   1239\u001b[0m                   \u001b[0;34m\"non-zero flags not allowed in calls to recv_into() on %s\"\u001b[0m \u001b[0;34m%\u001b[0m\u001b[0;34m\u001b[0m\u001b[0;34m\u001b[0m\u001b[0m\n\u001b[1;32m   1240\u001b[0m                   self.__class__)\n\u001b[0;32m-> 1241\u001b[0;31m             \u001b[0;32mreturn\u001b[0m \u001b[0mself\u001b[0m\u001b[0;34m.\u001b[0m\u001b[0mread\u001b[0m\u001b[0;34m(\u001b[0m\u001b[0mnbytes\u001b[0m\u001b[0;34m,\u001b[0m \u001b[0mbuffer\u001b[0m\u001b[0;34m)\u001b[0m\u001b[0;34m\u001b[0m\u001b[0;34m\u001b[0m\u001b[0m\n\u001b[0m\u001b[1;32m   1242\u001b[0m         \u001b[0;32melse\u001b[0m\u001b[0;34m:\u001b[0m\u001b[0;34m\u001b[0m\u001b[0;34m\u001b[0m\u001b[0m\n\u001b[1;32m   1243\u001b[0m             \u001b[0;32mreturn\u001b[0m \u001b[0msuper\u001b[0m\u001b[0;34m(\u001b[0m\u001b[0;34m)\u001b[0m\u001b[0;34m.\u001b[0m\u001b[0mrecv_into\u001b[0m\u001b[0;34m(\u001b[0m\u001b[0mbuffer\u001b[0m\u001b[0;34m,\u001b[0m \u001b[0mnbytes\u001b[0m\u001b[0;34m,\u001b[0m \u001b[0mflags\u001b[0m\u001b[0;34m)\u001b[0m\u001b[0;34m\u001b[0m\u001b[0;34m\u001b[0m\u001b[0m\n",
      "\u001b[0;32m~/anaconda3/lib/python3.8/ssl.py\u001b[0m in \u001b[0;36mread\u001b[0;34m(self, len, buffer)\u001b[0m\n\u001b[1;32m   1097\u001b[0m         \u001b[0;32mtry\u001b[0m\u001b[0;34m:\u001b[0m\u001b[0;34m\u001b[0m\u001b[0;34m\u001b[0m\u001b[0m\n\u001b[1;32m   1098\u001b[0m             \u001b[0;32mif\u001b[0m \u001b[0mbuffer\u001b[0m \u001b[0;32mis\u001b[0m \u001b[0;32mnot\u001b[0m \u001b[0;32mNone\u001b[0m\u001b[0;34m:\u001b[0m\u001b[0;34m\u001b[0m\u001b[0;34m\u001b[0m\u001b[0m\n\u001b[0;32m-> 1099\u001b[0;31m                 \u001b[0;32mreturn\u001b[0m \u001b[0mself\u001b[0m\u001b[0;34m.\u001b[0m\u001b[0m_sslobj\u001b[0m\u001b[0;34m.\u001b[0m\u001b[0mread\u001b[0m\u001b[0;34m(\u001b[0m\u001b[0mlen\u001b[0m\u001b[0;34m,\u001b[0m \u001b[0mbuffer\u001b[0m\u001b[0;34m)\u001b[0m\u001b[0;34m\u001b[0m\u001b[0;34m\u001b[0m\u001b[0m\n\u001b[0m\u001b[1;32m   1100\u001b[0m             \u001b[0;32melse\u001b[0m\u001b[0;34m:\u001b[0m\u001b[0;34m\u001b[0m\u001b[0;34m\u001b[0m\u001b[0m\n\u001b[1;32m   1101\u001b[0m                 \u001b[0;32mreturn\u001b[0m \u001b[0mself\u001b[0m\u001b[0;34m.\u001b[0m\u001b[0m_sslobj\u001b[0m\u001b[0;34m.\u001b[0m\u001b[0mread\u001b[0m\u001b[0;34m(\u001b[0m\u001b[0mlen\u001b[0m\u001b[0;34m)\u001b[0m\u001b[0;34m\u001b[0m\u001b[0;34m\u001b[0m\u001b[0m\n",
      "\u001b[0;31mKeyboardInterrupt\u001b[0m: "
     ]
    }
   ],
   "source": [
    "myStream.filter(track=track_keyword)"
   ]
  },
  {
   "cell_type": "code",
   "execution_count": null,
   "metadata": {},
   "outputs": [],
   "source": []
  },
  {
   "cell_type": "code",
   "execution_count": 111,
   "metadata": {},
   "outputs": [],
   "source": [
    "clf = pickle.load(open('clf.pkl', 'rb'))\n",
    "tfidf = pickle.load(open('tfidf.pkl', 'rb'))"
   ]
  },
  {
   "cell_type": "code",
   "execution_count": 112,
   "metadata": {},
   "outputs": [],
   "source": [
    "def predict_sentiment(x):\n",
    "    x = [x]\n",
    "    sent = clf.predict(tfidf.transform(x))\n",
    "    return sent"
   ]
  },
  {
   "cell_type": "code",
   "execution_count": null,
   "metadata": {},
   "outputs": [],
   "source": []
  },
  {
   "cell_type": "code",
   "execution_count": 126,
   "metadata": {},
   "outputs": [],
   "source": [
    "track_keyword = ['usa','china']"
   ]
  },
  {
   "cell_type": "code",
   "execution_count": 127,
   "metadata": {},
   "outputs": [],
   "source": [
    "usa = 0\n",
    "china = 0\n",
    "\n",
    "with open('sentiment.csv', 'w') as file:\n",
    "    writer = csv.DictWriter(file, fieldnames=track_keyword)\n",
    "    writer.writeheader()\n",
    "    \n",
    "    \n",
    "class MyStreamListener(tweepy.StreamListener):\n",
    "    \n",
    "    def on_status(self,status):\n",
    "        print(status.text)\n",
    "    \n",
    "    def on_data(self, data):\n",
    "        raw_tweets = json.loads(data)\n",
    "        try:\n",
    "            x = str(raw_tweets['text']).lower()\n",
    "            x = pp.cont_exp(x)\n",
    "            x = pp.remove_emails(x)\n",
    "            x = pp.remove_html_tags(x)\n",
    "            x = pp.remove_rt(x)\n",
    "            x = pp.remove_special_chars(x)\n",
    "            x = pp.remove_urls(x)\n",
    "            \n",
    "            #blob = TextBlob(x)\n",
    "            #sentiment = predict_sentiment(x)[0]\n",
    "            #print(sentiment)\n",
    "    \n",
    "            \n",
    "            \n",
    "            global china\n",
    "            global usa\n",
    "            \n",
    "            if 'usa' in x and 'china' not in x:\n",
    "                sent = predict_sentiment(x)[0]\n",
    "                usa = usa + sent\n",
    "                \n",
    "            elif 'china' in x and 'usa' not in x:\n",
    "                sent = predict_sentiment(x)[0]\n",
    "                china = china + sent\n",
    "                \n",
    "            else:\n",
    "                pass\n",
    "            \n",
    "            \n",
    "        except:\n",
    "            pass\n",
    "        print('Usa: ',usa, 'China: ',china)\n",
    "        \n",
    "        with open('sentiment.csv', 'a') as file:\n",
    "                writer = csv.DictWriter(file, fieldnames=track_keyword)\n",
    "                info = {\n",
    "                    'usa': usa,\n",
    "                    'china': china\n",
    "                }\n",
    "                writer.writerow(info)\n",
    "        \n",
    "    def on_error(self,status_code):\n",
    "        if status_code == 420:\n",
    "            print('Error 420')\n",
    "            return False # returnin False in on_error disconnects the stream"
   ]
  },
  {
   "cell_type": "code",
   "execution_count": 128,
   "metadata": {},
   "outputs": [],
   "source": [
    "myStreamListener = MyStreamListener()\n",
    "myStream = tweepy.Stream(auth = api.auth, listener =myStreamListener )"
   ]
  },
  {
   "cell_type": "code",
   "execution_count": 129,
   "metadata": {},
   "outputs": [
    {
     "name": "stdout",
     "output_type": "stream",
     "text": [
      "Usa:  1 China:  0\n",
      "Usa:  1 China:  0\n",
      "Usa:  2 China:  0\n",
      "Usa:  2 China:  1\n",
      "Usa:  2 China:  1\n",
      "Usa:  3 China:  1\n",
      "Usa:  3 China:  1\n",
      "Usa:  3 China:  2\n",
      "Usa:  3 China:  2\n",
      "Usa:  3 China:  3\n",
      "Usa:  3 China:  4\n",
      "Usa:  3 China:  5\n",
      "Usa:  3 China:  5\n",
      "Usa:  3 China:  5\n",
      "Usa:  3 China:  5\n",
      "Usa:  3 China:  5\n",
      "Usa:  3 China:  5\n",
      "Usa:  3 China:  5\n",
      "Usa:  3 China:  5\n",
      "Usa:  3 China:  5\n",
      "Usa:  3 China:  5\n",
      "Usa:  4 China:  5\n",
      "Usa:  4 China:  5\n",
      "Usa:  4 China:  5\n",
      "Usa:  4 China:  6\n",
      "Usa:  4 China:  6\n",
      "Usa:  4 China:  6\n",
      "Usa:  5 China:  6\n",
      "Usa:  5 China:  6\n",
      "Usa:  5 China:  6\n",
      "Usa:  5 China:  7\n",
      "Usa:  5 China:  7\n",
      "Usa:  5 China:  8\n",
      "Usa:  5 China:  8\n",
      "Usa:  5 China:  8\n",
      "Usa:  5 China:  8\n",
      "Usa:  5 China:  8\n",
      "Usa:  5 China:  8\n",
      "Usa:  5 China:  8\n",
      "Usa:  5 China:  9\n",
      "Usa:  5 China:  9\n",
      "Usa:  5 China:  9\n",
      "Usa:  5 China:  9\n",
      "Usa:  5 China:  9\n",
      "Usa:  5 China:  9\n",
      "Usa:  5 China:  9\n",
      "Usa:  6 China:  9\n",
      "Usa:  6 China:  9\n",
      "Usa:  6 China:  9\n",
      "Usa:  6 China:  9\n",
      "Usa:  6 China:  9\n",
      "Usa:  6 China:  9\n",
      "Usa:  6 China:  9\n",
      "Usa:  6 China:  9\n",
      "Usa:  6 China:  10\n",
      "Usa:  6 China:  10\n",
      "Usa:  7 China:  10\n",
      "Usa:  7 China:  10\n",
      "Usa:  7 China:  10\n",
      "Usa:  7 China:  10\n",
      "Usa:  7 China:  10\n",
      "Usa:  7 China:  10\n",
      "Usa:  7 China:  10\n",
      "Usa:  7 China:  11\n",
      "Usa:  7 China:  11\n",
      "Usa:  7 China:  11\n",
      "Usa:  7 China:  11\n",
      "Usa:  7 China:  12\n",
      "Usa:  7 China:  13\n",
      "Usa:  8 China:  13\n",
      "Usa:  8 China:  13\n",
      "Usa:  8 China:  13\n"
     ]
    },
    {
     "name": "stderr",
     "output_type": "stream",
     "text": [
      "/home/chaac/anaconda3/lib/python3.8/site-packages/bs4/__init__.py:414: MarkupResemblesLocatorWarning: \"https://t.co/9mixtsgxer\" looks like a URL. Beautiful Soup is not an HTTP client. You should probably use an HTTP client like requests to get the document behind the URL, and feed that document to Beautiful Soup.\n",
      "  warnings.warn(\n"
     ]
    },
    {
     "name": "stdout",
     "output_type": "stream",
     "text": [
      "Usa:  8 China:  13\n",
      "Usa:  8 China:  13\n",
      "Usa:  9 China:  13\n",
      "Usa:  10 China:  13\n",
      "Usa:  11 China:  13\n",
      "Usa:  11 China:  13\n",
      "Usa:  11 China:  14\n",
      "Usa:  11 China:  14\n",
      "Usa:  11 China:  14\n",
      "Usa:  12 China:  14\n",
      "Usa:  12 China:  14\n",
      "Usa:  12 China:  15\n",
      "Usa:  12 China:  15\n",
      "Usa:  13 China:  15\n",
      "Usa:  13 China:  15\n",
      "Usa:  13 China:  16\n",
      "Usa:  13 China:  16\n",
      "Usa:  14 China:  16\n",
      "Usa:  14 China:  16\n",
      "Usa:  14 China:  16\n",
      "Usa:  14 China:  16\n",
      "Usa:  14 China:  16\n",
      "Usa:  14 China:  16\n",
      "Usa:  14 China:  17\n",
      "Usa:  14 China:  17\n",
      "Usa:  14 China:  17\n",
      "Usa:  14 China:  17\n",
      "Usa:  14 China:  18\n",
      "Usa:  14 China:  18\n",
      "Usa:  14 China:  18\n",
      "Usa:  14 China:  18\n",
      "Usa:  14 China:  18\n",
      "Usa:  14 China:  18\n",
      "Usa:  14 China:  18\n",
      "Usa:  14 China:  18\n",
      "Usa:  15 China:  18\n",
      "Usa:  15 China:  18\n",
      "Usa:  16 China:  18\n",
      "Usa:  16 China:  18\n",
      "Usa:  16 China:  18\n",
      "Usa:  16 China:  18\n",
      "Usa:  16 China:  19\n",
      "Usa:  16 China:  19\n",
      "Usa:  16 China:  19\n",
      "Usa:  16 China:  19\n",
      "Usa:  17 China:  19\n",
      "Usa:  18 China:  19\n",
      "Usa:  18 China:  19\n",
      "Usa:  18 China:  20\n",
      "Usa:  18 China:  20\n",
      "Usa:  18 China:  21\n",
      "Usa:  18 China:  21\n",
      "Usa:  18 China:  21\n",
      "Usa:  18 China:  21\n",
      "Usa:  18 China:  22\n"
     ]
    },
    {
     "name": "stderr",
     "output_type": "stream",
     "text": [
      "/home/chaac/anaconda3/lib/python3.8/site-packages/bs4/__init__.py:414: MarkupResemblesLocatorWarning: \"https://t.co/lpjs1wkfqb\" looks like a URL. Beautiful Soup is not an HTTP client. You should probably use an HTTP client like requests to get the document behind the URL, and feed that document to Beautiful Soup.\n",
      "  warnings.warn(\n"
     ]
    },
    {
     "name": "stdout",
     "output_type": "stream",
     "text": [
      "Usa:  19 China:  22\n",
      "Usa:  19 China:  22\n",
      "Usa:  19 China:  22\n",
      "Usa:  19 China:  23\n",
      "Usa:  19 China:  24\n",
      "Usa:  19 China:  24\n",
      "Usa:  19 China:  24\n",
      "Usa:  19 China:  24\n",
      "Usa:  20 China:  24\n",
      "Usa:  21 China:  24\n",
      "Usa:  21 China:  25\n",
      "Usa:  21 China:  25\n",
      "Usa:  21 China:  25\n",
      "Usa:  22 China:  25\n",
      "Usa:  22 China:  25\n",
      "Usa:  22 China:  25\n",
      "Usa:  22 China:  25\n",
      "Usa:  22 China:  25\n",
      "Usa:  22 China:  25\n",
      "Usa:  23 China:  25\n",
      "Usa:  23 China:  25\n",
      "Usa:  24 China:  25\n",
      "Usa:  24 China:  25\n",
      "Usa:  25 China:  25\n",
      "Usa:  26 China:  25\n",
      "Usa:  27 China:  25\n",
      "Usa:  27 China:  25\n",
      "Usa:  27 China:  25\n",
      "Usa:  27 China:  26\n",
      "Usa:  28 China:  26\n",
      "Usa:  28 China:  26\n",
      "Usa:  28 China:  26\n",
      "Usa:  28 China:  26\n",
      "Usa:  28 China:  27\n",
      "Usa:  28 China:  27\n",
      "Usa:  28 China:  27\n",
      "Usa:  28 China:  27\n",
      "Usa:  28 China:  27\n",
      "Usa:  28 China:  27\n",
      "Usa:  28 China:  27\n",
      "Usa:  28 China:  27\n",
      "Usa:  28 China:  27\n",
      "Usa:  28 China:  27\n",
      "Usa:  28 China:  28\n",
      "Usa:  28 China:  29\n",
      "Usa:  28 China:  29\n",
      "Usa:  29 China:  29\n",
      "Usa:  29 China:  30\n",
      "Usa:  29 China:  30\n",
      "Usa:  29 China:  30\n",
      "Usa:  29 China:  30\n",
      "Usa:  29 China:  30\n",
      "Usa:  29 China:  30\n",
      "Usa:  30 China:  30\n",
      "Usa:  30 China:  30\n",
      "Usa:  31 China:  30\n",
      "Usa:  31 China:  30\n",
      "Usa:  31 China:  30\n",
      "Usa:  31 China:  30\n",
      "Usa:  32 China:  30\n",
      "Usa:  32 China:  30\n",
      "Usa:  33 China:  30\n",
      "Usa:  34 China:  30\n",
      "Usa:  35 China:  30\n",
      "Usa:  35 China:  30\n",
      "Usa:  35 China:  30\n",
      "Usa:  36 China:  30\n",
      "Usa:  36 China:  31\n",
      "Usa:  37 China:  31\n",
      "Usa:  37 China:  31\n",
      "Usa:  37 China:  31\n",
      "Usa:  37 China:  31\n",
      "Usa:  37 China:  31\n",
      "Usa:  37 China:  31\n",
      "Usa:  37 China:  31\n",
      "Usa:  37 China:  31\n",
      "Usa:  37 China:  31\n",
      "Usa:  37 China:  31\n",
      "Usa:  37 China:  31\n",
      "Usa:  37 China:  31\n",
      "Usa:  37 China:  31\n",
      "Usa:  37 China:  31\n",
      "Usa:  37 China:  31\n",
      "Usa:  37 China:  31\n",
      "Usa:  37 China:  31\n",
      "Usa:  37 China:  31\n",
      "Usa:  37 China:  31\n",
      "Usa:  37 China:  31\n",
      "Usa:  37 China:  31\n",
      "Usa:  37 China:  31\n",
      "Usa:  38 China:  31\n",
      "Usa:  38 China:  31\n",
      "Usa:  38 China:  31\n",
      "Usa:  39 China:  31\n",
      "Usa:  39 China:  31\n",
      "Usa:  39 China:  31\n",
      "Usa:  39 China:  32\n",
      "Usa:  39 China:  33\n",
      "Usa:  39 China:  33\n",
      "Usa:  39 China:  33\n",
      "Usa:  39 China:  33\n",
      "Usa:  39 China:  33\n",
      "Usa:  39 China:  33\n",
      "Usa:  40 China:  33\n",
      "Usa:  40 China:  33\n",
      "Usa:  40 China:  34\n",
      "Usa:  40 China:  34\n",
      "Usa:  40 China:  35\n",
      "Usa:  40 China:  35\n",
      "Usa:  40 China:  35\n",
      "Usa:  41 China:  35\n",
      "Usa:  41 China:  36\n",
      "Usa:  41 China:  36\n",
      "Usa:  41 China:  36\n",
      "Usa:  41 China:  36\n",
      "Usa:  41 China:  36\n",
      "Usa:  41 China:  36\n",
      "Usa:  41 China:  36\n",
      "Usa:  41 China:  36\n",
      "Usa:  42 China:  36\n",
      "Usa:  42 China:  37\n",
      "Usa:  42 China:  37\n",
      "Usa:  42 China:  37\n",
      "Usa:  42 China:  37\n",
      "Usa:  42 China:  37\n",
      "Usa:  43 China:  37\n",
      "Usa:  43 China:  37\n",
      "Usa:  44 China:  37\n",
      "Usa:  44 China:  37\n",
      "Usa:  45 China:  37\n",
      "Usa:  45 China:  37\n",
      "Usa:  45 China:  37\n",
      "Usa:  45 China:  38\n",
      "Usa:  45 China:  38\n",
      "Usa:  45 China:  38\n",
      "Usa:  45 China:  38\n",
      "Usa:  45 China:  38\n",
      "Usa:  45 China:  38\n",
      "Usa:  45 China:  38\n",
      "Usa:  45 China:  39\n"
     ]
    },
    {
     "name": "stderr",
     "output_type": "stream",
     "text": [
      "/home/chaac/anaconda3/lib/python3.8/site-packages/bs4/__init__.py:414: MarkupResemblesLocatorWarning: \"https://t.co/szlvjlbz4e\" looks like a URL. Beautiful Soup is not an HTTP client. You should probably use an HTTP client like requests to get the document behind the URL, and feed that document to Beautiful Soup.\n",
      "  warnings.warn(\n"
     ]
    },
    {
     "name": "stdout",
     "output_type": "stream",
     "text": [
      "Usa:  45 China:  39\n",
      "Usa:  46 China:  39\n",
      "Usa:  46 China:  39\n",
      "Usa:  46 China:  39\n",
      "Usa:  46 China:  40\n",
      "Usa:  46 China:  40\n",
      "Usa:  47 China:  40\n",
      "Usa:  47 China:  40\n",
      "Usa:  48 China:  40\n",
      "Usa:  49 China:  40\n",
      "Usa:  49 China:  40\n",
      "Usa:  49 China:  40\n",
      "Usa:  50 China:  40\n",
      "Usa:  50 China:  40\n",
      "Usa:  50 China:  40\n",
      "Usa:  50 China:  40\n",
      "Usa:  50 China:  40\n",
      "Usa:  50 China:  40\n",
      "Usa:  51 China:  40\n",
      "Usa:  51 China:  40\n",
      "Usa:  51 China:  40\n",
      "Usa:  52 China:  40\n",
      "Usa:  52 China:  40\n",
      "Usa:  52 China:  40\n",
      "Usa:  53 China:  40\n",
      "Usa:  53 China:  40\n",
      "Usa:  53 China:  40\n",
      "Usa:  53 China:  41\n",
      "Usa:  53 China:  41\n",
      "Usa:  54 China:  41\n",
      "Usa:  54 China:  42\n",
      "Usa:  54 China:  42\n",
      "Usa:  54 China:  42\n",
      "Usa:  55 China:  42\n",
      "Usa:  55 China:  42\n",
      "Usa:  55 China:  42\n",
      "Usa:  55 China:  42\n",
      "Usa:  56 China:  42\n",
      "Usa:  56 China:  42\n",
      "Usa:  56 China:  42\n",
      "Usa:  57 China:  42\n",
      "Usa:  57 China:  42\n",
      "Usa:  58 China:  42\n",
      "Usa:  58 China:  42\n",
      "Usa:  58 China:  42\n",
      "Usa:  58 China:  42\n",
      "Usa:  58 China:  42\n",
      "Usa:  58 China:  42\n",
      "Usa:  58 China:  42\n",
      "Usa:  58 China:  42\n",
      "Usa:  58 China:  42\n",
      "Usa:  58 China:  42\n",
      "Usa:  59 China:  42\n",
      "Usa:  59 China:  42\n",
      "Usa:  59 China:  42\n",
      "Usa:  60 China:  42\n",
      "Usa:  60 China:  42\n",
      "Usa:  61 China:  42\n",
      "Usa:  61 China:  42\n",
      "Usa:  61 China:  43\n",
      "Usa:  61 China:  43\n",
      "Usa:  61 China:  43\n",
      "Usa:  61 China:  43\n",
      "Usa:  62 China:  43\n",
      "Usa:  62 China:  43\n",
      "Usa:  62 China:  44\n",
      "Usa:  62 China:  44\n",
      "Usa:  62 China:  44\n",
      "Usa:  62 China:  44\n",
      "Usa:  62 China:  45\n",
      "Usa:  62 China:  45\n",
      "Usa:  62 China:  45\n",
      "Usa:  62 China:  45\n",
      "Usa:  62 China:  45\n",
      "Usa:  62 China:  45\n",
      "Usa:  62 China:  45\n",
      "Usa:  62 China:  45\n",
      "Usa:  62 China:  45\n",
      "Usa:  62 China:  45\n",
      "Usa:  63 China:  45\n",
      "Usa:  63 China:  45\n",
      "Usa:  63 China:  45\n",
      "Usa:  64 China:  45\n",
      "Usa:  64 China:  45\n",
      "Usa:  64 China:  45\n",
      "Usa:  64 China:  45\n",
      "Usa:  64 China:  45\n",
      "Usa:  64 China:  46\n",
      "Usa:  64 China:  46\n",
      "Usa:  64 China:  47\n",
      "Usa:  64 China:  47\n",
      "Usa:  64 China:  47\n",
      "Usa:  64 China:  47\n",
      "Usa:  64 China:  47\n",
      "Usa:  65 China:  47\n",
      "Usa:  66 China:  47\n",
      "Usa:  66 China:  47\n",
      "Usa:  66 China:  47\n",
      "Usa:  66 China:  47\n",
      "Usa:  67 China:  47\n",
      "Usa:  68 China:  47\n",
      "Usa:  68 China:  47\n",
      "Usa:  68 China:  47\n",
      "Usa:  68 China:  47\n",
      "Usa:  69 China:  47\n",
      "Usa:  70 China:  47\n",
      "Usa:  71 China:  47\n",
      "Usa:  71 China:  48\n",
      "Usa:  72 China:  48\n",
      "Usa:  72 China:  48\n",
      "Usa:  73 China:  48\n",
      "Usa:  73 China:  48\n",
      "Usa:  73 China:  48\n",
      "Usa:  73 China:  48\n",
      "Usa:  73 China:  49\n",
      "Usa:  73 China:  49\n",
      "Usa:  73 China:  49\n",
      "Usa:  73 China:  49\n",
      "Usa:  73 China:  50\n",
      "Usa:  73 China:  50\n",
      "Usa:  73 China:  51\n",
      "Usa:  73 China:  51\n",
      "Usa:  74 China:  51\n",
      "Usa:  74 China:  52\n",
      "Usa:  75 China:  52\n",
      "Usa:  75 China:  52\n",
      "Usa:  75 China:  53\n",
      "Usa:  75 China:  53\n",
      "Usa:  76 China:  53\n",
      "Usa:  76 China:  53\n",
      "Usa:  76 China:  54\n",
      "Usa:  76 China:  55\n",
      "Usa:  76 China:  55\n",
      "Usa:  76 China:  55\n",
      "Usa:  76 China:  55\n",
      "Usa:  77 China:  55\n",
      "Usa:  77 China:  55\n",
      "Usa:  77 China:  55\n",
      "Usa:  78 China:  55\n",
      "Usa:  78 China:  55\n",
      "Usa:  78 China:  55\n",
      "Usa:  78 China:  55\n",
      "Usa:  78 China:  55\n",
      "Usa:  79 China:  55\n",
      "Usa:  79 China:  55\n",
      "Usa:  79 China:  56\n",
      "Usa:  80 China:  56\n",
      "Usa:  80 China:  57\n",
      "Usa:  80 China:  57\n",
      "Usa:  81 China:  57\n",
      "Usa:  81 China:  57\n",
      "Usa:  81 China:  57\n",
      "Usa:  81 China:  57\n",
      "Usa:  81 China:  57\n",
      "Usa:  81 China:  57\n",
      "Usa:  81 China:  57\n",
      "Usa:  81 China:  57\n",
      "Usa:  81 China:  57\n",
      "Usa:  81 China:  58\n",
      "Usa:  81 China:  58\n",
      "Usa:  81 China:  58\n",
      "Usa:  81 China:  58\n",
      "Usa:  81 China:  58\n",
      "Usa:  81 China:  59\n",
      "Usa:  81 China:  59\n",
      "Usa:  81 China:  59\n",
      "Usa:  81 China:  59\n",
      "Usa:  81 China:  59\n",
      "Usa:  81 China:  59\n",
      "Usa:  81 China:  59\n",
      "Usa:  81 China:  59\n",
      "Usa:  82 China:  59\n",
      "Usa:  82 China:  59\n",
      "Usa:  82 China:  59\n",
      "Usa:  83 China:  59\n",
      "Usa:  83 China:  60\n",
      "Usa:  83 China:  61\n",
      "Usa:  83 China:  62\n",
      "Usa:  84 China:  62\n",
      "Usa:  84 China:  62\n",
      "Usa:  84 China:  62\n",
      "Usa:  85 China:  62\n",
      "Usa:  85 China:  62\n",
      "Usa:  85 China:  62\n",
      "Usa:  85 China:  62\n",
      "Usa:  85 China:  62\n",
      "Usa:  85 China:  62\n",
      "Usa:  85 China:  62\n",
      "Usa:  85 China:  62\n",
      "Usa:  85 China:  62\n",
      "Usa:  85 China:  62\n",
      "Usa:  85 China:  62\n",
      "Usa:  85 China:  62\n"
     ]
    },
    {
     "name": "stderr",
     "output_type": "stream",
     "text": [
      "/home/chaac/anaconda3/lib/python3.8/site-packages/bs4/__init__.py:414: MarkupResemblesLocatorWarning: \"https://t.co/m2jcmm525r\" looks like a URL. Beautiful Soup is not an HTTP client. You should probably use an HTTP client like requests to get the document behind the URL, and feed that document to Beautiful Soup.\n",
      "  warnings.warn(\n"
     ]
    },
    {
     "name": "stdout",
     "output_type": "stream",
     "text": [
      "Usa:  85 China:  62\n",
      "Usa:  85 China:  63\n",
      "Usa:  85 China:  63\n",
      "Usa:  85 China:  63\n",
      "Usa:  85 China:  64\n",
      "Usa:  86 China:  64\n",
      "Usa:  86 China:  64\n",
      "Usa:  86 China:  64\n",
      "Usa:  86 China:  65\n",
      "Usa:  86 China:  65\n"
     ]
    },
    {
     "name": "stderr",
     "output_type": "stream",
     "text": [
      "/home/chaac/anaconda3/lib/python3.8/site-packages/bs4/__init__.py:414: MarkupResemblesLocatorWarning: \"https://t.co/jjq9zciltw\" looks like a URL. Beautiful Soup is not an HTTP client. You should probably use an HTTP client like requests to get the document behind the URL, and feed that document to Beautiful Soup.\n",
      "  warnings.warn(\n"
     ]
    },
    {
     "name": "stdout",
     "output_type": "stream",
     "text": [
      "Usa:  86 China:  65\n",
      "Usa:  86 China:  65\n",
      "Usa:  87 China:  65\n",
      "Usa:  87 China:  65\n",
      "Usa:  87 China:  65\n",
      "Usa:  87 China:  66\n",
      "Usa:  87 China:  67\n",
      "Usa:  87 China:  67\n",
      "Usa:  88 China:  67\n",
      "Usa:  88 China:  67\n",
      "Usa:  88 China:  67\n",
      "Usa:  89 China:  67\n",
      "Usa:  89 China:  67\n",
      "Usa:  89 China:  67\n",
      "Usa:  89 China:  67\n",
      "Usa:  89 China:  67\n",
      "Usa:  90 China:  67\n",
      "Usa:  90 China:  67\n",
      "Usa:  90 China:  67\n",
      "Usa:  90 China:  67\n",
      "Usa:  90 China:  67\n",
      "Usa:  90 China:  67\n",
      "Usa:  90 China:  67\n",
      "Usa:  90 China:  67\n",
      "Usa:  90 China:  68\n",
      "Usa:  90 China:  69\n",
      "Usa:  90 China:  69\n",
      "Usa:  90 China:  69\n",
      "Usa:  90 China:  69\n",
      "Usa:  91 China:  69\n",
      "Usa:  92 China:  69\n",
      "Usa:  92 China:  69\n",
      "Usa:  92 China:  69\n",
      "Usa:  92 China:  69\n",
      "Usa:  92 China:  69\n",
      "Usa:  92 China:  70\n",
      "Usa:  93 China:  70\n",
      "Usa:  93 China:  71\n",
      "Usa:  93 China:  71\n",
      "Usa:  93 China:  71\n",
      "Usa:  93 China:  71\n",
      "Usa:  93 China:  71\n",
      "Usa:  93 China:  71\n",
      "Usa:  93 China:  71\n",
      "Usa:  93 China:  71\n",
      "Usa:  93 China:  71\n",
      "Usa:  93 China:  71\n",
      "Usa:  93 China:  71\n",
      "Usa:  93 China:  71\n",
      "Usa:  93 China:  71\n",
      "Usa:  93 China:  71\n",
      "Usa:  93 China:  71\n",
      "Usa:  93 China:  71\n"
     ]
    },
    {
     "name": "stderr",
     "output_type": "stream",
     "text": [
      "/home/chaac/anaconda3/lib/python3.8/site-packages/bs4/__init__.py:414: MarkupResemblesLocatorWarning: \"https://t.co/rq55h2p3hc\" looks like a URL. Beautiful Soup is not an HTTP client. You should probably use an HTTP client like requests to get the document behind the URL, and feed that document to Beautiful Soup.\n",
      "  warnings.warn(\n"
     ]
    },
    {
     "name": "stdout",
     "output_type": "stream",
     "text": [
      "Usa:  94 China:  71\n",
      "Usa:  94 China:  71\n",
      "Usa:  95 China:  71\n",
      "Usa:  95 China:  71\n",
      "Usa:  95 China:  71\n",
      "Usa:  95 China:  71\n",
      "Usa:  96 China:  71\n",
      "Usa:  96 China:  71\n",
      "Usa:  96 China:  72\n",
      "Usa:  96 China:  72\n",
      "Usa:  96 China:  72\n",
      "Usa:  96 China:  72\n",
      "Usa:  96 China:  73\n",
      "Usa:  97 China:  73\n",
      "Usa:  97 China:  73\n",
      "Usa:  97 China:  73\n",
      "Usa:  97 China:  73\n",
      "Usa:  97 China:  73\n",
      "Usa:  97 China:  73\n",
      "Usa:  98 China:  73\n",
      "Usa:  99 China:  73\n",
      "Usa:  100 China:  73\n",
      "Usa:  100 China:  74\n",
      "Usa:  100 China:  75\n",
      "Usa:  100 China:  75\n",
      "Usa:  100 China:  75\n",
      "Usa:  100 China:  75\n",
      "Usa:  101 China:  75\n",
      "Usa:  101 China:  75\n",
      "Usa:  101 China:  75\n",
      "Usa:  101 China:  75\n",
      "Usa:  101 China:  75\n",
      "Usa:  101 China:  75\n",
      "Usa:  101 China:  75\n",
      "Usa:  101 China:  75\n",
      "Usa:  101 China:  76\n",
      "Usa:  101 China:  76\n",
      "Usa:  101 China:  76\n",
      "Usa:  101 China:  76\n",
      "Usa:  101 China:  76\n",
      "Usa:  101 China:  76\n",
      "Usa:  101 China:  76\n",
      "Usa:  101 China:  76\n",
      "Usa:  101 China:  76\n",
      "Usa:  101 China:  76\n",
      "Usa:  101 China:  76\n",
      "Usa:  101 China:  76\n",
      "Usa:  102 China:  76\n",
      "Usa:  102 China:  76\n",
      "Usa:  102 China:  76\n",
      "Usa:  102 China:  76\n",
      "Usa:  102 China:  76\n",
      "Usa:  102 China:  76\n",
      "Usa:  102 China:  77\n",
      "Usa:  103 China:  77\n",
      "Usa:  103 China:  78\n",
      "Usa:  103 China:  78\n",
      "Usa:  104 China:  78\n",
      "Usa:  104 China:  78\n",
      "Usa:  104 China:  78\n",
      "Usa:  104 China:  78\n",
      "Usa:  104 China:  78\n",
      "Usa:  105 China:  78\n",
      "Usa:  105 China:  78\n",
      "Usa:  105 China:  78\n",
      "Usa:  105 China:  78\n",
      "Usa:  105 China:  78\n",
      "Usa:  105 China:  78\n",
      "Usa:  106 China:  78\n",
      "Usa:  106 China:  78\n",
      "Usa:  106 China:  78\n",
      "Usa:  106 China:  78\n",
      "Usa:  107 China:  78\n",
      "Usa:  107 China:  78\n",
      "Usa:  107 China:  78\n",
      "Usa:  108 China:  78\n",
      "Usa:  108 China:  79\n",
      "Usa:  108 China:  79\n",
      "Usa:  108 China:  79\n",
      "Usa:  108 China:  79\n",
      "Usa:  108 China:  79\n",
      "Usa:  108 China:  79\n",
      "Usa:  108 China:  80\n",
      "Usa:  108 China:  80\n",
      "Usa:  108 China:  80\n",
      "Usa:  108 China:  80\n",
      "Usa:  108 China:  80\n",
      "Usa:  108 China:  81\n",
      "Usa:  108 China:  82\n",
      "Usa:  108 China:  82\n",
      "Usa:  109 China:  82\n",
      "Usa:  110 China:  82\n",
      "Usa:  110 China:  82\n",
      "Usa:  110 China:  82\n",
      "Usa:  110 China:  82\n",
      "Usa:  110 China:  83\n",
      "Usa:  110 China:  83\n",
      "Usa:  110 China:  83\n"
     ]
    },
    {
     "name": "stderr",
     "output_type": "stream",
     "text": [
      "/home/chaac/anaconda3/lib/python3.8/site-packages/bs4/__init__.py:414: MarkupResemblesLocatorWarning: \"https://t.co/v5bbiof30g\" looks like a URL. Beautiful Soup is not an HTTP client. You should probably use an HTTP client like requests to get the document behind the URL, and feed that document to Beautiful Soup.\n",
      "  warnings.warn(\n"
     ]
    },
    {
     "name": "stdout",
     "output_type": "stream",
     "text": [
      "Usa:  110 China:  83\n",
      "Usa:  110 China:  83\n",
      "Usa:  111 China:  83\n",
      "Usa:  111 China:  83\n",
      "Usa:  111 China:  83\n",
      "Usa:  111 China:  83\n",
      "Usa:  111 China:  83\n",
      "Usa:  111 China:  84\n",
      "Usa:  111 China:  84\n",
      "Usa:  111 China:  84\n",
      "Usa:  111 China:  84\n",
      "Usa:  112 China:  84\n",
      "Usa:  113 China:  84\n",
      "Usa:  113 China:  84\n",
      "Usa:  114 China:  84\n",
      "Usa:  114 China:  84\n",
      "Usa:  114 China:  84\n",
      "Usa:  114 China:  84\n",
      "Usa:  114 China:  84\n",
      "Usa:  115 China:  84\n",
      "Usa:  115 China:  84\n",
      "Usa:  116 China:  84\n",
      "Usa:  117 China:  84\n",
      "Usa:  117 China:  84\n",
      "Usa:  117 China:  84\n",
      "Usa:  118 China:  84\n",
      "Usa:  118 China:  84\n",
      "Usa:  118 China:  84\n",
      "Usa:  118 China:  84\n",
      "Usa:  118 China:  84\n",
      "Usa:  118 China:  84\n",
      "Usa:  118 China:  85\n",
      "Usa:  118 China:  85\n",
      "Usa:  118 China:  85\n",
      "Usa:  118 China:  85\n",
      "Usa:  118 China:  86\n",
      "Usa:  118 China:  86\n",
      "Usa:  118 China:  86\n",
      "Usa:  118 China:  86\n",
      "Usa:  118 China:  86\n",
      "Usa:  118 China:  86\n",
      "Usa:  119 China:  86\n",
      "Usa:  119 China:  86\n",
      "Usa:  119 China:  86\n",
      "Usa:  119 China:  87\n",
      "Usa:  119 China:  87\n",
      "Usa:  119 China:  87\n",
      "Usa:  119 China:  87\n",
      "Usa:  119 China:  88\n",
      "Usa:  119 China:  88\n",
      "Usa:  120 China:  88\n",
      "Usa:  120 China:  88\n",
      "Usa:  120 China:  88\n",
      "Usa:  121 China:  88\n",
      "Usa:  121 China:  88\n",
      "Usa:  121 China:  89\n",
      "Usa:  121 China:  89\n",
      "Usa:  121 China:  89\n",
      "Usa:  121 China:  89\n",
      "Usa:  121 China:  89\n",
      "Usa:  121 China:  89\n",
      "Usa:  121 China:  90\n",
      "Usa:  121 China:  90\n",
      "Usa:  121 China:  90\n",
      "Usa:  121 China:  91\n",
      "Usa:  121 China:  91\n",
      "Usa:  121 China:  91\n",
      "Usa:  121 China:  91\n",
      "Usa:  121 China:  91\n",
      "Usa:  121 China:  91\n",
      "Usa:  121 China:  91\n",
      "Usa:  121 China:  91\n",
      "Usa:  122 China:  91\n",
      "Usa:  122 China:  92\n",
      "Usa:  122 China:  92\n",
      "Usa:  122 China:  92\n",
      "Usa:  122 China:  92\n",
      "Usa:  122 China:  92\n",
      "Usa:  122 China:  92\n",
      "Usa:  122 China:  92\n",
      "Usa:  122 China:  92\n",
      "Usa:  122 China:  92\n",
      "Usa:  122 China:  92\n",
      "Usa:  122 China:  92\n",
      "Usa:  122 China:  93\n",
      "Usa:  122 China:  93\n",
      "Usa:  122 China:  93\n",
      "Usa:  122 China:  93\n",
      "Usa:  122 China:  94\n",
      "Usa:  123 China:  94\n",
      "Usa:  123 China:  94\n",
      "Usa:  123 China:  94\n",
      "Usa:  123 China:  95\n",
      "Usa:  123 China:  95\n",
      "Usa:  123 China:  95\n",
      "Usa:  123 China:  95\n",
      "Usa:  123 China:  95\n",
      "Usa:  123 China:  95\n",
      "Usa:  124 China:  95\n",
      "Usa:  124 China:  95\n",
      "Usa:  124 China:  95\n",
      "Usa:  124 China:  95\n",
      "Usa:  124 China:  95\n",
      "Usa:  124 China:  95\n",
      "Usa:  124 China:  95\n",
      "Usa:  124 China:  95\n",
      "Usa:  124 China:  95\n",
      "Usa:  124 China:  95\n",
      "Usa:  124 China:  95\n",
      "Usa:  124 China:  95\n",
      "Usa:  125 China:  95\n",
      "Usa:  125 China:  95\n",
      "Usa:  126 China:  95\n",
      "Usa:  126 China:  95\n",
      "Usa:  127 China:  95\n",
      "Usa:  128 China:  95\n",
      "Usa:  128 China:  95\n",
      "Usa:  128 China:  95\n",
      "Usa:  128 China:  95\n",
      "Usa:  129 China:  95\n",
      "Usa:  129 China:  95\n",
      "Usa:  130 China:  95\n",
      "Usa:  130 China:  95\n",
      "Usa:  130 China:  95\n",
      "Usa:  130 China:  95\n",
      "Usa:  130 China:  95\n",
      "Usa:  130 China:  95\n",
      "Usa:  130 China:  95\n",
      "Usa:  131 China:  95\n",
      "Usa:  132 China:  95\n",
      "Usa:  133 China:  95\n",
      "Usa:  133 China:  95\n",
      "Usa:  133 China:  95\n",
      "Usa:  133 China:  95\n",
      "Usa:  134 China:  95\n",
      "Usa:  134 China:  95\n",
      "Usa:  134 China:  95\n",
      "Usa:  134 China:  95\n",
      "Usa:  134 China:  95\n",
      "Usa:  134 China:  95\n",
      "Usa:  134 China:  95\n",
      "Usa:  135 China:  95\n",
      "Usa:  136 China:  95\n",
      "Usa:  136 China:  95\n",
      "Usa:  136 China:  95\n"
     ]
    },
    {
     "ename": "KeyboardInterrupt",
     "evalue": "",
     "output_type": "error",
     "traceback": [
      "\u001b[0;31m---------------------------------------------------------------------------\u001b[0m",
      "\u001b[0;31mKeyboardInterrupt\u001b[0m                         Traceback (most recent call last)",
      "\u001b[0;32m<ipython-input-129-54c1474ae453>\u001b[0m in \u001b[0;36m<module>\u001b[0;34m\u001b[0m\n\u001b[0;32m----> 1\u001b[0;31m \u001b[0mmyStream\u001b[0m\u001b[0;34m.\u001b[0m\u001b[0mfilter\u001b[0m\u001b[0;34m(\u001b[0m\u001b[0mtrack\u001b[0m\u001b[0;34m=\u001b[0m\u001b[0mtrack_keyword\u001b[0m\u001b[0;34m)\u001b[0m\u001b[0;34m\u001b[0m\u001b[0;34m\u001b[0m\u001b[0m\n\u001b[0m",
      "\u001b[0;32m~/anaconda3/lib/python3.8/site-packages/tweepy/streaming.py\u001b[0m in \u001b[0;36mfilter\u001b[0;34m(self, follow, track, is_async, locations, stall_warnings, languages, encoding, filter_level)\u001b[0m\n\u001b[1;32m    472\u001b[0m             \u001b[0mself\u001b[0m\u001b[0;34m.\u001b[0m\u001b[0mbody\u001b[0m\u001b[0;34m[\u001b[0m\u001b[0;34m'filter_level'\u001b[0m\u001b[0;34m]\u001b[0m \u001b[0;34m=\u001b[0m \u001b[0mfilter_level\u001b[0m\u001b[0;34m.\u001b[0m\u001b[0mencode\u001b[0m\u001b[0;34m(\u001b[0m\u001b[0mencoding\u001b[0m\u001b[0;34m)\u001b[0m\u001b[0;34m\u001b[0m\u001b[0;34m\u001b[0m\u001b[0m\n\u001b[1;32m    473\u001b[0m         \u001b[0mself\u001b[0m\u001b[0;34m.\u001b[0m\u001b[0msession\u001b[0m\u001b[0;34m.\u001b[0m\u001b[0mparams\u001b[0m \u001b[0;34m=\u001b[0m \u001b[0;34m{\u001b[0m\u001b[0;34m'delimited'\u001b[0m\u001b[0;34m:\u001b[0m \u001b[0;34m'length'\u001b[0m\u001b[0;34m}\u001b[0m\u001b[0;34m\u001b[0m\u001b[0;34m\u001b[0m\u001b[0m\n\u001b[0;32m--> 474\u001b[0;31m         \u001b[0mself\u001b[0m\u001b[0;34m.\u001b[0m\u001b[0m_start\u001b[0m\u001b[0;34m(\u001b[0m\u001b[0mis_async\u001b[0m\u001b[0;34m)\u001b[0m\u001b[0;34m\u001b[0m\u001b[0;34m\u001b[0m\u001b[0m\n\u001b[0m\u001b[1;32m    475\u001b[0m \u001b[0;34m\u001b[0m\u001b[0m\n\u001b[1;32m    476\u001b[0m     def sitestream(self, follow, stall_warnings=False,\n",
      "\u001b[0;32m~/anaconda3/lib/python3.8/site-packages/tweepy/streaming.py\u001b[0m in \u001b[0;36m_start\u001b[0;34m(self, is_async)\u001b[0m\n\u001b[1;32m    387\u001b[0m             \u001b[0mself\u001b[0m\u001b[0;34m.\u001b[0m\u001b[0m_thread\u001b[0m\u001b[0;34m.\u001b[0m\u001b[0mstart\u001b[0m\u001b[0;34m(\u001b[0m\u001b[0;34m)\u001b[0m\u001b[0;34m\u001b[0m\u001b[0;34m\u001b[0m\u001b[0m\n\u001b[1;32m    388\u001b[0m         \u001b[0;32melse\u001b[0m\u001b[0;34m:\u001b[0m\u001b[0;34m\u001b[0m\u001b[0;34m\u001b[0m\u001b[0m\n\u001b[0;32m--> 389\u001b[0;31m             \u001b[0mself\u001b[0m\u001b[0;34m.\u001b[0m\u001b[0m_run\u001b[0m\u001b[0;34m(\u001b[0m\u001b[0;34m)\u001b[0m\u001b[0;34m\u001b[0m\u001b[0;34m\u001b[0m\u001b[0m\n\u001b[0m\u001b[1;32m    390\u001b[0m \u001b[0;34m\u001b[0m\u001b[0m\n\u001b[1;32m    391\u001b[0m     \u001b[0;32mdef\u001b[0m \u001b[0mon_closed\u001b[0m\u001b[0;34m(\u001b[0m\u001b[0mself\u001b[0m\u001b[0;34m,\u001b[0m \u001b[0mresp\u001b[0m\u001b[0;34m)\u001b[0m\u001b[0;34m:\u001b[0m\u001b[0;34m\u001b[0m\u001b[0;34m\u001b[0m\u001b[0m\n",
      "\u001b[0;32m~/anaconda3/lib/python3.8/site-packages/tweepy/streaming.py\u001b[0m in \u001b[0;36m_run\u001b[0;34m(self)\u001b[0m\n\u001b[1;32m    287\u001b[0m                     \u001b[0mself\u001b[0m\u001b[0;34m.\u001b[0m\u001b[0msnooze_time\u001b[0m \u001b[0;34m=\u001b[0m \u001b[0mself\u001b[0m\u001b[0;34m.\u001b[0m\u001b[0msnooze_time_step\u001b[0m\u001b[0;34m\u001b[0m\u001b[0;34m\u001b[0m\u001b[0m\n\u001b[1;32m    288\u001b[0m                     \u001b[0mself\u001b[0m\u001b[0;34m.\u001b[0m\u001b[0mlistener\u001b[0m\u001b[0;34m.\u001b[0m\u001b[0mon_connect\u001b[0m\u001b[0;34m(\u001b[0m\u001b[0;34m)\u001b[0m\u001b[0;34m\u001b[0m\u001b[0;34m\u001b[0m\u001b[0m\n\u001b[0;32m--> 289\u001b[0;31m                     \u001b[0mself\u001b[0m\u001b[0;34m.\u001b[0m\u001b[0m_read_loop\u001b[0m\u001b[0;34m(\u001b[0m\u001b[0mresp\u001b[0m\u001b[0;34m)\u001b[0m\u001b[0;34m\u001b[0m\u001b[0;34m\u001b[0m\u001b[0m\n\u001b[0m\u001b[1;32m    290\u001b[0m             \u001b[0;32mexcept\u001b[0m \u001b[0;34m(\u001b[0m\u001b[0mTimeout\u001b[0m\u001b[0;34m,\u001b[0m \u001b[0mssl\u001b[0m\u001b[0;34m.\u001b[0m\u001b[0mSSLError\u001b[0m\u001b[0;34m)\u001b[0m \u001b[0;32mas\u001b[0m \u001b[0mexc\u001b[0m\u001b[0;34m:\u001b[0m\u001b[0;34m\u001b[0m\u001b[0;34m\u001b[0m\u001b[0m\n\u001b[1;32m    291\u001b[0m                 \u001b[0;31m# This is still necessary, as a SSLError can actually be\u001b[0m\u001b[0;34m\u001b[0m\u001b[0;34m\u001b[0m\u001b[0;34m\u001b[0m\u001b[0m\n",
      "\u001b[0;32m~/anaconda3/lib/python3.8/site-packages/tweepy/streaming.py\u001b[0m in \u001b[0;36m_read_loop\u001b[0;34m(self, resp)\u001b[0m\n\u001b[1;32m    337\u001b[0m             \u001b[0mlength\u001b[0m \u001b[0;34m=\u001b[0m \u001b[0;36m0\u001b[0m\u001b[0;34m\u001b[0m\u001b[0;34m\u001b[0m\u001b[0m\n\u001b[1;32m    338\u001b[0m             \u001b[0;32mwhile\u001b[0m \u001b[0;32mnot\u001b[0m \u001b[0mresp\u001b[0m\u001b[0;34m.\u001b[0m\u001b[0mraw\u001b[0m\u001b[0;34m.\u001b[0m\u001b[0mclosed\u001b[0m\u001b[0;34m:\u001b[0m\u001b[0;34m\u001b[0m\u001b[0;34m\u001b[0m\u001b[0m\n\u001b[0;32m--> 339\u001b[0;31m                 \u001b[0mline\u001b[0m \u001b[0;34m=\u001b[0m \u001b[0mbuf\u001b[0m\u001b[0;34m.\u001b[0m\u001b[0mread_line\u001b[0m\u001b[0;34m(\u001b[0m\u001b[0;34m)\u001b[0m\u001b[0;34m\u001b[0m\u001b[0;34m\u001b[0m\u001b[0m\n\u001b[0m\u001b[1;32m    340\u001b[0m                 \u001b[0mstripped_line\u001b[0m \u001b[0;34m=\u001b[0m \u001b[0mline\u001b[0m\u001b[0;34m.\u001b[0m\u001b[0mstrip\u001b[0m\u001b[0;34m(\u001b[0m\u001b[0;34m)\u001b[0m \u001b[0;32mif\u001b[0m \u001b[0mline\u001b[0m \u001b[0;32melse\u001b[0m \u001b[0mline\u001b[0m \u001b[0;31m# line is sometimes None so we need to check here\u001b[0m\u001b[0;34m\u001b[0m\u001b[0;34m\u001b[0m\u001b[0m\n\u001b[1;32m    341\u001b[0m                 \u001b[0;32mif\u001b[0m \u001b[0;32mnot\u001b[0m \u001b[0mstripped_line\u001b[0m\u001b[0;34m:\u001b[0m\u001b[0;34m\u001b[0m\u001b[0;34m\u001b[0m\u001b[0m\n",
      "\u001b[0;32m~/anaconda3/lib/python3.8/site-packages/tweepy/streaming.py\u001b[0m in \u001b[0;36mread_line\u001b[0;34m(self, sep)\u001b[0m\n\u001b[1;32m    198\u001b[0m             \u001b[0;32melse\u001b[0m\u001b[0;34m:\u001b[0m\u001b[0;34m\u001b[0m\u001b[0;34m\u001b[0m\u001b[0m\n\u001b[1;32m    199\u001b[0m                 \u001b[0mstart\u001b[0m \u001b[0;34m=\u001b[0m \u001b[0mlen\u001b[0m\u001b[0;34m(\u001b[0m\u001b[0mself\u001b[0m\u001b[0;34m.\u001b[0m\u001b[0m_buffer\u001b[0m\u001b[0;34m)\u001b[0m\u001b[0;34m\u001b[0m\u001b[0;34m\u001b[0m\u001b[0m\n\u001b[0;32m--> 200\u001b[0;31m             \u001b[0mself\u001b[0m\u001b[0;34m.\u001b[0m\u001b[0m_buffer\u001b[0m \u001b[0;34m+=\u001b[0m \u001b[0mself\u001b[0m\u001b[0;34m.\u001b[0m\u001b[0m_stream\u001b[0m\u001b[0;34m.\u001b[0m\u001b[0mread\u001b[0m\u001b[0;34m(\u001b[0m\u001b[0mself\u001b[0m\u001b[0;34m.\u001b[0m\u001b[0m_chunk_size\u001b[0m\u001b[0;34m)\u001b[0m\u001b[0;34m\u001b[0m\u001b[0;34m\u001b[0m\u001b[0m\n\u001b[0m\u001b[1;32m    201\u001b[0m         \u001b[0;32mreturn\u001b[0m \u001b[0msix\u001b[0m\u001b[0;34m.\u001b[0m\u001b[0mb\u001b[0m\u001b[0;34m(\u001b[0m\u001b[0;34m''\u001b[0m\u001b[0;34m)\u001b[0m\u001b[0;34m\u001b[0m\u001b[0;34m\u001b[0m\u001b[0m\n\u001b[1;32m    202\u001b[0m \u001b[0;34m\u001b[0m\u001b[0m\n",
      "\u001b[0;32m~/anaconda3/lib/python3.8/site-packages/urllib3/response.py\u001b[0m in \u001b[0;36mread\u001b[0;34m(self, amt, decode_content, cache_content)\u001b[0m\n\u001b[1;32m    517\u001b[0m             \u001b[0;32melse\u001b[0m\u001b[0;34m:\u001b[0m\u001b[0;34m\u001b[0m\u001b[0;34m\u001b[0m\u001b[0m\n\u001b[1;32m    518\u001b[0m                 \u001b[0mcache_content\u001b[0m \u001b[0;34m=\u001b[0m \u001b[0;32mFalse\u001b[0m\u001b[0;34m\u001b[0m\u001b[0;34m\u001b[0m\u001b[0m\n\u001b[0;32m--> 519\u001b[0;31m                 \u001b[0mdata\u001b[0m \u001b[0;34m=\u001b[0m \u001b[0mself\u001b[0m\u001b[0;34m.\u001b[0m\u001b[0m_fp\u001b[0m\u001b[0;34m.\u001b[0m\u001b[0mread\u001b[0m\u001b[0;34m(\u001b[0m\u001b[0mamt\u001b[0m\u001b[0;34m)\u001b[0m \u001b[0;32mif\u001b[0m \u001b[0;32mnot\u001b[0m \u001b[0mfp_closed\u001b[0m \u001b[0;32melse\u001b[0m \u001b[0;34mb\"\"\u001b[0m\u001b[0;34m\u001b[0m\u001b[0;34m\u001b[0m\u001b[0m\n\u001b[0m\u001b[1;32m    520\u001b[0m                 if (\n\u001b[1;32m    521\u001b[0m                     \u001b[0mamt\u001b[0m \u001b[0;34m!=\u001b[0m \u001b[0;36m0\u001b[0m \u001b[0;32mand\u001b[0m \u001b[0;32mnot\u001b[0m \u001b[0mdata\u001b[0m\u001b[0;34m\u001b[0m\u001b[0;34m\u001b[0m\u001b[0m\n",
      "\u001b[0;32m~/anaconda3/lib/python3.8/http/client.py\u001b[0m in \u001b[0;36mread\u001b[0;34m(self, amt)\u001b[0m\n\u001b[1;32m    452\u001b[0m             \u001b[0;31m# Amount is given, implement using readinto\u001b[0m\u001b[0;34m\u001b[0m\u001b[0;34m\u001b[0m\u001b[0;34m\u001b[0m\u001b[0m\n\u001b[1;32m    453\u001b[0m             \u001b[0mb\u001b[0m \u001b[0;34m=\u001b[0m \u001b[0mbytearray\u001b[0m\u001b[0;34m(\u001b[0m\u001b[0mamt\u001b[0m\u001b[0;34m)\u001b[0m\u001b[0;34m\u001b[0m\u001b[0;34m\u001b[0m\u001b[0m\n\u001b[0;32m--> 454\u001b[0;31m             \u001b[0mn\u001b[0m \u001b[0;34m=\u001b[0m \u001b[0mself\u001b[0m\u001b[0;34m.\u001b[0m\u001b[0mreadinto\u001b[0m\u001b[0;34m(\u001b[0m\u001b[0mb\u001b[0m\u001b[0;34m)\u001b[0m\u001b[0;34m\u001b[0m\u001b[0;34m\u001b[0m\u001b[0m\n\u001b[0m\u001b[1;32m    455\u001b[0m             \u001b[0;32mreturn\u001b[0m \u001b[0mmemoryview\u001b[0m\u001b[0;34m(\u001b[0m\u001b[0mb\u001b[0m\u001b[0;34m)\u001b[0m\u001b[0;34m[\u001b[0m\u001b[0;34m:\u001b[0m\u001b[0mn\u001b[0m\u001b[0;34m]\u001b[0m\u001b[0;34m.\u001b[0m\u001b[0mtobytes\u001b[0m\u001b[0;34m(\u001b[0m\u001b[0;34m)\u001b[0m\u001b[0;34m\u001b[0m\u001b[0;34m\u001b[0m\u001b[0m\n\u001b[1;32m    456\u001b[0m         \u001b[0;32melse\u001b[0m\u001b[0;34m:\u001b[0m\u001b[0;34m\u001b[0m\u001b[0;34m\u001b[0m\u001b[0m\n",
      "\u001b[0;32m~/anaconda3/lib/python3.8/http/client.py\u001b[0m in \u001b[0;36mreadinto\u001b[0;34m(self, b)\u001b[0m\n\u001b[1;32m    486\u001b[0m \u001b[0;34m\u001b[0m\u001b[0m\n\u001b[1;32m    487\u001b[0m         \u001b[0;32mif\u001b[0m \u001b[0mself\u001b[0m\u001b[0;34m.\u001b[0m\u001b[0mchunked\u001b[0m\u001b[0;34m:\u001b[0m\u001b[0;34m\u001b[0m\u001b[0;34m\u001b[0m\u001b[0m\n\u001b[0;32m--> 488\u001b[0;31m             \u001b[0;32mreturn\u001b[0m \u001b[0mself\u001b[0m\u001b[0;34m.\u001b[0m\u001b[0m_readinto_chunked\u001b[0m\u001b[0;34m(\u001b[0m\u001b[0mb\u001b[0m\u001b[0;34m)\u001b[0m\u001b[0;34m\u001b[0m\u001b[0;34m\u001b[0m\u001b[0m\n\u001b[0m\u001b[1;32m    489\u001b[0m \u001b[0;34m\u001b[0m\u001b[0m\n\u001b[1;32m    490\u001b[0m         \u001b[0;32mif\u001b[0m \u001b[0mself\u001b[0m\u001b[0;34m.\u001b[0m\u001b[0mlength\u001b[0m \u001b[0;32mis\u001b[0m \u001b[0;32mnot\u001b[0m \u001b[0;32mNone\u001b[0m\u001b[0;34m:\u001b[0m\u001b[0;34m\u001b[0m\u001b[0;34m\u001b[0m\u001b[0m\n",
      "\u001b[0;32m~/anaconda3/lib/python3.8/http/client.py\u001b[0m in \u001b[0;36m_readinto_chunked\u001b[0;34m(self, b)\u001b[0m\n\u001b[1;32m    581\u001b[0m         \u001b[0;32mtry\u001b[0m\u001b[0;34m:\u001b[0m\u001b[0;34m\u001b[0m\u001b[0;34m\u001b[0m\u001b[0m\n\u001b[1;32m    582\u001b[0m             \u001b[0;32mwhile\u001b[0m \u001b[0;32mTrue\u001b[0m\u001b[0;34m:\u001b[0m\u001b[0;34m\u001b[0m\u001b[0;34m\u001b[0m\u001b[0m\n\u001b[0;32m--> 583\u001b[0;31m                 \u001b[0mchunk_left\u001b[0m \u001b[0;34m=\u001b[0m \u001b[0mself\u001b[0m\u001b[0;34m.\u001b[0m\u001b[0m_get_chunk_left\u001b[0m\u001b[0;34m(\u001b[0m\u001b[0;34m)\u001b[0m\u001b[0;34m\u001b[0m\u001b[0;34m\u001b[0m\u001b[0m\n\u001b[0m\u001b[1;32m    584\u001b[0m                 \u001b[0;32mif\u001b[0m \u001b[0mchunk_left\u001b[0m \u001b[0;32mis\u001b[0m \u001b[0;32mNone\u001b[0m\u001b[0;34m:\u001b[0m\u001b[0;34m\u001b[0m\u001b[0;34m\u001b[0m\u001b[0m\n\u001b[1;32m    585\u001b[0m                     \u001b[0;32mreturn\u001b[0m \u001b[0mtotal_bytes\u001b[0m\u001b[0;34m\u001b[0m\u001b[0;34m\u001b[0m\u001b[0m\n",
      "\u001b[0;32m~/anaconda3/lib/python3.8/http/client.py\u001b[0m in \u001b[0;36m_get_chunk_left\u001b[0;34m(self)\u001b[0m\n\u001b[1;32m    549\u001b[0m                 \u001b[0mself\u001b[0m\u001b[0;34m.\u001b[0m\u001b[0m_safe_read\u001b[0m\u001b[0;34m(\u001b[0m\u001b[0;36m2\u001b[0m\u001b[0;34m)\u001b[0m  \u001b[0;31m# toss the CRLF at the end of the chunk\u001b[0m\u001b[0;34m\u001b[0m\u001b[0;34m\u001b[0m\u001b[0m\n\u001b[1;32m    550\u001b[0m             \u001b[0;32mtry\u001b[0m\u001b[0;34m:\u001b[0m\u001b[0;34m\u001b[0m\u001b[0;34m\u001b[0m\u001b[0m\n\u001b[0;32m--> 551\u001b[0;31m                 \u001b[0mchunk_left\u001b[0m \u001b[0;34m=\u001b[0m \u001b[0mself\u001b[0m\u001b[0;34m.\u001b[0m\u001b[0m_read_next_chunk_size\u001b[0m\u001b[0;34m(\u001b[0m\u001b[0;34m)\u001b[0m\u001b[0;34m\u001b[0m\u001b[0;34m\u001b[0m\u001b[0m\n\u001b[0m\u001b[1;32m    552\u001b[0m             \u001b[0;32mexcept\u001b[0m \u001b[0mValueError\u001b[0m\u001b[0;34m:\u001b[0m\u001b[0;34m\u001b[0m\u001b[0;34m\u001b[0m\u001b[0m\n\u001b[1;32m    553\u001b[0m                 \u001b[0;32mraise\u001b[0m \u001b[0mIncompleteRead\u001b[0m\u001b[0;34m(\u001b[0m\u001b[0;34mb''\u001b[0m\u001b[0;34m)\u001b[0m\u001b[0;34m\u001b[0m\u001b[0;34m\u001b[0m\u001b[0m\n",
      "\u001b[0;32m~/anaconda3/lib/python3.8/http/client.py\u001b[0m in \u001b[0;36m_read_next_chunk_size\u001b[0;34m(self)\u001b[0m\n\u001b[1;32m    509\u001b[0m     \u001b[0;32mdef\u001b[0m \u001b[0m_read_next_chunk_size\u001b[0m\u001b[0;34m(\u001b[0m\u001b[0mself\u001b[0m\u001b[0;34m)\u001b[0m\u001b[0;34m:\u001b[0m\u001b[0;34m\u001b[0m\u001b[0;34m\u001b[0m\u001b[0m\n\u001b[1;32m    510\u001b[0m         \u001b[0;31m# Read the next chunk size from the file\u001b[0m\u001b[0;34m\u001b[0m\u001b[0;34m\u001b[0m\u001b[0;34m\u001b[0m\u001b[0m\n\u001b[0;32m--> 511\u001b[0;31m         \u001b[0mline\u001b[0m \u001b[0;34m=\u001b[0m \u001b[0mself\u001b[0m\u001b[0;34m.\u001b[0m\u001b[0mfp\u001b[0m\u001b[0;34m.\u001b[0m\u001b[0mreadline\u001b[0m\u001b[0;34m(\u001b[0m\u001b[0m_MAXLINE\u001b[0m \u001b[0;34m+\u001b[0m \u001b[0;36m1\u001b[0m\u001b[0;34m)\u001b[0m\u001b[0;34m\u001b[0m\u001b[0;34m\u001b[0m\u001b[0m\n\u001b[0m\u001b[1;32m    512\u001b[0m         \u001b[0;32mif\u001b[0m \u001b[0mlen\u001b[0m\u001b[0;34m(\u001b[0m\u001b[0mline\u001b[0m\u001b[0;34m)\u001b[0m \u001b[0;34m>\u001b[0m \u001b[0m_MAXLINE\u001b[0m\u001b[0;34m:\u001b[0m\u001b[0;34m\u001b[0m\u001b[0;34m\u001b[0m\u001b[0m\n\u001b[1;32m    513\u001b[0m             \u001b[0;32mraise\u001b[0m \u001b[0mLineTooLong\u001b[0m\u001b[0;34m(\u001b[0m\u001b[0;34m\"chunk size\"\u001b[0m\u001b[0;34m)\u001b[0m\u001b[0;34m\u001b[0m\u001b[0;34m\u001b[0m\u001b[0m\n",
      "\u001b[0;32m~/anaconda3/lib/python3.8/socket.py\u001b[0m in \u001b[0;36mreadinto\u001b[0;34m(self, b)\u001b[0m\n\u001b[1;32m    667\u001b[0m         \u001b[0;32mwhile\u001b[0m \u001b[0;32mTrue\u001b[0m\u001b[0;34m:\u001b[0m\u001b[0;34m\u001b[0m\u001b[0;34m\u001b[0m\u001b[0m\n\u001b[1;32m    668\u001b[0m             \u001b[0;32mtry\u001b[0m\u001b[0;34m:\u001b[0m\u001b[0;34m\u001b[0m\u001b[0;34m\u001b[0m\u001b[0m\n\u001b[0;32m--> 669\u001b[0;31m                 \u001b[0;32mreturn\u001b[0m \u001b[0mself\u001b[0m\u001b[0;34m.\u001b[0m\u001b[0m_sock\u001b[0m\u001b[0;34m.\u001b[0m\u001b[0mrecv_into\u001b[0m\u001b[0;34m(\u001b[0m\u001b[0mb\u001b[0m\u001b[0;34m)\u001b[0m\u001b[0;34m\u001b[0m\u001b[0;34m\u001b[0m\u001b[0m\n\u001b[0m\u001b[1;32m    670\u001b[0m             \u001b[0;32mexcept\u001b[0m \u001b[0mtimeout\u001b[0m\u001b[0;34m:\u001b[0m\u001b[0;34m\u001b[0m\u001b[0;34m\u001b[0m\u001b[0m\n\u001b[1;32m    671\u001b[0m                 \u001b[0mself\u001b[0m\u001b[0;34m.\u001b[0m\u001b[0m_timeout_occurred\u001b[0m \u001b[0;34m=\u001b[0m \u001b[0;32mTrue\u001b[0m\u001b[0;34m\u001b[0m\u001b[0;34m\u001b[0m\u001b[0m\n",
      "\u001b[0;32m~/anaconda3/lib/python3.8/ssl.py\u001b[0m in \u001b[0;36mrecv_into\u001b[0;34m(self, buffer, nbytes, flags)\u001b[0m\n\u001b[1;32m   1239\u001b[0m                   \u001b[0;34m\"non-zero flags not allowed in calls to recv_into() on %s\"\u001b[0m \u001b[0;34m%\u001b[0m\u001b[0;34m\u001b[0m\u001b[0;34m\u001b[0m\u001b[0m\n\u001b[1;32m   1240\u001b[0m                   self.__class__)\n\u001b[0;32m-> 1241\u001b[0;31m             \u001b[0;32mreturn\u001b[0m \u001b[0mself\u001b[0m\u001b[0;34m.\u001b[0m\u001b[0mread\u001b[0m\u001b[0;34m(\u001b[0m\u001b[0mnbytes\u001b[0m\u001b[0;34m,\u001b[0m \u001b[0mbuffer\u001b[0m\u001b[0;34m)\u001b[0m\u001b[0;34m\u001b[0m\u001b[0;34m\u001b[0m\u001b[0m\n\u001b[0m\u001b[1;32m   1242\u001b[0m         \u001b[0;32melse\u001b[0m\u001b[0;34m:\u001b[0m\u001b[0;34m\u001b[0m\u001b[0;34m\u001b[0m\u001b[0m\n\u001b[1;32m   1243\u001b[0m             \u001b[0;32mreturn\u001b[0m \u001b[0msuper\u001b[0m\u001b[0;34m(\u001b[0m\u001b[0;34m)\u001b[0m\u001b[0;34m.\u001b[0m\u001b[0mrecv_into\u001b[0m\u001b[0;34m(\u001b[0m\u001b[0mbuffer\u001b[0m\u001b[0;34m,\u001b[0m \u001b[0mnbytes\u001b[0m\u001b[0;34m,\u001b[0m \u001b[0mflags\u001b[0m\u001b[0;34m)\u001b[0m\u001b[0;34m\u001b[0m\u001b[0;34m\u001b[0m\u001b[0m\n",
      "\u001b[0;32m~/anaconda3/lib/python3.8/ssl.py\u001b[0m in \u001b[0;36mread\u001b[0;34m(self, len, buffer)\u001b[0m\n\u001b[1;32m   1097\u001b[0m         \u001b[0;32mtry\u001b[0m\u001b[0;34m:\u001b[0m\u001b[0;34m\u001b[0m\u001b[0;34m\u001b[0m\u001b[0m\n\u001b[1;32m   1098\u001b[0m             \u001b[0;32mif\u001b[0m \u001b[0mbuffer\u001b[0m \u001b[0;32mis\u001b[0m \u001b[0;32mnot\u001b[0m \u001b[0;32mNone\u001b[0m\u001b[0;34m:\u001b[0m\u001b[0;34m\u001b[0m\u001b[0;34m\u001b[0m\u001b[0m\n\u001b[0;32m-> 1099\u001b[0;31m                 \u001b[0;32mreturn\u001b[0m \u001b[0mself\u001b[0m\u001b[0;34m.\u001b[0m\u001b[0m_sslobj\u001b[0m\u001b[0;34m.\u001b[0m\u001b[0mread\u001b[0m\u001b[0;34m(\u001b[0m\u001b[0mlen\u001b[0m\u001b[0;34m,\u001b[0m \u001b[0mbuffer\u001b[0m\u001b[0;34m)\u001b[0m\u001b[0;34m\u001b[0m\u001b[0;34m\u001b[0m\u001b[0m\n\u001b[0m\u001b[1;32m   1100\u001b[0m             \u001b[0;32melse\u001b[0m\u001b[0;34m:\u001b[0m\u001b[0;34m\u001b[0m\u001b[0;34m\u001b[0m\u001b[0m\n\u001b[1;32m   1101\u001b[0m                 \u001b[0;32mreturn\u001b[0m \u001b[0mself\u001b[0m\u001b[0;34m.\u001b[0m\u001b[0m_sslobj\u001b[0m\u001b[0;34m.\u001b[0m\u001b[0mread\u001b[0m\u001b[0;34m(\u001b[0m\u001b[0mlen\u001b[0m\u001b[0;34m)\u001b[0m\u001b[0;34m\u001b[0m\u001b[0;34m\u001b[0m\u001b[0m\n",
      "\u001b[0;31mKeyboardInterrupt\u001b[0m: "
     ]
    }
   ],
   "source": [
    "myStream.filter(track=track_keyword)"
   ]
  },
  {
   "cell_type": "code",
   "execution_count": null,
   "metadata": {},
   "outputs": [],
   "source": []
  },
  {
   "cell_type": "code",
   "execution_count": null,
   "metadata": {},
   "outputs": [],
   "source": []
  },
  {
   "cell_type": "code",
   "execution_count": null,
   "metadata": {},
   "outputs": [],
   "source": []
  },
  {
   "cell_type": "code",
   "execution_count": null,
   "metadata": {},
   "outputs": [],
   "source": []
  },
  {
   "cell_type": "code",
   "execution_count": null,
   "metadata": {},
   "outputs": [],
   "source": []
  },
  {
   "cell_type": "code",
   "execution_count": null,
   "metadata": {},
   "outputs": [],
   "source": []
  },
  {
   "cell_type": "code",
   "execution_count": null,
   "metadata": {},
   "outputs": [],
   "source": []
  },
  {
   "cell_type": "code",
   "execution_count": null,
   "metadata": {},
   "outputs": [],
   "source": []
  },
  {
   "cell_type": "code",
   "execution_count": null,
   "metadata": {},
   "outputs": [],
   "source": []
  },
  {
   "cell_type": "code",
   "execution_count": null,
   "metadata": {},
   "outputs": [],
   "source": []
  },
  {
   "cell_type": "code",
   "execution_count": null,
   "metadata": {},
   "outputs": [],
   "source": []
  },
  {
   "cell_type": "code",
   "execution_count": null,
   "metadata": {},
   "outputs": [],
   "source": []
  },
  {
   "cell_type": "code",
   "execution_count": null,
   "metadata": {},
   "outputs": [],
   "source": []
  },
  {
   "cell_type": "code",
   "execution_count": null,
   "metadata": {},
   "outputs": [],
   "source": []
  },
  {
   "cell_type": "code",
   "execution_count": null,
   "metadata": {},
   "outputs": [],
   "source": []
  },
  {
   "cell_type": "code",
   "execution_count": null,
   "metadata": {},
   "outputs": [],
   "source": []
  },
  {
   "cell_type": "code",
   "execution_count": null,
   "metadata": {},
   "outputs": [],
   "source": []
  },
  {
   "cell_type": "code",
   "execution_count": null,
   "metadata": {},
   "outputs": [],
   "source": []
  },
  {
   "cell_type": "code",
   "execution_count": null,
   "metadata": {},
   "outputs": [],
   "source": []
  },
  {
   "cell_type": "code",
   "execution_count": null,
   "metadata": {},
   "outputs": [],
   "source": []
  },
  {
   "cell_type": "code",
   "execution_count": null,
   "metadata": {},
   "outputs": [],
   "source": []
  },
  {
   "cell_type": "code",
   "execution_count": null,
   "metadata": {},
   "outputs": [],
   "source": []
  }
 ],
 "metadata": {
  "kernelspec": {
   "display_name": "Python 3",
   "language": "python",
   "name": "python3"
  },
  "language_info": {
   "codemirror_mode": {
    "name": "ipython",
    "version": 3
   },
   "file_extension": ".py",
   "mimetype": "text/x-python",
   "name": "python",
   "nbconvert_exporter": "python",
   "pygments_lexer": "ipython3",
   "version": "3.8.3"
  }
 },
 "nbformat": 4,
 "nbformat_minor": 4
}
